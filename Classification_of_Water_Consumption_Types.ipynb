{
  "cells": [
    {
      "cell_type": "markdown",
      "metadata": {
        "id": "fgiMbotYf1Ra"
      },
      "source": [
        "#Classification of Water Consumption Types\n",
        "\n",
        "[Assignment SI - Infos](https://drive.google.com/file/d/1lh5a0YxVsC-NXtsIpucTVCrfJR_8KZB4/view?usp=sharing)\n",
        "\n",
        "[Dataset Train](https://virtual.ipb.pt/access/content/group/5b961040-5442-11ee-bfc7-421e367e2b5a/Assignment/train.csv)\n",
        "\n",
        "[Dataset Competition](https://virtual.ipb.pt/access/content/group/5b961040-5442-11ee-bfc7-421e367e2b5a/Assignment/competition.csv)"
      ]
    },
    {
      "cell_type": "markdown",
      "metadata": {
        "id": "Z4j14j-phgLW"
      },
      "source": [
        "### 1) **IMPORT** and **UTILITY**"
      ]
    },
    {
      "cell_type": "markdown",
      "metadata": {
        "id": "840jQlZTDSzi"
      },
      "source": [
        "Import all usefull libraries and define some usefull functions"
      ]
    },
    {
      "cell_type": "code",
      "execution_count": 35,
      "metadata": {
        "id": "PnqhbbkVhj4d"
      },
      "outputs": [
        {
          "name": "stdout",
          "output_type": "stream",
          "text": [
            "Torch Version:  2.1.1+cpu\n",
            "Cuda is available:  <function is_available at 0x000002527A66CA40>\n"
          ]
        }
      ],
      "source": [
        "###########################\n",
        "# data libraries\n",
        "###########################\n",
        "import pandas as pd\n",
        "import numpy as np\n",
        "\n",
        "###########################\n",
        "# plot libraries\n",
        "###########################\n",
        "import seaborn as sns\n",
        "import matplotlib.pyplot as plt\n",
        "import matplotlib as mpl\n",
        "\n",
        "###########################\n",
        "# Learn Libraries\n",
        "###########################\n",
        "from sklearn.model_selection import train_test_split\n",
        "from sklearn.metrics import accuracy_score\n",
        "from sklearn.metrics import confusion_matrix\n",
        "from sklearn.preprocessing import LabelEncoder\n",
        "from sklearn.preprocessing import MinMaxScaler\n",
        "from sklearn.preprocessing import StandardScaler\n",
        "\n",
        "###########################\n",
        "# Neural Networks Libraries\n",
        "###########################\n",
        "import torch\n",
        "import torch.nn as nn\n",
        "import torch.nn.functional as F\n",
        "\n",
        "###########################\n",
        "# Another Libraries\n",
        "###########################\n",
        "import string\n",
        "import random\n",
        "\n",
        "print(\"Torch Version: \", torch.__version__)\n",
        "print(\"Cuda is available: \", torch.cuda.is_available)"
      ]
    },
    {
      "cell_type": "markdown",
      "metadata": {
        "id": "ZfttoFFgBbCJ"
      },
      "source": [
        "### 2) **READ DATA FILES**"
      ]
    },
    {
      "cell_type": "code",
      "execution_count": 36,
      "metadata": {
        "colab": {
          "base_uri": "https://localhost:8080/"
        },
        "id": "aOGFS_FDjIca",
        "outputId": "89c1481c-b055-450a-f8b4-bf833c9f4ade"
      },
      "outputs": [],
      "source": [
        "###########################\n",
        "# import csv in dataframe\n",
        "###########################\n",
        "\n",
        "train = pd.read_csv(\"train_without_outliers.csv\")\n",
        "test = pd.read_csv(\"competition.csv\")"
      ]
    },
    {
      "cell_type": "markdown",
      "metadata": {
        "id": "xaZGwsjFCJpn"
      },
      "source": [
        "### 3) **PREPROCESSING**"
      ]
    },
    {
      "cell_type": "markdown",
      "metadata": {
        "id": "uZx5x8SBH-bl"
      },
      "source": [
        "3.1) DATA VISUALIZATION\n",
        "\n",
        "     try to visualize data and some correlation/outliers or any possible issues"
      ]
    },
    {
      "cell_type": "code",
      "execution_count": 37,
      "metadata": {
        "colab": {
          "base_uri": "https://localhost:8080/",
          "height": 695
        },
        "id": "QxCtMFKjCPVv",
        "outputId": "c03ae6b0-37a3-4b34-de2e-197bb08d4879"
      },
      "outputs": [
        {
          "name": "stdout",
          "output_type": "stream",
          "text": [
            "<class 'pandas.core.frame.DataFrame'>\n",
            "RangeIndex: 271467 entries, 0 to 271466\n",
            "Data columns (total 6 columns):\n",
            " #   Column             Non-Null Count   Dtype \n",
            "---  ------             --------------   ----- \n",
            " 0   Year               271467 non-null  int64 \n",
            " 1   Month              271467 non-null  int64 \n",
            " 2   Consumer_type      271467 non-null  object\n",
            " 3   Consumption        271467 non-null  int64 \n",
            " 4   Consumer_number    271467 non-null  object\n",
            " 5   Installation_zone  271467 non-null  object\n",
            "dtypes: int64(3), object(3)\n",
            "memory usage: 12.4+ MB\n"
          ]
        },
        {
          "data": {
            "text/plain": [
              "array(['domestic', 'industrial', 'rural commercial',\n",
              "       'low income families', 'construction', 'rural domestic',\n",
              "       'rural expansion'], dtype=object)"
            ]
          },
          "execution_count": 37,
          "metadata": {},
          "output_type": "execute_result"
        }
      ],
      "source": [
        "###########################\n",
        "# see main data features\n",
        "###########################\n",
        "train.info()\n",
        "train.head()\n",
        "train[\"Consumer_type\"].unique()"
      ]
    },
    {
      "cell_type": "markdown",
      "metadata": {},
      "source": [
        "Test infos"
      ]
    },
    {
      "cell_type": "code",
      "execution_count": 38,
      "metadata": {},
      "outputs": [
        {
          "name": "stdout",
          "output_type": "stream",
          "text": [
            "<class 'pandas.core.frame.DataFrame'>\n",
            "RangeIndex: 18279 entries, 0 to 18278\n",
            "Data columns (total 5 columns):\n",
            " #   Column             Non-Null Count  Dtype \n",
            "---  ------             --------------  ----- \n",
            " 0   Year               18279 non-null  int64 \n",
            " 1   Month              18279 non-null  int64 \n",
            " 2   Consumption        18279 non-null  int64 \n",
            " 3   Consumer_number    18279 non-null  object\n",
            " 4   Installation_zone  18279 non-null  object\n",
            "dtypes: int64(3), object(2)\n",
            "memory usage: 714.2+ KB\n"
          ]
        },
        {
          "data": {
            "text/html": [
              "<div>\n",
              "<style scoped>\n",
              "    .dataframe tbody tr th:only-of-type {\n",
              "        vertical-align: middle;\n",
              "    }\n",
              "\n",
              "    .dataframe tbody tr th {\n",
              "        vertical-align: top;\n",
              "    }\n",
              "\n",
              "    .dataframe thead th {\n",
              "        text-align: right;\n",
              "    }\n",
              "</style>\n",
              "<table border=\"1\" class=\"dataframe\">\n",
              "  <thead>\n",
              "    <tr style=\"text-align: right;\">\n",
              "      <th></th>\n",
              "      <th>Year</th>\n",
              "      <th>Month</th>\n",
              "      <th>Consumption</th>\n",
              "      <th>Consumer_number</th>\n",
              "      <th>Installation_zone</th>\n",
              "    </tr>\n",
              "  </thead>\n",
              "  <tbody>\n",
              "    <tr>\n",
              "      <th>0</th>\n",
              "      <td>2013</td>\n",
              "      <td>1</td>\n",
              "      <td>1</td>\n",
              "      <td>VENX08444954462680</td>\n",
              "      <td>Installation_zone 1</td>\n",
              "    </tr>\n",
              "    <tr>\n",
              "      <th>1</th>\n",
              "      <td>2013</td>\n",
              "      <td>1</td>\n",
              "      <td>2</td>\n",
              "      <td>GRXC33020746550125</td>\n",
              "      <td>Installation_zone 1</td>\n",
              "    </tr>\n",
              "    <tr>\n",
              "      <th>2</th>\n",
              "      <td>2013</td>\n",
              "      <td>1</td>\n",
              "      <td>1</td>\n",
              "      <td>FCGQ19814303536339</td>\n",
              "      <td>Installation_zone 1</td>\n",
              "    </tr>\n",
              "    <tr>\n",
              "      <th>3</th>\n",
              "      <td>2013</td>\n",
              "      <td>1</td>\n",
              "      <td>5</td>\n",
              "      <td>EQKL85694875580467</td>\n",
              "      <td>Installation_zone 3</td>\n",
              "    </tr>\n",
              "    <tr>\n",
              "      <th>4</th>\n",
              "      <td>2013</td>\n",
              "      <td>1</td>\n",
              "      <td>14</td>\n",
              "      <td>KCXW91343862250032</td>\n",
              "      <td>Installation_zone 3</td>\n",
              "    </tr>\n",
              "  </tbody>\n",
              "</table>\n",
              "</div>"
            ],
            "text/plain": [
              "   Year  Month  Consumption     Consumer_number    Installation_zone\n",
              "0  2013      1            1  VENX08444954462680  Installation_zone 1\n",
              "1  2013      1            2  GRXC33020746550125  Installation_zone 1\n",
              "2  2013      1            1  FCGQ19814303536339  Installation_zone 1\n",
              "3  2013      1            5  EQKL85694875580467  Installation_zone 3\n",
              "4  2013      1           14  KCXW91343862250032  Installation_zone 3"
            ]
          },
          "execution_count": 38,
          "metadata": {},
          "output_type": "execute_result"
        }
      ],
      "source": [
        "test.info()\n",
        "test.head()"
      ]
    },
    {
      "cell_type": "markdown",
      "metadata": {},
      "source": [
        "Para facilitar vamos codificar os objetos (Strings) em números"
      ]
    },
    {
      "cell_type": "code",
      "execution_count": 39,
      "metadata": {},
      "outputs": [
        {
          "data": {
            "text/html": [
              "<div>\n",
              "<style scoped>\n",
              "    .dataframe tbody tr th:only-of-type {\n",
              "        vertical-align: middle;\n",
              "    }\n",
              "\n",
              "    .dataframe tbody tr th {\n",
              "        vertical-align: top;\n",
              "    }\n",
              "\n",
              "    .dataframe thead th {\n",
              "        text-align: right;\n",
              "    }\n",
              "</style>\n",
              "<table border=\"1\" class=\"dataframe\">\n",
              "  <thead>\n",
              "    <tr style=\"text-align: right;\">\n",
              "      <th></th>\n",
              "      <th>Year</th>\n",
              "      <th>Month</th>\n",
              "      <th>Consumer_type</th>\n",
              "      <th>Consumption</th>\n",
              "      <th>Consumer_number</th>\n",
              "      <th>Installation_zone</th>\n",
              "    </tr>\n",
              "  </thead>\n",
              "  <tbody>\n",
              "    <tr>\n",
              "      <th>0</th>\n",
              "      <td>2013</td>\n",
              "      <td>1</td>\n",
              "      <td>1</td>\n",
              "      <td>0</td>\n",
              "      <td>7352</td>\n",
              "      <td>0</td>\n",
              "    </tr>\n",
              "    <tr>\n",
              "      <th>1</th>\n",
              "      <td>2013</td>\n",
              "      <td>1</td>\n",
              "      <td>1</td>\n",
              "      <td>6</td>\n",
              "      <td>12578</td>\n",
              "      <td>11</td>\n",
              "    </tr>\n",
              "    <tr>\n",
              "      <th>2</th>\n",
              "      <td>2013</td>\n",
              "      <td>1</td>\n",
              "      <td>1</td>\n",
              "      <td>1</td>\n",
              "      <td>9603</td>\n",
              "      <td>11</td>\n",
              "    </tr>\n",
              "    <tr>\n",
              "      <th>3</th>\n",
              "      <td>2013</td>\n",
              "      <td>1</td>\n",
              "      <td>1</td>\n",
              "      <td>13</td>\n",
              "      <td>4674</td>\n",
              "      <td>11</td>\n",
              "    </tr>\n",
              "    <tr>\n",
              "      <th>4</th>\n",
              "      <td>2013</td>\n",
              "      <td>1</td>\n",
              "      <td>2</td>\n",
              "      <td>5</td>\n",
              "      <td>423</td>\n",
              "      <td>11</td>\n",
              "    </tr>\n",
              "  </tbody>\n",
              "</table>\n",
              "</div>"
            ],
            "text/plain": [
              "   Year  Month  Consumer_type  Consumption  Consumer_number  Installation_zone\n",
              "0  2013      1              1            0             7352                  0\n",
              "1  2013      1              1            6            12578                 11\n",
              "2  2013      1              1            1             9603                 11\n",
              "3  2013      1              1           13             4674                 11\n",
              "4  2013      1              2            5              423                 11"
            ]
          },
          "execution_count": 39,
          "metadata": {},
          "output_type": "execute_result"
        }
      ],
      "source": [
        "columns = [\"Consumer_type\",\"Consumer_number\",\"Installation_zone\"]\n",
        "for feature in columns:\n",
        "  le = LabelEncoder()\n",
        "  train[feature] = le.fit_transform(train[feature])\n",
        "\n",
        "train.head()"
      ]
    },
    {
      "cell_type": "code",
      "execution_count": 40,
      "metadata": {},
      "outputs": [
        {
          "name": "stdout",
          "output_type": "stream",
          "text": [
            "<class 'pandas.core.frame.DataFrame'>\n",
            "RangeIndex: 271467 entries, 0 to 271466\n",
            "Data columns (total 6 columns):\n",
            " #   Column             Non-Null Count   Dtype\n",
            "---  ------             --------------   -----\n",
            " 0   Year               271467 non-null  int64\n",
            " 1   Month              271467 non-null  int64\n",
            " 2   Consumer_type      271467 non-null  int32\n",
            " 3   Consumption        271467 non-null  int64\n",
            " 4   Consumer_number    271467 non-null  int32\n",
            " 5   Installation_zone  271467 non-null  int32\n",
            "dtypes: int32(3), int64(3)\n",
            "memory usage: 9.3 MB\n"
          ]
        }
      ],
      "source": [
        "train.info()"
      ]
    },
    {
      "cell_type": "markdown",
      "metadata": {},
      "source": [
        "vamos retirar uma porcentagem de consumidores domésticos"
      ]
    },
    {
      "cell_type": "code",
      "execution_count": 41,
      "metadata": {},
      "outputs": [],
      "source": [
        "# indices_tipo_0 = train[train['Consumer_type'] == 0].index\n",
        "\n",
        "###### removendo consumidores domesticos\n",
        "# indices_tipo_1 = train[train['Consumer_type'] == 1].index\n",
        "# quantidade_reduzida_tipo_1 = int(len(indices_tipo_1) * 0.99)\n",
        "# indices_reduzidos_1 = indices_tipo_1[:quantidade_reduzida_tipo_1]\n",
        "\n",
        "# train.drop(indices_reduzidos_1, inplace=True)\n",
        "# train.info()\n",
        "\n",
        "\n",
        "###### removendo consumidores indutrial\n",
        "# indices_tipo_2 = train[train['Consumer_type'] == 2].index\n",
        "# quantidade_reduzida_tipo_2 = int(len(indices_tipo_2) * 0.82)\n",
        "# indices_reduzidos_2 = indices_tipo_2[:quantidade_reduzida_tipo_2]\n",
        "\n",
        "# train.drop(indices_reduzidos_2, inplace=True)\n",
        "# train.info()\n",
        "\n",
        "###### removendo consumidores construction\n",
        "# indices_tipo_3 = train[train['Consumer_type'] == 3].index\n",
        "# quantidade_reduzida_tipo_3 = int(len(indices_tipo_3) * 0.90)\n",
        "# indices_reduzidos_3 = indices_tipo_3[:quantidade_reduzida_tipo_3]\n",
        "\n",
        "# train.drop(indices_reduzidos_3, inplace=True)\n",
        "# train.info()\n",
        "\n",
        "###### removendo consumidores low income families\n",
        "# indices_tipo_4 = train[train['Consumer_type'] == 4].index\n",
        "# quantidade_reduzida_tipo_4 = int(len(indices_tipo_4) * 0.68)\n",
        "# indices_reduzidos_4 = indices_tipo_4[:quantidade_reduzida_tipo_4]\n",
        "\n",
        "# train.drop(indices_reduzidos_4, inplace=True)\n",
        "# train.info()\n",
        "\n",
        "###### removendo consumidores rural domestic\n",
        "# indices_tipo_5 = train[train['Consumer_type'] == 5].index\n",
        "# quantidade_reduzida_tipo_5 = int(len(indices_tipo_5) * 0.95)\n",
        "# indices_reduzidos_5 = indices_tipo_5[:quantidade_reduzida_tipo_5]\n",
        "\n",
        "# train.drop(indices_reduzidos_5, inplace=True)\n",
        "# train.info()\n",
        "\n",
        "# indices_tipo_6 = train[train['Consumer_type'] == 6].index\n",
        "\n",
        "\n",
        "\n",
        "\n",
        "\n"
      ]
    },
    {
      "cell_type": "markdown",
      "metadata": {},
      "source": [
        "Nossos dados ficam como mostra o histograma"
      ]
    },
    {
      "cell_type": "code",
      "execution_count": 42,
      "metadata": {},
      "outputs": [
        {
          "data": {
            "text/plain": [
              "<Axes: xlabel='Installation_zone', ylabel='Count'>"
            ]
          },
          "execution_count": 42,
          "metadata": {},
          "output_type": "execute_result"
        },
        {
          "data": {
            "image/png": "[encoded data removed]",
            "text/plain": [
              "<Figure size 1500x600 with 1 Axes>"
            ]
          },
          "metadata": {},
          "output_type": "display_data"
        }
      ],
      "source": [
        "plt.figure(figsize = (15, 6))\n",
        "sns.histplot(data = train, x='Installation_zone',hue='Consumer_type',multiple=\"stack\",palette='Set2')"
      ]
    },
    {
      "cell_type": "markdown",
      "metadata": {},
      "source": [
        "Para um melhor entendimento, vamos gerar uma tabela com a quantidade de consumidores em cada zona"
      ]
    },
    {
      "cell_type": "code",
      "execution_count": 43,
      "metadata": {},
      "outputs": [
        {
          "name": "stdout",
          "output_type": "stream",
          "text": [
            "Consumer_type        0      1     2    3     4     5   6\n",
            "Installation_zone                                       \n",
            "0                  164  64896  2878  165    38     0   0\n",
            "1                   17      0     0    0     0  3203  59\n",
            "2                   11      0     0    0     0   795  13\n",
            "3                    0      0    10    0     0   891  13\n",
            "4                    0      0     0    0     0  1166   0\n",
            "5                    0      0     0    0     0   735  48\n",
            "6                    0      0     0    0     0   157   0\n",
            "7                    0      0    36    0     0  2078   0\n",
            "8                    0      0     0    0     0  1157  44\n",
            "9                   20      0     0    0     0  1060   0\n",
            "10                   0      0     0    0     0   866   0\n",
            "11                 162  34654  4779   18  1620     0  11\n",
            "12                   0      0     0    0     0   264   0\n",
            "13                   0      0     0    0     0   821   0\n",
            "14                   0      0     0    0     0   959   0\n",
            "15                  10      0     0    0     0   895  20\n",
            "16                   0     15     0    0     0  1422  25\n",
            "17                  13      0     0    0     0  1837  38\n",
            "18                   0      0     0    0     0   513  16\n",
            "19                   0      0     0    0     0   347   0\n",
            "20                   0      0     0    0     0   511  20\n",
            "21                  11      0     0    0   544    14  51\n",
            "22                 507  49526  4333  238  1613    20   0\n",
            "23                   0      0     0    0     0   292   0\n",
            "24                   0      0    14    0     0   738   0\n",
            "25                   0      0     0    0     0   733  35\n",
            "26                  20      0     0    0     0   439   0\n",
            "27                   0      0     0    0     0   402   0\n",
            "28                   0      0     0    0   128     0   0\n",
            "29                   0      0     0    0     0   837  12\n",
            "30                   0      0    10    0     0   662   0\n",
            "31                  13      0     0    0     0   920  12\n",
            "32                   7      0     8    0     0   716  22\n",
            "33                 237  54818  4917   90     0    18   0\n",
            "34                   0      0     0    0     0   783   0\n",
            "35                   0      0     0    0     0   776  34\n",
            "36                   0      0     0    0     0   938   0\n",
            "37                   0      0     0    0     0  1394   0\n",
            "38                   0      0     0    0     0  1591   0\n",
            "39                   0      0     0    0     0   855  39\n",
            "40                   0      0     0    0     0   960  13\n",
            "41                   0      0     0    0     0   812   0\n",
            "42                  13      0     0    0     0   835  24\n",
            "43                  18      0    11    0     0  1725  25\n",
            "44                  21      0    16    0     0  2048  15\n",
            "45                  11      0     0    0     0   854  44\n",
            "46                  17      0     0    0     0  1832  39\n",
            "47                  20      0     0    0     0  1583   0\n",
            "48                   0      0     0    0     0  1625  49\n",
            "Consumer_type\n",
            "1    203909\n",
            "5     44079\n",
            "2     17012\n",
            "4      3943\n",
            "0      1292\n",
            "6       721\n",
            "3       511\n",
            "Name: count, dtype: int64\n"
          ]
        }
      ],
      "source": [
        "count_table = train.groupby(['Installation_zone', 'Consumer_type']).size().unstack(fill_value=0)\n",
        "print(count_table)\n",
        "print(train['Consumer_type'].value_counts())"
      ]
    },
    {
      "cell_type": "markdown",
      "metadata": {},
      "source": [
        "Novo dataset"
      ]
    },
    {
      "cell_type": "code",
      "execution_count": 44,
      "metadata": {},
      "outputs": [
        {
          "name": "stdout",
          "output_type": "stream",
          "text": [
            "<class 'pandas.core.frame.DataFrame'>\n",
            "RangeIndex: 6232 entries, 0 to 6231\n",
            "Data columns (total 6 columns):\n",
            " #   Column             Non-Null Count  Dtype\n",
            "---  ------             --------------  -----\n",
            " 0   Year               6232 non-null   int64\n",
            " 1   Month              6232 non-null   int64\n",
            " 2   Consumer_type      6232 non-null   int32\n",
            " 3   Consumption        6232 non-null   int64\n",
            " 4   Consumer_number    6232 non-null   int32\n",
            " 5   Installation_zone  6232 non-null   int32\n",
            "dtypes: int32(3), int64(3)\n",
            "memory usage: 219.2 KB\n",
            "None\n",
            "Consumer_type\n",
            "0    1000\n",
            "1    1000\n",
            "2    1000\n",
            "4    1000\n",
            "5    1000\n",
            "6     721\n",
            "3     511\n",
            "Name: count, dtype: int64\n"
          ]
        }
      ],
      "source": [
        "quantidade_desejada = 1000\n",
        "novo_dataset = train.groupby('Consumer_type').apply(lambda x: x.sample(min(len(x), quantidade_desejada)))\n",
        "novo_dataset.reset_index(drop=True, inplace=True)\n",
        "print(novo_dataset.info())\n",
        "print(novo_dataset['Consumer_type'].value_counts())"
      ]
    },
    {
      "cell_type": "markdown",
      "metadata": {},
      "source": [
        "Normalização dos dados"
      ]
    },
    {
      "cell_type": "code",
      "execution_count": 45,
      "metadata": {},
      "outputs": [
        {
          "name": "stdout",
          "output_type": "stream",
          "text": [
            "<class 'pandas.core.frame.DataFrame'>\n",
            "RangeIndex: 271467 entries, 0 to 271466\n",
            "Data columns (total 5 columns):\n",
            " #   Column             Non-Null Count   Dtype  \n",
            "---  ------             --------------   -----  \n",
            " 0   Year               271467 non-null  float64\n",
            " 1   Month              271467 non-null  float64\n",
            " 2   Consumption        271467 non-null  float64\n",
            " 3   Consumer_number    271467 non-null  float64\n",
            " 4   Installation_zone  271467 non-null  float64\n",
            "dtypes: float64(5)\n",
            "memory usage: 10.4 MB\n"
          ]
        }
      ],
      "source": [
        "scaler = StandardScaler()\n",
        "\n",
        "normalized_data = scaler.fit_transform(train.drop(columns=[\"Consumer_type\"]))\n",
        "df_normalized = pd.DataFrame(normalized_data, columns = [\"Year\", \"Month\", \"Consumption\", \"Consumer_number\", \"Installation_zone\"])\n",
        "df_normalized.info()"
      ]
    },
    {
      "cell_type": "markdown",
      "metadata": {},
      "source": [
        "Vamos montar nossos dados de teste e treino"
      ]
    },
    {
      "cell_type": "code",
      "execution_count": 46,
      "metadata": {},
      "outputs": [],
      "source": [
        "y = train[\"Consumer_type\"]\n",
        "x = df_normalized[[\"Year\", \"Month\", \"Consumption\", \"Installation_zone\"]]"
      ]
    },
    {
      "cell_type": "code",
      "execution_count": 47,
      "metadata": {},
      "outputs": [],
      "source": [
        "X = torch.tensor(x.values, dtype = torch.float)\n",
        "Y = torch.LongTensor(y.values)\n"
      ]
    },
    {
      "cell_type": "code",
      "execution_count": 48,
      "metadata": {},
      "outputs": [
        {
          "data": {
            "text/html": [
              "<style>#sk-container-id-2 {color: black;}#sk-container-id-2 pre{padding: 0;}#sk-container-id-2 div.sk-toggleable {background-color: white;}#sk-container-id-2 label.sk-toggleable__label {cursor: pointer;display: block;width: 100%;margin-bottom: 0;padding: 0.3em;box-sizing: border-box;text-align: center;}#sk-container-id-2 label.sk-toggleable__label-arrow:before {content: \"▸\";float: left;margin-right: 0.25em;color: #696969;}#sk-container-id-2 label.sk-toggleable__label-arrow:hover:before {color: black;}#sk-container-id-2 div.sk-estimator:hover label.sk-toggleable__label-arrow:before {color: black;}#sk-container-id-2 div.sk-toggleable__content {max-height: 0;max-width: 0;overflow: hidden;text-align: left;background-color: #f0f8ff;}#sk-container-id-2 div.sk-toggleable__content pre {margin: 0.2em;color: black;border-radius: 0.25em;background-color: #f0f8ff;}#sk-container-id-2 input.sk-toggleable__control:checked~div.sk-toggleable__content {max-height: 200px;max-width: 100%;overflow: auto;}#sk-container-id-2 input.sk-toggleable__control:checked~label.sk-toggleable__label-arrow:before {content: \"▾\";}#sk-container-id-2 div.sk-estimator input.sk-toggleable__control:checked~label.sk-toggleable__label {background-color: #d4ebff;}#sk-container-id-2 div.sk-label input.sk-toggleable__control:checked~label.sk-toggleable__label {background-color: #d4ebff;}#sk-container-id-2 input.sk-hidden--visually {border: 0;clip: rect(1px 1px 1px 1px);clip: rect(1px, 1px, 1px, 1px);height: 1px;margin: -1px;overflow: hidden;padding: 0;position: absolute;width: 1px;}#sk-container-id-2 div.sk-estimator {font-family: monospace;background-color: #f0f8ff;border: 1px dotted black;border-radius: 0.25em;box-sizing: border-box;margin-bottom: 0.5em;}#sk-container-id-2 div.sk-estimator:hover {background-color: #d4ebff;}#sk-container-id-2 div.sk-parallel-item::after {content: \"\";width: 100%;border-bottom: 1px solid gray;flex-grow: 1;}#sk-container-id-2 div.sk-label:hover label.sk-toggleable__label {background-color: #d4ebff;}#sk-container-id-2 div.sk-serial::before {content: \"\";position: absolute;border-left: 1px solid gray;box-sizing: border-box;top: 0;bottom: 0;left: 50%;z-index: 0;}#sk-container-id-2 div.sk-serial {display: flex;flex-direction: column;align-items: center;background-color: white;padding-right: 0.2em;padding-left: 0.2em;position: relative;}#sk-container-id-2 div.sk-item {position: relative;z-index: 1;}#sk-container-id-2 div.sk-parallel {display: flex;align-items: stretch;justify-content: center;background-color: white;position: relative;}#sk-container-id-2 div.sk-item::before, #sk-container-id-2 div.sk-parallel-item::before {content: \"\";position: absolute;border-left: 1px solid gray;box-sizing: border-box;top: 0;bottom: 0;left: 50%;z-index: -1;}#sk-container-id-2 div.sk-parallel-item {display: flex;flex-direction: column;z-index: 1;position: relative;background-color: white;}#sk-container-id-2 div.sk-parallel-item:first-child::after {align-self: flex-end;width: 50%;}#sk-container-id-2 div.sk-parallel-item:last-child::after {align-self: flex-start;width: 50%;}#sk-container-id-2 div.sk-parallel-item:only-child::after {width: 0;}#sk-container-id-2 div.sk-dashed-wrapped {border: 1px dashed gray;margin: 0 0.4em 0.5em 0.4em;box-sizing: border-box;padding-bottom: 0.4em;background-color: white;}#sk-container-id-2 div.sk-label label {font-family: monospace;font-weight: bold;display: inline-block;line-height: 1.2em;}#sk-container-id-2 div.sk-label-container {text-align: center;}#sk-container-id-2 div.sk-container {/* jupyter's `normalize.less` sets `[hidden] { display: none; }` but bootstrap.min.css set `[hidden] { display: none !important; }` so we also need the `!important` here to be able to override the default hidden behavior on the sphinx rendered scikit-learn.org. See: https://github.com/scikit-learn/scikit-learn/issues/21755 */display: inline-block !important;position: relative;}#sk-container-id-2 div.sk-text-repr-fallback {display: none;}</style><div id=\"sk-container-id-2\" class=\"sk-top-container\"><div class=\"sk-text-repr-fallback\"><pre>HistGradientBoostingClassifier()</pre><b>In a Jupyter environment, please rerun this cell to show the HTML representation or trust the notebook. <br />On GitHub, the HTML representation is unable to render, please try loading this page with nbviewer.org.</b></div><div class=\"sk-container\" hidden><div class=\"sk-item\"><div class=\"sk-estimator sk-toggleable\"><input class=\"sk-toggleable__control sk-hidden--visually\" id=\"sk-estimator-id-2\" type=\"checkbox\" checked><label for=\"sk-estimator-id-2\" class=\"sk-toggleable__label sk-toggleable__label-arrow\">HistGradientBoostingClassifier</label><div class=\"sk-toggleable__content\"><pre>HistGradientBoostingClassifier()</pre></div></div></div></div></div>"
            ],
            "text/plain": [
              "HistGradientBoostingClassifier()"
            ]
          },
          "execution_count": 48,
          "metadata": {},
          "output_type": "execute_result"
        }
      ],
      "source": [
        "x_train, x_test, y_train, y_test = train_test_split(X, Y, train_size=0.8, shuffle=True)\n",
        "# Year\tMonth\tConsumption\tConsumer_number\tInstallation_zone\n",
        "weights = np.ones(len(x_train))  \n",
        "weights[train.columns.get_loc('Year')] = 1.0\n",
        "weights[train.columns.get_loc('Month')] = 1.0\n",
        "weights[train.columns.get_loc('Consumption')] = 3.0\n",
        "weights[train.columns.get_loc('Consumer_number')] = 1.0 \n",
        "weights[train.columns.get_loc('Installation_zone')] = 2.8\n",
        "\n",
        "from sklearn.ensemble import RandomForestRegressor\n",
        "from sklearn.ensemble import HistGradientBoostingClassifier\n",
        "\n",
        "model = HistGradientBoostingClassifier()  \n",
        "model.fit(x_train, y_train, sample_weight=weights)"
      ]
    },
    {
      "cell_type": "markdown",
      "metadata": {},
      "source": [
        "Aqui vamos modelar nossa rede conforme queremos"
      ]
    },
    {
      "cell_type": "code",
      "execution_count": 49,
      "metadata": {},
      "outputs": [],
      "source": [
        "class NN_model(nn.Module):\n",
        "    def __init__(self):\n",
        "        super(NN_model, self).__init__()\n",
        "        self.linear_nn_stack = nn.Sequential(\n",
        "            nn.Linear(4, 8),\n",
        "            nn.Sigmoid(),\n",
        "            nn.Linear(8, 8),\n",
        "            nn.ReLU(),\n",
        "            # nn.Linear(10, 12),\n",
        "            # nn.Sigmoid(),\n",
        "            # nn.Linear(12, 8),\n",
        "            # nn.ReLU(),\n",
        "            nn.Linear(8, 7),\n",
        "            nn.Softmax(),\n",
        "        )\n",
        "\n",
        "    def forward(self, x):\n",
        "        logits = self.linear_nn_stack(x)\n",
        "        return logits"
      ]
    },
    {
      "cell_type": "code",
      "execution_count": 50,
      "metadata": {},
      "outputs": [],
      "source": [
        "model = NN_model()\n",
        "\n",
        "learning_rate = 1e-2\n",
        "criterion = nn.CrossEntropyLoss()\n",
        "optimizer = torch.optim.Adam(model.parameters(), learning_rate)"
      ]
    },
    {
      "cell_type": "markdown",
      "metadata": {},
      "source": [
        "Aqui vamos treinar nosso modelo com \"n\" épocas"
      ]
    },
    {
      "cell_type": "code",
      "execution_count": 51,
      "metadata": {},
      "outputs": [
        {
          "name": "stderr",
          "output_type": "stream",
          "text": [
            "c:\\Users\\Emers\\AppData\\Local\\Programs\\Python\\Python311\\Lib\\site-packages\\torch\\nn\\modules\\module.py:1518: UserWarning: Implicit dimension choice for softmax has been deprecated. Change the call to include dim=X as an argument.\n",
            "  return self._call_impl(*args, **kwargs)\n"
          ]
        },
        {
          "name": "stdout",
          "output_type": "stream",
          "text": [
            "Epoch number: 10 and the loss : 1.9046177864074707\n",
            "Epoch number: 20 and the loss : 1.8257044553756714\n",
            "Epoch number: 30 and the loss : 1.6751515865325928\n",
            "Epoch number: 40 and the loss : 1.5050601959228516\n",
            "Epoch number: 50 and the loss : 1.436000943183899\n",
            "Epoch number: 60 and the loss : 1.4215738773345947\n",
            "Epoch number: 70 and the loss : 1.4181329011917114\n",
            "Epoch number: 80 and the loss : 1.4169706106185913\n",
            "Epoch number: 90 and the loss : 1.416441798210144\n",
            "Epoch number: 100 and the loss : 1.416137456893921\n",
            "Epoch number: 110 and the loss : 1.415929913520813\n",
            "Epoch number: 120 and the loss : 1.4157721996307373\n",
            "Epoch number: 130 and the loss : 1.4156453609466553\n",
            "Epoch number: 140 and the loss : 1.415539264678955\n",
            "Epoch number: 150 and the loss : 1.4154490232467651\n",
            "Epoch number: 160 and the loss : 1.4153716564178467\n",
            "Epoch number: 170 and the loss : 1.4153043031692505\n",
            "Epoch number: 180 and the loss : 1.415245532989502\n",
            "Epoch number: 190 and the loss : 1.4151939153671265\n",
            "Epoch number: 200 and the loss : 1.415148138999939\n",
            "Epoch number: 210 and the loss : 1.4151077270507812\n",
            "Epoch number: 220 and the loss : 1.4150714874267578\n",
            "Epoch number: 230 and the loss : 1.4150390625\n",
            "Epoch number: 240 and the loss : 1.41500985622406\n",
            "Epoch number: 250 and the loss : 1.4149836301803589\n",
            "Epoch number: 260 and the loss : 1.4149596691131592\n",
            "Epoch number: 270 and the loss : 1.41493821144104\n",
            "Epoch number: 280 and the loss : 1.414918303489685\n",
            "Epoch number: 290 and the loss : 1.4149001836776733\n",
            "Epoch number: 300 and the loss : 1.4148836135864258\n",
            "Epoch number: 310 and the loss : 1.4148684740066528\n",
            "Epoch number: 320 and the loss : 1.4148544073104858\n",
            "Epoch number: 330 and the loss : 1.4148415327072144\n",
            "Epoch number: 340 and the loss : 1.4148293733596802\n",
            "Epoch number: 350 and the loss : 1.414818525314331\n",
            "Epoch number: 360 and the loss : 1.4148081541061401\n",
            "Epoch number: 370 and the loss : 1.4147984981536865\n",
            "Epoch number: 380 and the loss : 1.4147895574569702\n",
            "Epoch number: 390 and the loss : 1.414781093597412\n",
            "Epoch number: 400 and the loss : 1.4147733449935913\n",
            "Epoch number: 410 and the loss : 1.4147659540176392\n",
            "Epoch number: 420 and the loss : 1.4147590398788452\n",
            "Epoch number: 430 and the loss : 1.4147526025772095\n",
            "Epoch number: 440 and the loss : 1.4147465229034424\n",
            "Epoch number: 450 and the loss : 1.4147409200668335\n",
            "Epoch number: 460 and the loss : 1.4147355556488037\n",
            "Epoch number: 470 and the loss : 1.4147303104400635\n",
            "Epoch number: 480 and the loss : 1.414725661277771\n",
            "Epoch number: 490 and the loss : 1.4147210121154785\n",
            "Epoch number: 500 and the loss : 1.4147167205810547\n",
            "Epoch number: 510 and the loss : 1.4147125482559204\n",
            "Epoch number: 520 and the loss : 1.4147087335586548\n",
            "Epoch number: 530 and the loss : 1.4147049188613892\n",
            "Epoch number: 540 and the loss : 1.4147014617919922\n",
            "Epoch number: 550 and the loss : 1.4146983623504639\n",
            "Epoch number: 560 and the loss : 1.4146950244903564\n",
            "Epoch number: 570 and the loss : 1.4146920442581177\n",
            "Epoch number: 580 and the loss : 1.414689302444458\n",
            "Epoch number: 590 and the loss : 1.4146862030029297\n",
            "Epoch number: 600 and the loss : 1.4146836996078491\n",
            "Epoch number: 610 and the loss : 1.414681077003479\n",
            "Epoch number: 620 and the loss : 1.4146788120269775\n",
            "Epoch number: 630 and the loss : 1.4146764278411865\n",
            "Epoch number: 640 and the loss : 1.4146742820739746\n",
            "Epoch number: 650 and the loss : 1.4146721363067627\n",
            "Epoch number: 660 and the loss : 1.4146699905395508\n",
            "Epoch number: 670 and the loss : 1.414668083190918\n",
            "Epoch number: 680 and the loss : 1.4146662950515747\n",
            "Epoch number: 690 and the loss : 1.414664387702942\n",
            "Epoch number: 700 and the loss : 1.4146628379821777\n",
            "Epoch number: 710 and the loss : 1.414661169052124\n",
            "Epoch number: 720 and the loss : 1.4146593809127808\n",
            "Epoch number: 730 and the loss : 1.414657711982727\n",
            "Epoch number: 740 and the loss : 1.4146562814712524\n",
            "Epoch number: 750 and the loss : 1.4146547317504883\n",
            "Epoch number: 760 and the loss : 1.4146535396575928\n",
            "Epoch number: 770 and the loss : 1.4146522283554077\n",
            "Epoch number: 780 and the loss : 1.414650797843933\n",
            "Epoch number: 790 and the loss : 1.4146497249603271\n",
            "Epoch number: 800 and the loss : 1.414648413658142\n",
            "Epoch number: 810 and the loss : 1.4146472215652466\n",
            "Epoch number: 820 and the loss : 1.4146462678909302\n",
            "Epoch number: 830 and the loss : 1.4146450757980347\n",
            "Epoch number: 840 and the loss : 1.4146438837051392\n",
            "Epoch number: 850 and the loss : 1.4146430492401123\n",
            "Epoch number: 860 and the loss : 1.414642095565796\n",
            "Epoch number: 870 and the loss : 1.41464102268219\n",
            "Epoch number: 880 and the loss : 1.414640188217163\n",
            "Epoch number: 890 and the loss : 1.4146392345428467\n",
            "Epoch number: 900 and the loss : 1.4146382808685303\n",
            "Epoch number: 910 and the loss : 1.4146374464035034\n",
            "Epoch number: 920 and the loss : 1.4146367311477661\n",
            "Epoch number: 930 and the loss : 1.4146357774734497\n",
            "Epoch number: 940 and the loss : 1.414635181427002\n",
            "Epoch number: 950 and the loss : 1.4146344661712646\n",
            "Epoch number: 960 and the loss : 1.4146337509155273\n",
            "Epoch number: 970 and the loss : 1.4146329164505005\n",
            "Epoch number: 980 and the loss : 1.4146323204040527\n",
            "Epoch number: 990 and the loss : 1.4146316051483154\n",
            "Epoch number: 1000 and the loss : 1.4146310091018677\n",
            "Epoch number: 1010 and the loss : 1.41463041305542\n",
            "Epoch number: 1020 and the loss : 1.4146296977996826\n",
            "Epoch number: 1030 and the loss : 1.4146289825439453\n",
            "Epoch number: 1040 and the loss : 1.4146283864974976\n",
            "Epoch number: 1050 and the loss : 1.4146277904510498\n",
            "Epoch number: 1060 and the loss : 1.4146274328231812\n",
            "Epoch number: 1070 and the loss : 1.4146268367767334\n",
            "Epoch number: 1080 and the loss : 1.4146262407302856\n",
            "Epoch number: 1090 and the loss : 1.4146257638931274\n",
            "Epoch number: 1100 and the loss : 1.4146252870559692\n",
            "Epoch number: 1110 and the loss : 1.4146249294281006\n",
            "Epoch number: 1120 and the loss : 1.4146243333816528\n",
            "Epoch number: 1130 and the loss : 1.414623737335205\n",
            "Epoch number: 1140 and the loss : 1.4146232604980469\n",
            "Epoch number: 1150 and the loss : 1.4146230220794678\n",
            "Epoch number: 1160 and the loss : 1.4146226644515991\n",
            "Epoch number: 1170 and the loss : 1.4146220684051514\n",
            "Epoch number: 1180 and the loss : 1.4146218299865723\n",
            "Epoch number: 1190 and the loss : 1.414621353149414\n",
            "Epoch number: 1200 and the loss : 1.4146208763122559\n",
            "Epoch number: 1210 and the loss : 1.4146205186843872\n",
            "Epoch number: 1220 and the loss : 1.4146201610565186\n",
            "Epoch number: 1230 and the loss : 1.41461980342865\n",
            "Epoch number: 1240 and the loss : 1.4146194458007812\n",
            "Epoch number: 1250 and the loss : 1.4146192073822021\n",
            "Epoch number: 1260 and the loss : 1.4146186113357544\n",
            "Epoch number: 1270 and the loss : 1.4146184921264648\n",
            "Epoch number: 1280 and the loss : 1.4146180152893066\n",
            "Epoch number: 1290 and the loss : 1.4146177768707275\n",
            "Epoch number: 1300 and the loss : 1.4146173000335693\n",
            "Epoch number: 1310 and the loss : 1.4146173000335693\n",
            "Epoch number: 1320 and the loss : 1.4146167039871216\n",
            "Epoch number: 1330 and the loss : 1.414616584777832\n",
            "Epoch number: 1340 and the loss : 1.4146162271499634\n",
            "Epoch number: 1350 and the loss : 1.4146158695220947\n",
            "Epoch number: 1360 and the loss : 1.4146156311035156\n",
            "Epoch number: 1370 and the loss : 1.4146153926849365\n",
            "Epoch number: 1380 and the loss : 1.4146151542663574\n",
            "Epoch number: 1390 and the loss : 1.4146149158477783\n",
            "Epoch number: 1400 and the loss : 1.4146145582199097\n",
            "Epoch number: 1410 and the loss : 1.4146144390106201\n",
            "Epoch number: 1420 and the loss : 1.414614200592041\n",
            "Epoch number: 1430 and the loss : 1.4146138429641724\n",
            "Epoch number: 1440 and the loss : 1.4146136045455933\n",
            "Epoch number: 1450 and the loss : 1.4146136045455933\n",
            "Epoch number: 1460 and the loss : 1.414613127708435\n",
            "Epoch number: 1470 and the loss : 1.414612889289856\n",
            "Epoch number: 1480 and the loss : 1.4146127700805664\n",
            "Epoch number: 1490 and the loss : 1.4146125316619873\n",
            "Epoch number: 1500 and the loss : 1.4146124124526978\n",
            "Epoch number: 1510 and the loss : 1.4146122932434082\n",
            "Epoch number: 1520 and the loss : 1.414612054824829\n",
            "Epoch number: 1530 and the loss : 1.414611577987671\n",
            "Epoch number: 1540 and the loss : 1.414611577987671\n",
            "Epoch number: 1550 and the loss : 1.4146114587783813\n",
            "Epoch number: 1560 and the loss : 1.4146111011505127\n",
            "Epoch number: 1570 and the loss : 1.4146109819412231\n",
            "Epoch number: 1580 and the loss : 1.414610743522644\n",
            "Epoch number: 1590 and the loss : 1.414610743522644\n",
            "Epoch number: 1600 and the loss : 1.414610505104065\n",
            "Epoch number: 1610 and the loss : 1.4146103858947754\n",
            "Epoch number: 1620 and the loss : 1.4146100282669067\n",
            "Epoch number: 1630 and the loss : 1.4146097898483276\n",
            "Epoch number: 1640 and the loss : 1.414609670639038\n",
            "Epoch number: 1650 and the loss : 1.414609670639038\n",
            "Epoch number: 1660 and the loss : 1.414609670639038\n",
            "Epoch number: 1670 and the loss : 1.414609432220459\n",
            "Epoch number: 1680 and the loss : 1.4146090745925903\n",
            "Epoch number: 1690 and the loss : 1.4146089553833008\n",
            "Epoch number: 1700 and the loss : 1.4146088361740112\n",
            "Epoch number: 1710 and the loss : 1.4146085977554321\n",
            "Epoch number: 1720 and the loss : 1.414608359336853\n",
            "Epoch number: 1730 and the loss : 1.414608359336853\n",
            "Epoch number: 1740 and the loss : 1.414608359336853\n",
            "Epoch number: 1750 and the loss : 1.414608120918274\n",
            "Epoch number: 1760 and the loss : 1.414608120918274\n",
            "Epoch number: 1770 and the loss : 1.4146080017089844\n",
            "Epoch number: 1780 and the loss : 1.4146078824996948\n",
            "Epoch number: 1790 and the loss : 1.4146076440811157\n",
            "Epoch number: 1800 and the loss : 1.4146075248718262\n",
            "Epoch number: 1810 and the loss : 1.4146075248718262\n",
            "Epoch number: 1820 and the loss : 1.414607286453247\n",
            "Epoch number: 1830 and the loss : 1.4146069288253784\n",
            "Epoch number: 1840 and the loss : 1.4146068096160889\n",
            "Epoch number: 1850 and the loss : 1.4146068096160889\n",
            "Epoch number: 1860 and the loss : 1.4146066904067993\n",
            "Epoch number: 1870 and the loss : 1.4146065711975098\n",
            "Epoch number: 1880 and the loss : 1.4146065711975098\n",
            "Epoch number: 1890 and the loss : 1.4146065711975098\n",
            "Epoch number: 1900 and the loss : 1.4146063327789307\n",
            "Epoch number: 1910 and the loss : 1.4146062135696411\n",
            "Epoch number: 1920 and the loss : 1.4146062135696411\n",
            "Epoch number: 1930 and the loss : 1.4146060943603516\n",
            "Epoch number: 1940 and the loss : 1.414605975151062\n",
            "Epoch number: 1950 and the loss : 1.414605975151062\n",
            "Epoch number: 1960 and the loss : 1.414605975151062\n",
            "Epoch number: 1970 and the loss : 1.414605975151062\n",
            "Epoch number: 1980 and the loss : 1.4146056175231934\n",
            "Epoch number: 1990 and the loss : 1.4146054983139038\n",
            "Epoch number: 2000 and the loss : 1.4146052598953247\n",
            "Epoch number: 2010 and the loss : 1.4146052598953247\n",
            "Epoch number: 2020 and the loss : 1.4146051406860352\n",
            "Epoch number: 2030 and the loss : 1.414604902267456\n",
            "Epoch number: 2040 and the loss : 1.4146047830581665\n",
            "Epoch number: 2050 and the loss : 1.4146047830581665\n",
            "Epoch number: 2060 and the loss : 1.4146047830581665\n",
            "Epoch number: 2070 and the loss : 1.414604663848877\n",
            "Epoch number: 2080 and the loss : 1.414604663848877\n",
            "Epoch number: 2090 and the loss : 1.414604663848877\n",
            "Epoch number: 2100 and the loss : 1.414604663848877\n",
            "Epoch number: 2110 and the loss : 1.4146045446395874\n",
            "Epoch number: 2120 and the loss : 1.4146045446395874\n",
            "Epoch number: 2130 and the loss : 1.4146044254302979\n",
            "Epoch number: 2140 and the loss : 1.4146044254302979\n",
            "Epoch number: 2150 and the loss : 1.4146041870117188\n",
            "Epoch number: 2160 and the loss : 1.4146039485931396\n",
            "Epoch number: 2170 and the loss : 1.4146039485931396\n",
            "Epoch number: 2180 and the loss : 1.4146039485931396\n",
            "Epoch number: 2190 and the loss : 1.4146039485931396\n",
            "Epoch number: 2200 and the loss : 1.41460382938385\n",
            "Epoch number: 2210 and the loss : 1.4146037101745605\n",
            "Epoch number: 2220 and the loss : 1.4146037101745605\n",
            "Epoch number: 2230 and the loss : 1.4146037101745605\n",
            "Epoch number: 2240 and the loss : 1.4146034717559814\n",
            "Epoch number: 2250 and the loss : 1.414603352546692\n",
            "Epoch number: 2260 and the loss : 1.414603352546692\n",
            "Epoch number: 2270 and the loss : 1.4146032333374023\n",
            "Epoch number: 2280 and the loss : 1.4146032333374023\n",
            "Epoch number: 2290 and the loss : 1.4146031141281128\n",
            "Epoch number: 2300 and the loss : 1.4146031141281128\n",
            "Epoch number: 2310 and the loss : 1.4146031141281128\n",
            "Epoch number: 2320 and the loss : 1.4146028757095337\n",
            "Epoch number: 2330 and the loss : 1.4146027565002441\n",
            "Epoch number: 2340 and the loss : 1.4146027565002441\n",
            "Epoch number: 2350 and the loss : 1.4146027565002441\n",
            "Epoch number: 2360 and the loss : 1.4146027565002441\n",
            "Epoch number: 2370 and the loss : 1.4146027565002441\n",
            "Epoch number: 2380 and the loss : 1.4146027565002441\n",
            "Epoch number: 2390 and the loss : 1.4146027565002441\n",
            "Epoch number: 2400 and the loss : 1.4146027565002441\n",
            "Epoch number: 2410 and the loss : 1.414602518081665\n",
            "Epoch number: 2420 and the loss : 1.414602518081665\n",
            "Epoch number: 2430 and the loss : 1.4146023988723755\n",
            "Epoch number: 2440 and the loss : 1.4146023988723755\n",
            "Epoch number: 2450 and the loss : 1.4146023988723755\n",
            "Epoch number: 2460 and the loss : 1.4146021604537964\n",
            "Epoch number: 2470 and the loss : 1.4146021604537964\n",
            "Epoch number: 2480 and the loss : 1.4146021604537964\n",
            "Epoch number: 2490 and the loss : 1.4146021604537964\n",
            "Epoch number: 2500 and the loss : 1.4146020412445068\n",
            "Epoch number: 2510 and the loss : 1.4146020412445068\n",
            "Epoch number: 2520 and the loss : 1.4146020412445068\n",
            "Epoch number: 2530 and the loss : 1.4146019220352173\n",
            "Epoch number: 2540 and the loss : 1.4146019220352173\n",
            "Epoch number: 2550 and the loss : 1.4146019220352173\n",
            "Epoch number: 2560 and the loss : 1.4146018028259277\n",
            "Epoch number: 2570 and the loss : 1.4146018028259277\n",
            "Epoch number: 2580 and the loss : 1.4146018028259277\n",
            "Epoch number: 2590 and the loss : 1.4146016836166382\n",
            "Epoch number: 2600 and the loss : 1.414601445198059\n",
            "Epoch number: 2610 and the loss : 1.414601445198059\n",
            "Epoch number: 2620 and the loss : 1.414601445198059\n",
            "Epoch number: 2630 and the loss : 1.414601445198059\n",
            "Epoch number: 2640 and the loss : 1.4146013259887695\n",
            "Epoch number: 2650 and the loss : 1.4146013259887695\n",
            "Epoch number: 2660 and the loss : 1.41460120677948\n",
            "Epoch number: 2670 and the loss : 1.41460120677948\n",
            "Epoch number: 2680 and the loss : 1.41460120677948\n",
            "Epoch number: 2690 and the loss : 1.41460120677948\n",
            "Epoch number: 2700 and the loss : 1.4146010875701904\n",
            "Epoch number: 2710 and the loss : 1.4146010875701904\n",
            "Epoch number: 2720 and the loss : 1.4146010875701904\n",
            "Epoch number: 2730 and the loss : 1.4146009683609009\n",
            "Epoch number: 2740 and the loss : 1.4146009683609009\n",
            "Epoch number: 2750 and the loss : 1.4146009683609009\n",
            "Epoch number: 2760 and the loss : 1.4146007299423218\n",
            "Epoch number: 2770 and the loss : 1.4146007299423218\n",
            "Epoch number: 2780 and the loss : 1.4146007299423218\n",
            "Epoch number: 2790 and the loss : 1.4146007299423218\n",
            "Epoch number: 2800 and the loss : 1.4146007299423218\n",
            "Epoch number: 2810 and the loss : 1.4146007299423218\n",
            "Epoch number: 2820 and the loss : 1.4146007299423218\n",
            "Epoch number: 2830 and the loss : 1.4146007299423218\n",
            "Epoch number: 2840 and the loss : 1.4146007299423218\n",
            "Epoch number: 2850 and the loss : 1.4146007299423218\n",
            "Epoch number: 2860 and the loss : 1.4146007299423218\n",
            "Epoch number: 2870 and the loss : 1.4146007299423218\n",
            "Epoch number: 2880 and the loss : 1.4146007299423218\n",
            "Epoch number: 2890 and the loss : 1.4146007299423218\n",
            "Epoch number: 2900 and the loss : 1.4146007299423218\n",
            "Epoch number: 2910 and the loss : 1.4146006107330322\n",
            "Epoch number: 2920 and the loss : 1.4146006107330322\n",
            "Epoch number: 2930 and the loss : 1.4146006107330322\n",
            "Epoch number: 2940 and the loss : 1.4146006107330322\n",
            "Epoch number: 2950 and the loss : 1.4146006107330322\n",
            "Epoch number: 2960 and the loss : 1.4146004915237427\n",
            "Epoch number: 2970 and the loss : 1.4146004915237427\n",
            "Epoch number: 2980 and the loss : 1.4146003723144531\n",
            "Epoch number: 2990 and the loss : 1.4146003723144531\n",
            "Epoch number: 3000 and the loss : 1.4146003723144531\n",
            "Epoch number: 3010 and the loss : 1.4146003723144531\n",
            "Epoch number: 3020 and the loss : 1.4146002531051636\n",
            "Epoch number: 3030 and the loss : 1.4146002531051636\n",
            "Epoch number: 3040 and the loss : 1.4146002531051636\n",
            "Epoch number: 3050 and the loss : 1.4146002531051636\n",
            "Epoch number: 3060 and the loss : 1.4146002531051636\n",
            "Epoch number: 3070 and the loss : 1.4146002531051636\n",
            "Epoch number: 3080 and the loss : 1.4146002531051636\n",
            "Epoch number: 3090 and the loss : 1.4146002531051636\n",
            "Epoch number: 3100 and the loss : 1.4146002531051636\n",
            "Epoch number: 3110 and the loss : 1.4146000146865845\n",
            "Epoch number: 3120 and the loss : 1.414599895477295\n",
            "Epoch number: 3130 and the loss : 1.414599895477295\n",
            "Epoch number: 3140 and the loss : 1.414599895477295\n",
            "Epoch number: 3150 and the loss : 1.414599895477295\n",
            "Epoch number: 3160 and the loss : 1.414599895477295\n",
            "Epoch number: 3170 and the loss : 1.4145997762680054\n",
            "Epoch number: 3180 and the loss : 1.4145997762680054\n",
            "Epoch number: 3190 and the loss : 1.4145996570587158\n",
            "Epoch number: 3200 and the loss : 1.4145996570587158\n",
            "Epoch number: 3210 and the loss : 1.4145996570587158\n",
            "Epoch number: 3220 and the loss : 1.4145996570587158\n",
            "Epoch number: 3230 and the loss : 1.4145996570587158\n",
            "Epoch number: 3240 and the loss : 1.4145996570587158\n",
            "Epoch number: 3250 and the loss : 1.4145995378494263\n",
            "Epoch number: 3260 and the loss : 1.4145992994308472\n",
            "Epoch number: 3270 and the loss : 1.4145992994308472\n",
            "Epoch number: 3280 and the loss : 1.4145992994308472\n",
            "Epoch number: 3290 and the loss : 1.4145992994308472\n",
            "Epoch number: 3300 and the loss : 1.4145991802215576\n",
            "Epoch number: 3310 and the loss : 1.4145991802215576\n",
            "Epoch number: 3320 and the loss : 1.4145991802215576\n",
            "Epoch number: 3330 and the loss : 1.4145991802215576\n",
            "Epoch number: 3340 and the loss : 1.4145991802215576\n",
            "Epoch number: 3350 and the loss : 1.4145991802215576\n",
            "Epoch number: 3360 and the loss : 1.4145991802215576\n",
            "Epoch number: 3370 and the loss : 1.414599061012268\n",
            "Epoch number: 3380 and the loss : 1.414599061012268\n",
            "Epoch number: 3390 and the loss : 1.414599061012268\n",
            "Epoch number: 3400 and the loss : 1.414599061012268\n",
            "Epoch number: 3410 and the loss : 1.414599061012268\n",
            "Epoch number: 3420 and the loss : 1.414599061012268\n",
            "Epoch number: 3430 and the loss : 1.414599061012268\n",
            "Epoch number: 3440 and the loss : 1.414599061012268\n",
            "Epoch number: 3450 and the loss : 1.414599061012268\n",
            "Epoch number: 3460 and the loss : 1.414599061012268\n",
            "Epoch number: 3470 and the loss : 1.414599061012268\n",
            "Epoch number: 3480 and the loss : 1.414599061012268\n",
            "Epoch number: 3490 and the loss : 1.414599061012268\n",
            "Epoch number: 3500 and the loss : 1.4145989418029785\n",
            "Epoch number: 3510 and the loss : 1.4145989418029785\n",
            "Epoch number: 3520 and the loss : 1.4145989418029785\n",
            "Epoch number: 3530 and the loss : 1.4145989418029785\n",
            "Epoch number: 3540 and the loss : 1.4145989418029785\n",
            "Epoch number: 3550 and the loss : 1.4145989418029785\n",
            "Epoch number: 3560 and the loss : 1.4145989418029785\n",
            "Epoch number: 3570 and the loss : 1.4145989418029785\n",
            "Epoch number: 3580 and the loss : 1.4145989418029785\n",
            "Epoch number: 3590 and the loss : 1.4145989418029785\n",
            "Epoch number: 3600 and the loss : 1.4145989418029785\n",
            "Epoch number: 3610 and the loss : 1.4145989418029785\n",
            "Epoch number: 3620 and the loss : 1.4145989418029785\n",
            "Epoch number: 3630 and the loss : 1.4145989418029785\n",
            "Epoch number: 3640 and the loss : 1.4145989418029785\n",
            "Epoch number: 3650 and the loss : 1.4145989418029785\n",
            "Epoch number: 3660 and the loss : 1.4145989418029785\n",
            "Epoch number: 3670 and the loss : 1.4145989418029785\n",
            "Epoch number: 3680 and the loss : 1.4145989418029785\n",
            "Epoch number: 3690 and the loss : 1.4145989418029785\n",
            "Epoch number: 3700 and the loss : 1.4145989418029785\n",
            "Epoch number: 3710 and the loss : 1.4145989418029785\n",
            "Epoch number: 3720 and the loss : 1.4145989418029785\n",
            "Epoch number: 3730 and the loss : 1.4145989418029785\n",
            "Epoch number: 3740 and the loss : 1.4145989418029785\n",
            "Epoch number: 3750 and the loss : 1.4145989418029785\n",
            "Epoch number: 3760 and the loss : 1.4145989418029785\n",
            "Epoch number: 3770 and the loss : 1.4145989418029785\n",
            "Epoch number: 3780 and the loss : 1.4145989418029785\n",
            "Epoch number: 3790 and the loss : 1.4145989418029785\n",
            "Epoch number: 3800 and the loss : 1.4145987033843994\n",
            "Epoch number: 3810 and the loss : 1.4145987033843994\n",
            "Epoch number: 3820 and the loss : 1.4145987033843994\n",
            "Epoch number: 3830 and the loss : 1.4145987033843994\n",
            "Epoch number: 3840 and the loss : 1.4145987033843994\n",
            "Epoch number: 3850 and the loss : 1.4145987033843994\n",
            "Epoch number: 3860 and the loss : 1.4145987033843994\n",
            "Epoch number: 3870 and the loss : 1.4145987033843994\n",
            "Epoch number: 3880 and the loss : 1.4145987033843994\n",
            "Epoch number: 3890 and the loss : 1.4145987033843994\n",
            "Epoch number: 3900 and the loss : 1.4145987033843994\n",
            "Epoch number: 3910 and the loss : 1.4145987033843994\n",
            "Epoch number: 3920 and the loss : 1.4145987033843994\n",
            "Epoch number: 3930 and the loss : 1.4145987033843994\n",
            "Epoch number: 3940 and the loss : 1.4145987033843994\n",
            "Epoch number: 3950 and the loss : 1.4145987033843994\n",
            "Epoch number: 3960 and the loss : 1.4145987033843994\n",
            "Epoch number: 3970 and the loss : 1.4145987033843994\n",
            "Epoch number: 3980 and the loss : 1.4145987033843994\n",
            "Epoch number: 3990 and the loss : 1.4145987033843994\n",
            "Epoch number: 4000 and the loss : 1.4145987033843994\n",
            "Epoch number: 4010 and the loss : 1.4145985841751099\n",
            "Epoch number: 4020 and the loss : 1.4145987033843994\n",
            "Epoch number: 4030 and the loss : 1.4145987033843994\n",
            "Epoch number: 4040 and the loss : 1.4145985841751099\n",
            "Epoch number: 4050 and the loss : 1.4145985841751099\n",
            "Epoch number: 4060 and the loss : 1.4145985841751099\n",
            "Epoch number: 4070 and the loss : 1.4145985841751099\n",
            "Epoch number: 4080 and the loss : 1.4145985841751099\n",
            "Epoch number: 4090 and the loss : 1.4145985841751099\n",
            "Epoch number: 4100 and the loss : 1.4145985841751099\n",
            "Epoch number: 4110 and the loss : 1.4145985841751099\n",
            "Epoch number: 4120 and the loss : 1.4145984649658203\n",
            "Epoch number: 4130 and the loss : 1.4145984649658203\n",
            "Epoch number: 4140 and the loss : 1.4145984649658203\n",
            "Epoch number: 4150 and the loss : 1.4145984649658203\n",
            "Epoch number: 4160 and the loss : 1.4145984649658203\n",
            "Epoch number: 4170 and the loss : 1.4145983457565308\n",
            "Epoch number: 4180 and the loss : 1.4145984649658203\n",
            "Epoch number: 4190 and the loss : 1.4145983457565308\n",
            "Epoch number: 4200 and the loss : 1.4145983457565308\n",
            "Epoch number: 4210 and the loss : 1.4145983457565308\n",
            "Epoch number: 4220 and the loss : 1.4145983457565308\n",
            "Epoch number: 4230 and the loss : 1.4145983457565308\n",
            "Epoch number: 4240 and the loss : 1.4145983457565308\n",
            "Epoch number: 4250 and the loss : 1.4145983457565308\n",
            "Epoch number: 4260 and the loss : 1.4145983457565308\n",
            "Epoch number: 4270 and the loss : 1.4145983457565308\n",
            "Epoch number: 4280 and the loss : 1.4145983457565308\n",
            "Epoch number: 4290 and the loss : 1.4145983457565308\n",
            "Epoch number: 4300 and the loss : 1.4145983457565308\n",
            "Epoch number: 4310 and the loss : 1.4145983457565308\n",
            "Epoch number: 4320 and the loss : 1.4145983457565308\n",
            "Epoch number: 4330 and the loss : 1.4145983457565308\n",
            "Epoch number: 4340 and the loss : 1.4145983457565308\n",
            "Epoch number: 4350 and the loss : 1.4145983457565308\n",
            "Epoch number: 4360 and the loss : 1.4145983457565308\n",
            "Epoch number: 4370 and the loss : 1.4145983457565308\n",
            "Epoch number: 4380 and the loss : 1.4145983457565308\n",
            "Epoch number: 4390 and the loss : 1.4145983457565308\n",
            "Epoch number: 4400 and the loss : 1.4145983457565308\n",
            "Epoch number: 4410 and the loss : 1.4145983457565308\n",
            "Epoch number: 4420 and the loss : 1.4145983457565308\n",
            "Epoch number: 4430 and the loss : 1.4145983457565308\n",
            "Epoch number: 4440 and the loss : 1.4145983457565308\n",
            "Epoch number: 4450 and the loss : 1.4145983457565308\n",
            "Epoch number: 4460 and the loss : 1.4145982265472412\n",
            "Epoch number: 4470 and the loss : 1.4145982265472412\n",
            "Epoch number: 4480 and the loss : 1.4145982265472412\n",
            "Epoch number: 4490 and the loss : 1.4145982265472412\n",
            "Epoch number: 4500 and the loss : 1.4145982265472412\n",
            "Epoch number: 4510 and the loss : 1.4145982265472412\n",
            "Epoch number: 4520 and the loss : 1.4145978689193726\n",
            "Epoch number: 4530 and the loss : 1.4145978689193726\n",
            "Epoch number: 4540 and the loss : 1.4145978689193726\n",
            "Epoch number: 4550 and the loss : 1.4145978689193726\n",
            "Epoch number: 4560 and the loss : 1.4145978689193726\n",
            "Epoch number: 4570 and the loss : 1.414597988128662\n",
            "Epoch number: 4580 and the loss : 1.4145978689193726\n",
            "Epoch number: 4590 and the loss : 1.4145978689193726\n",
            "Epoch number: 4600 and the loss : 1.414597749710083\n",
            "Epoch number: 4610 and the loss : 1.414597749710083\n",
            "Epoch number: 4620 and the loss : 1.414597749710083\n",
            "Epoch number: 4630 and the loss : 1.414597749710083\n",
            "Epoch number: 4640 and the loss : 1.414597749710083\n",
            "Epoch number: 4650 and the loss : 1.4145976305007935\n",
            "Epoch number: 4660 and the loss : 1.4145976305007935\n",
            "Epoch number: 4670 and the loss : 1.4145976305007935\n",
            "Epoch number: 4680 and the loss : 1.4145976305007935\n",
            "Epoch number: 4690 and the loss : 1.4145976305007935\n",
            "Epoch number: 4700 and the loss : 1.4145976305007935\n",
            "Epoch number: 4710 and the loss : 1.4145976305007935\n",
            "Epoch number: 4720 and the loss : 1.4145976305007935\n",
            "Epoch number: 4730 and the loss : 1.4145976305007935\n",
            "Epoch number: 4740 and the loss : 1.4145976305007935\n",
            "Epoch number: 4750 and the loss : 1.4145976305007935\n",
            "Epoch number: 4760 and the loss : 1.414597511291504\n",
            "Epoch number: 4770 and the loss : 1.414597511291504\n",
            "Epoch number: 4780 and the loss : 1.414597511291504\n",
            "Epoch number: 4790 and the loss : 1.414597511291504\n",
            "Epoch number: 4800 and the loss : 1.4145972728729248\n",
            "Epoch number: 4810 and the loss : 1.414597511291504\n",
            "Epoch number: 4820 and the loss : 1.414597511291504\n",
            "Epoch number: 4830 and the loss : 1.414597511291504\n",
            "Epoch number: 4840 and the loss : 1.414597511291504\n",
            "Epoch number: 4850 and the loss : 1.414597511291504\n",
            "Epoch number: 4860 and the loss : 1.414597511291504\n",
            "Epoch number: 4870 and the loss : 1.414597511291504\n",
            "Epoch number: 4880 and the loss : 1.414597511291504\n",
            "Epoch number: 4890 and the loss : 1.4145972728729248\n",
            "Epoch number: 4900 and the loss : 1.4145972728729248\n",
            "Epoch number: 4910 and the loss : 1.4145972728729248\n",
            "Epoch number: 4920 and the loss : 1.4145972728729248\n",
            "Epoch number: 4930 and the loss : 1.4145972728729248\n",
            "Epoch number: 4940 and the loss : 1.4145972728729248\n",
            "Epoch number: 4950 and the loss : 1.4145972728729248\n",
            "Epoch number: 4960 and the loss : 1.4145972728729248\n",
            "Epoch number: 4970 and the loss : 1.4145972728729248\n",
            "Epoch number: 4980 and the loss : 1.4145972728729248\n",
            "Epoch number: 4990 and the loss : 1.4145972728729248\n",
            "Epoch number: 5000 and the loss : 1.4145972728729248\n"
          ]
        }
      ],
      "source": [
        "epochs = 5000\n",
        "train_losses=[]\n",
        "\n",
        "for i in range(epochs):\n",
        "    i= i+1\n",
        "    y_pred=model.forward(x_train)\n",
        "    loss=criterion(y_pred,y_train)\n",
        "    train_losses.append(loss)\n",
        "    if i % 10 == 0:\n",
        "        print(\"Epoch number: {} and the loss : {}\".format(i,loss.item()))\n",
        "    optimizer.zero_grad()\n",
        "    loss.backward()\n",
        "    optimizer.step()"
      ]
    },
    {
      "cell_type": "markdown",
      "metadata": {},
      "source": [
        "Curva de perdas com o passar dos treinos pelas épocas"
      ]
    },
    {
      "cell_type": "code",
      "execution_count": 52,
      "metadata": {},
      "outputs": [
        {
          "data": {
            "image/png": "[encoded data removed]",
            "text/plain": [
              "<Figure size 640x480 with 1 Axes>"
            ]
          },
          "metadata": {},
          "output_type": "display_data"
        }
      ],
      "source": [
        "losses = torch.tensor(train_losses,requires_grad=True)\n",
        "\n",
        "plt.plot(losses.detach().numpy(), label='Training Loss')\n",
        "plt.title('Gráfico de Loss ao Longo das Épocas')\n",
        "plt.xlabel('Épocas')\n",
        "plt.ylabel('Loss')\n",
        "plt.legend()\n",
        "plt.grid(True)\n",
        "plt.show()"
      ]
    },
    {
      "cell_type": "markdown",
      "metadata": {},
      "source": [
        "Cálculo da acurácia"
      ]
    },
    {
      "cell_type": "code",
      "execution_count": 53,
      "metadata": {},
      "outputs": [
        {
          "data": {
            "text/plain": [
              "tensor(0.7508)"
            ]
          },
          "execution_count": 53,
          "metadata": {},
          "output_type": "execute_result"
        }
      ],
      "source": [
        "indices_maior_valor = torch.argmax(y_pred, dim=1)\n",
        "maiores_valores = y_pred[torch.arange(len(y_pred)), indices_maior_valor]\n",
        "accuracy = (torch.argmax(y_pred, 1) == y_train).float().mean()\n",
        "accuracy"
      ]
    },
    {
      "cell_type": "markdown",
      "metadata": {},
      "source": [
        "Matriz de confusão"
      ]
    },
    {
      "cell_type": "code",
      "execution_count": 54,
      "metadata": {},
      "outputs": [
        {
          "data": {
            "image/png": "[encoded data removed]",
            "text/plain": [
              "<Figure size 800x600 with 2 Axes>"
            ]
          },
          "metadata": {},
          "output_type": "display_data"
        }
      ],
      "source": [
        "y_test_pred = model(x_test)\n",
        "y_test_pred = torch.argmax(y_test_pred, dim=1)\n",
        "\n",
        "predicted = y_test_pred.numpy()\n",
        "targets = y_test.numpy()\n",
        "\n",
        "conf_matrix = confusion_matrix(targets, predicted)\n",
        "\n",
        "plt.figure(figsize=(8, 6))\n",
        "sns.heatmap(conf_matrix, annot=True, fmt='d', cmap='Blues')\n",
        "plt.title('Matriz de Confusão')\n",
        "plt.xlabel('Rótulos Previstos')\n",
        "plt.ylabel('Rótulos Verdadeiros')\n",
        "plt.show()"
      ]
    }
  ],
  "metadata": {
    "colab": {
      "provenance": []
    },
    "kernelspec": {
      "display_name": "Python 3",
      "name": "python3"
    },
    "language_info": {
      "codemirror_mode": {
        "name": "ipython",
        "version": 3
      },
      "file_extension": ".py",
      "mimetype": "text/x-python",
      "name": "python",
      "nbconvert_exporter": "python",
      "pygments_lexer": "ipython3",
      "version": "3.11.4"
    }
  },
  "nbformat": 4,
  "nbformat_minor": 0
}
