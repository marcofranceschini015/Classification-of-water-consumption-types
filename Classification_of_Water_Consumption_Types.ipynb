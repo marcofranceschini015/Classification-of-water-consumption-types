{
  "cells": [
    {
      "cell_type": "markdown",
      "metadata": {
        "id": "fgiMbotYf1Ra"
      },
      "source": [
        "#Classification of Water Consumption Types\n",
        "\n",
        "[Assignment SI - Infos](https://drive.google.com/file/d/1lh5a0YxVsC-NXtsIpucTVCrfJR_8KZB4/view?usp=sharing)\n",
        "\n",
        "[Dataset Train](https://virtual.ipb.pt/access/content/group/5b961040-5442-11ee-bfc7-421e367e2b5a/Assignment/train.csv)\n",
        "\n",
        "[Dataset Competition](https://virtual.ipb.pt/access/content/group/5b961040-5442-11ee-bfc7-421e367e2b5a/Assignment/competition.csv)"
      ]
    },
    {
      "cell_type": "markdown",
      "metadata": {
        "id": "Z4j14j-phgLW"
      },
      "source": [
        "### 1) **IMPORT** and **UTILITY**"
      ]
    },
    {
      "cell_type": "markdown",
      "metadata": {
        "id": "840jQlZTDSzi"
      },
      "source": [
        "Import all usefull libraries and define some usefull functions"
      ]
    },
    {
      "cell_type": "code",
      "execution_count": 1,
      "metadata": {
        "id": "PnqhbbkVhj4d"
      },
      "outputs": [
        {
          "name": "stdout",
          "output_type": "stream",
          "text": [
            "WARNING:tensorflow:From c:\\Users\\marco\\AppData\\Local\\Programs\\Python\\Python310\\lib\\site-packages\\keras\\src\\losses.py:2976: The name tf.losses.sparse_softmax_cross_entropy is deprecated. Please use tf.compat.v1.losses.sparse_softmax_cross_entropy instead.\n",
            "\n"
          ]
        }
      ],
      "source": [
        "###########################\n",
        "# data libraries\n",
        "###########################\n",
        "import pandas as pd\n",
        "import numpy as np\n",
        "\n",
        "###########################\n",
        "# plot libraries\n",
        "###########################\n",
        "import seaborn as sns\n",
        "import matplotlib.pyplot as plt\n",
        "import matplotlib as mpl\n",
        "from matplotlib import rcParams\n",
        "\n",
        "\n",
        "###########################\n",
        "# data generation\n",
        "###########################\n",
        "from sklearn.preprocessing import OrdinalEncoder, OneHotEncoder, MinMaxScaler\n",
        "from tensorflow.keras.layers import Input, Dense, Concatenate\n",
        "from tensorflow.keras.models import Model\n",
        "from tensorflow.keras.optimizers import Adam\n"
      ]
    },
    {
      "cell_type": "markdown",
      "metadata": {
        "id": "ZfttoFFgBbCJ"
      },
      "source": [
        "### 2) **READ DATA FILES**"
      ]
    },
    {
      "cell_type": "markdown",
      "metadata": {
        "id": "fKi5uHMZDOJb"
      },
      "source": [
        "Read data file uploaded to this google colab"
      ]
    },
    {
      "cell_type": "code",
      "execution_count": 2,
      "metadata": {
        "id": "vI0jCkZs_ejm"
      },
      "outputs": [],
      "source": [
        "###########################\n",
        "# import csv in dataframe\n",
        "###########################\n",
        "\n",
        "train = pd.read_csv(\"train.csv\")\n",
        "test = pd.read_csv(\"competition.csv\")"
      ]
    },
    {
      "cell_type": "markdown",
      "metadata": {
        "id": "xaZGwsjFCJpn"
      },
      "source": [
        "### 3) **PREPROCESSING**"
      ]
    },
    {
      "cell_type": "markdown",
      "metadata": {
        "id": "uZx5x8SBH-bl"
      },
      "source": [
        "3.1) DATA VISUALIZATION\n",
        "\n",
        "     try to visualize data and some correlation/outliers or any possible issues"
      ]
    },
    {
      "cell_type": "code",
      "execution_count": null,
      "metadata": {},
      "outputs": [],
      "source": [
        "###########################\n",
        "# try to solve unbalance class\n",
        "# problem\n",
        "###########################\n",
        "unb = pd.DataFrame({'Count' : train.groupby( [\"Consumer_type\"] ).size()}).reset_index()\n",
        "# figure size in inches\n",
        "rcParams['figure.figsize'] = 11.7,8.27\n",
        "sns.barplot(data=unb, x=unb[\"Consumer_type\"], y=unb[\"Count\"])\n",
        "\n",
        "###########################\n",
        "# problem: we have too many \n",
        "# domestic class\n",
        "###########################"
      ]
    },
    {
      "cell_type": "markdown",
      "metadata": {},
      "source": [
        "3.2) GENERATE DATA\n",
        "\n",
        "generate synthetic data using a GAN network"
      ]
    },
    {
      "cell_type": "code",
      "execution_count": null,
      "metadata": {},
      "outputs": [],
      "source": [
        "###########################\n",
        "# load and divide dataframe\n",
        "###########################\n",
        "y = train[['Consumer_type']]\n",
        "X = train[['Year', 'Month', 'Consumption', 'Consumer_number', 'Installation_zone']]\n",
        "\n",
        "###########################\n",
        "# encoding, transform into\n",
        "# numbers all the categories\n",
        "###########################\n",
        "enc = OrdinalEncoder(dtype=np.int16)\n",
        "X[['Consumer_number', 'Installation_zone']]= enc.fit_transform(X[['Consumer_number', 'Installation_zone']])\n",
        "scaler = MinMaxScaler()\n",
        "X = scaler.fit_transform(X)\n",
        "\n",
        "real_data = pd.DataFrame(X, columns=['Year', 'Month', 'Consumption', 'Consumer_number', 'Installation_zone'])\n",
        "real_labels = y\n",
        "\n",
        "print(real_labels.head())\n",
        "\n",
        "# One hot encode labels\n",
        "one_hot_encoder = OneHotEncoder(sparse=False)\n",
        "one_hot_labels = one_hot_encoder.fit_transform(np.array(real_labels))"
      ]
    },
    {
      "cell_type": "code",
      "execution_count": 37,
      "metadata": {},
      "outputs": [],
      "source": [
        "# Constants\n",
        "NOISE_DIM = 100\n",
        "NUM_CLASSES = 3\n",
        "NUM_FEATURES = 4\n",
        "BATCH_SIZE = 64\n",
        "TRAINING_STEPS = 5000\n",
        "\n",
        "# Generator\n",
        "def create_generator():\n",
        "    noise_input = Input(shape=(NOISE_DIM,))\n",
        "    class_input = Input(shape=(NUM_CLASSES,))\n",
        "    merged_input = Concatenate()([noise_input, class_input])\n",
        "    hidden = Dense(128, activation='relu')(merged_input)\n",
        "    output = Dense(NUM_FEATURES, activation='linear')(hidden)\n",
        "    model = Model(inputs=[noise_input, class_input], outputs=output)\n",
        "    return model\n",
        "\n",
        "# Discriminator\n",
        "def create_discriminator():\n",
        "    data_input = Input(shape=(NUM_FEATURES,))\n",
        "    class_input = Input(shape=(NUM_CLASSES,))\n",
        "    merged_input = Concatenate()([data_input, class_input])\n",
        "    hidden = Dense(128, activation='relu')(merged_input)\n",
        "    output = Dense(1, activation='sigmoid')(hidden)\n",
        "    model = Model(inputs=[data_input, class_input], outputs=output)\n",
        "    return model\n",
        "\n",
        "# cGAN\n",
        "def create_cgan(generator, discriminator):\n",
        "    noise_input = Input(shape=(NOISE_DIM,))\n",
        "    class_input = Input(shape=(NUM_CLASSES,))\n",
        "    generated_data = generator([noise_input, class_input])\n",
        "    validity = discriminator([generated_data, class_input])\n",
        "    model = Model(inputs=[noise_input, class_input], outputs=validity)\n",
        "    return model\n",
        "\n",
        "# Generate instances for a given class\n",
        "def generate_data(generator, data_class, num_instances):\n",
        "    one_hot_class = one_hot_encoder.transform(np.array([[data_class]]))\n",
        "    noise = np.random.normal(0, 1, (num_instances, NOISE_DIM))\n",
        "    generated_data = generator.predict([noise, np.repeat(one_hot_class, num_instances, axis=0)])\n",
        "    return pd.DataFrame(generated_data, columns=['a', 'b', 'c', 'd'])"
      ]
    },
    {
      "cell_type": "code",
      "execution_count": null,
      "metadata": {},
      "outputs": [],
      "source": [
        "# Create and compile the Discriminator\n",
        "discriminator = create_discriminator()\n",
        "discriminator.compile(loss='binary_crossentropy', optimizer=Adam())\n",
        "\n",
        "# Create the Generator\n",
        "generator = create_generator()\n",
        "\n",
        "# Create the GAN\n",
        "gan = create_cgan(generator, discriminator)\n",
        "\n",
        "# Ensure that only the generator is trained\n",
        "discriminator.trainable = False\n",
        "\n",
        "gan.compile(loss='binary_crossentropy', optimizer=Adam())"
      ]
    },
    {
      "cell_type": "code",
      "execution_count": null,
      "metadata": {},
      "outputs": [],
      "source": [
        "# Train GAN\n",
        "for step in range(TRAINING_STEPS):\n",
        "    # Select a random batch of real data with labels\n",
        "    idx = np.random.randint(0, real_data.shape[0], BATCH_SIZE)\n",
        "    real_batch = real_data.iloc[idx].values\n",
        "    labels_batch = one_hot_labels[idx]\n",
        "\n",
        "    # Generate a batch of new data\n",
        "    noise = np.random.normal(0, 1, (BATCH_SIZE, NOISE_DIM))\n",
        "    generated_batch = generator.predict([noise, labels_batch])\n",
        "\n",
        "    # Train the discriminator\n",
        "    real_loss = discriminator.train_on_batch([real_batch, labels_batch], np.ones((BATCH_SIZE, 1)))\n",
        "    fake_loss = discriminator.train_on_batch([generated_batch, labels_batch], np.zeros((BATCH_SIZE, 1)))\n",
        "    discriminator_loss = 0.5 * np.add(real_loss, fake_loss)\n",
        "\n",
        "    # Train the generator\n",
        "    generator_loss = gan.train_on_batch([noise, labels_batch], np.ones((BATCH_SIZE, 1)))\n",
        "\n",
        "    if step % 500 == 0:\n",
        "        print(f\"Step: {step}, Discriminator Loss: {discriminator_loss}, Generator Loss: {generator_loss}\")"
      ]
    },
    {
      "cell_type": "markdown",
      "metadata": {
        "id": "7zO7FjXXIGKO"
      },
      "source": [
        "3.2) RANDOM FOREST\n",
        "\n",
        "     create a rf model"
      ]
    },
    {
      "cell_type": "code",
      "execution_count": 14,
      "metadata": {},
      "outputs": [],
      "source": [
        "###########################\n",
        "# transform classes into numbers\n",
        "###########################\n",
        "def categoricalToNumerical(df, cols):\n",
        "  enc = OrdinalEncoder(dtype=np.int16)\n",
        "  df[cols]= enc.fit_transform(df[cols])"
      ]
    },
    {
      "cell_type": "code",
      "execution_count": 29,
      "metadata": {},
      "outputs": [
        {
          "data": {
            "text/html": [
              "<div>\n",
              "<style scoped>\n",
              "    .dataframe tbody tr th:only-of-type {\n",
              "        vertical-align: middle;\n",
              "    }\n",
              "\n",
              "    .dataframe tbody tr th {\n",
              "        vertical-align: top;\n",
              "    }\n",
              "\n",
              "    .dataframe thead th {\n",
              "        text-align: right;\n",
              "    }\n",
              "</style>\n",
              "<table border=\"1\" class=\"dataframe\">\n",
              "  <thead>\n",
              "    <tr style=\"text-align: right;\">\n",
              "      <th></th>\n",
              "      <th>Year</th>\n",
              "      <th>Month</th>\n",
              "      <th>Consumption</th>\n",
              "      <th>Consumer_number</th>\n",
              "      <th>Installation_zone</th>\n",
              "    </tr>\n",
              "  </thead>\n",
              "  <tbody>\n",
              "    <tr>\n",
              "      <th>0</th>\n",
              "      <td>2013</td>\n",
              "      <td>1</td>\n",
              "      <td>0</td>\n",
              "      <td>7352</td>\n",
              "      <td>0</td>\n",
              "    </tr>\n",
              "    <tr>\n",
              "      <th>1</th>\n",
              "      <td>2013</td>\n",
              "      <td>1</td>\n",
              "      <td>6</td>\n",
              "      <td>12578</td>\n",
              "      <td>11</td>\n",
              "    </tr>\n",
              "    <tr>\n",
              "      <th>2</th>\n",
              "      <td>2013</td>\n",
              "      <td>1</td>\n",
              "      <td>1</td>\n",
              "      <td>9603</td>\n",
              "      <td>11</td>\n",
              "    </tr>\n",
              "    <tr>\n",
              "      <th>3</th>\n",
              "      <td>2013</td>\n",
              "      <td>1</td>\n",
              "      <td>13</td>\n",
              "      <td>4674</td>\n",
              "      <td>11</td>\n",
              "    </tr>\n",
              "    <tr>\n",
              "      <th>4</th>\n",
              "      <td>2013</td>\n",
              "      <td>1</td>\n",
              "      <td>5</td>\n",
              "      <td>423</td>\n",
              "      <td>11</td>\n",
              "    </tr>\n",
              "  </tbody>\n",
              "</table>\n",
              "</div>"
            ],
            "text/plain": [
              "   Year  Month  Consumption  Consumer_number  Installation_zone\n",
              "0  2013      1            0             7352                  0\n",
              "1  2013      1            6            12578                 11\n",
              "2  2013      1            1             9603                 11\n",
              "3  2013      1           13             4674                 11\n",
              "4  2013      1            5              423                 11"
            ]
          },
          "execution_count": 29,
          "metadata": {},
          "output_type": "execute_result"
        }
      ],
      "source": [
        "###########################\n",
        "# preparing dataset, transform classes into numbers\n",
        "# and separate test and its target\n",
        "###########################\n",
        "\n",
        "categoricalToNumerical(train, ['Consumer_type', 'Consumer_number', 'Installation_zone'])\n",
        "\n",
        "train_target = train['Consumer_type']\n",
        "train.drop(columns=['Consumer_type'],inplace=True)\n",
        "\n",
        "train.head()\n"
      ]
    },
    {
      "cell_type": "code",
      "execution_count": 30,
      "metadata": {},
      "outputs": [
        {
          "name": "stdout",
          "output_type": "stream",
          "text": [
            "Fitting 2 folds for each of 1 candidates, totalling 2 fits\n"
          ]
        },
        {
          "name": "stderr",
          "output_type": "stream",
          "text": [
            "c:\\Users\\marco\\AppData\\Local\\Programs\\Python\\Python312\\Lib\\site-packages\\sklearn\\ensemble\\_forest.py:578: UserWarning: Some inputs do not have OOB scores. This probably means too few trees were used to compute any reliable OOB estimates.\n",
            "  warn(\n"
          ]
        },
        {
          "name": "stdout",
          "output_type": "stream",
          "text": [
            "[CV 1/2] END  accuracy: (train=0.913, test=0.913) balanced_accuracy: (train=0.286, test=0.286) f1: (train=0.275, test=0.276) total time=   3.7s\n"
          ]
        },
        {
          "name": "stderr",
          "output_type": "stream",
          "text": [
            "c:\\Users\\marco\\AppData\\Local\\Programs\\Python\\Python312\\Lib\\site-packages\\sklearn\\ensemble\\_forest.py:578: UserWarning: Some inputs do not have OOB scores. This probably means too few trees were used to compute any reliable OOB estimates.\n",
            "  warn(\n"
          ]
        },
        {
          "name": "stdout",
          "output_type": "stream",
          "text": [
            "[CV 2/2] END  accuracy: (train=0.913, test=0.913) balanced_accuracy: (train=0.286, test=0.286) f1: (train=0.276, test=0.275) total time=   3.3s\n"
          ]
        },
        {
          "name": "stderr",
          "output_type": "stream",
          "text": [
            "c:\\Users\\marco\\AppData\\Local\\Programs\\Python\\Python312\\Lib\\site-packages\\sklearn\\ensemble\\_forest.py:578: UserWarning: Some inputs do not have OOB scores. This probably means too few trees were used to compute any reliable OOB estimates.\n",
            "  warn(\n"
          ]
        },
        {
          "data": {
            "text/html": [
              "<style>#sk-container-id-1 {color: black;}#sk-container-id-1 pre{padding: 0;}#sk-container-id-1 div.sk-toggleable {background-color: white;}#sk-container-id-1 label.sk-toggleable__label {cursor: pointer;display: block;width: 100%;margin-bottom: 0;padding: 0.3em;box-sizing: border-box;text-align: center;}#sk-container-id-1 label.sk-toggleable__label-arrow:before {content: \"▸\";float: left;margin-right: 0.25em;color: #696969;}#sk-container-id-1 label.sk-toggleable__label-arrow:hover:before {color: black;}#sk-container-id-1 div.sk-estimator:hover label.sk-toggleable__label-arrow:before {color: black;}#sk-container-id-1 div.sk-toggleable__content {max-height: 0;max-width: 0;overflow: hidden;text-align: left;background-color: #f0f8ff;}#sk-container-id-1 div.sk-toggleable__content pre {margin: 0.2em;color: black;border-radius: 0.25em;background-color: #f0f8ff;}#sk-container-id-1 input.sk-toggleable__control:checked~div.sk-toggleable__content {max-height: 200px;max-width: 100%;overflow: auto;}#sk-container-id-1 input.sk-toggleable__control:checked~label.sk-toggleable__label-arrow:before {content: \"▾\";}#sk-container-id-1 div.sk-estimator input.sk-toggleable__control:checked~label.sk-toggleable__label {background-color: #d4ebff;}#sk-container-id-1 div.sk-label input.sk-toggleable__control:checked~label.sk-toggleable__label {background-color: #d4ebff;}#sk-container-id-1 input.sk-hidden--visually {border: 0;clip: rect(1px 1px 1px 1px);clip: rect(1px, 1px, 1px, 1px);height: 1px;margin: -1px;overflow: hidden;padding: 0;position: absolute;width: 1px;}#sk-container-id-1 div.sk-estimator {font-family: monospace;background-color: #f0f8ff;border: 1px dotted black;border-radius: 0.25em;box-sizing: border-box;margin-bottom: 0.5em;}#sk-container-id-1 div.sk-estimator:hover {background-color: #d4ebff;}#sk-container-id-1 div.sk-parallel-item::after {content: \"\";width: 100%;border-bottom: 1px solid gray;flex-grow: 1;}#sk-container-id-1 div.sk-label:hover label.sk-toggleable__label {background-color: #d4ebff;}#sk-container-id-1 div.sk-serial::before {content: \"\";position: absolute;border-left: 1px solid gray;box-sizing: border-box;top: 0;bottom: 0;left: 50%;z-index: 0;}#sk-container-id-1 div.sk-serial {display: flex;flex-direction: column;align-items: center;background-color: white;padding-right: 0.2em;padding-left: 0.2em;position: relative;}#sk-container-id-1 div.sk-item {position: relative;z-index: 1;}#sk-container-id-1 div.sk-parallel {display: flex;align-items: stretch;justify-content: center;background-color: white;position: relative;}#sk-container-id-1 div.sk-item::before, #sk-container-id-1 div.sk-parallel-item::before {content: \"\";position: absolute;border-left: 1px solid gray;box-sizing: border-box;top: 0;bottom: 0;left: 50%;z-index: -1;}#sk-container-id-1 div.sk-parallel-item {display: flex;flex-direction: column;z-index: 1;position: relative;background-color: white;}#sk-container-id-1 div.sk-parallel-item:first-child::after {align-self: flex-end;width: 50%;}#sk-container-id-1 div.sk-parallel-item:last-child::after {align-self: flex-start;width: 50%;}#sk-container-id-1 div.sk-parallel-item:only-child::after {width: 0;}#sk-container-id-1 div.sk-dashed-wrapped {border: 1px dashed gray;margin: 0 0.4em 0.5em 0.4em;box-sizing: border-box;padding-bottom: 0.4em;background-color: white;}#sk-container-id-1 div.sk-label label {font-family: monospace;font-weight: bold;display: inline-block;line-height: 1.2em;}#sk-container-id-1 div.sk-label-container {text-align: center;}#sk-container-id-1 div.sk-container {/* jupyter's `normalize.less` sets `[hidden] { display: none; }` but bootstrap.min.css set `[hidden] { display: none !important; }` so we also need the `!important` here to be able to override the default hidden behavior on the sphinx rendered scikit-learn.org. See: https://github.com/scikit-learn/scikit-learn/issues/21755 */display: inline-block !important;position: relative;}#sk-container-id-1 div.sk-text-repr-fallback {display: none;}</style><div id=\"sk-container-id-1\" class=\"sk-top-container\"><div class=\"sk-text-repr-fallback\"><pre>GridSearchCV(cv=StratifiedKFold(n_splits=2, random_state=None, shuffle=False),\n",
              "             estimator=RandomForestClassifier(ccp_alpha=0.01, max_depth=10,\n",
              "                                              max_features=None,\n",
              "                                              n_estimators=20, n_jobs=-1,\n",
              "                                              oob_score=True, random_state=42),\n",
              "             param_grid={}, refit=&#x27;balanced_accuracy&#x27;, return_train_score=True,\n",
              "             scoring={&#x27;accuracy&#x27;: &#x27;accuracy&#x27;,\n",
              "                      &#x27;balanced_accuracy&#x27;: &#x27;balanced_accuracy&#x27;,\n",
              "                      &#x27;f1&#x27;: &#x27;f1_macro&#x27;},\n",
              "             verbose=3)</pre><b>In a Jupyter environment, please rerun this cell to show the HTML representation or trust the notebook. <br />On GitHub, the HTML representation is unable to render, please try loading this page with nbviewer.org.</b></div><div class=\"sk-container\" hidden><div class=\"sk-item sk-dashed-wrapped\"><div class=\"sk-label-container\"><div class=\"sk-label sk-toggleable\"><input class=\"sk-toggleable__control sk-hidden--visually\" id=\"sk-estimator-id-1\" type=\"checkbox\" ><label for=\"sk-estimator-id-1\" class=\"sk-toggleable__label sk-toggleable__label-arrow\">GridSearchCV</label><div class=\"sk-toggleable__content\"><pre>GridSearchCV(cv=StratifiedKFold(n_splits=2, random_state=None, shuffle=False),\n",
              "             estimator=RandomForestClassifier(ccp_alpha=0.01, max_depth=10,\n",
              "                                              max_features=None,\n",
              "                                              n_estimators=20, n_jobs=-1,\n",
              "                                              oob_score=True, random_state=42),\n",
              "             param_grid={}, refit=&#x27;balanced_accuracy&#x27;, return_train_score=True,\n",
              "             scoring={&#x27;accuracy&#x27;: &#x27;accuracy&#x27;,\n",
              "                      &#x27;balanced_accuracy&#x27;: &#x27;balanced_accuracy&#x27;,\n",
              "                      &#x27;f1&#x27;: &#x27;f1_macro&#x27;},\n",
              "             verbose=3)</pre></div></div></div><div class=\"sk-parallel\"><div class=\"sk-parallel-item\"><div class=\"sk-item\"><div class=\"sk-label-container\"><div class=\"sk-label sk-toggleable\"><input class=\"sk-toggleable__control sk-hidden--visually\" id=\"sk-estimator-id-2\" type=\"checkbox\" ><label for=\"sk-estimator-id-2\" class=\"sk-toggleable__label sk-toggleable__label-arrow\">estimator: RandomForestClassifier</label><div class=\"sk-toggleable__content\"><pre>RandomForestClassifier(ccp_alpha=0.01, max_depth=10, max_features=None,\n",
              "                       n_estimators=20, n_jobs=-1, oob_score=True,\n",
              "                       random_state=42)</pre></div></div></div><div class=\"sk-serial\"><div class=\"sk-item\"><div class=\"sk-estimator sk-toggleable\"><input class=\"sk-toggleable__control sk-hidden--visually\" id=\"sk-estimator-id-3\" type=\"checkbox\" ><label for=\"sk-estimator-id-3\" class=\"sk-toggleable__label sk-toggleable__label-arrow\">RandomForestClassifier</label><div class=\"sk-toggleable__content\"><pre>RandomForestClassifier(ccp_alpha=0.01, max_depth=10, max_features=None,\n",
              "                       n_estimators=20, n_jobs=-1, oob_score=True,\n",
              "                       random_state=42)</pre></div></div></div></div></div></div></div></div></div></div>"
            ],
            "text/plain": [
              "GridSearchCV(cv=StratifiedKFold(n_splits=2, random_state=None, shuffle=False),\n",
              "             estimator=RandomForestClassifier(ccp_alpha=0.01, max_depth=10,\n",
              "                                              max_features=None,\n",
              "                                              n_estimators=20, n_jobs=-1,\n",
              "                                              oob_score=True, random_state=42),\n",
              "             param_grid={}, refit='balanced_accuracy', return_train_score=True,\n",
              "             scoring={'accuracy': 'accuracy',\n",
              "                      'balanced_accuracy': 'balanced_accuracy',\n",
              "                      'f1': 'f1_macro'},\n",
              "             verbose=3)"
            ]
          },
          "execution_count": 30,
          "metadata": {},
          "output_type": "execute_result"
        }
      ],
      "source": [
        "### Import and Function\n",
        "from sklearn.ensemble import RandomForestClassifier\n",
        "from sklearn.metrics import accuracy_score\n",
        "import time\n",
        "from sklearn.model_selection import (\n",
        "    GridSearchCV,\n",
        "    StratifiedKFold,\n",
        "    cross_val_score,\n",
        "    train_test_split,\n",
        ")\n",
        "\n",
        "rfc = RandomForestClassifier(\n",
        "    ccp_alpha=0.01,\n",
        "    n_jobs=-1,\n",
        "    n_estimators=20,\n",
        "    max_depth=10,\n",
        "    random_state=42,\n",
        "    oob_score=True,\n",
        "    max_features=None,\n",
        "    bootstrap=True,\n",
        ")\n",
        "\n",
        "# Create the parameter grids\n",
        "parameter_grid = {\n",
        "    #\"n_estimators\": [10, 25, 50],\n",
        "    #\"max_depth\": [10, 30, None],\n",
        "    # \"max_features\": [\"sqrt\", \"log2\", None],\n",
        "    #\"criterion\": [\"gini\", \"entropy\", \"log_loss\"]\n",
        "    # \"oob_score\": [True, False]\n",
        "    #'random_state': [0, 10],\n",
        "    #'min_samples_leaf':[1, 4, 8],\n",
        "    #'min_samples_split': [2, 6, 10],\n",
        "}\n",
        "\n",
        "# Create Stratified folds\n",
        "cross_validation = StratifiedKFold(n_splits=2)\n",
        "cross_validation.get_n_splits(train, train_target)\n",
        "\n",
        "# Create the scoring dictionary\n",
        "SCORING = {\n",
        "    \"accuracy\": \"accuracy\",\n",
        "    \"balanced_accuracy\": \"balanced_accuracy\",\n",
        "    \"f1\": \"f1_macro\",\n",
        "}\n",
        "\n",
        "# Create and fit the GridSearchCV\n",
        "grid_search = GridSearchCV(\n",
        "    estimator=rfc,\n",
        "    param_grid=parameter_grid,\n",
        "    cv=cross_validation,\n",
        "    verbose=3,\n",
        "    scoring=SCORING,\n",
        "    return_train_score=True,\n",
        "    refit=\"balanced_accuracy\",\n",
        ")\n",
        "\n",
        "grid_search.fit(train, train_target)"
      ]
    },
    {
      "cell_type": "code",
      "execution_count": 31,
      "metadata": {},
      "outputs": [
        {
          "name": "stdout",
          "output_type": "stream",
          "text": [
            "Best score: 0.2855806218581516\n",
            "Best parameters: {}\n"
          ]
        },
        {
          "data": {
            "text/html": [
              "<style>#sk-container-id-2 {color: black;}#sk-container-id-2 pre{padding: 0;}#sk-container-id-2 div.sk-toggleable {background-color: white;}#sk-container-id-2 label.sk-toggleable__label {cursor: pointer;display: block;width: 100%;margin-bottom: 0;padding: 0.3em;box-sizing: border-box;text-align: center;}#sk-container-id-2 label.sk-toggleable__label-arrow:before {content: \"▸\";float: left;margin-right: 0.25em;color: #696969;}#sk-container-id-2 label.sk-toggleable__label-arrow:hover:before {color: black;}#sk-container-id-2 div.sk-estimator:hover label.sk-toggleable__label-arrow:before {color: black;}#sk-container-id-2 div.sk-toggleable__content {max-height: 0;max-width: 0;overflow: hidden;text-align: left;background-color: #f0f8ff;}#sk-container-id-2 div.sk-toggleable__content pre {margin: 0.2em;color: black;border-radius: 0.25em;background-color: #f0f8ff;}#sk-container-id-2 input.sk-toggleable__control:checked~div.sk-toggleable__content {max-height: 200px;max-width: 100%;overflow: auto;}#sk-container-id-2 input.sk-toggleable__control:checked~label.sk-toggleable__label-arrow:before {content: \"▾\";}#sk-container-id-2 div.sk-estimator input.sk-toggleable__control:checked~label.sk-toggleable__label {background-color: #d4ebff;}#sk-container-id-2 div.sk-label input.sk-toggleable__control:checked~label.sk-toggleable__label {background-color: #d4ebff;}#sk-container-id-2 input.sk-hidden--visually {border: 0;clip: rect(1px 1px 1px 1px);clip: rect(1px, 1px, 1px, 1px);height: 1px;margin: -1px;overflow: hidden;padding: 0;position: absolute;width: 1px;}#sk-container-id-2 div.sk-estimator {font-family: monospace;background-color: #f0f8ff;border: 1px dotted black;border-radius: 0.25em;box-sizing: border-box;margin-bottom: 0.5em;}#sk-container-id-2 div.sk-estimator:hover {background-color: #d4ebff;}#sk-container-id-2 div.sk-parallel-item::after {content: \"\";width: 100%;border-bottom: 1px solid gray;flex-grow: 1;}#sk-container-id-2 div.sk-label:hover label.sk-toggleable__label {background-color: #d4ebff;}#sk-container-id-2 div.sk-serial::before {content: \"\";position: absolute;border-left: 1px solid gray;box-sizing: border-box;top: 0;bottom: 0;left: 50%;z-index: 0;}#sk-container-id-2 div.sk-serial {display: flex;flex-direction: column;align-items: center;background-color: white;padding-right: 0.2em;padding-left: 0.2em;position: relative;}#sk-container-id-2 div.sk-item {position: relative;z-index: 1;}#sk-container-id-2 div.sk-parallel {display: flex;align-items: stretch;justify-content: center;background-color: white;position: relative;}#sk-container-id-2 div.sk-item::before, #sk-container-id-2 div.sk-parallel-item::before {content: \"\";position: absolute;border-left: 1px solid gray;box-sizing: border-box;top: 0;bottom: 0;left: 50%;z-index: -1;}#sk-container-id-2 div.sk-parallel-item {display: flex;flex-direction: column;z-index: 1;position: relative;background-color: white;}#sk-container-id-2 div.sk-parallel-item:first-child::after {align-self: flex-end;width: 50%;}#sk-container-id-2 div.sk-parallel-item:last-child::after {align-self: flex-start;width: 50%;}#sk-container-id-2 div.sk-parallel-item:only-child::after {width: 0;}#sk-container-id-2 div.sk-dashed-wrapped {border: 1px dashed gray;margin: 0 0.4em 0.5em 0.4em;box-sizing: border-box;padding-bottom: 0.4em;background-color: white;}#sk-container-id-2 div.sk-label label {font-family: monospace;font-weight: bold;display: inline-block;line-height: 1.2em;}#sk-container-id-2 div.sk-label-container {text-align: center;}#sk-container-id-2 div.sk-container {/* jupyter's `normalize.less` sets `[hidden] { display: none; }` but bootstrap.min.css set `[hidden] { display: none !important; }` so we also need the `!important` here to be able to override the default hidden behavior on the sphinx rendered scikit-learn.org. See: https://github.com/scikit-learn/scikit-learn/issues/21755 */display: inline-block !important;position: relative;}#sk-container-id-2 div.sk-text-repr-fallback {display: none;}</style><div id=\"sk-container-id-2\" class=\"sk-top-container\"><div class=\"sk-text-repr-fallback\"><pre>RandomForestClassifier(ccp_alpha=0.01, max_depth=10, max_features=None,\n",
              "                       n_estimators=20, n_jobs=-1, oob_score=True,\n",
              "                       random_state=42)</pre><b>In a Jupyter environment, please rerun this cell to show the HTML representation or trust the notebook. <br />On GitHub, the HTML representation is unable to render, please try loading this page with nbviewer.org.</b></div><div class=\"sk-container\" hidden><div class=\"sk-item\"><div class=\"sk-estimator sk-toggleable\"><input class=\"sk-toggleable__control sk-hidden--visually\" id=\"sk-estimator-id-4\" type=\"checkbox\" checked><label for=\"sk-estimator-id-4\" class=\"sk-toggleable__label sk-toggleable__label-arrow\">RandomForestClassifier</label><div class=\"sk-toggleable__content\"><pre>RandomForestClassifier(ccp_alpha=0.01, max_depth=10, max_features=None,\n",
              "                       n_estimators=20, n_jobs=-1, oob_score=True,\n",
              "                       random_state=42)</pre></div></div></div></div></div>"
            ],
            "text/plain": [
              "RandomForestClassifier(ccp_alpha=0.01, max_depth=10, max_features=None,\n",
              "                       n_estimators=20, n_jobs=-1, oob_score=True,\n",
              "                       random_state=42)"
            ]
          },
          "execution_count": 31,
          "metadata": {},
          "output_type": "execute_result"
        }
      ],
      "source": [
        "print(\"Best score: {}\".format(grid_search.best_score_))\n",
        "print(\"Best parameters: {}\".format(grid_search.best_params_))\n",
        "\n",
        "best_dtc = grid_search.best_estimator_\n",
        "best_dtc"
      ]
    },
    {
      "cell_type": "code",
      "execution_count": null,
      "metadata": {},
      "outputs": [],
      "source": [
        "my_model = best_dtc\n",
        "my_model.fit(train, train_target)\n",
        "my_model.score(train, train_target)"
      ]
    }
  ],
  "metadata": {
    "colab": {
      "provenance": []
    },
    "kernelspec": {
      "display_name": "Python 3",
      "name": "python3"
    },
    "language_info": {
      "codemirror_mode": {
        "name": "ipython",
        "version": 3
      },
      "file_extension": ".py",
      "mimetype": "text/x-python",
      "name": "python",
      "nbconvert_exporter": "python",
      "pygments_lexer": "ipython3",
      "version": "3.10.0"
    }
  },
  "nbformat": 4,
  "nbformat_minor": 0
}
