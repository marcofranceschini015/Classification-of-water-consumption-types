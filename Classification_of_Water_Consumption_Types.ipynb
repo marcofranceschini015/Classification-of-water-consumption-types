{
  "cells": [
    {
      "cell_type": "markdown",
      "metadata": {
        "id": "fgiMbotYf1Ra"
      },
      "source": [
        "#Classification of Water Consumption Types\n",
        "\n",
        "[Assignment SI - Infos](https://drive.google.com/file/d/1lh5a0YxVsC-NXtsIpucTVCrfJR_8KZB4/view?usp=sharing)\n",
        "\n",
        "[Dataset Train](https://virtual.ipb.pt/access/content/group/5b961040-5442-11ee-bfc7-421e367e2b5a/Assignment/train.csv)\n",
        "\n",
        "[Dataset Competition](https://virtual.ipb.pt/access/content/group/5b961040-5442-11ee-bfc7-421e367e2b5a/Assignment/competition.csv)"
      ]
    },
    {
      "cell_type": "markdown",
      "metadata": {
        "id": "Z4j14j-phgLW"
      },
      "source": [
        "### 1) **IMPORT** and **UTILITY**"
      ]
    },
    {
      "cell_type": "markdown",
      "metadata": {
        "id": "840jQlZTDSzi"
      },
      "source": [
        "Import all usefull libraries and define some usefull functions"
      ]
    },
    {
      "cell_type": "code",
      "execution_count": 1,
      "metadata": {
        "id": "PnqhbbkVhj4d"
      },
      "outputs": [],
      "source": [
        "###########################\n",
        "# data libraries\n",
        "###########################\n",
        "import pandas as pd\n",
        "import numpy as np\n",
        "\n",
        "###########################\n",
        "# plot libraries\n",
        "###########################\n",
        "import seaborn as sns\n",
        "import matplotlib.pyplot as plt\n",
        "import matplotlib as mpl\n",
        "\n",
        "from sklearn.preprocessing import OrdinalEncoder, StandardScaler\n"
      ]
    },
    {
      "cell_type": "markdown",
      "metadata": {
        "id": "ZfttoFFgBbCJ"
      },
      "source": [
        "### 2) **READ DATA FILES**"
      ]
    },
    {
      "cell_type": "markdown",
      "metadata": {
        "id": "fKi5uHMZDOJb"
      },
      "source": [
        "Read data file uploaded to this google colab"
      ]
    },
    {
      "cell_type": "code",
      "execution_count": 76,
      "metadata": {
        "id": "vI0jCkZs_ejm"
      },
      "outputs": [
        {
          "data": {
            "text/plain": [
              "array(['domestic', 'industrial', 'rural commercial', 'construction',\n",
              "       'low income families', 'rural domestic', 'rural expansion'],\n",
              "      dtype=object)"
            ]
          },
          "execution_count": 76,
          "metadata": {},
          "output_type": "execute_result"
        }
      ],
      "source": [
        "###########################\n",
        "# import csv in dataframe\n",
        "###########################\n",
        "\n",
        "train = pd.read_csv(\"train.csv\")\n",
        "test = pd.read_csv(\"competition.csv\")\n",
        "\n",
        "train.Consumer_type.unique()"
      ]
    },
    {
      "cell_type": "markdown",
      "metadata": {
        "id": "xaZGwsjFCJpn"
      },
      "source": [
        "### 3) **PREPROCESSING**"
      ]
    },
    {
      "cell_type": "markdown",
      "metadata": {
        "id": "uZx5x8SBH-bl"
      },
      "source": [
        "3.1) DATA VISUALIZATION\n",
        "\n",
        "     try to visualize data and some correlation/outliers or any possible issues"
      ]
    },
    {
      "cell_type": "code",
      "execution_count": null,
      "metadata": {},
      "outputs": [],
      "source": [
        "###########################\n",
        "# try to solve unbalance class\n",
        "# problem\n",
        "###########################\n",
        "unb = train.groupby('Consumer_type')['Consumer_type'].count()\n",
        "sns.barplot(data=unb, x=unb.index, y=unb.values)\n",
        "\n",
        "###########################\n",
        "# problem: we have too many \n",
        "# domestic class\n",
        "###########################"
      ]
    },
    {
      "cell_type": "code",
      "execution_count": 85,
      "metadata": {},
      "outputs": [
        {
          "data": {
            "text/plain": [
              "174193"
            ]
          },
          "execution_count": 85,
          "metadata": {},
          "output_type": "execute_result"
        }
      ],
      "source": [
        "tresh_def = train[train['Consumer_type'] == 'domestic']['Consumption']\n",
        "tresh_def_zero = tresh_def[tresh_def.values == 0]\n",
        "tresh_def_zero.count()\n",
        "\n",
        "#### 38516 are 0 values of water consumption\n",
        "\n",
        "tresh_def = tresh_def[tresh_def.values < 10]\n",
        "tresh_def.count()\n",
        "\n",
        "#### let's define a treshold --> try with 10"
      ]
    },
    {
      "cell_type": "code",
      "execution_count": 90,
      "metadata": {},
      "outputs": [
        {
          "data": {
            "text/plain": [
              "<Axes: xlabel='Consumer_type'>"
            ]
          },
          "execution_count": 90,
          "metadata": {},
          "output_type": "execute_result"
        },
        {
          "data": {
            "image/png": "[encoded data removed]",
            "text/plain": [
              "<Figure size 640x480 with 1 Axes>"
            ]
          },
          "metadata": {},
          "output_type": "display_data"
        }
      ],
      "source": [
        "pp_train = train[train['Consumption'] >= 0]\n",
        "\n",
        "#### see after the treshold definition\n",
        "\n",
        "unb = pp_train.groupby('Consumer_type')['Consumer_type'].count()\n",
        "sns.barplot(data=unb, x=unb.index, y=unb.values)"
      ]
    },
    {
      "cell_type": "markdown",
      "metadata": {
        "id": "7zO7FjXXIGKO"
      },
      "source": [
        "3.2) RANDOM FOREST\n",
        "\n",
        "     create a rf model"
      ]
    },
    {
      "cell_type": "code",
      "execution_count": 3,
      "metadata": {},
      "outputs": [],
      "source": [
        "###########################\n",
        "# transform classes into numbers\n",
        "###########################\n",
        "def categoricalToNumerical(df, cols):\n",
        "  enc = OrdinalEncoder(dtype=np.int16)\n",
        "  df[cols]= enc.fit_transform(df[cols])"
      ]
    },
    {
      "cell_type": "code",
      "execution_count": null,
      "metadata": {},
      "outputs": [],
      "source": [
        "###########################\n",
        "# preparing dataset, transform classes into numbers\n",
        "# and separate test and its target\n",
        "###########################\n",
        "\n",
        "categoricalToNumerical(train, ['Consumer_type', 'Consumer_number', 'Installation_zone'])\n",
        "\n",
        "train_target = train['Consumer_type']\n",
        "train.drop(columns=['Consumer_type'],inplace=True)\n",
        "\n",
        "train.head()\n"
      ]
    },
    {
      "cell_type": "code",
      "execution_count": null,
      "metadata": {},
      "outputs": [],
      "source": [
        "### Import and Function\n",
        "from sklearn.ensemble import RandomForestClassifier\n",
        "from sklearn.metrics import accuracy_score\n",
        "import time\n",
        "from sklearn.model_selection import (\n",
        "    GridSearchCV,\n",
        "    StratifiedKFold,\n",
        "    cross_val_score,\n",
        "    train_test_split,\n",
        ")\n",
        "\n",
        "rfc = RandomForestClassifier(\n",
        "    ccp_alpha=0.01,\n",
        "    n_jobs=-1,\n",
        "    n_estimators=20,\n",
        "    max_depth=10,\n",
        "    random_state=42,\n",
        "    oob_score=True,\n",
        "    max_features=None,\n",
        "    bootstrap=True,\n",
        ")\n",
        "\n",
        "# Create the parameter grids\n",
        "parameter_grid = {\n",
        "    #\"n_estimators\": [10, 25, 50],\n",
        "    #\"max_depth\": [10, 30, None],\n",
        "    # \"max_features\": [\"sqrt\", \"log2\", None],\n",
        "    #\"criterion\": [\"gini\", \"entropy\", \"log_loss\"]\n",
        "    # \"oob_score\": [True, False]\n",
        "    #'random_state': [0, 10],\n",
        "    #'min_samples_leaf':[1, 4, 8],\n",
        "    #'min_samples_split': [2, 6, 10],\n",
        "}\n",
        "\n",
        "# Create Stratified folds\n",
        "cross_validation = StratifiedKFold(n_splits=2)\n",
        "cross_validation.get_n_splits(train, train_target)\n",
        "\n",
        "# Create the scoring dictionary\n",
        "SCORING = {\n",
        "    \"accuracy\": \"accuracy\",\n",
        "    \"balanced_accuracy\": \"balanced_accuracy\",\n",
        "    \"f1\": \"f1_macro\",\n",
        "}\n",
        "\n",
        "# Create and fit the GridSearchCV\n",
        "grid_search = GridSearchCV(\n",
        "    estimator=rfc,\n",
        "    param_grid=parameter_grid,\n",
        "    cv=cross_validation,\n",
        "    verbose=3,\n",
        "    scoring=SCORING,\n",
        "    return_train_score=True,\n",
        "    refit=\"balanced_accuracy\",\n",
        ")\n",
        "\n",
        "grid_search.fit(train, train_target)"
      ]
    },
    {
      "cell_type": "code",
      "execution_count": null,
      "metadata": {},
      "outputs": [],
      "source": [
        "print(\"Best score: {}\".format(grid_search.best_score_))\n",
        "print(\"Best parameters: {}\".format(grid_search.best_params_))\n",
        "\n",
        "best_dtc = grid_search.best_estimator_\n",
        "best_dtc"
      ]
    },
    {
      "cell_type": "code",
      "execution_count": null,
      "metadata": {},
      "outputs": [],
      "source": [
        "my_model = best_dtc\n",
        "my_model.fit(train, train_target)\n",
        "my_model.score(train, train_target)"
      ]
    }
  ],
  "metadata": {
    "colab": {
      "provenance": []
    },
    "kernelspec": {
      "display_name": "Python 3",
      "name": "python3"
    },
    "language_info": {
      "codemirror_mode": {
        "name": "ipython",
        "version": 3
      },
      "file_extension": ".py",
      "mimetype": "text/x-python",
      "name": "python",
      "nbconvert_exporter": "python",
      "pygments_lexer": "ipython3",
      "version": "3.8.10"
    }
  },
  "nbformat": 4,
  "nbformat_minor": 0
}
