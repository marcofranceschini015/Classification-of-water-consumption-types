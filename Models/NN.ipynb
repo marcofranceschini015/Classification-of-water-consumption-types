{
  "cells": [
    {
      "cell_type": "markdown",
      "metadata": {
        "id": "fgiMbotYf1Ra"
      },
      "source": [
        "#Classification of Water Consumption Types\n",
        "\n",
        "[Assignment SI - Infos](https://drive.google.com/file/d/1lh5a0YxVsC-NXtsIpucTVCrfJR_8KZB4/view?usp=sharing)\n",
        "\n",
        "[Dataset Train](https://virtual.ipb.pt/access/content/group/5b961040-5442-11ee-bfc7-421e367e2b5a/Assignment/train.csv)\n",
        "\n",
        "[Dataset Competition](https://virtual.ipb.pt/access/content/group/5b961040-5442-11ee-bfc7-421e367e2b5a/Assignment/competition.csv)"
      ]
    },
    {
      "cell_type": "markdown",
      "metadata": {
        "id": "Z4j14j-phgLW"
      },
      "source": [
        "### 1) **IMPORT** and **UTILITY**"
      ]
    },
    {
      "cell_type": "markdown",
      "metadata": {
        "id": "840jQlZTDSzi"
      },
      "source": [
        "Import all usefull libraries and define some usefull functions"
      ]
    },
    {
      "cell_type": "code",
      "execution_count": 1,
      "metadata": {
        "id": "PnqhbbkVhj4d"
      },
      "outputs": [
        {
          "name": "stdout",
          "output_type": "stream",
          "text": [
            "Torch Version:  2.1.1+cpu\n",
            "Cuda is available:  <function is_available at 0x00000179FD780A40>\n"
          ]
        }
      ],
      "source": [
        "###########################\n",
        "# data libraries\n",
        "###########################\n",
        "import pandas as pd\n",
        "import numpy as np\n",
        "\n",
        "###########################\n",
        "# plot libraries\n",
        "###########################\n",
        "import seaborn as sns\n",
        "import matplotlib.pyplot as plt\n",
        "import matplotlib as mpl\n",
        "\n",
        "###########################\n",
        "# Learn Libraries\n",
        "###########################\n",
        "from sklearn.model_selection import train_test_split\n",
        "from sklearn.metrics import accuracy_score\n",
        "from sklearn.metrics import confusion_matrix\n",
        "from sklearn.preprocessing import LabelEncoder\n",
        "from sklearn.preprocessing import MinMaxScaler\n",
        "from sklearn.preprocessing import StandardScaler\n",
        "\n",
        "###########################\n",
        "# Neural Networks Libraries\n",
        "###########################\n",
        "import torch\n",
        "import torch.nn as nn\n",
        "import torch.nn.functional as F\n",
        "\n",
        "###########################\n",
        "# Another Libraries\n",
        "###########################\n",
        "import string\n",
        "import random\n",
        "\n",
        "print(\"Torch Version: \", torch.__version__)\n",
        "print(\"Cuda is available: \", torch.cuda.is_available)"
      ]
    },
    {
      "cell_type": "markdown",
      "metadata": {
        "id": "ZfttoFFgBbCJ"
      },
      "source": [
        "### 2) **READ DATA FILES**"
      ]
    },
    {
      "cell_type": "code",
      "execution_count": 2,
      "metadata": {
        "colab": {
          "base_uri": "https://localhost:8080/"
        },
        "id": "aOGFS_FDjIca",
        "outputId": "89c1481c-b055-450a-f8b4-bf833c9f4ade"
      },
      "outputs": [
        {
          "name": "stdout",
          "output_type": "stream",
          "text": [
            "   Year  Month Consumer_type  Consumption     Consumer_number  \\\n",
            "0  2016      5  construction            0  HXTW27159220813061   \n",
            "1  2017      4  construction            0  KACY51026398172973   \n",
            "2  2019      5  construction           35  DBRZ37213883240498   \n",
            "3  2020      6  construction           68  NSNL75855216706785   \n",
            "4  2017      4  construction            0  OCOJ78634676240808   \n",
            "\n",
            "      Installation_zone  \n",
            "0  Installation_zone 31  \n",
            "1  Installation_zone 39  \n",
            "2  Installation_zone 33  \n",
            "3  Installation_zone 46  \n",
            "4  Installation_zone 43  \n"
          ]
        }
      ],
      "source": [
        "###########################\n",
        "# import csv in dataframe\n",
        "###########################\n",
        "dataframe1 = pd.read_csv(\"train_without_outliers.csv\")\n",
        "dataframe2 = pd.read_csv(\"teste.csv\")\n",
        "print(dataframe2.head())\n",
        "dataframe2 = dataframe2[dataframe2['Consumer_type'] != 7].reset_index(drop=True)\n",
        "train = pd.concat([dataframe1, dataframe2], axis=0)\n",
        "test = pd.read_csv(\"competition.csv\")"
      ]
    },
    {
      "cell_type": "markdown",
      "metadata": {
        "id": "xaZGwsjFCJpn"
      },
      "source": [
        "### 3) **PREPROCESSING**"
      ]
    },
    {
      "cell_type": "markdown",
      "metadata": {
        "id": "uZx5x8SBH-bl"
      },
      "source": [
        "3.1) DATA VISUALIZATION\n",
        "\n",
        "     try to visualize data and some correlation/outliers or any possible issues"
      ]
    },
    {
      "cell_type": "code",
      "execution_count": 3,
      "metadata": {
        "colab": {
          "base_uri": "https://localhost:8080/",
          "height": 695
        },
        "id": "QxCtMFKjCPVv",
        "outputId": "c03ae6b0-37a3-4b34-de2e-197bb08d4879"
      },
      "outputs": [
        {
          "name": "stdout",
          "output_type": "stream",
          "text": [
            "<class 'pandas.core.frame.DataFrame'>\n",
            "Index: 1417467 entries, 0 to 1145999\n",
            "Data columns (total 6 columns):\n",
            " #   Column             Non-Null Count    Dtype \n",
            "---  ------             --------------    ----- \n",
            " 0   Year               1417467 non-null  int64 \n",
            " 1   Month              1417467 non-null  int64 \n",
            " 2   Consumer_type      1417467 non-null  object\n",
            " 3   Consumption        1417467 non-null  int64 \n",
            " 4   Consumer_number    1417467 non-null  object\n",
            " 5   Installation_zone  1417467 non-null  object\n",
            "dtypes: int64(3), object(3)\n",
            "memory usage: 75.7+ MB\n"
          ]
        }
      ],
      "source": [
        "###########################\n",
        "# see main data features\n",
        "###########################\n",
        "train.info()\n"
      ]
    },
    {
      "cell_type": "code",
      "execution_count": 4,
      "metadata": {},
      "outputs": [
        {
          "data": {
            "text/plain": [
              "array(['domestic', 'industrial', 'rural commercial',\n",
              "       'low income families', 'construction', 'rural domestic',\n",
              "       'rural expansion'], dtype=object)"
            ]
          },
          "execution_count": 4,
          "metadata": {},
          "output_type": "execute_result"
        }
      ],
      "source": [
        "\n",
        "train.head()\n",
        "train[\"Consumer_type\"].unique()"
      ]
    },
    {
      "cell_type": "markdown",
      "metadata": {},
      "source": [
        "Test infos"
      ]
    },
    {
      "cell_type": "code",
      "execution_count": 5,
      "metadata": {},
      "outputs": [
        {
          "name": "stdout",
          "output_type": "stream",
          "text": [
            "<class 'pandas.core.frame.DataFrame'>\n",
            "RangeIndex: 18279 entries, 0 to 18278\n",
            "Data columns (total 5 columns):\n",
            " #   Column             Non-Null Count  Dtype \n",
            "---  ------             --------------  ----- \n",
            " 0   Year               18279 non-null  int64 \n",
            " 1   Month              18279 non-null  int64 \n",
            " 2   Consumption        18279 non-null  int64 \n",
            " 3   Consumer_number    18279 non-null  object\n",
            " 4   Installation_zone  18279 non-null  object\n",
            "dtypes: int64(3), object(2)\n",
            "memory usage: 714.2+ KB\n"
          ]
        },
        {
          "data": {
            "text/html": [
              "<div>\n",
              "<style scoped>\n",
              "    .dataframe tbody tr th:only-of-type {\n",
              "        vertical-align: middle;\n",
              "    }\n",
              "\n",
              "    .dataframe tbody tr th {\n",
              "        vertical-align: top;\n",
              "    }\n",
              "\n",
              "    .dataframe thead th {\n",
              "        text-align: right;\n",
              "    }\n",
              "</style>\n",
              "<table border=\"1\" class=\"dataframe\">\n",
              "  <thead>\n",
              "    <tr style=\"text-align: right;\">\n",
              "      <th></th>\n",
              "      <th>Year</th>\n",
              "      <th>Month</th>\n",
              "      <th>Consumption</th>\n",
              "      <th>Consumer_number</th>\n",
              "      <th>Installation_zone</th>\n",
              "    </tr>\n",
              "  </thead>\n",
              "  <tbody>\n",
              "    <tr>\n",
              "      <th>0</th>\n",
              "      <td>2013</td>\n",
              "      <td>1</td>\n",
              "      <td>1</td>\n",
              "      <td>VENX08444954462680</td>\n",
              "      <td>Installation_zone 1</td>\n",
              "    </tr>\n",
              "    <tr>\n",
              "      <th>1</th>\n",
              "      <td>2013</td>\n",
              "      <td>1</td>\n",
              "      <td>2</td>\n",
              "      <td>GRXC33020746550125</td>\n",
              "      <td>Installation_zone 1</td>\n",
              "    </tr>\n",
              "    <tr>\n",
              "      <th>2</th>\n",
              "      <td>2013</td>\n",
              "      <td>1</td>\n",
              "      <td>1</td>\n",
              "      <td>FCGQ19814303536339</td>\n",
              "      <td>Installation_zone 1</td>\n",
              "    </tr>\n",
              "    <tr>\n",
              "      <th>3</th>\n",
              "      <td>2013</td>\n",
              "      <td>1</td>\n",
              "      <td>5</td>\n",
              "      <td>EQKL85694875580467</td>\n",
              "      <td>Installation_zone 3</td>\n",
              "    </tr>\n",
              "    <tr>\n",
              "      <th>4</th>\n",
              "      <td>2013</td>\n",
              "      <td>1</td>\n",
              "      <td>14</td>\n",
              "      <td>KCXW91343862250032</td>\n",
              "      <td>Installation_zone 3</td>\n",
              "    </tr>\n",
              "  </tbody>\n",
              "</table>\n",
              "</div>"
            ],
            "text/plain": [
              "   Year  Month  Consumption     Consumer_number    Installation_zone\n",
              "0  2013      1            1  VENX08444954462680  Installation_zone 1\n",
              "1  2013      1            2  GRXC33020746550125  Installation_zone 1\n",
              "2  2013      1            1  FCGQ19814303536339  Installation_zone 1\n",
              "3  2013      1            5  EQKL85694875580467  Installation_zone 3\n",
              "4  2013      1           14  KCXW91343862250032  Installation_zone 3"
            ]
          },
          "execution_count": 5,
          "metadata": {},
          "output_type": "execute_result"
        }
      ],
      "source": [
        "test.info()\n",
        "test.head()"
      ]
    },
    {
      "cell_type": "markdown",
      "metadata": {},
      "source": [
        "Para facilitar vamos codificar os objetos (Strings) em números"
      ]
    },
    {
      "cell_type": "code",
      "execution_count": 6,
      "metadata": {},
      "outputs": [
        {
          "data": {
            "text/html": [
              "<div>\n",
              "<style scoped>\n",
              "    .dataframe tbody tr th:only-of-type {\n",
              "        vertical-align: middle;\n",
              "    }\n",
              "\n",
              "    .dataframe tbody tr th {\n",
              "        vertical-align: top;\n",
              "    }\n",
              "\n",
              "    .dataframe thead th {\n",
              "        text-align: right;\n",
              "    }\n",
              "</style>\n",
              "<table border=\"1\" class=\"dataframe\">\n",
              "  <thead>\n",
              "    <tr style=\"text-align: right;\">\n",
              "      <th></th>\n",
              "      <th>Year</th>\n",
              "      <th>Month</th>\n",
              "      <th>Consumer_type</th>\n",
              "      <th>Consumption</th>\n",
              "      <th>Consumer_number</th>\n",
              "      <th>Installation_zone</th>\n",
              "    </tr>\n",
              "  </thead>\n",
              "  <tbody>\n",
              "    <tr>\n",
              "      <th>0</th>\n",
              "      <td>2013</td>\n",
              "      <td>1</td>\n",
              "      <td>1</td>\n",
              "      <td>0</td>\n",
              "      <td>13530</td>\n",
              "      <td>0</td>\n",
              "    </tr>\n",
              "    <tr>\n",
              "      <th>1</th>\n",
              "      <td>2013</td>\n",
              "      <td>1</td>\n",
              "      <td>1</td>\n",
              "      <td>6</td>\n",
              "      <td>23175</td>\n",
              "      <td>11</td>\n",
              "    </tr>\n",
              "    <tr>\n",
              "      <th>2</th>\n",
              "      <td>2013</td>\n",
              "      <td>1</td>\n",
              "      <td>1</td>\n",
              "      <td>1</td>\n",
              "      <td>17683</td>\n",
              "      <td>11</td>\n",
              "    </tr>\n",
              "    <tr>\n",
              "      <th>3</th>\n",
              "      <td>2013</td>\n",
              "      <td>1</td>\n",
              "      <td>1</td>\n",
              "      <td>13</td>\n",
              "      <td>8655</td>\n",
              "      <td>11</td>\n",
              "    </tr>\n",
              "    <tr>\n",
              "      <th>4</th>\n",
              "      <td>2013</td>\n",
              "      <td>1</td>\n",
              "      <td>2</td>\n",
              "      <td>5</td>\n",
              "      <td>732</td>\n",
              "      <td>11</td>\n",
              "    </tr>\n",
              "  </tbody>\n",
              "</table>\n",
              "</div>"
            ],
            "text/plain": [
              "   Year  Month  Consumer_type  Consumption  Consumer_number  Installation_zone\n",
              "0  2013      1              1            0            13530                  0\n",
              "1  2013      1              1            6            23175                 11\n",
              "2  2013      1              1            1            17683                 11\n",
              "3  2013      1              1           13             8655                 11\n",
              "4  2013      1              2            5              732                 11"
            ]
          },
          "execution_count": 6,
          "metadata": {},
          "output_type": "execute_result"
        }
      ],
      "source": [
        "columns = [\"Consumer_type\",\"Consumer_number\",\"Installation_zone\"]\n",
        "for feature in columns:\n",
        "  le = LabelEncoder()\n",
        "  train[feature] = le.fit_transform(train[feature])\n",
        "\n",
        "train.head()"
      ]
    },
    {
      "cell_type": "code",
      "execution_count": 7,
      "metadata": {},
      "outputs": [
        {
          "name": "stdout",
          "output_type": "stream",
          "text": [
            "<class 'pandas.core.frame.DataFrame'>\n",
            "Index: 1417467 entries, 0 to 1145999\n",
            "Data columns (total 6 columns):\n",
            " #   Column             Non-Null Count    Dtype\n",
            "---  ------             --------------    -----\n",
            " 0   Year               1417467 non-null  int64\n",
            " 1   Month              1417467 non-null  int64\n",
            " 2   Consumer_type      1417467 non-null  int32\n",
            " 3   Consumption        1417467 non-null  int64\n",
            " 4   Consumer_number    1417467 non-null  int32\n",
            " 5   Installation_zone  1417467 non-null  int32\n",
            "dtypes: int32(3), int64(3)\n",
            "memory usage: 59.5 MB\n"
          ]
        }
      ],
      "source": [
        "train.info()"
      ]
    },
    {
      "cell_type": "markdown",
      "metadata": {},
      "source": [
        "vamos retirar uma porcentagem de consumidores domésticos"
      ]
    },
    {
      "cell_type": "code",
      "execution_count": 66,
      "metadata": {},
      "outputs": [],
      "source": [
        "# indices_tipo_0 = train[train['Consumer_type'] == 0].index\n",
        "\n",
        "###### removendo consumidores domesticos\n",
        "# indices_tipo_1 = train[train['Consumer_type'] == 1].index\n",
        "# quantidade_reduzida_tipo_1 = int(len(indices_tipo_1) * 0.99)\n",
        "# indices_reduzidos_1 = indices_tipo_1[:quantidade_reduzida_tipo_1]\n",
        "\n",
        "# train.drop(indices_reduzidos_1, inplace=True)\n",
        "# train.info()\n",
        "\n",
        "\n",
        "###### removendo consumidores indutrial\n",
        "# indices_tipo_2 = train[train['Consumer_type'] == 2].index\n",
        "# quantidade_reduzida_tipo_2 = int(len(indices_tipo_2) * 0.82)\n",
        "# indices_reduzidos_2 = indices_tipo_2[:quantidade_reduzida_tipo_2]\n",
        "\n",
        "# train.drop(indices_reduzidos_2, inplace=True)\n",
        "# train.info()\n",
        "\n",
        "###### removendo consumidores construction\n",
        "# indices_tipo_3 = train[train['Consumer_type'] == 3].index\n",
        "# quantidade_reduzida_tipo_3 = int(len(indices_tipo_3) * 0.90)\n",
        "# indices_reduzidos_3 = indices_tipo_3[:quantidade_reduzida_tipo_3]\n",
        "\n",
        "# train.drop(indices_reduzidos_3, inplace=True)\n",
        "# train.info()\n",
        "\n",
        "###### removendo consumidores low income families\n",
        "# indices_tipo_4 = train[train['Consumer_type'] == 4].index\n",
        "# quantidade_reduzida_tipo_4 = int(len(indices_tipo_4) * 0.68)\n",
        "# indices_reduzidos_4 = indices_tipo_4[:quantidade_reduzida_tipo_4]\n",
        "\n",
        "# train.drop(indices_reduzidos_4, inplace=True)\n",
        "# train.info()\n",
        "\n",
        "###### removendo consumidores rural domestic\n",
        "# indices_tipo_5 = train[train['Consumer_type'] == 5].index\n",
        "# quantidade_reduzida_tipo_5 = int(len(indices_tipo_5) * 0.95)\n",
        "# indices_reduzidos_5 = indices_tipo_5[:quantidade_reduzida_tipo_5]\n",
        "\n",
        "# train.drop(indices_reduzidos_5, inplace=True)\n",
        "# train.info()\n",
        "\n",
        "# indices_tipo_6 = train[train['Consumer_type'] == 6].index\n",
        "\n",
        "\n",
        "\n",
        "\n",
        "\n"
      ]
    },
    {
      "cell_type": "markdown",
      "metadata": {},
      "source": [
        "Nossos dados ficam como mostra o histograma"
      ]
    },
    {
      "cell_type": "code",
      "execution_count": 8,
      "metadata": {},
      "outputs": [
        {
          "data": {
            "text/plain": [
              "<Axes: xlabel='Installation_zone', ylabel='Count'>"
            ]
          },
          "execution_count": 8,
          "metadata": {},
          "output_type": "execute_result"
        },
        {
          "data": {
            "image/png": "[encoded data removed]",
            "text/plain": [
              "<Figure size 1500x600 with 1 Axes>"
            ]
          },
          "metadata": {},
          "output_type": "display_data"
        }
      ],
      "source": [
        "plt.figure(figsize = (15, 6))\n",
        "sns.histplot(data = train, x='Installation_zone',hue='Consumer_type',multiple=\"stack\",palette='Set2')"
      ]
    },
    {
      "cell_type": "code",
      "execution_count": 9,
      "metadata": {},
      "outputs": [
        {
          "data": {
            "text/plain": [
              "<Axes: xlabel='Year', ylabel='Count'>"
            ]
          },
          "execution_count": 9,
          "metadata": {},
          "output_type": "execute_result"
        },
        {
          "data": {
            "image/png": "[encoded data removed]",
            "text/plain": [
              "<Figure size 1500x600 with 1 Axes>"
            ]
          },
          "metadata": {},
          "output_type": "display_data"
        }
      ],
      "source": [
        "plt.figure(figsize = (15, 6))\n",
        "sns.histplot(data = train, x='Year',hue='Consumer_type',multiple=\"stack\",palette='Set2')"
      ]
    },
    {
      "cell_type": "code",
      "execution_count": 10,
      "metadata": {},
      "outputs": [
        {
          "data": {
            "text/plain": [
              "<Axes: xlabel='Month', ylabel='Count'>"
            ]
          },
          "execution_count": 10,
          "metadata": {},
          "output_type": "execute_result"
        },
        {
          "data": {
            "image/png": "[encoded data removed]",
            "text/plain": [
              "<Figure size 1500x600 with 1 Axes>"
            ]
          },
          "metadata": {},
          "output_type": "display_data"
        }
      ],
      "source": [
        "plt.figure(figsize = (15, 6))\n",
        "sns.histplot(data = train, x='Month',hue='Consumer_type',multiple=\"stack\",palette='Set2')"
      ]
    },
    {
      "cell_type": "markdown",
      "metadata": {},
      "source": [
        "Para um melhor entendimento, vamos gerar uma tabela com a quantidade de consumidores em cada zona"
      ]
    },
    {
      "cell_type": "code",
      "execution_count": 11,
      "metadata": {},
      "outputs": [
        {
          "name": "stdout",
          "output_type": "stream",
          "text": [
            "Consumer_type         0      1      2      3     4     5      6\n",
            "Installation_zone                                              \n",
            "0                  2583  64896   9208  11644  3461   605  15564\n",
            "1                   786      0   1605   2635   958  3430   3302\n",
            "2                   911      0   1873   3030  1216  1095   3796\n",
            "3                  1165      0   2274   3522  1580  1315   4409\n",
            "4                  1457      0   2578   4030  1886  1684   4830\n",
            "5                  1691      0   3093   4602  2220  1371   5445\n",
            "6                  2022      0   3424   5223  2570  1004   5865\n",
            "7                  2390      0   4080   5803  3024  3092   6582\n",
            "8                  2702      0   4395   6285  3514  2325   6865\n",
            "9                  3347      0   4959   6516  3905  2575   7477\n",
            "10                 3695      0   5411   7321  4623  2629   7710\n",
            "11                 4494  34654  10711   7571  6735  2081   8122\n",
            "12                 4938      0   6347   8012  5591  2737   8434\n",
            "13                 5406      0   6680   8379  6137  3715   8559\n",
            "14                 5963      0   7078   8435  6700  4240   8476\n",
            "15                 6416      0   7284   8464  7172  4520   8344\n",
            "16                 6870     15   7274   8494  7569  5661   8293\n",
            "17                 7362      0   7525   8462  8057  6268   8115\n",
            "18                 7612      0   7696   8224  8170  5595   7714\n",
            "19                 7862      0   7354   7974  8356  5731   7437\n",
            "20                 8112      0   7291   7535  8506  6228   6918\n",
            "21                 8346      0   6755   7124  8926  5920   6569\n",
            "22                 8742  49526  11054   6976  9910  6362   6000\n",
            "23                 8282      0   6440   6232  8193  6908   5448\n",
            "24                 8292      0   6037   5667  7875  7508   4927\n",
            "25                 7878      0   5588   5146  7517  7454   4385\n",
            "26                 7663      0   5059   4568  7014  7113   3837\n",
            "27                 7206      0   4709   3992  6576  7100   3335\n",
            "28                 6706      0   4108   3646  6243  6528   2895\n",
            "29                 6389      0   3853   3095  5523  7172   2439\n",
            "30                 5635      0   3391   2628  5054  6514   2090\n",
            "31                 5323      0   2808   2218  4474  6439   1774\n",
            "32                 4768      0   2517   1923  3975  5987   1500\n",
            "33                 4540  54818   7058   1665  3493  4819   1238\n",
            "34                 3758      0   1766   1385  3015  5090    991\n",
            "35                 3261      0   1516   1060  2584  4800    823\n",
            "36                 2817      0   1274    874  2214  4582    691\n",
            "37                 2485      0    998    734  1763  4574    524\n",
            "38                 2157      0    837    544  1553  4259    420\n",
            "39                 1770      0    665    444  1284  3298    367\n",
            "40                 1493      0    563    351  1070  3098    256\n",
            "41                 1284      0    406    266   799  2552    179\n",
            "42                  975      0    346    233   650  2304    154\n",
            "43                  855      0    279    161   531  2930    140\n",
            "44                  659      0    225    125   400  3094    107\n",
            "45                  521      0    161     67   370  1641    119\n",
            "46                  420      0    124     70   234  2509     77\n",
            "47                  302      0     85     37   193  2120     40\n",
            "48                  981      0    250    119   560  3503    139\n",
            "Consumer_type\n",
            "5    204079\n",
            "4    203943\n",
            "1    203909\n",
            "6    203721\n",
            "3    203511\n",
            "0    201292\n",
            "2    197012\n",
            "Name: count, dtype: int64\n"
          ]
        }
      ],
      "source": [
        "count_table = train.groupby(['Installation_zone', 'Consumer_type']).size().unstack(fill_value=0)\n",
        "print(count_table)\n",
        "print(train['Consumer_type'].value_counts())"
      ]
    },
    {
      "cell_type": "markdown",
      "metadata": {},
      "source": [
        "Novo dataset"
      ]
    },
    {
      "cell_type": "markdown",
      "metadata": {},
      "source": [
        "Normalização dos dados"
      ]
    },
    {
      "cell_type": "code",
      "execution_count": 15,
      "metadata": {},
      "outputs": [
        {
          "name": "stdout",
          "output_type": "stream",
          "text": [
            "<class 'pandas.core.frame.DataFrame'>\n",
            "RangeIndex: 1417467 entries, 0 to 1417466\n",
            "Data columns (total 5 columns):\n",
            " #   Column             Non-Null Count    Dtype  \n",
            "---  ------             --------------    -----  \n",
            " 0   Year               1417467 non-null  float64\n",
            " 1   Month              1417467 non-null  float64\n",
            " 2   Consumption        1417467 non-null  float64\n",
            " 3   Consumer_number    1417467 non-null  float64\n",
            " 4   Installation_zone  1417467 non-null  float64\n",
            "dtypes: float64(5)\n",
            "memory usage: 54.1 MB\n"
          ]
        }
      ],
      "source": [
        "scaler = StandardScaler()\n",
        "\n",
        "normalized_data = scaler.fit_transform(train.drop(columns=[\"Consumer_type\"]))\n",
        "df_normalized = pd.DataFrame(normalized_data, columns = [\"Year\", \"Month\", \"Consumption\", \"Consumer_number\", \"Installation_zone\"])\n",
        "df_normalized.info()"
      ]
    },
    {
      "cell_type": "markdown",
      "metadata": {},
      "source": [
        "Vamos montar nossos dados de teste e treino"
      ]
    },
    {
      "cell_type": "code",
      "execution_count": 16,
      "metadata": {},
      "outputs": [],
      "source": [
        "y = train[\"Consumer_type\"]\n",
        "x = df_normalized[[\"Year\", \"Month\", \"Consumption\", \"Installation_zone\"]]"
      ]
    },
    {
      "cell_type": "code",
      "execution_count": 17,
      "metadata": {},
      "outputs": [],
      "source": [
        "X = torch.tensor(x.values, dtype = torch.float)\n",
        "Y = torch.LongTensor(y.values)\n"
      ]
    },
    {
      "cell_type": "code",
      "execution_count": 19,
      "metadata": {},
      "outputs": [],
      "source": [
        "x_train, x_test, y_train, y_test = train_test_split(X, Y, train_size=0.8, shuffle=True)\n",
        "# Year\tMonth\tConsumption\tConsumer_number\tInstallation_zone\n",
        "weights = np.ones(len(x_train))  \n",
        "weights[train.columns.get_loc('Year')] = 1.0\n",
        "weights[train.columns.get_loc('Month')] = 1.0\n",
        "weights[train.columns.get_loc('Consumption')] = 1.0\n",
        "weights[train.columns.get_loc('Consumer_number')] = 1.0 \n",
        "weights[train.columns.get_loc('Installation_zone')] = 1.0\n",
        "\n",
        "from sklearn.ensemble import RandomForestRegressor\n",
        "from sklearn.ensemble import HistGradientBoostingClassifier\n",
        "\n",
        "# model = HistGradientBoostingClassifier()  \n",
        "# model.fit(x_train, y_train, sample_weight=weights)"
      ]
    },
    {
      "cell_type": "markdown",
      "metadata": {},
      "source": [
        "Aqui vamos modelar nossa rede conforme queremos"
      ]
    },
    {
      "cell_type": "code",
      "execution_count": 21,
      "metadata": {},
      "outputs": [],
      "source": [
        "class NN_model(nn.Module):\n",
        "    def __init__(self):\n",
        "        super(NN_model, self).__init__()\n",
        "        self.linear_nn_stack = nn.Sequential(\n",
        "            nn.Linear(4, 8),\n",
        "            nn.Sigmoid(),\n",
        "            nn.Linear(8, 16),\n",
        "            nn.ReLU(),\n",
        "            nn.Linear(16, 32),\n",
        "            nn.Sigmoid(),\n",
        "            nn.Linear(32, 64),\n",
        "            nn.Sigmoid(),\n",
        "            nn.Linear(64, 64),\n",
        "            nn.ReLU(),\n",
        "            nn.Linear(64, 64),\n",
        "            nn.ReLU(),\n",
        "            nn.Linear(64, 32),\n",
        "            nn.Sigmoid(),\n",
        "            nn.Linear(32, 16),\n",
        "            nn.ReLU(),\n",
        "            nn.Linear(16, 7),\n",
        "            nn.Softmax(),\n",
        "        )\n",
        "\n",
        "    def forward(self, x):\n",
        "        logits = self.linear_nn_stack(x)\n",
        "        return logits"
      ]
    },
    {
      "cell_type": "code",
      "execution_count": 22,
      "metadata": {},
      "outputs": [],
      "source": [
        "model = NN_model()\n",
        "\n",
        "learning_rate = 1e-2\n",
        "criterion = nn.CrossEntropyLoss()\n",
        "optimizer = torch.optim.Adam(model.parameters(), learning_rate)"
      ]
    },
    {
      "cell_type": "markdown",
      "metadata": {},
      "source": [
        "Aqui vamos treinar nosso modelo com \"n\" épocas"
      ]
    },
    {
      "cell_type": "code",
      "execution_count": 23,
      "metadata": {},
      "outputs": [
        {
          "name": "stderr",
          "output_type": "stream",
          "text": [
            "c:\\Users\\Emers\\AppData\\Local\\Programs\\Python\\Python311\\Lib\\site-packages\\torch\\nn\\modules\\module.py:1518: UserWarning: Implicit dimension choice for softmax has been deprecated. Change the call to include dim=X as an argument.\n",
            "  return self._call_impl(*args, **kwargs)\n"
          ]
        },
        {
          "name": "stdout",
          "output_type": "stream",
          "text": [
            "Epoch number: 10 and the loss : 1.9360917806625366\n",
            "Epoch number: 20 and the loss : 1.9152226448059082\n",
            "Epoch number: 30 and the loss : 1.9007816314697266\n",
            "Epoch number: 40 and the loss : 1.8903100490570068\n",
            "Epoch number: 50 and the loss : 1.8785887956619263\n",
            "Epoch number: 60 and the loss : 1.8704848289489746\n",
            "Epoch number: 70 and the loss : 1.865671157836914\n",
            "Epoch number: 80 and the loss : 1.8614574670791626\n",
            "Epoch number: 90 and the loss : 1.8582003116607666\n",
            "Epoch number: 100 and the loss : 1.8555185794830322\n",
            "Epoch number: 110 and the loss : 1.8535269498825073\n",
            "Epoch number: 120 and the loss : 1.8520872592926025\n",
            "Epoch number: 130 and the loss : 1.8510346412658691\n",
            "Epoch number: 140 and the loss : 1.850239872932434\n",
            "Epoch number: 150 and the loss : 1.8496013879776\n",
            "Epoch number: 160 and the loss : 1.8490453958511353\n",
            "Epoch number: 170 and the loss : 1.8485233783721924\n",
            "Epoch number: 180 and the loss : 1.8480061292648315\n",
            "Epoch number: 190 and the loss : 1.847476840019226\n",
            "Epoch number: 200 and the loss : 1.8469408750534058\n",
            "Epoch number: 210 and the loss : 1.8464100360870361\n",
            "Epoch number: 220 and the loss : 1.8460005521774292\n",
            "Epoch number: 230 and the loss : 1.845467448234558\n",
            "Epoch number: 240 and the loss : 1.8450654745101929\n",
            "Epoch number: 250 and the loss : 1.8446990251541138\n",
            "Epoch number: 260 and the loss : 1.8443562984466553\n",
            "Epoch number: 270 and the loss : 1.843993902206421\n",
            "Epoch number: 280 and the loss : 1.8436198234558105\n",
            "Epoch number: 290 and the loss : 1.8432146310806274\n",
            "Epoch number: 300 and the loss : 1.8428901433944702\n",
            "Epoch number: 310 and the loss : 1.842622995376587\n",
            "Epoch number: 320 and the loss : 1.8423693180084229\n",
            "Epoch number: 330 and the loss : 1.8421531915664673\n",
            "Epoch number: 340 and the loss : 1.8419520854949951\n",
            "Epoch number: 350 and the loss : 1.841776728630066\n",
            "Epoch number: 360 and the loss : 1.8416286706924438\n",
            "Epoch number: 370 and the loss : 1.8414613008499146\n",
            "Epoch number: 380 and the loss : 1.841309666633606\n",
            "Epoch number: 390 and the loss : 1.8411771059036255\n",
            "Epoch number: 400 and the loss : 1.8410544395446777\n",
            "Epoch number: 410 and the loss : 1.8409274816513062\n",
            "Epoch number: 420 and the loss : 1.8408312797546387\n",
            "Epoch number: 430 and the loss : 1.8407152891159058\n",
            "Epoch number: 440 and the loss : 1.84061861038208\n",
            "Epoch number: 450 and the loss : 1.8405228853225708\n",
            "Epoch number: 460 and the loss : 1.8404722213745117\n",
            "Epoch number: 470 and the loss : 1.8403509855270386\n",
            "Epoch number: 480 and the loss : 1.8402633666992188\n",
            "Epoch number: 490 and the loss : 1.8401597738265991\n",
            "Epoch number: 500 and the loss : 1.8400551080703735\n"
          ]
        }
      ],
      "source": [
        "epochs = 500\n",
        "train_losses=[]\n",
        "\n",
        "for i in range(epochs):\n",
        "    i= i+1\n",
        "    y_pred=model.forward(x_train)\n",
        "    loss=criterion(y_pred,y_train)\n",
        "    train_losses.append(loss)\n",
        "    if i % 10 == 0:\n",
        "        print(\"Epoch number: {} and the loss : {}\".format(i,loss.item()))\n",
        "    optimizer.zero_grad()\n",
        "    loss.backward()\n",
        "    optimizer.step()"
      ]
    },
    {
      "cell_type": "markdown",
      "metadata": {},
      "source": [
        "Curva de perdas com o passar dos treinos pelas épocas"
      ]
    },
    {
      "cell_type": "code",
      "execution_count": 77,
      "metadata": {},
      "outputs": [
        {
          "data": {
            "image/png": "[encoded data removed]",
            "text/plain": [
              "<Figure size 640x480 with 1 Axes>"
            ]
          },
          "metadata": {},
          "output_type": "display_data"
        }
      ],
      "source": [
        "losses = torch.tensor(train_losses,requires_grad=True)\n",
        "\n",
        "plt.plot(losses.detach().numpy(), label='Training Loss')\n",
        "plt.title('Gráfico de Loss ao Longo das Épocas')\n",
        "plt.xlabel('Épocas')\n",
        "plt.ylabel('Loss')\n",
        "plt.legend()\n",
        "plt.grid(True)\n",
        "plt.show()"
      ]
    },
    {
      "cell_type": "markdown",
      "metadata": {},
      "source": [
        "Cálculo da acurácia"
      ]
    },
    {
      "cell_type": "code",
      "execution_count": 78,
      "metadata": {},
      "outputs": [
        {
          "data": {
            "text/plain": [
              "tensor(0.1639)"
            ]
          },
          "execution_count": 78,
          "metadata": {},
          "output_type": "execute_result"
        }
      ],
      "source": [
        "indices_maior_valor = torch.argmax(y_pred, dim=1)\n",
        "maiores_valores = y_pred[torch.arange(len(y_pred)), indices_maior_valor]\n",
        "accuracy = (torch.argmax(y_pred, 1) == y_train).float().mean()\n",
        "accuracy"
      ]
    },
    {
      "cell_type": "markdown",
      "metadata": {},
      "source": [
        "Matriz de confusão"
      ]
    },
    {
      "cell_type": "code",
      "execution_count": 79,
      "metadata": {},
      "outputs": [
        {
          "data": {
            "image/png": "[encoded data removed]",
            "text/plain": [
              "<Figure size 800x600 with 2 Axes>"
            ]
          },
          "metadata": {},
          "output_type": "display_data"
        }
      ],
      "source": [
        "y_test_pred = model(x_test)\n",
        "y_test_pred = torch.argmax(y_test_pred, dim=1)\n",
        "\n",
        "predicted = y_test_pred.numpy()\n",
        "targets = y_test.numpy()\n",
        "\n",
        "conf_matrix = confusion_matrix(targets, predicted)\n",
        "\n",
        "plt.figure(figsize=(8, 6))\n",
        "sns.heatmap(conf_matrix, annot=True, fmt='d', cmap='Blues')\n",
        "plt.title('Matriz de Confusão')\n",
        "plt.xlabel('Rótulos Previstos')\n",
        "plt.ylabel('Rótulos Verdadeiros')\n",
        "plt.show()"
      ]
    }
  ],
  "metadata": {
    "colab": {
      "provenance": []
    },
    "kernelspec": {
      "display_name": "Python 3",
      "name": "python3"
    },
    "language_info": {
      "codemirror_mode": {
        "name": "ipython",
        "version": 3
      },
      "file_extension": ".py",
      "mimetype": "text/x-python",
      "name": "python",
      "nbconvert_exporter": "python",
      "pygments_lexer": "ipython3",
      "version": "3.11.4"
    }
  },
  "nbformat": 4,
  "nbformat_minor": 0
}
