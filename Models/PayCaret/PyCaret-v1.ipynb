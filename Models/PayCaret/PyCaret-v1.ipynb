{
 "cells": [
  {
   "cell_type": "code",
   "execution_count": 1,
   "metadata": {
    "colab": {
     "base_uri": "https://localhost:8080/"
    },
    "id": "Do13G6lHaxve",
    "outputId": "152bc500-9e98-4a31-ae43-60700d48df40"
   },
   "outputs": [],
   "source": [
    "# !pip install pycaret"
   ]
  },
  {
   "cell_type": "code",
   "execution_count": 2,
   "metadata": {
    "id": "Zxee3LkTcdLx"
   },
   "outputs": [],
   "source": [
    "import pandas as pd\n",
    "import seaborn as sns\n",
    "\n",
    "from pycaret.classification import *\n",
    "\n",
    "from sklearn.model_selection import train_test_split\n",
    "from sklearn.metrics import confusion_matrix\n",
    "\n",
    "import matplotlib.pyplot as plt"
   ]
  },
  {
   "cell_type": "code",
   "execution_count": 3,
   "metadata": {
    "id": "0pijHbJ_cLbN"
   },
   "outputs": [],
   "source": [
    "train = pd.read_csv(\"train.csv\")"
   ]
  },
  {
   "cell_type": "code",
   "execution_count": 4,
   "metadata": {
    "colab": {
     "base_uri": "https://localhost:8080/",
     "height": 206
    },
    "id": "IaVtPTfcUurV",
    "outputId": "a624b649-dc52-4a79-c1e3-d47290cf4b40"
   },
   "outputs": [
    {
     "data": {
      "text/html": [
       "<div>\n",
       "<style scoped>\n",
       "    .dataframe tbody tr th:only-of-type {\n",
       "        vertical-align: middle;\n",
       "    }\n",
       "\n",
       "    .dataframe tbody tr th {\n",
       "        vertical-align: top;\n",
       "    }\n",
       "\n",
       "    .dataframe thead th {\n",
       "        text-align: right;\n",
       "    }\n",
       "</style>\n",
       "<table border=\"1\" class=\"dataframe\">\n",
       "  <thead>\n",
       "    <tr style=\"text-align: right;\">\n",
       "      <th></th>\n",
       "      <th>Year</th>\n",
       "      <th>Month</th>\n",
       "      <th>Consumer_type</th>\n",
       "      <th>Consumption</th>\n",
       "      <th>Consumer_number</th>\n",
       "      <th>Installation_zone</th>\n",
       "    </tr>\n",
       "  </thead>\n",
       "  <tbody>\n",
       "    <tr>\n",
       "      <th>0</th>\n",
       "      <td>2013</td>\n",
       "      <td>1</td>\n",
       "      <td>domestic</td>\n",
       "      <td>0</td>\n",
       "      <td>MOGV36480546611521</td>\n",
       "      <td>Installation_zone 1</td>\n",
       "    </tr>\n",
       "    <tr>\n",
       "      <th>1</th>\n",
       "      <td>2013</td>\n",
       "      <td>1</td>\n",
       "      <td>industrial</td>\n",
       "      <td>5</td>\n",
       "      <td>BECS02817768252637</td>\n",
       "      <td>Installation_zone 2</td>\n",
       "    </tr>\n",
       "    <tr>\n",
       "      <th>2</th>\n",
       "      <td>2013</td>\n",
       "      <td>1</td>\n",
       "      <td>domestic</td>\n",
       "      <td>6</td>\n",
       "      <td>VRFW65577141436242</td>\n",
       "      <td>Installation_zone 2</td>\n",
       "    </tr>\n",
       "    <tr>\n",
       "      <th>3</th>\n",
       "      <td>2013</td>\n",
       "      <td>1</td>\n",
       "      <td>domestic</td>\n",
       "      <td>1</td>\n",
       "      <td>QLLI18662653137621</td>\n",
       "      <td>Installation_zone 2</td>\n",
       "    </tr>\n",
       "    <tr>\n",
       "      <th>4</th>\n",
       "      <td>2013</td>\n",
       "      <td>1</td>\n",
       "      <td>domestic</td>\n",
       "      <td>13</td>\n",
       "      <td>HYUO61823402850645</td>\n",
       "      <td>Installation_zone 2</td>\n",
       "    </tr>\n",
       "  </tbody>\n",
       "</table>\n",
       "</div>"
      ],
      "text/plain": [
       "   Year  Month Consumer_type  Consumption     Consumer_number  \\\n",
       "0  2013      1      domestic            0  MOGV36480546611521   \n",
       "1  2013      1    industrial            5  BECS02817768252637   \n",
       "2  2013      1      domestic            6  VRFW65577141436242   \n",
       "3  2013      1      domestic            1  QLLI18662653137621   \n",
       "4  2013      1      domestic           13  HYUO61823402850645   \n",
       "\n",
       "     Installation_zone  \n",
       "0  Installation_zone 1  \n",
       "1  Installation_zone 2  \n",
       "2  Installation_zone 2  \n",
       "3  Installation_zone 2  \n",
       "4  Installation_zone 2  "
      ]
     },
     "execution_count": 4,
     "metadata": {},
     "output_type": "execute_result"
    }
   ],
   "source": [
    "train.head()"
   ]
  },
  {
   "cell_type": "code",
   "execution_count": 5,
   "metadata": {
    "id": "zxJE5b-TJgfx"
   },
   "outputs": [],
   "source": [
    "# train['mean_consumption'] = train.groupby('Consumer_number')['Consumption'].transform('mean')\n",
    "# train['consumption_count'] = train.groupby('Consumer_number')['Consumption'].transform('count')\n",
    "# train = train.drop('Consumer_number', axis=1)"
   ]
  },
  {
   "cell_type": "code",
   "execution_count": 6,
   "metadata": {
    "colab": {
     "base_uri": "https://localhost:8080/",
     "height": 206
    },
    "id": "rxJm04KqJl_x",
    "outputId": "bf9b26f2-9787-4052-daa3-95d198ada101"
   },
   "outputs": [
    {
     "data": {
      "text/html": [
       "<div>\n",
       "<style scoped>\n",
       "    .dataframe tbody tr th:only-of-type {\n",
       "        vertical-align: middle;\n",
       "    }\n",
       "\n",
       "    .dataframe tbody tr th {\n",
       "        vertical-align: top;\n",
       "    }\n",
       "\n",
       "    .dataframe thead th {\n",
       "        text-align: right;\n",
       "    }\n",
       "</style>\n",
       "<table border=\"1\" class=\"dataframe\">\n",
       "  <thead>\n",
       "    <tr style=\"text-align: right;\">\n",
       "      <th></th>\n",
       "      <th>Year</th>\n",
       "      <th>Month</th>\n",
       "      <th>Consumer_type</th>\n",
       "      <th>Consumption</th>\n",
       "      <th>Consumer_number</th>\n",
       "      <th>Installation_zone</th>\n",
       "    </tr>\n",
       "  </thead>\n",
       "  <tbody>\n",
       "    <tr>\n",
       "      <th>0</th>\n",
       "      <td>2013</td>\n",
       "      <td>1</td>\n",
       "      <td>domestic</td>\n",
       "      <td>0</td>\n",
       "      <td>MOGV36480546611521</td>\n",
       "      <td>Installation_zone 1</td>\n",
       "    </tr>\n",
       "    <tr>\n",
       "      <th>1</th>\n",
       "      <td>2013</td>\n",
       "      <td>1</td>\n",
       "      <td>industrial</td>\n",
       "      <td>5</td>\n",
       "      <td>BECS02817768252637</td>\n",
       "      <td>Installation_zone 2</td>\n",
       "    </tr>\n",
       "    <tr>\n",
       "      <th>2</th>\n",
       "      <td>2013</td>\n",
       "      <td>1</td>\n",
       "      <td>domestic</td>\n",
       "      <td>6</td>\n",
       "      <td>VRFW65577141436242</td>\n",
       "      <td>Installation_zone 2</td>\n",
       "    </tr>\n",
       "    <tr>\n",
       "      <th>3</th>\n",
       "      <td>2013</td>\n",
       "      <td>1</td>\n",
       "      <td>domestic</td>\n",
       "      <td>1</td>\n",
       "      <td>QLLI18662653137621</td>\n",
       "      <td>Installation_zone 2</td>\n",
       "    </tr>\n",
       "    <tr>\n",
       "      <th>4</th>\n",
       "      <td>2013</td>\n",
       "      <td>1</td>\n",
       "      <td>domestic</td>\n",
       "      <td>13</td>\n",
       "      <td>HYUO61823402850645</td>\n",
       "      <td>Installation_zone 2</td>\n",
       "    </tr>\n",
       "  </tbody>\n",
       "</table>\n",
       "</div>"
      ],
      "text/plain": [
       "   Year  Month Consumer_type  Consumption     Consumer_number  \\\n",
       "0  2013      1      domestic            0  MOGV36480546611521   \n",
       "1  2013      1    industrial            5  BECS02817768252637   \n",
       "2  2013      1      domestic            6  VRFW65577141436242   \n",
       "3  2013      1      domestic            1  QLLI18662653137621   \n",
       "4  2013      1      domestic           13  HYUO61823402850645   \n",
       "\n",
       "     Installation_zone  \n",
       "0  Installation_zone 1  \n",
       "1  Installation_zone 2  \n",
       "2  Installation_zone 2  \n",
       "3  Installation_zone 2  \n",
       "4  Installation_zone 2  "
      ]
     },
     "execution_count": 6,
     "metadata": {},
     "output_type": "execute_result"
    }
   ],
   "source": [
    "train.head()"
   ]
  },
  {
   "cell_type": "code",
   "execution_count": 7,
   "metadata": {
    "colab": {
     "base_uri": "https://localhost:8080/"
    },
    "id": "wXAQgTIfQsmS",
    "outputId": "71dec076-040c-4d37-e3bf-28a60c70fd1a"
   },
   "outputs": [
    {
     "name": "stdout",
     "output_type": "stream",
     "text": [
      "domestic               236167\n",
      "rural domestic          63086\n",
      "industrial              21057\n",
      "rural commercial         5541\n",
      "construction             2235\n",
      "low income families       999\n",
      "rural expansion           890\n",
      "Name: Consumer_type, dtype: int64\n"
     ]
    }
   ],
   "source": [
    "counts = train['Consumer_type'].value_counts()\n",
    "print(counts)"
   ]
  },
  {
   "cell_type": "code",
   "execution_count": 8,
   "metadata": {
    "id": "yCiHrUbz8RHg"
   },
   "outputs": [],
   "source": [
    "# train, test = train_test_split(train, test_size=0.1, stratify=train['Consumer_type'], random_state=42)\n",
    "\n",
    "test2 = pd.read_csv(\"test_v1.csv\")\n",
    "# test2['mean_consumption'] = test2.groupby('Consumer_number')['Consumption'].transform('mean')\n",
    "# test2['consumption_count'] = test2.groupby('Consumer_number')['Consumption'].transform('count')\n",
    "# test2 = test2.drop('Consumer_number', axis=1)"
   ]
  },
  {
   "cell_type": "code",
   "execution_count": 9,
   "metadata": {
    "id": "BqRMCjGulAjM"
   },
   "outputs": [],
   "source": [
    "train = train.sample(frac=1, random_state=42).reset_index(drop=True)\n",
    "test2 = test2.sample(frac=1, random_state=42).reset_index(drop=True)"
   ]
  },
  {
   "cell_type": "code",
   "execution_count": 10,
   "metadata": {
    "colab": {
     "base_uri": "https://localhost:8080/"
    },
    "id": "NToU32USfFNY",
    "outputId": "5e90a0b7-38de-44d0-f4d8-e16d04c0b40d"
   },
   "outputs": [
    {
     "data": {
      "text/plain": [
       "(329975, 6)"
      ]
     },
     "execution_count": 10,
     "metadata": {},
     "output_type": "execute_result"
    }
   ],
   "source": [
    "train.shape"
   ]
  },
  {
   "cell_type": "code",
   "execution_count": 11,
   "metadata": {
    "colab": {
     "base_uri": "https://localhost:8080/"
    },
    "id": "BoOsAdp3QiRp",
    "outputId": "62427d09-331d-4168-e99f-728a884f9156"
   },
   "outputs": [
    {
     "name": "stdout",
     "output_type": "stream",
     "text": [
      "domestic               236167\n",
      "rural domestic          63086\n",
      "industrial              21057\n",
      "rural commercial         5541\n",
      "construction             2235\n",
      "low income families       999\n",
      "rural expansion           890\n",
      "Name: Consumer_type, dtype: int64\n"
     ]
    }
   ],
   "source": [
    "counts = train['Consumer_type'].value_counts()\n",
    "print(counts)"
   ]
  },
  {
   "cell_type": "code",
   "execution_count": 12,
   "metadata": {
    "id": "pW3psIvERHoj"
   },
   "outputs": [],
   "source": [
    "# test.shape"
   ]
  },
  {
   "cell_type": "code",
   "execution_count": 13,
   "metadata": {
    "id": "ibK_L1sRQdMa"
   },
   "outputs": [],
   "source": [
    "# counts = test['Consumer_type'].value_counts()\n",
    "# print(counts)"
   ]
  },
  {
   "cell_type": "code",
   "execution_count": 14,
   "metadata": {
    "colab": {
     "base_uri": "https://localhost:8080/",
     "height": 1000,
     "referenced_widgets": [
      "4d7b7f4f1ac348e4a18ca450cd59dfec",
      "fb389962c90941f680880e371ce1758f",
      "ff2db4959eeb4e0d987382aa80e8f8d1",
      "17595247600d432ea42989c58f7273dc",
      "ea306e4c347544609cdfbcfb9d3e302e",
      "68578eb1e63249a381cc6c238e4ad70b",
      "09e63fa5c6fe48da949b2806ee42895e",
      "6ecc0325edc2492cb539f885b2d5a6e5",
      "34db251140e848e48a6d2fa41187c409",
      "2586bd3ee9d548b098a72543f64aca9f",
      "1508cb1a74b943a0b220d4ea53ca4310"
     ]
    },
    "id": "0p_-tn_Ec30Q",
    "outputId": "0483888c-6a89-4a9a-c022-af74ec27ad0a"
   },
   "outputs": [
    {
     "data": {
      "text/html": [
       "<style type=\"text/css\">\n",
       "#T_349be_row10_col1 {\n",
       "  background-color: lightgreen;\n",
       "}\n",
       "</style>\n",
       "<table id=\"T_349be\">\n",
       "  <thead>\n",
       "    <tr>\n",
       "      <th class=\"blank level0\" >&nbsp;</th>\n",
       "      <th id=\"T_349be_level0_col0\" class=\"col_heading level0 col0\" >Description</th>\n",
       "      <th id=\"T_349be_level0_col1\" class=\"col_heading level0 col1\" >Value</th>\n",
       "    </tr>\n",
       "  </thead>\n",
       "  <tbody>\n",
       "    <tr>\n",
       "      <th id=\"T_349be_level0_row0\" class=\"row_heading level0 row0\" >0</th>\n",
       "      <td id=\"T_349be_row0_col0\" class=\"data row0 col0\" >Session id</td>\n",
       "      <td id=\"T_349be_row0_col1\" class=\"data row0 col1\" >4682</td>\n",
       "    </tr>\n",
       "    <tr>\n",
       "      <th id=\"T_349be_level0_row1\" class=\"row_heading level0 row1\" >1</th>\n",
       "      <td id=\"T_349be_row1_col0\" class=\"data row1 col0\" >Target</td>\n",
       "      <td id=\"T_349be_row1_col1\" class=\"data row1 col1\" >Consumer_type</td>\n",
       "    </tr>\n",
       "    <tr>\n",
       "      <th id=\"T_349be_level0_row2\" class=\"row_heading level0 row2\" >2</th>\n",
       "      <td id=\"T_349be_row2_col0\" class=\"data row2 col0\" >Target type</td>\n",
       "      <td id=\"T_349be_row2_col1\" class=\"data row2 col1\" >Multiclass</td>\n",
       "    </tr>\n",
       "    <tr>\n",
       "      <th id=\"T_349be_level0_row3\" class=\"row_heading level0 row3\" >3</th>\n",
       "      <td id=\"T_349be_row3_col0\" class=\"data row3 col0\" >Target mapping</td>\n",
       "      <td id=\"T_349be_row3_col1\" class=\"data row3 col1\" >construction: 0, domestic: 1, industrial: 2, low income families: 3, rural commercial: 4, rural domestic: 5, rural expansion: 6</td>\n",
       "    </tr>\n",
       "    <tr>\n",
       "      <th id=\"T_349be_level0_row4\" class=\"row_heading level0 row4\" >4</th>\n",
       "      <td id=\"T_349be_row4_col0\" class=\"data row4 col0\" >Original data shape</td>\n",
       "      <td id=\"T_349be_row4_col1\" class=\"data row4 col1\" >(329975, 6)</td>\n",
       "    </tr>\n",
       "    <tr>\n",
       "      <th id=\"T_349be_level0_row5\" class=\"row_heading level0 row5\" >5</th>\n",
       "      <td id=\"T_349be_row5_col0\" class=\"data row5 col0\" >Transformed data shape</td>\n",
       "      <td id=\"T_349be_row5_col1\" class=\"data row5 col1\" >(329975, 6)</td>\n",
       "    </tr>\n",
       "    <tr>\n",
       "      <th id=\"T_349be_level0_row6\" class=\"row_heading level0 row6\" >6</th>\n",
       "      <td id=\"T_349be_row6_col0\" class=\"data row6 col0\" >Transformed train set shape</td>\n",
       "      <td id=\"T_349be_row6_col1\" class=\"data row6 col1\" >(230982, 6)</td>\n",
       "    </tr>\n",
       "    <tr>\n",
       "      <th id=\"T_349be_level0_row7\" class=\"row_heading level0 row7\" >7</th>\n",
       "      <td id=\"T_349be_row7_col0\" class=\"data row7 col0\" >Transformed test set shape</td>\n",
       "      <td id=\"T_349be_row7_col1\" class=\"data row7 col1\" >(98993, 6)</td>\n",
       "    </tr>\n",
       "    <tr>\n",
       "      <th id=\"T_349be_level0_row8\" class=\"row_heading level0 row8\" >8</th>\n",
       "      <td id=\"T_349be_row8_col0\" class=\"data row8 col0\" >Numeric features</td>\n",
       "      <td id=\"T_349be_row8_col1\" class=\"data row8 col1\" >3</td>\n",
       "    </tr>\n",
       "    <tr>\n",
       "      <th id=\"T_349be_level0_row9\" class=\"row_heading level0 row9\" >9</th>\n",
       "      <td id=\"T_349be_row9_col0\" class=\"data row9 col0\" >Categorical features</td>\n",
       "      <td id=\"T_349be_row9_col1\" class=\"data row9 col1\" >2</td>\n",
       "    </tr>\n",
       "    <tr>\n",
       "      <th id=\"T_349be_level0_row10\" class=\"row_heading level0 row10\" >10</th>\n",
       "      <td id=\"T_349be_row10_col0\" class=\"data row10 col0\" >Preprocess</td>\n",
       "      <td id=\"T_349be_row10_col1\" class=\"data row10 col1\" >True</td>\n",
       "    </tr>\n",
       "    <tr>\n",
       "      <th id=\"T_349be_level0_row11\" class=\"row_heading level0 row11\" >11</th>\n",
       "      <td id=\"T_349be_row11_col0\" class=\"data row11 col0\" >Imputation type</td>\n",
       "      <td id=\"T_349be_row11_col1\" class=\"data row11 col1\" >simple</td>\n",
       "    </tr>\n",
       "    <tr>\n",
       "      <th id=\"T_349be_level0_row12\" class=\"row_heading level0 row12\" >12</th>\n",
       "      <td id=\"T_349be_row12_col0\" class=\"data row12 col0\" >Numeric imputation</td>\n",
       "      <td id=\"T_349be_row12_col1\" class=\"data row12 col1\" >mean</td>\n",
       "    </tr>\n",
       "    <tr>\n",
       "      <th id=\"T_349be_level0_row13\" class=\"row_heading level0 row13\" >13</th>\n",
       "      <td id=\"T_349be_row13_col0\" class=\"data row13 col0\" >Categorical imputation</td>\n",
       "      <td id=\"T_349be_row13_col1\" class=\"data row13 col1\" >mode</td>\n",
       "    </tr>\n",
       "    <tr>\n",
       "      <th id=\"T_349be_level0_row14\" class=\"row_heading level0 row14\" >14</th>\n",
       "      <td id=\"T_349be_row14_col0\" class=\"data row14 col0\" >Maximum one-hot encoding</td>\n",
       "      <td id=\"T_349be_row14_col1\" class=\"data row14 col1\" >25</td>\n",
       "    </tr>\n",
       "    <tr>\n",
       "      <th id=\"T_349be_level0_row15\" class=\"row_heading level0 row15\" >15</th>\n",
       "      <td id=\"T_349be_row15_col0\" class=\"data row15 col0\" >Encoding method</td>\n",
       "      <td id=\"T_349be_row15_col1\" class=\"data row15 col1\" >None</td>\n",
       "    </tr>\n",
       "    <tr>\n",
       "      <th id=\"T_349be_level0_row16\" class=\"row_heading level0 row16\" >16</th>\n",
       "      <td id=\"T_349be_row16_col0\" class=\"data row16 col0\" >Fold Generator</td>\n",
       "      <td id=\"T_349be_row16_col1\" class=\"data row16 col1\" >StratifiedKFold</td>\n",
       "    </tr>\n",
       "    <tr>\n",
       "      <th id=\"T_349be_level0_row17\" class=\"row_heading level0 row17\" >17</th>\n",
       "      <td id=\"T_349be_row17_col0\" class=\"data row17 col0\" >Fold Number</td>\n",
       "      <td id=\"T_349be_row17_col1\" class=\"data row17 col1\" >10</td>\n",
       "    </tr>\n",
       "    <tr>\n",
       "      <th id=\"T_349be_level0_row18\" class=\"row_heading level0 row18\" >18</th>\n",
       "      <td id=\"T_349be_row18_col0\" class=\"data row18 col0\" >CPU Jobs</td>\n",
       "      <td id=\"T_349be_row18_col1\" class=\"data row18 col1\" >-1</td>\n",
       "    </tr>\n",
       "    <tr>\n",
       "      <th id=\"T_349be_level0_row19\" class=\"row_heading level0 row19\" >19</th>\n",
       "      <td id=\"T_349be_row19_col0\" class=\"data row19 col0\" >Use GPU</td>\n",
       "      <td id=\"T_349be_row19_col1\" class=\"data row19 col1\" >False</td>\n",
       "    </tr>\n",
       "    <tr>\n",
       "      <th id=\"T_349be_level0_row20\" class=\"row_heading level0 row20\" >20</th>\n",
       "      <td id=\"T_349be_row20_col0\" class=\"data row20 col0\" >Log Experiment</td>\n",
       "      <td id=\"T_349be_row20_col1\" class=\"data row20 col1\" >False</td>\n",
       "    </tr>\n",
       "    <tr>\n",
       "      <th id=\"T_349be_level0_row21\" class=\"row_heading level0 row21\" >21</th>\n",
       "      <td id=\"T_349be_row21_col0\" class=\"data row21 col0\" >Experiment Name</td>\n",
       "      <td id=\"T_349be_row21_col1\" class=\"data row21 col1\" >clf-default-name</td>\n",
       "    </tr>\n",
       "    <tr>\n",
       "      <th id=\"T_349be_level0_row22\" class=\"row_heading level0 row22\" >22</th>\n",
       "      <td id=\"T_349be_row22_col0\" class=\"data row22 col0\" >USI</td>\n",
       "      <td id=\"T_349be_row22_col1\" class=\"data row22 col1\" >4cad</td>\n",
       "    </tr>\n",
       "  </tbody>\n",
       "</table>\n"
      ],
      "text/plain": [
       "<pandas.io.formats.style.Styler at 0x20899922090>"
      ]
     },
     "metadata": {},
     "output_type": "display_data"
    },
    {
     "data": {
      "text/html": [],
      "text/plain": [
       "<IPython.core.display.HTML object>"
      ]
     },
     "metadata": {},
     "output_type": "display_data"
    },
    {
     "data": {
      "text/html": [
       "<style type=\"text/css\">\n",
       "#T_afcc1 th {\n",
       "  text-align: left;\n",
       "}\n",
       "#T_afcc1_row0_col0, #T_afcc1_row0_col4, #T_afcc1_row1_col0, #T_afcc1_row1_col1, #T_afcc1_row1_col2, #T_afcc1_row1_col3, #T_afcc1_row1_col4, #T_afcc1_row1_col5, #T_afcc1_row1_col6, #T_afcc1_row1_col7, #T_afcc1_row2_col0, #T_afcc1_row2_col1, #T_afcc1_row2_col2, #T_afcc1_row2_col3, #T_afcc1_row2_col4, #T_afcc1_row2_col5, #T_afcc1_row2_col6, #T_afcc1_row2_col7, #T_afcc1_row3_col0, #T_afcc1_row3_col1, #T_afcc1_row3_col2, #T_afcc1_row3_col3, #T_afcc1_row3_col4, #T_afcc1_row3_col5, #T_afcc1_row3_col6, #T_afcc1_row3_col7, #T_afcc1_row4_col0, #T_afcc1_row4_col1, #T_afcc1_row4_col2, #T_afcc1_row4_col3, #T_afcc1_row4_col5, #T_afcc1_row4_col6, #T_afcc1_row4_col7, #T_afcc1_row5_col0, #T_afcc1_row5_col1, #T_afcc1_row5_col2, #T_afcc1_row5_col3, #T_afcc1_row5_col4, #T_afcc1_row5_col5, #T_afcc1_row5_col6, #T_afcc1_row5_col7, #T_afcc1_row6_col0, #T_afcc1_row6_col1, #T_afcc1_row6_col2, #T_afcc1_row6_col3, #T_afcc1_row6_col4, #T_afcc1_row6_col5, #T_afcc1_row6_col6, #T_afcc1_row6_col7, #T_afcc1_row7_col0, #T_afcc1_row7_col1, #T_afcc1_row7_col2, #T_afcc1_row7_col3, #T_afcc1_row7_col4, #T_afcc1_row7_col5, #T_afcc1_row7_col6, #T_afcc1_row7_col7, #T_afcc1_row8_col0, #T_afcc1_row8_col1, #T_afcc1_row8_col2, #T_afcc1_row8_col3, #T_afcc1_row8_col4, #T_afcc1_row8_col5, #T_afcc1_row8_col6, #T_afcc1_row8_col7, #T_afcc1_row9_col0, #T_afcc1_row9_col1, #T_afcc1_row9_col2, #T_afcc1_row9_col3, #T_afcc1_row9_col4, #T_afcc1_row9_col5, #T_afcc1_row9_col6, #T_afcc1_row9_col7, #T_afcc1_row10_col0, #T_afcc1_row10_col1, #T_afcc1_row10_col2, #T_afcc1_row10_col3, #T_afcc1_row10_col4, #T_afcc1_row10_col5, #T_afcc1_row10_col6, #T_afcc1_row10_col7, #T_afcc1_row11_col0, #T_afcc1_row11_col1, #T_afcc1_row11_col2, #T_afcc1_row11_col3, #T_afcc1_row11_col4, #T_afcc1_row11_col5, #T_afcc1_row11_col6, #T_afcc1_row11_col7, #T_afcc1_row12_col0, #T_afcc1_row12_col1, #T_afcc1_row12_col2, #T_afcc1_row12_col3, #T_afcc1_row12_col4, #T_afcc1_row12_col5, #T_afcc1_row12_col6, #T_afcc1_row12_col7, #T_afcc1_row13_col0, #T_afcc1_row13_col1, #T_afcc1_row13_col2, #T_afcc1_row13_col3, #T_afcc1_row13_col4, #T_afcc1_row13_col5, #T_afcc1_row13_col6, #T_afcc1_row13_col7, #T_afcc1_row14_col0, #T_afcc1_row14_col1, #T_afcc1_row14_col2, #T_afcc1_row14_col3, #T_afcc1_row14_col4, #T_afcc1_row14_col5, #T_afcc1_row14_col6, #T_afcc1_row14_col7, #T_afcc1_row15_col0, #T_afcc1_row15_col1, #T_afcc1_row15_col2, #T_afcc1_row15_col3, #T_afcc1_row15_col4, #T_afcc1_row15_col5, #T_afcc1_row15_col6, #T_afcc1_row15_col7 {\n",
       "  text-align: left;\n",
       "}\n",
       "#T_afcc1_row0_col1, #T_afcc1_row0_col2, #T_afcc1_row0_col3, #T_afcc1_row0_col5, #T_afcc1_row0_col6, #T_afcc1_row0_col7, #T_afcc1_row4_col4 {\n",
       "  text-align: left;\n",
       "  background-color: yellow;\n",
       "}\n",
       "#T_afcc1_row0_col8, #T_afcc1_row1_col8, #T_afcc1_row2_col8, #T_afcc1_row3_col8, #T_afcc1_row4_col8, #T_afcc1_row6_col8, #T_afcc1_row7_col8, #T_afcc1_row8_col8, #T_afcc1_row9_col8, #T_afcc1_row10_col8, #T_afcc1_row11_col8, #T_afcc1_row12_col8, #T_afcc1_row13_col8, #T_afcc1_row14_col8, #T_afcc1_row15_col8 {\n",
       "  text-align: left;\n",
       "  background-color: lightgrey;\n",
       "}\n",
       "#T_afcc1_row5_col8 {\n",
       "  text-align: left;\n",
       "  background-color: yellow;\n",
       "  background-color: lightgrey;\n",
       "}\n",
       "</style>\n",
       "<table id=\"T_afcc1\">\n",
       "  <thead>\n",
       "    <tr>\n",
       "      <th class=\"blank level0\" >&nbsp;</th>\n",
       "      <th id=\"T_afcc1_level0_col0\" class=\"col_heading level0 col0\" >Model</th>\n",
       "      <th id=\"T_afcc1_level0_col1\" class=\"col_heading level0 col1\" >Accuracy</th>\n",
       "      <th id=\"T_afcc1_level0_col2\" class=\"col_heading level0 col2\" >AUC</th>\n",
       "      <th id=\"T_afcc1_level0_col3\" class=\"col_heading level0 col3\" >Recall</th>\n",
       "      <th id=\"T_afcc1_level0_col4\" class=\"col_heading level0 col4\" >Prec.</th>\n",
       "      <th id=\"T_afcc1_level0_col5\" class=\"col_heading level0 col5\" >F1</th>\n",
       "      <th id=\"T_afcc1_level0_col6\" class=\"col_heading level0 col6\" >Kappa</th>\n",
       "      <th id=\"T_afcc1_level0_col7\" class=\"col_heading level0 col7\" >MCC</th>\n",
       "      <th id=\"T_afcc1_level0_col8\" class=\"col_heading level0 col8\" >TT (Sec)</th>\n",
       "    </tr>\n",
       "  </thead>\n",
       "  <tbody>\n",
       "    <tr>\n",
       "      <th id=\"T_afcc1_level0_row0\" class=\"row_heading level0 row0\" >xgboost</th>\n",
       "      <td id=\"T_afcc1_row0_col0\" class=\"data row0 col0\" >Extreme Gradient Boosting</td>\n",
       "      <td id=\"T_afcc1_row0_col1\" class=\"data row0 col1\" >0.9924</td>\n",
       "      <td id=\"T_afcc1_row0_col2\" class=\"data row0 col2\" >0.9997</td>\n",
       "      <td id=\"T_afcc1_row0_col3\" class=\"data row0 col3\" >0.9924</td>\n",
       "      <td id=\"T_afcc1_row0_col4\" class=\"data row0 col4\" >0.9945</td>\n",
       "      <td id=\"T_afcc1_row0_col5\" class=\"data row0 col5\" >0.9932</td>\n",
       "      <td id=\"T_afcc1_row0_col6\" class=\"data row0 col6\" >0.9829</td>\n",
       "      <td id=\"T_afcc1_row0_col7\" class=\"data row0 col7\" >0.9830</td>\n",
       "      <td id=\"T_afcc1_row0_col8\" class=\"data row0 col8\" >3.3520</td>\n",
       "    </tr>\n",
       "    <tr>\n",
       "      <th id=\"T_afcc1_level0_row1\" class=\"row_heading level0 row1\" >dt</th>\n",
       "      <td id=\"T_afcc1_row1_col0\" class=\"data row1 col0\" >Decision Tree Classifier</td>\n",
       "      <td id=\"T_afcc1_row1_col1\" class=\"data row1 col1\" >0.9901</td>\n",
       "      <td id=\"T_afcc1_row1_col2\" class=\"data row1 col2\" >0.9904</td>\n",
       "      <td id=\"T_afcc1_row1_col3\" class=\"data row1 col3\" >0.9901</td>\n",
       "      <td id=\"T_afcc1_row1_col4\" class=\"data row1 col4\" >0.9934</td>\n",
       "      <td id=\"T_afcc1_row1_col5\" class=\"data row1 col5\" >0.9914</td>\n",
       "      <td id=\"T_afcc1_row1_col6\" class=\"data row1 col6\" >0.9779</td>\n",
       "      <td id=\"T_afcc1_row1_col7\" class=\"data row1 col7\" >0.9779</td>\n",
       "      <td id=\"T_afcc1_row1_col8\" class=\"data row1 col8\" >0.3980</td>\n",
       "    </tr>\n",
       "    <tr>\n",
       "      <th id=\"T_afcc1_level0_row2\" class=\"row_heading level0 row2\" >catboost</th>\n",
       "      <td id=\"T_afcc1_row2_col0\" class=\"data row2 col0\" >CatBoost Classifier</td>\n",
       "      <td id=\"T_afcc1_row2_col1\" class=\"data row2 col1\" >0.9901</td>\n",
       "      <td id=\"T_afcc1_row2_col2\" class=\"data row2 col2\" >0.9995</td>\n",
       "      <td id=\"T_afcc1_row2_col3\" class=\"data row2 col3\" >0.9901</td>\n",
       "      <td id=\"T_afcc1_row2_col4\" class=\"data row2 col4\" >0.9919</td>\n",
       "      <td id=\"T_afcc1_row2_col5\" class=\"data row2 col5\" >0.9908</td>\n",
       "      <td id=\"T_afcc1_row2_col6\" class=\"data row2 col6\" >0.9780</td>\n",
       "      <td id=\"T_afcc1_row2_col7\" class=\"data row2 col7\" >0.9781</td>\n",
       "      <td id=\"T_afcc1_row2_col8\" class=\"data row2 col8\" >32.6240</td>\n",
       "    </tr>\n",
       "    <tr>\n",
       "      <th id=\"T_afcc1_level0_row3\" class=\"row_heading level0 row3\" >rf</th>\n",
       "      <td id=\"T_afcc1_row3_col0\" class=\"data row3 col0\" >Random Forest Classifier</td>\n",
       "      <td id=\"T_afcc1_row3_col1\" class=\"data row3 col1\" >0.9887</td>\n",
       "      <td id=\"T_afcc1_row3_col2\" class=\"data row3 col2\" >0.9992</td>\n",
       "      <td id=\"T_afcc1_row3_col3\" class=\"data row3 col3\" >0.9887</td>\n",
       "      <td id=\"T_afcc1_row3_col4\" class=\"data row3 col4\" >0.9900</td>\n",
       "      <td id=\"T_afcc1_row3_col5\" class=\"data row3 col5\" >0.9888</td>\n",
       "      <td id=\"T_afcc1_row3_col6\" class=\"data row3 col6\" >0.9747</td>\n",
       "      <td id=\"T_afcc1_row3_col7\" class=\"data row3 col7\" >0.9747</td>\n",
       "      <td id=\"T_afcc1_row3_col8\" class=\"data row3 col8\" >4.3860</td>\n",
       "    </tr>\n",
       "    <tr>\n",
       "      <th id=\"T_afcc1_level0_row4\" class=\"row_heading level0 row4\" >gbc</th>\n",
       "      <td id=\"T_afcc1_row4_col0\" class=\"data row4 col0\" >Gradient Boosting Classifier</td>\n",
       "      <td id=\"T_afcc1_row4_col1\" class=\"data row4 col1\" >0.9882</td>\n",
       "      <td id=\"T_afcc1_row4_col2\" class=\"data row4 col2\" >0.9948</td>\n",
       "      <td id=\"T_afcc1_row4_col3\" class=\"data row4 col3\" >0.9882</td>\n",
       "      <td id=\"T_afcc1_row4_col4\" class=\"data row4 col4\" >0.9947</td>\n",
       "      <td id=\"T_afcc1_row4_col5\" class=\"data row4 col5\" >0.9911</td>\n",
       "      <td id=\"T_afcc1_row4_col6\" class=\"data row4 col6\" >0.9741</td>\n",
       "      <td id=\"T_afcc1_row4_col7\" class=\"data row4 col7\" >0.9745</td>\n",
       "      <td id=\"T_afcc1_row4_col8\" class=\"data row4 col8\" >30.0130</td>\n",
       "    </tr>\n",
       "    <tr>\n",
       "      <th id=\"T_afcc1_level0_row5\" class=\"row_heading level0 row5\" >nb</th>\n",
       "      <td id=\"T_afcc1_row5_col0\" class=\"data row5 col0\" >Naive Bayes</td>\n",
       "      <td id=\"T_afcc1_row5_col1\" class=\"data row5 col1\" >0.9850</td>\n",
       "      <td id=\"T_afcc1_row5_col2\" class=\"data row5 col2\" >0.9944</td>\n",
       "      <td id=\"T_afcc1_row5_col3\" class=\"data row5 col3\" >0.9850</td>\n",
       "      <td id=\"T_afcc1_row5_col4\" class=\"data row5 col4\" >0.9830</td>\n",
       "      <td id=\"T_afcc1_row5_col5\" class=\"data row5 col5\" >0.9834</td>\n",
       "      <td id=\"T_afcc1_row5_col6\" class=\"data row5 col6\" >0.9663</td>\n",
       "      <td id=\"T_afcc1_row5_col7\" class=\"data row5 col7\" >0.9663</td>\n",
       "      <td id=\"T_afcc1_row5_col8\" class=\"data row5 col8\" >0.3250</td>\n",
       "    </tr>\n",
       "    <tr>\n",
       "      <th id=\"T_afcc1_level0_row6\" class=\"row_heading level0 row6\" >qda</th>\n",
       "      <td id=\"T_afcc1_row6_col0\" class=\"data row6 col0\" >Quadratic Discriminant Analysis</td>\n",
       "      <td id=\"T_afcc1_row6_col1\" class=\"data row6 col1\" >0.9846</td>\n",
       "      <td id=\"T_afcc1_row6_col2\" class=\"data row6 col2\" >0.9945</td>\n",
       "      <td id=\"T_afcc1_row6_col3\" class=\"data row6 col3\" >0.9846</td>\n",
       "      <td id=\"T_afcc1_row6_col4\" class=\"data row6 col4\" >0.9826</td>\n",
       "      <td id=\"T_afcc1_row6_col5\" class=\"data row6 col5\" >0.9832</td>\n",
       "      <td id=\"T_afcc1_row6_col6\" class=\"data row6 col6\" >0.9654</td>\n",
       "      <td id=\"T_afcc1_row6_col7\" class=\"data row6 col7\" >0.9654</td>\n",
       "      <td id=\"T_afcc1_row6_col8\" class=\"data row6 col8\" >0.3470</td>\n",
       "    </tr>\n",
       "    <tr>\n",
       "      <th id=\"T_afcc1_level0_row7\" class=\"row_heading level0 row7\" >et</th>\n",
       "      <td id=\"T_afcc1_row7_col0\" class=\"data row7 col0\" >Extra Trees Classifier</td>\n",
       "      <td id=\"T_afcc1_row7_col1\" class=\"data row7 col1\" >0.9823</td>\n",
       "      <td id=\"T_afcc1_row7_col2\" class=\"data row7 col2\" >0.9993</td>\n",
       "      <td id=\"T_afcc1_row7_col3\" class=\"data row7 col3\" >0.9823</td>\n",
       "      <td id=\"T_afcc1_row7_col4\" class=\"data row7 col4\" >0.9838</td>\n",
       "      <td id=\"T_afcc1_row7_col5\" class=\"data row7 col5\" >0.9820</td>\n",
       "      <td id=\"T_afcc1_row7_col6\" class=\"data row7 col6\" >0.9607</td>\n",
       "      <td id=\"T_afcc1_row7_col7\" class=\"data row7 col7\" >0.9609</td>\n",
       "      <td id=\"T_afcc1_row7_col8\" class=\"data row7 col8\" >3.0190</td>\n",
       "    </tr>\n",
       "    <tr>\n",
       "      <th id=\"T_afcc1_level0_row8\" class=\"row_heading level0 row8\" >lda</th>\n",
       "      <td id=\"T_afcc1_row8_col0\" class=\"data row8 col0\" >Linear Discriminant Analysis</td>\n",
       "      <td id=\"T_afcc1_row8_col1\" class=\"data row8 col1\" >0.9639</td>\n",
       "      <td id=\"T_afcc1_row8_col2\" class=\"data row8 col2\" >0.9875</td>\n",
       "      <td id=\"T_afcc1_row8_col3\" class=\"data row8 col3\" >0.9639</td>\n",
       "      <td id=\"T_afcc1_row8_col4\" class=\"data row8 col4\" >0.9661</td>\n",
       "      <td id=\"T_afcc1_row8_col5\" class=\"data row8 col5\" >0.9590</td>\n",
       "      <td id=\"T_afcc1_row8_col6\" class=\"data row8 col6\" >0.9195</td>\n",
       "      <td id=\"T_afcc1_row8_col7\" class=\"data row8 col7\" >0.9200</td>\n",
       "      <td id=\"T_afcc1_row8_col8\" class=\"data row8 col8\" >0.3370</td>\n",
       "    </tr>\n",
       "    <tr>\n",
       "      <th id=\"T_afcc1_level0_row9\" class=\"row_heading level0 row9\" >knn</th>\n",
       "      <td id=\"T_afcc1_row9_col0\" class=\"data row9 col0\" >K Neighbors Classifier</td>\n",
       "      <td id=\"T_afcc1_row9_col1\" class=\"data row9 col1\" >0.9560</td>\n",
       "      <td id=\"T_afcc1_row9_col2\" class=\"data row9 col2\" >0.9772</td>\n",
       "      <td id=\"T_afcc1_row9_col3\" class=\"data row9 col3\" >0.9560</td>\n",
       "      <td id=\"T_afcc1_row9_col4\" class=\"data row9 col4\" >0.9495</td>\n",
       "      <td id=\"T_afcc1_row9_col5\" class=\"data row9 col5\" >0.9488</td>\n",
       "      <td id=\"T_afcc1_row9_col6\" class=\"data row9 col6\" >0.8994</td>\n",
       "      <td id=\"T_afcc1_row9_col7\" class=\"data row9 col7\" >0.9000</td>\n",
       "      <td id=\"T_afcc1_row9_col8\" class=\"data row9 col8\" >1.1190</td>\n",
       "    </tr>\n",
       "    <tr>\n",
       "      <th id=\"T_afcc1_level0_row10\" class=\"row_heading level0 row10\" >lightgbm</th>\n",
       "      <td id=\"T_afcc1_row10_col0\" class=\"data row10 col0\" >Light Gradient Boosting Machine</td>\n",
       "      <td id=\"T_afcc1_row10_col1\" class=\"data row10 col1\" >0.9504</td>\n",
       "      <td id=\"T_afcc1_row10_col2\" class=\"data row10 col2\" >0.9605</td>\n",
       "      <td id=\"T_afcc1_row10_col3\" class=\"data row10 col3\" >0.9504</td>\n",
       "      <td id=\"T_afcc1_row10_col4\" class=\"data row10 col4\" >0.9539</td>\n",
       "      <td id=\"T_afcc1_row10_col5\" class=\"data row10 col5\" >0.9506</td>\n",
       "      <td id=\"T_afcc1_row10_col6\" class=\"data row10 col6\" >0.8908</td>\n",
       "      <td id=\"T_afcc1_row10_col7\" class=\"data row10 col7\" >0.8919</td>\n",
       "      <td id=\"T_afcc1_row10_col8\" class=\"data row10 col8\" >2.8430</td>\n",
       "    </tr>\n",
       "    <tr>\n",
       "      <th id=\"T_afcc1_level0_row11\" class=\"row_heading level0 row11\" >ada</th>\n",
       "      <td id=\"T_afcc1_row11_col0\" class=\"data row11 col0\" >Ada Boost Classifier</td>\n",
       "      <td id=\"T_afcc1_row11_col1\" class=\"data row11 col1\" >0.9486</td>\n",
       "      <td id=\"T_afcc1_row11_col2\" class=\"data row11 col2\" >0.9430</td>\n",
       "      <td id=\"T_afcc1_row11_col3\" class=\"data row11 col3\" >0.9486</td>\n",
       "      <td id=\"T_afcc1_row11_col4\" class=\"data row11 col4\" >0.9666</td>\n",
       "      <td id=\"T_afcc1_row11_col5\" class=\"data row11 col5\" >0.9527</td>\n",
       "      <td id=\"T_afcc1_row11_col6\" class=\"data row11 col6\" >0.8865</td>\n",
       "      <td id=\"T_afcc1_row11_col7\" class=\"data row11 col7\" >0.8913</td>\n",
       "      <td id=\"T_afcc1_row11_col8\" class=\"data row11 col8\" >2.2510</td>\n",
       "    </tr>\n",
       "    <tr>\n",
       "      <th id=\"T_afcc1_level0_row12\" class=\"row_heading level0 row12\" >lr</th>\n",
       "      <td id=\"T_afcc1_row12_col0\" class=\"data row12 col0\" >Logistic Regression</td>\n",
       "      <td id=\"T_afcc1_row12_col1\" class=\"data row12 col1\" >0.9156</td>\n",
       "      <td id=\"T_afcc1_row12_col2\" class=\"data row12 col2\" >0.9659</td>\n",
       "      <td id=\"T_afcc1_row12_col3\" class=\"data row12 col3\" >0.9156</td>\n",
       "      <td id=\"T_afcc1_row12_col4\" class=\"data row12 col4\" >0.8750</td>\n",
       "      <td id=\"T_afcc1_row12_col5\" class=\"data row12 col5\" >0.8882</td>\n",
       "      <td id=\"T_afcc1_row12_col6\" class=\"data row12 col6\" >0.7904</td>\n",
       "      <td id=\"T_afcc1_row12_col7\" class=\"data row12 col7\" >0.8026</td>\n",
       "      <td id=\"T_afcc1_row12_col8\" class=\"data row12 col8\" >10.1770</td>\n",
       "    </tr>\n",
       "    <tr>\n",
       "      <th id=\"T_afcc1_level0_row13\" class=\"row_heading level0 row13\" >ridge</th>\n",
       "      <td id=\"T_afcc1_row13_col0\" class=\"data row13 col0\" >Ridge Classifier</td>\n",
       "      <td id=\"T_afcc1_row13_col1\" class=\"data row13 col1\" >0.9069</td>\n",
       "      <td id=\"T_afcc1_row13_col2\" class=\"data row13 col2\" >0.0000</td>\n",
       "      <td id=\"T_afcc1_row13_col3\" class=\"data row13 col3\" >0.9069</td>\n",
       "      <td id=\"T_afcc1_row13_col4\" class=\"data row13 col4\" >0.8339</td>\n",
       "      <td id=\"T_afcc1_row13_col5\" class=\"data row13 col5\" >0.8683</td>\n",
       "      <td id=\"T_afcc1_row13_col6\" class=\"data row13 col6\" >0.7655</td>\n",
       "      <td id=\"T_afcc1_row13_col7\" class=\"data row13 col7\" >0.7810</td>\n",
       "      <td id=\"T_afcc1_row13_col8\" class=\"data row13 col8\" >0.3350</td>\n",
       "    </tr>\n",
       "    <tr>\n",
       "      <th id=\"T_afcc1_level0_row14\" class=\"row_heading level0 row14\" >svm</th>\n",
       "      <td id=\"T_afcc1_row14_col0\" class=\"data row14 col0\" >SVM - Linear Kernel</td>\n",
       "      <td id=\"T_afcc1_row14_col1\" class=\"data row14 col1\" >0.8358</td>\n",
       "      <td id=\"T_afcc1_row14_col2\" class=\"data row14 col2\" >0.0000</td>\n",
       "      <td id=\"T_afcc1_row14_col3\" class=\"data row14 col3\" >0.8358</td>\n",
       "      <td id=\"T_afcc1_row14_col4\" class=\"data row14 col4\" >0.8185</td>\n",
       "      <td id=\"T_afcc1_row14_col5\" class=\"data row14 col5\" >0.7972</td>\n",
       "      <td id=\"T_afcc1_row14_col6\" class=\"data row14 col6\" >0.7011</td>\n",
       "      <td id=\"T_afcc1_row14_col7\" class=\"data row14 col7\" >0.7446</td>\n",
       "      <td id=\"T_afcc1_row14_col8\" class=\"data row14 col8\" >5.9440</td>\n",
       "    </tr>\n",
       "    <tr>\n",
       "      <th id=\"T_afcc1_level0_row15\" class=\"row_heading level0 row15\" >dummy</th>\n",
       "      <td id=\"T_afcc1_row15_col0\" class=\"data row15 col0\" >Dummy Classifier</td>\n",
       "      <td id=\"T_afcc1_row15_col1\" class=\"data row15 col1\" >0.7157</td>\n",
       "      <td id=\"T_afcc1_row15_col2\" class=\"data row15 col2\" >0.5000</td>\n",
       "      <td id=\"T_afcc1_row15_col3\" class=\"data row15 col3\" >0.7157</td>\n",
       "      <td id=\"T_afcc1_row15_col4\" class=\"data row15 col4\" >0.5122</td>\n",
       "      <td id=\"T_afcc1_row15_col5\" class=\"data row15 col5\" >0.5971</td>\n",
       "      <td id=\"T_afcc1_row15_col6\" class=\"data row15 col6\" >0.0000</td>\n",
       "      <td id=\"T_afcc1_row15_col7\" class=\"data row15 col7\" >0.0000</td>\n",
       "      <td id=\"T_afcc1_row15_col8\" class=\"data row15 col8\" >0.3800</td>\n",
       "    </tr>\n",
       "  </tbody>\n",
       "</table>\n"
      ],
      "text/plain": [
       "<pandas.io.formats.style.Styler at 0x20897b79610>"
      ]
     },
     "metadata": {},
     "output_type": "display_data"
    },
    {
     "data": {
      "text/html": [],
      "text/plain": [
       "<IPython.core.display.HTML object>"
      ]
     },
     "metadata": {},
     "output_type": "display_data"
    }
   ],
   "source": [
    "# clf1 = setup(train, target='Consumer_type', fix_imbalance=True,  use_gpu=True)\n",
    "clf1 = setup(train, target='Consumer_type')\n",
    "\n",
    "best_model = compare_models()"
   ]
  },
  {
   "cell_type": "code",
   "execution_count": 15,
   "metadata": {
    "id": "Ts5Og3kZ7I_R"
   },
   "outputs": [],
   "source": [
    "# result_best_model = predict_model(best_model, data=test)"
   ]
  },
  {
   "cell_type": "code",
   "execution_count": 16,
   "metadata": {
    "id": "MN4iMxkyMO_q"
   },
   "outputs": [],
   "source": [
    "# result_best_model.shape"
   ]
  },
  {
   "cell_type": "code",
   "execution_count": 17,
   "metadata": {
    "id": "933DvSj7MS-J"
   },
   "outputs": [],
   "source": [
    "# result_best_model.head()"
   ]
  },
  {
   "cell_type": "code",
   "execution_count": 18,
   "metadata": {
    "id": "Q9rfcTecAa8x"
   },
   "outputs": [],
   "source": [
    "# matrix = confusion_matrix(result_best_model['Consumer_type'], result_best_model['prediction_label'])\n",
    "# sns.heatmap(matrix, annot=True)"
   ]
  },
  {
   "cell_type": "code",
   "execution_count": 19,
   "metadata": {
    "id": "kB6Ls_qeFpHR"
   },
   "outputs": [
    {
     "data": {
      "text/html": [
       "<style type=\"text/css\">\n",
       "</style>\n",
       "<table id=\"T_1669d\">\n",
       "  <thead>\n",
       "    <tr>\n",
       "      <th class=\"blank level0\" >&nbsp;</th>\n",
       "      <th id=\"T_1669d_level0_col0\" class=\"col_heading level0 col0\" >Model</th>\n",
       "      <th id=\"T_1669d_level0_col1\" class=\"col_heading level0 col1\" >Accuracy</th>\n",
       "      <th id=\"T_1669d_level0_col2\" class=\"col_heading level0 col2\" >AUC</th>\n",
       "      <th id=\"T_1669d_level0_col3\" class=\"col_heading level0 col3\" >Recall</th>\n",
       "      <th id=\"T_1669d_level0_col4\" class=\"col_heading level0 col4\" >Prec.</th>\n",
       "      <th id=\"T_1669d_level0_col5\" class=\"col_heading level0 col5\" >F1</th>\n",
       "      <th id=\"T_1669d_level0_col6\" class=\"col_heading level0 col6\" >Kappa</th>\n",
       "      <th id=\"T_1669d_level0_col7\" class=\"col_heading level0 col7\" >MCC</th>\n",
       "    </tr>\n",
       "  </thead>\n",
       "  <tbody>\n",
       "    <tr>\n",
       "      <th id=\"T_1669d_level0_row0\" class=\"row_heading level0 row0\" >0</th>\n",
       "      <td id=\"T_1669d_row0_col0\" class=\"data row0 col0\" >Extreme Gradient Boosting</td>\n",
       "      <td id=\"T_1669d_row0_col1\" class=\"data row0 col1\" >0.7729</td>\n",
       "      <td id=\"T_1669d_row0_col2\" class=\"data row0 col2\" >0.9948</td>\n",
       "      <td id=\"T_1669d_row0_col3\" class=\"data row0 col3\" >0.7729</td>\n",
       "      <td id=\"T_1669d_row0_col4\" class=\"data row0 col4\" >0.8566</td>\n",
       "      <td id=\"T_1669d_row0_col5\" class=\"data row0 col5\" >0.7608</td>\n",
       "      <td id=\"T_1669d_row0_col6\" class=\"data row0 col6\" >0.7350</td>\n",
       "      <td id=\"T_1669d_row0_col7\" class=\"data row0 col7\" >0.7511</td>\n",
       "    </tr>\n",
       "  </tbody>\n",
       "</table>\n"
      ],
      "text/plain": [
       "<pandas.io.formats.style.Styler at 0x2089c6e4a10>"
      ]
     },
     "metadata": {},
     "output_type": "display_data"
    }
   ],
   "source": [
    "result_best_model = predict_model(best_model, data=test2)"
   ]
  },
  {
   "cell_type": "code",
   "execution_count": 20,
   "metadata": {
    "id": "LmtIaSDyFsZL"
   },
   "outputs": [
    {
     "data": {
      "text/plain": [
       "(3500, 8)"
      ]
     },
     "execution_count": 20,
     "metadata": {},
     "output_type": "execute_result"
    }
   ],
   "source": [
    "result_best_model.shape"
   ]
  },
  {
   "cell_type": "code",
   "execution_count": 21,
   "metadata": {
    "id": "gviL-cT2FuDI"
   },
   "outputs": [
    {
     "data": {
      "text/html": [
       "<div>\n",
       "<style scoped>\n",
       "    .dataframe tbody tr th:only-of-type {\n",
       "        vertical-align: middle;\n",
       "    }\n",
       "\n",
       "    .dataframe tbody tr th {\n",
       "        vertical-align: top;\n",
       "    }\n",
       "\n",
       "    .dataframe thead th {\n",
       "        text-align: right;\n",
       "    }\n",
       "</style>\n",
       "<table border=\"1\" class=\"dataframe\">\n",
       "  <thead>\n",
       "    <tr style=\"text-align: right;\">\n",
       "      <th></th>\n",
       "      <th>Year</th>\n",
       "      <th>Month</th>\n",
       "      <th>Consumption</th>\n",
       "      <th>Consumer_number</th>\n",
       "      <th>Installation_zone</th>\n",
       "      <th>Consumer_type</th>\n",
       "      <th>prediction_label</th>\n",
       "      <th>prediction_score</th>\n",
       "    </tr>\n",
       "  </thead>\n",
       "  <tbody>\n",
       "    <tr>\n",
       "      <th>0</th>\n",
       "      <td>2013</td>\n",
       "      <td>8</td>\n",
       "      <td>17</td>\n",
       "      <td>UDDW56971224537260</td>\n",
       "      <td>Installation_zone 3</td>\n",
       "      <td>construction</td>\n",
       "      <td>domestic</td>\n",
       "      <td>0.9674</td>\n",
       "    </tr>\n",
       "    <tr>\n",
       "      <th>1</th>\n",
       "      <td>2017</td>\n",
       "      <td>11</td>\n",
       "      <td>0</td>\n",
       "      <td>KQXL90455068893320</td>\n",
       "      <td>Installation_zone 3</td>\n",
       "      <td>low income families</td>\n",
       "      <td>domestic</td>\n",
       "      <td>0.9983</td>\n",
       "    </tr>\n",
       "    <tr>\n",
       "      <th>2</th>\n",
       "      <td>2016</td>\n",
       "      <td>6</td>\n",
       "      <td>4</td>\n",
       "      <td>SIEU17581574674780</td>\n",
       "      <td>Installation_zone 1</td>\n",
       "      <td>low income families</td>\n",
       "      <td>low income families</td>\n",
       "      <td>0.7610</td>\n",
       "    </tr>\n",
       "    <tr>\n",
       "      <th>3</th>\n",
       "      <td>2016</td>\n",
       "      <td>1</td>\n",
       "      <td>0</td>\n",
       "      <td>TYER04922445407421</td>\n",
       "      <td>Installation_zone 7</td>\n",
       "      <td>construction</td>\n",
       "      <td>construction</td>\n",
       "      <td>0.9984</td>\n",
       "    </tr>\n",
       "    <tr>\n",
       "      <th>4</th>\n",
       "      <td>2013</td>\n",
       "      <td>1</td>\n",
       "      <td>6</td>\n",
       "      <td>VSJQ94108683812238</td>\n",
       "      <td>Installation_zone 4</td>\n",
       "      <td>domestic</td>\n",
       "      <td>domestic</td>\n",
       "      <td>0.9972</td>\n",
       "    </tr>\n",
       "  </tbody>\n",
       "</table>\n",
       "</div>"
      ],
      "text/plain": [
       "   Year  Month  Consumption     Consumer_number    Installation_zone  \\\n",
       "0  2013      8           17  UDDW56971224537260  Installation_zone 3   \n",
       "1  2017     11            0  KQXL90455068893320  Installation_zone 3   \n",
       "2  2016      6            4  SIEU17581574674780  Installation_zone 1   \n",
       "3  2016      1            0  TYER04922445407421  Installation_zone 7   \n",
       "4  2013      1            6  VSJQ94108683812238  Installation_zone 4   \n",
       "\n",
       "         Consumer_type     prediction_label  prediction_score  \n",
       "0         construction             domestic            0.9674  \n",
       "1  low income families             domestic            0.9983  \n",
       "2  low income families  low income families            0.7610  \n",
       "3         construction         construction            0.9984  \n",
       "4             domestic             domestic            0.9972  "
      ]
     },
     "execution_count": 21,
     "metadata": {},
     "output_type": "execute_result"
    }
   ],
   "source": [
    "result_best_model.head()"
   ]
  },
  {
   "cell_type": "code",
   "execution_count": 22,
   "metadata": {
    "id": "Z6daI9YOFvcH"
   },
   "outputs": [
    {
     "data": {
      "text/plain": [
       "<AxesSubplot: >"
      ]
     },
     "execution_count": 22,
     "metadata": {},
     "output_type": "execute_result"
    },
    {
     "data": {
      "image/png": "[encoded data removed]",
      "text/plain": [
       "<Figure size 800x550 with 2 Axes>"
      ]
     },
     "metadata": {},
     "output_type": "display_data"
    }
   ],
   "source": [
    "matrix = confusion_matrix(result_best_model['Consumer_type'], result_best_model['prediction_label'])\n",
    "sns.heatmap(matrix, annot=True)"
   ]
  },
  {
   "cell_type": "code",
   "execution_count": 23,
   "metadata": {
    "id": "iS7GcY7TrQw0"
   },
   "outputs": [
    {
     "data": {
      "text/html": [],
      "text/plain": [
       "<IPython.core.display.HTML object>"
      ]
     },
     "metadata": {},
     "output_type": "display_data"
    },
    {
     "data": {
      "image/png": "[encoded data removed]",
      "text/plain": [
       "<Figure size 800x550 with 1 Axes>"
      ]
     },
     "metadata": {},
     "output_type": "display_data"
    }
   ],
   "source": [
    "plot_model(best_model, plot = 'confusion_matrix', plot_kwargs = {'percent' : True})"
   ]
  },
  {
   "cell_type": "code",
   "execution_count": 24,
   "metadata": {
    "id": "eJMSarSFdprn"
   },
   "outputs": [],
   "source": [
    "# tuned_best_model = tune_model(best_model)"
   ]
  },
  {
   "cell_type": "code",
   "execution_count": 25,
   "metadata": {
    "id": "h1Jp81j9riee"
   },
   "outputs": [],
   "source": [
    "# plot_model(tuned_best_model, plot = 'confusion_matrix', plot_kwargs = {'percent' : True})"
   ]
  },
  {
   "cell_type": "code",
   "execution_count": 26,
   "metadata": {
    "id": "mznEmWG78B5V"
   },
   "outputs": [],
   "source": [
    "# result_tuned_best_model = predict_model(tuned_best_model, data=test)"
   ]
  },
  {
   "cell_type": "code",
   "execution_count": 27,
   "metadata": {
    "id": "H053ZfgMAmCE"
   },
   "outputs": [],
   "source": [
    "# matrix = confusion_matrix(result_tuned_best_model['Consumer_type'], result_tuned_best_model['prediction_label'])\n",
    "# sns.heatmap(matrix, annot=True)"
   ]
  },
  {
   "cell_type": "code",
   "execution_count": 28,
   "metadata": {
    "id": "hPnABvILF3aL"
   },
   "outputs": [],
   "source": [
    "# result_tuned_best_model = predict_model(tuned_best_model, data=test2)"
   ]
  },
  {
   "cell_type": "code",
   "execution_count": 29,
   "metadata": {
    "id": "rRsjXrn_F4uf"
   },
   "outputs": [],
   "source": [
    "# matrix = confusion_matrix(result_tuned_best_model['Consumer_type'], result_tuned_best_model['prediction_label'])\n",
    "# sns.heatmap(matrix, annot=True)"
   ]
  },
  {
   "cell_type": "code",
   "execution_count": 30,
   "metadata": {
    "id": "3FE9IEaU7sYn"
   },
   "outputs": [
    {
     "data": {
      "application/vnd.jupyter.widget-view+json": {
       "model_id": "09fb09ff026a4b26aa99a5995131b57c",
       "version_major": 2,
       "version_minor": 0
      },
      "text/plain": [
       "interactive(children=(ToggleButtons(description='Plot Type:', icons=('',), options=(('Pipeline Plot', 'pipelin…"
      ]
     },
     "metadata": {},
     "output_type": "display_data"
    }
   ],
   "source": [
    "evaluate_model(best_model)"
   ]
  },
  {
   "cell_type": "code",
   "execution_count": 31,
   "metadata": {
    "id": "gau5mxNl7j4E"
   },
   "outputs": [],
   "source": [
    "# evaluate_model(tuned_best_model)"
   ]
  },
  {
   "cell_type": "code",
   "execution_count": 32,
   "metadata": {
    "id": "Oe0HMTHndwWJ"
   },
   "outputs": [
    {
     "name": "stdout",
     "output_type": "stream",
     "text": [
      "Transformation Pipeline and Model Successfully Saved\n"
     ]
    },
    {
     "data": {
      "text/plain": [
       "(Pipeline(memory=Memory(location=None),\n",
       "          steps=[('label_encoding',\n",
       "                  TransformerWrapperWithInverse(exclude=None, include=None,\n",
       "                                                transformer=LabelEncoder())),\n",
       "                 ('numerical_imputer',\n",
       "                  TransformerWrapper(exclude=None,\n",
       "                                     include=['Year', 'Month', 'Consumption'],\n",
       "                                     transformer=SimpleImputer(add_indicator=False,\n",
       "                                                               copy=True,\n",
       "                                                               fill_value=None,\n",
       "                                                               keep_empty_features=False,\n",
       "                                                               missing_valu...\n",
       "                                importance_type=None,\n",
       "                                interaction_constraints=None, learning_rate=None,\n",
       "                                max_bin=None, max_cat_threshold=None,\n",
       "                                max_cat_to_onehot=None, max_delta_step=None,\n",
       "                                max_depth=None, max_leaves=None,\n",
       "                                min_child_weight=None, missing=nan,\n",
       "                                monotone_constraints=None, multi_strategy=None,\n",
       "                                n_estimators=None, n_jobs=-1,\n",
       "                                num_parallel_tree=None,\n",
       "                                objective='multi:softprob', ...))],\n",
       "          verbose=False),\n",
       " 'model_v1.pkl')"
      ]
     },
     "execution_count": 32,
     "metadata": {},
     "output_type": "execute_result"
    }
   ],
   "source": [
    "save_model(best_model, 'model_v1')\n",
    "# save_model(tuned_best_model, 'tuned_best_model')"
   ]
  },
  {
   "cell_type": "code",
   "execution_count": 33,
   "metadata": {
    "id": "_39pndgsuzHE"
   },
   "outputs": [],
   "source": [
    "competition = pd.read_csv(\"competition.csv\")"
   ]
  },
  {
   "cell_type": "code",
   "execution_count": 34,
   "metadata": {
    "id": "Wm2igEACpIpa"
   },
   "outputs": [
    {
     "data": {
      "text/html": [
       "<div>\n",
       "<style scoped>\n",
       "    .dataframe tbody tr th:only-of-type {\n",
       "        vertical-align: middle;\n",
       "    }\n",
       "\n",
       "    .dataframe tbody tr th {\n",
       "        vertical-align: top;\n",
       "    }\n",
       "\n",
       "    .dataframe thead th {\n",
       "        text-align: right;\n",
       "    }\n",
       "</style>\n",
       "<table border=\"1\" class=\"dataframe\">\n",
       "  <thead>\n",
       "    <tr style=\"text-align: right;\">\n",
       "      <th></th>\n",
       "      <th>Year</th>\n",
       "      <th>Month</th>\n",
       "      <th>Consumption</th>\n",
       "      <th>Consumer_number</th>\n",
       "      <th>Installation_zone</th>\n",
       "    </tr>\n",
       "  </thead>\n",
       "  <tbody>\n",
       "    <tr>\n",
       "      <th>0</th>\n",
       "      <td>2013</td>\n",
       "      <td>1</td>\n",
       "      <td>1</td>\n",
       "      <td>VENX08444954462680</td>\n",
       "      <td>Installation_zone 1</td>\n",
       "    </tr>\n",
       "    <tr>\n",
       "      <th>1</th>\n",
       "      <td>2013</td>\n",
       "      <td>1</td>\n",
       "      <td>2</td>\n",
       "      <td>GRXC33020746550125</td>\n",
       "      <td>Installation_zone 1</td>\n",
       "    </tr>\n",
       "    <tr>\n",
       "      <th>2</th>\n",
       "      <td>2013</td>\n",
       "      <td>1</td>\n",
       "      <td>1</td>\n",
       "      <td>FCGQ19814303536339</td>\n",
       "      <td>Installation_zone 1</td>\n",
       "    </tr>\n",
       "    <tr>\n",
       "      <th>3</th>\n",
       "      <td>2013</td>\n",
       "      <td>1</td>\n",
       "      <td>5</td>\n",
       "      <td>EQKL85694875580467</td>\n",
       "      <td>Installation_zone 3</td>\n",
       "    </tr>\n",
       "    <tr>\n",
       "      <th>4</th>\n",
       "      <td>2013</td>\n",
       "      <td>1</td>\n",
       "      <td>14</td>\n",
       "      <td>KCXW91343862250032</td>\n",
       "      <td>Installation_zone 3</td>\n",
       "    </tr>\n",
       "  </tbody>\n",
       "</table>\n",
       "</div>"
      ],
      "text/plain": [
       "   Year  Month  Consumption     Consumer_number    Installation_zone\n",
       "0  2013      1            1  VENX08444954462680  Installation_zone 1\n",
       "1  2013      1            2  GRXC33020746550125  Installation_zone 1\n",
       "2  2013      1            1  FCGQ19814303536339  Installation_zone 1\n",
       "3  2013      1            5  EQKL85694875580467  Installation_zone 3\n",
       "4  2013      1           14  KCXW91343862250032  Installation_zone 3"
      ]
     },
     "execution_count": 34,
     "metadata": {},
     "output_type": "execute_result"
    }
   ],
   "source": [
    "competition.head()"
   ]
  },
  {
   "cell_type": "code",
   "execution_count": 35,
   "metadata": {
    "id": "Rb3a1Fe1vIr7"
   },
   "outputs": [],
   "source": [
    "# competition['mean_consumption'] = competition.groupby('Consumer_number')['Consumption'].transform('mean')\n",
    "# competition['consumption_count'] = competition.groupby('Consumer_number')['Consumption'].transform('count')\n",
    "\n",
    "# consumer_number = competition['Consumer_number']\n",
    "# competition = competition.drop('Consumer_number', axis=1)"
   ]
  },
  {
   "cell_type": "code",
   "execution_count": 36,
   "metadata": {
    "id": "85IYWYiJvPdz"
   },
   "outputs": [
    {
     "data": {
      "text/html": [
       "<div>\n",
       "<style scoped>\n",
       "    .dataframe tbody tr th:only-of-type {\n",
       "        vertical-align: middle;\n",
       "    }\n",
       "\n",
       "    .dataframe tbody tr th {\n",
       "        vertical-align: top;\n",
       "    }\n",
       "\n",
       "    .dataframe thead th {\n",
       "        text-align: right;\n",
       "    }\n",
       "</style>\n",
       "<table border=\"1\" class=\"dataframe\">\n",
       "  <thead>\n",
       "    <tr style=\"text-align: right;\">\n",
       "      <th></th>\n",
       "      <th>Year</th>\n",
       "      <th>Month</th>\n",
       "      <th>Consumption</th>\n",
       "      <th>Consumer_number</th>\n",
       "      <th>Installation_zone</th>\n",
       "    </tr>\n",
       "  </thead>\n",
       "  <tbody>\n",
       "    <tr>\n",
       "      <th>0</th>\n",
       "      <td>2013</td>\n",
       "      <td>1</td>\n",
       "      <td>1</td>\n",
       "      <td>VENX08444954462680</td>\n",
       "      <td>Installation_zone 1</td>\n",
       "    </tr>\n",
       "    <tr>\n",
       "      <th>1</th>\n",
       "      <td>2013</td>\n",
       "      <td>1</td>\n",
       "      <td>2</td>\n",
       "      <td>GRXC33020746550125</td>\n",
       "      <td>Installation_zone 1</td>\n",
       "    </tr>\n",
       "    <tr>\n",
       "      <th>2</th>\n",
       "      <td>2013</td>\n",
       "      <td>1</td>\n",
       "      <td>1</td>\n",
       "      <td>FCGQ19814303536339</td>\n",
       "      <td>Installation_zone 1</td>\n",
       "    </tr>\n",
       "    <tr>\n",
       "      <th>3</th>\n",
       "      <td>2013</td>\n",
       "      <td>1</td>\n",
       "      <td>5</td>\n",
       "      <td>EQKL85694875580467</td>\n",
       "      <td>Installation_zone 3</td>\n",
       "    </tr>\n",
       "    <tr>\n",
       "      <th>4</th>\n",
       "      <td>2013</td>\n",
       "      <td>1</td>\n",
       "      <td>14</td>\n",
       "      <td>KCXW91343862250032</td>\n",
       "      <td>Installation_zone 3</td>\n",
       "    </tr>\n",
       "  </tbody>\n",
       "</table>\n",
       "</div>"
      ],
      "text/plain": [
       "   Year  Month  Consumption     Consumer_number    Installation_zone\n",
       "0  2013      1            1  VENX08444954462680  Installation_zone 1\n",
       "1  2013      1            2  GRXC33020746550125  Installation_zone 1\n",
       "2  2013      1            1  FCGQ19814303536339  Installation_zone 1\n",
       "3  2013      1            5  EQKL85694875580467  Installation_zone 3\n",
       "4  2013      1           14  KCXW91343862250032  Installation_zone 3"
      ]
     },
     "execution_count": 36,
     "metadata": {},
     "output_type": "execute_result"
    }
   ],
   "source": [
    "competition.head()"
   ]
  },
  {
   "cell_type": "code",
   "execution_count": 37,
   "metadata": {
    "id": "isJG1JFLvF9X"
   },
   "outputs": [
    {
     "data": {
      "text/html": [],
      "text/plain": [
       "<IPython.core.display.HTML object>"
      ]
     },
     "metadata": {},
     "output_type": "display_data"
    }
   ],
   "source": [
    "result_competition = predict_model(best_model, data=competition)\n",
    "\n",
    "result_competition = result_competition.rename(columns={'prediction_label': 'Consumer_type'})\n",
    "\n",
    "# result_competition = result_competition.drop('consumption_count', axis=1)\n",
    "# result_competition = result_competition.drop('mean_consumption', axis=1)\n",
    "result_competition = result_competition.drop('prediction_score', axis=1)\n",
    "\n",
    "# result_competition['Consumer_number'] = consumer_number"
   ]
  },
  {
   "cell_type": "code",
   "execution_count": 38,
   "metadata": {
    "id": "nuQZGrMwvX1S"
   },
   "outputs": [
    {
     "data": {
      "text/html": [
       "<div>\n",
       "<style scoped>\n",
       "    .dataframe tbody tr th:only-of-type {\n",
       "        vertical-align: middle;\n",
       "    }\n",
       "\n",
       "    .dataframe tbody tr th {\n",
       "        vertical-align: top;\n",
       "    }\n",
       "\n",
       "    .dataframe thead th {\n",
       "        text-align: right;\n",
       "    }\n",
       "</style>\n",
       "<table border=\"1\" class=\"dataframe\">\n",
       "  <thead>\n",
       "    <tr style=\"text-align: right;\">\n",
       "      <th></th>\n",
       "      <th>Year</th>\n",
       "      <th>Month</th>\n",
       "      <th>Consumption</th>\n",
       "      <th>Consumer_number</th>\n",
       "      <th>Installation_zone</th>\n",
       "      <th>Consumer_type</th>\n",
       "    </tr>\n",
       "  </thead>\n",
       "  <tbody>\n",
       "    <tr>\n",
       "      <th>0</th>\n",
       "      <td>2013</td>\n",
       "      <td>1</td>\n",
       "      <td>1</td>\n",
       "      <td>VENX08444954462680</td>\n",
       "      <td>Installation_zone 1</td>\n",
       "      <td>domestic</td>\n",
       "    </tr>\n",
       "    <tr>\n",
       "      <th>1</th>\n",
       "      <td>2013</td>\n",
       "      <td>1</td>\n",
       "      <td>2</td>\n",
       "      <td>GRXC33020746550125</td>\n",
       "      <td>Installation_zone 1</td>\n",
       "      <td>domestic</td>\n",
       "    </tr>\n",
       "    <tr>\n",
       "      <th>2</th>\n",
       "      <td>2013</td>\n",
       "      <td>1</td>\n",
       "      <td>1</td>\n",
       "      <td>FCGQ19814303536339</td>\n",
       "      <td>Installation_zone 1</td>\n",
       "      <td>domestic</td>\n",
       "    </tr>\n",
       "    <tr>\n",
       "      <th>3</th>\n",
       "      <td>2013</td>\n",
       "      <td>1</td>\n",
       "      <td>5</td>\n",
       "      <td>EQKL85694875580467</td>\n",
       "      <td>Installation_zone 3</td>\n",
       "      <td>domestic</td>\n",
       "    </tr>\n",
       "    <tr>\n",
       "      <th>4</th>\n",
       "      <td>2013</td>\n",
       "      <td>1</td>\n",
       "      <td>14</td>\n",
       "      <td>KCXW91343862250032</td>\n",
       "      <td>Installation_zone 3</td>\n",
       "      <td>domestic</td>\n",
       "    </tr>\n",
       "  </tbody>\n",
       "</table>\n",
       "</div>"
      ],
      "text/plain": [
       "   Year  Month  Consumption     Consumer_number    Installation_zone  \\\n",
       "0  2013      1            1  VENX08444954462680  Installation_zone 1   \n",
       "1  2013      1            2  GRXC33020746550125  Installation_zone 1   \n",
       "2  2013      1            1  FCGQ19814303536339  Installation_zone 1   \n",
       "3  2013      1            5  EQKL85694875580467  Installation_zone 3   \n",
       "4  2013      1           14  KCXW91343862250032  Installation_zone 3   \n",
       "\n",
       "  Consumer_type  \n",
       "0      domestic  \n",
       "1      domestic  \n",
       "2      domestic  \n",
       "3      domestic  \n",
       "4      domestic  "
      ]
     },
     "execution_count": 38,
     "metadata": {},
     "output_type": "execute_result"
    }
   ],
   "source": [
    "result_competition.head()"
   ]
  },
  {
   "cell_type": "code",
   "execution_count": 39,
   "metadata": {
    "id": "5KWa4HTlpain"
   },
   "outputs": [
    {
     "data": {
      "text/plain": [
       "Text(0.5, 1.0, 'Count of Consumer_type')"
      ]
     },
     "execution_count": 39,
     "metadata": {},
     "output_type": "execute_result"
    },
    {
     "data": {
      "image/png": "[encoded data removed]",
      "text/plain": [
       "<Figure size 800x550 with 1 Axes>"
      ]
     },
     "metadata": {},
     "output_type": "display_data"
    }
   ],
   "source": [
    "result_competition['Consumer_type'].value_counts().plot(kind='bar')\n",
    "\n",
    "plt.xlabel('Consumer_type')\n",
    "plt.ylabel('Count')\n",
    "plt.title('Count of Consumer_type')"
   ]
  },
  {
   "cell_type": "code",
   "execution_count": 40,
   "metadata": {
    "id": "OVjJOjdirq0l"
   },
   "outputs": [],
   "source": [
    "result = pd.DataFrame()\n",
    "result['Consumer_number'] = result_competition['Consumer_number']\n",
    "result['Consumer_type'] = result_competition['Consumer_type']\n",
    "result.to_csv('competition_v1.csv', index=False)"
   ]
  },
  {
   "cell_type": "code",
   "execution_count": 41,
   "metadata": {
    "id": "H9S73tlQdHr_"
   },
   "outputs": [],
   "source": [
    "# result_competition = predict_model(tuned_best_model, data=competition)\n",
    "\n",
    "# result_competition = result_competition.rename(columns={'prediction_label': 'Consumer_type'})\n",
    "\n",
    "# result_competition = result_competition.drop('consumption_count', axis=1)\n",
    "# result_competition = result_competition.drop('mean_consumption', axis=1)\n",
    "# result_competition = result_competition.drop('prediction_score', axis=1)"
   ]
  },
  {
   "cell_type": "code",
   "execution_count": 42,
   "metadata": {
    "id": "9UwtNH95dRDx"
   },
   "outputs": [],
   "source": [
    "# result_competition.head()"
   ]
  },
  {
   "cell_type": "code",
   "execution_count": 43,
   "metadata": {
    "id": "n3m2U7QodQlj"
   },
   "outputs": [],
   "source": [
    "# result_competition['Consumer_type'].value_counts().plot(kind='bar')\n",
    "\n",
    "# plt.xlabel('Consumer_type')\n",
    "# plt.ylabel('Count')\n",
    "# plt.title('Count of Consumer_type')"
   ]
  }
 ],
 "metadata": {
  "colab": {
   "provenance": []
  },
  "kernelspec": {
   "display_name": "Python 3 (ipykernel)",
   "language": "python",
   "name": "python3"
  },
  "language_info": {
   "codemirror_mode": {
    "name": "ipython",
    "version": 3
   },
   "file_extension": ".py",
   "mimetype": "text/x-python",
   "name": "python",
   "nbconvert_exporter": "python",
   "pygments_lexer": "ipython3",
   "version": "3.11.5"
  },
  "widgets": {
   "application/vnd.jupyter.widget-state+json": {
    "09e63fa5c6fe48da949b2806ee42895e": {
     "model_module": "@jupyter-widgets/controls",
     "model_module_version": "1.5.0",
     "model_name": "DescriptionStyleModel",
     "state": {
      "_model_module": "@jupyter-widgets/controls",
      "_model_module_version": "1.5.0",
      "_model_name": "DescriptionStyleModel",
      "_view_count": null,
      "_view_module": "@jupyter-widgets/base",
      "_view_module_version": "1.2.0",
      "_view_name": "StyleView",
      "description_width": ""
     }
    },
    "1508cb1a74b943a0b220d4ea53ca4310": {
     "model_module": "@jupyter-widgets/controls",
     "model_module_version": "1.5.0",
     "model_name": "DescriptionStyleModel",
     "state": {
      "_model_module": "@jupyter-widgets/controls",
      "_model_module_version": "1.5.0",
      "_model_name": "DescriptionStyleModel",
      "_view_count": null,
      "_view_module": "@jupyter-widgets/base",
      "_view_module_version": "1.2.0",
      "_view_name": "StyleView",
      "description_width": ""
     }
    },
    "17595247600d432ea42989c58f7273dc": {
     "model_module": "@jupyter-widgets/controls",
     "model_module_version": "1.5.0",
     "model_name": "HTMLModel",
     "state": {
      "_dom_classes": [],
      "_model_module": "@jupyter-widgets/controls",
      "_model_module_version": "1.5.0",
      "_model_name": "HTMLModel",
      "_view_count": null,
      "_view_module": "@jupyter-widgets/controls",
      "_view_module_version": "1.5.0",
      "_view_name": "HTMLView",
      "description": "",
      "description_tooltip": null,
      "layout": "IPY_MODEL_2586bd3ee9d548b098a72543f64aca9f",
      "placeholder": "​",
      "style": "IPY_MODEL_1508cb1a74b943a0b220d4ea53ca4310",
      "value": " 19/65 [37:43&lt;31:39, 41.30s/it]"
     }
    },
    "2586bd3ee9d548b098a72543f64aca9f": {
     "model_module": "@jupyter-widgets/base",
     "model_module_version": "1.2.0",
     "model_name": "LayoutModel",
     "state": {
      "_model_module": "@jupyter-widgets/base",
      "_model_module_version": "1.2.0",
      "_model_name": "LayoutModel",
      "_view_count": null,
      "_view_module": "@jupyter-widgets/base",
      "_view_module_version": "1.2.0",
      "_view_name": "LayoutView",
      "align_content": null,
      "align_items": null,
      "align_self": null,
      "border": null,
      "bottom": null,
      "display": null,
      "flex": null,
      "flex_flow": null,
      "grid_area": null,
      "grid_auto_columns": null,
      "grid_auto_flow": null,
      "grid_auto_rows": null,
      "grid_column": null,
      "grid_gap": null,
      "grid_row": null,
      "grid_template_areas": null,
      "grid_template_columns": null,
      "grid_template_rows": null,
      "height": null,
      "justify_content": null,
      "justify_items": null,
      "left": null,
      "margin": null,
      "max_height": null,
      "max_width": null,
      "min_height": null,
      "min_width": null,
      "object_fit": null,
      "object_position": null,
      "order": null,
      "overflow": null,
      "overflow_x": null,
      "overflow_y": null,
      "padding": null,
      "right": null,
      "top": null,
      "visibility": null,
      "width": null
     }
    },
    "34db251140e848e48a6d2fa41187c409": {
     "model_module": "@jupyter-widgets/controls",
     "model_module_version": "1.5.0",
     "model_name": "ProgressStyleModel",
     "state": {
      "_model_module": "@jupyter-widgets/controls",
      "_model_module_version": "1.5.0",
      "_model_name": "ProgressStyleModel",
      "_view_count": null,
      "_view_module": "@jupyter-widgets/base",
      "_view_module_version": "1.2.0",
      "_view_name": "StyleView",
      "bar_color": null,
      "description_width": ""
     }
    },
    "4d7b7f4f1ac348e4a18ca450cd59dfec": {
     "model_module": "@jupyter-widgets/controls",
     "model_module_version": "1.5.0",
     "model_name": "HBoxModel",
     "state": {
      "_dom_classes": [],
      "_model_module": "@jupyter-widgets/controls",
      "_model_module_version": "1.5.0",
      "_model_name": "HBoxModel",
      "_view_count": null,
      "_view_module": "@jupyter-widgets/controls",
      "_view_module_version": "1.5.0",
      "_view_name": "HBoxView",
      "box_style": "",
      "children": [
       "IPY_MODEL_fb389962c90941f680880e371ce1758f",
       "IPY_MODEL_ff2db4959eeb4e0d987382aa80e8f8d1",
       "IPY_MODEL_17595247600d432ea42989c58f7273dc"
      ],
      "layout": "IPY_MODEL_ea306e4c347544609cdfbcfb9d3e302e"
     }
    },
    "68578eb1e63249a381cc6c238e4ad70b": {
     "model_module": "@jupyter-widgets/base",
     "model_module_version": "1.2.0",
     "model_name": "LayoutModel",
     "state": {
      "_model_module": "@jupyter-widgets/base",
      "_model_module_version": "1.2.0",
      "_model_name": "LayoutModel",
      "_view_count": null,
      "_view_module": "@jupyter-widgets/base",
      "_view_module_version": "1.2.0",
      "_view_name": "LayoutView",
      "align_content": null,
      "align_items": null,
      "align_self": null,
      "border": null,
      "bottom": null,
      "display": null,
      "flex": null,
      "flex_flow": null,
      "grid_area": null,
      "grid_auto_columns": null,
      "grid_auto_flow": null,
      "grid_auto_rows": null,
      "grid_column": null,
      "grid_gap": null,
      "grid_row": null,
      "grid_template_areas": null,
      "grid_template_columns": null,
      "grid_template_rows": null,
      "height": null,
      "justify_content": null,
      "justify_items": null,
      "left": null,
      "margin": null,
      "max_height": null,
      "max_width": null,
      "min_height": null,
      "min_width": null,
      "object_fit": null,
      "object_position": null,
      "order": null,
      "overflow": null,
      "overflow_x": null,
      "overflow_y": null,
      "padding": null,
      "right": null,
      "top": null,
      "visibility": null,
      "width": null
     }
    },
    "6ecc0325edc2492cb539f885b2d5a6e5": {
     "model_module": "@jupyter-widgets/base",
     "model_module_version": "1.2.0",
     "model_name": "LayoutModel",
     "state": {
      "_model_module": "@jupyter-widgets/base",
      "_model_module_version": "1.2.0",
      "_model_name": "LayoutModel",
      "_view_count": null,
      "_view_module": "@jupyter-widgets/base",
      "_view_module_version": "1.2.0",
      "_view_name": "LayoutView",
      "align_content": null,
      "align_items": null,
      "align_self": null,
      "border": null,
      "bottom": null,
      "display": null,
      "flex": null,
      "flex_flow": null,
      "grid_area": null,
      "grid_auto_columns": null,
      "grid_auto_flow": null,
      "grid_auto_rows": null,
      "grid_column": null,
      "grid_gap": null,
      "grid_row": null,
      "grid_template_areas": null,
      "grid_template_columns": null,
      "grid_template_rows": null,
      "height": null,
      "justify_content": null,
      "justify_items": null,
      "left": null,
      "margin": null,
      "max_height": null,
      "max_width": null,
      "min_height": null,
      "min_width": null,
      "object_fit": null,
      "object_position": null,
      "order": null,
      "overflow": null,
      "overflow_x": null,
      "overflow_y": null,
      "padding": null,
      "right": null,
      "top": null,
      "visibility": null,
      "width": null
     }
    },
    "ea306e4c347544609cdfbcfb9d3e302e": {
     "model_module": "@jupyter-widgets/base",
     "model_module_version": "1.2.0",
     "model_name": "LayoutModel",
     "state": {
      "_model_module": "@jupyter-widgets/base",
      "_model_module_version": "1.2.0",
      "_model_name": "LayoutModel",
      "_view_count": null,
      "_view_module": "@jupyter-widgets/base",
      "_view_module_version": "1.2.0",
      "_view_name": "LayoutView",
      "align_content": null,
      "align_items": null,
      "align_self": null,
      "border": null,
      "bottom": null,
      "display": null,
      "flex": null,
      "flex_flow": null,
      "grid_area": null,
      "grid_auto_columns": null,
      "grid_auto_flow": null,
      "grid_auto_rows": null,
      "grid_column": null,
      "grid_gap": null,
      "grid_row": null,
      "grid_template_areas": null,
      "grid_template_columns": null,
      "grid_template_rows": null,
      "height": null,
      "justify_content": null,
      "justify_items": null,
      "left": null,
      "margin": null,
      "max_height": null,
      "max_width": null,
      "min_height": null,
      "min_width": null,
      "object_fit": null,
      "object_position": null,
      "order": null,
      "overflow": null,
      "overflow_x": null,
      "overflow_y": null,
      "padding": null,
      "right": null,
      "top": null,
      "visibility": null,
      "width": null
     }
    },
    "fb389962c90941f680880e371ce1758f": {
     "model_module": "@jupyter-widgets/controls",
     "model_module_version": "1.5.0",
     "model_name": "HTMLModel",
     "state": {
      "_dom_classes": [],
      "_model_module": "@jupyter-widgets/controls",
      "_model_module_version": "1.5.0",
      "_model_name": "HTMLModel",
      "_view_count": null,
      "_view_module": "@jupyter-widgets/controls",
      "_view_module_version": "1.5.0",
      "_view_name": "HTMLView",
      "description": "",
      "description_tooltip": null,
      "layout": "IPY_MODEL_68578eb1e63249a381cc6c238e4ad70b",
      "placeholder": "​",
      "style": "IPY_MODEL_09e63fa5c6fe48da949b2806ee42895e",
      "value": "Processing:  29%"
     }
    },
    "ff2db4959eeb4e0d987382aa80e8f8d1": {
     "model_module": "@jupyter-widgets/controls",
     "model_module_version": "1.5.0",
     "model_name": "FloatProgressModel",
     "state": {
      "_dom_classes": [],
      "_model_module": "@jupyter-widgets/controls",
      "_model_module_version": "1.5.0",
      "_model_name": "FloatProgressModel",
      "_view_count": null,
      "_view_module": "@jupyter-widgets/controls",
      "_view_module_version": "1.5.0",
      "_view_name": "ProgressView",
      "bar_style": "",
      "description": "",
      "description_tooltip": null,
      "layout": "IPY_MODEL_6ecc0325edc2492cb539f885b2d5a6e5",
      "max": 65,
      "min": 0,
      "orientation": "horizontal",
      "style": "IPY_MODEL_34db251140e848e48a6d2fa41187c409",
      "value": 19
     }
    }
   }
  }
 },
 "nbformat": 4,
 "nbformat_minor": 1
}
