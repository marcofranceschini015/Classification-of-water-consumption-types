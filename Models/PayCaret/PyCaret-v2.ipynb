{
 "cells": [
  {
   "cell_type": "code",
   "execution_count": 1,
   "metadata": {
    "colab": {
     "base_uri": "https://localhost:8080/",
     "height": 1000
    },
    "executionInfo": {
     "elapsed": 61955,
     "status": "ok",
     "timestamp": 1707152578604,
     "user": {
      "displayName": "Waldyr Turquetti",
      "userId": "16979580399715376846"
     },
     "user_tz": 0
    },
    "id": "Do13G6lHaxve",
    "outputId": "c2cf804e-2c85-4f05-bacb-c5b8477c4622"
   },
   "outputs": [],
   "source": [
    "# !pip install pycaret"
   ]
  },
  {
   "cell_type": "code",
   "execution_count": 2,
   "metadata": {
    "executionInfo": {
     "elapsed": 3945,
     "status": "ok",
     "timestamp": 1707152582543,
     "user": {
      "displayName": "Waldyr Turquetti",
      "userId": "16979580399715376846"
     },
     "user_tz": 0
    },
    "id": "Zxee3LkTcdLx"
   },
   "outputs": [],
   "source": [
    "import pandas as pd\n",
    "import seaborn as sns\n",
    "\n",
    "from pycaret.classification import *\n",
    "\n",
    "from sklearn.model_selection import train_test_split\n",
    "from sklearn.metrics import confusion_matrix\n",
    "\n",
    "import matplotlib.pyplot as plt"
   ]
  },
  {
   "cell_type": "code",
   "execution_count": 3,
   "metadata": {
    "executionInfo": {
     "elapsed": 4753,
     "status": "ok",
     "timestamp": 1707152587292,
     "user": {
      "displayName": "Waldyr Turquetti",
      "userId": "16979580399715376846"
     },
     "user_tz": 0
    },
    "id": "0pijHbJ_cLbN"
   },
   "outputs": [],
   "source": [
    "train = pd.read_csv(\"new_train_v5.csv\")\n",
    "train = train.drop('index', axis=1)"
   ]
  },
  {
   "cell_type": "code",
   "execution_count": 4,
   "metadata": {
    "colab": {
     "base_uri": "https://localhost:8080/"
    },
    "executionInfo": {
     "elapsed": 758,
     "status": "ok",
     "timestamp": 1707152588047,
     "user": {
      "displayName": "Waldyr Turquetti",
      "userId": "16979580399715376846"
     },
     "user_tz": 0
    },
    "id": "wXAQgTIfQsmS",
    "outputId": "3f697cea-a859-415d-99b7-7b107171adab"
   },
   "outputs": [
    {
     "name": "stdout",
     "output_type": "stream",
     "text": [
      "rural domestic         203771\n",
      "rural commercial       203542\n",
      "domestic               203531\n",
      "construction           200993\n",
      "low income families    200485\n",
      "rural expansion        200300\n",
      "industrial             196681\n",
      "Name: Consumer_type, dtype: int64\n"
     ]
    }
   ],
   "source": [
    "counts = train['Consumer_type'].value_counts()\n",
    "print(counts)"
   ]
  },
  {
   "cell_type": "code",
   "execution_count": 5,
   "metadata": {
    "executionInfo": {
     "elapsed": 7,
     "status": "ok",
     "timestamp": 1707152588047,
     "user": {
      "displayName": "Waldyr Turquetti",
      "userId": "16979580399715376846"
     },
     "user_tz": 0
    },
    "id": "yCiHrUbz8RHg"
   },
   "outputs": [],
   "source": [
    "test = pd.read_csv(\"test_v5.csv\")"
   ]
  },
  {
   "cell_type": "code",
   "execution_count": 6,
   "metadata": {
    "colab": {
     "base_uri": "https://localhost:8080/"
    },
    "executionInfo": {
     "elapsed": 5,
     "status": "ok",
     "timestamp": 1707152588047,
     "user": {
      "displayName": "Waldyr Turquetti",
      "userId": "16979580399715376846"
     },
     "user_tz": 0
    },
    "id": "NToU32USfFNY",
    "outputId": "13545541-241a-40d6-e0a5-b97ab34087e5"
   },
   "outputs": [
    {
     "data": {
      "text/plain": [
       "(1409303, 6)"
      ]
     },
     "execution_count": 6,
     "metadata": {},
     "output_type": "execute_result"
    }
   ],
   "source": [
    "train.shape"
   ]
  },
  {
   "cell_type": "code",
   "execution_count": 7,
   "metadata": {
    "colab": {
     "base_uri": "https://localhost:8080/"
    },
    "executionInfo": {
     "elapsed": 720,
     "status": "ok",
     "timestamp": 1707152588764,
     "user": {
      "displayName": "Waldyr Turquetti",
      "userId": "16979580399715376846"
     },
     "user_tz": 0
    },
    "id": "BoOsAdp3QiRp",
    "outputId": "efb9b9f6-71b4-4ac8-b1d8-1cd57de70770"
   },
   "outputs": [
    {
     "name": "stdout",
     "output_type": "stream",
     "text": [
      "rural domestic         203771\n",
      "rural commercial       203542\n",
      "domestic               203531\n",
      "construction           200993\n",
      "low income families    200485\n",
      "rural expansion        200300\n",
      "industrial             196681\n",
      "Name: Consumer_type, dtype: int64\n"
     ]
    }
   ],
   "source": [
    "counts = train['Consumer_type'].value_counts()\n",
    "print(counts)"
   ]
  },
  {
   "cell_type": "code",
   "execution_count": 8,
   "metadata": {
    "executionInfo": {
     "elapsed": 3186,
     "status": "ok",
     "timestamp": 1707152591947,
     "user": {
      "displayName": "Waldyr Turquetti",
      "userId": "16979580399715376846"
     },
     "user_tz": 0
    },
    "id": "s1VMqtwMTVEF"
   },
   "outputs": [],
   "source": [
    "train = train.sample(frac=1, random_state=42).reset_index(drop=True)\n",
    "test = test.sample(frac=1, random_state=42).reset_index(drop=True)"
   ]
  },
  {
   "cell_type": "code",
   "execution_count": 9,
   "metadata": {
    "colab": {
     "base_uri": "https://localhost:8080/"
    },
    "executionInfo": {
     "elapsed": 8,
     "status": "ok",
     "timestamp": 1707152591947,
     "user": {
      "displayName": "Waldyr Turquetti",
      "userId": "16979580399715376846"
     },
     "user_tz": 0
    },
    "id": "pW3psIvERHoj",
    "outputId": "e58d48a8-0a19-4fc3-8b55-5a97ff6722e8"
   },
   "outputs": [
    {
     "data": {
      "text/plain": [
       "(3500, 6)"
      ]
     },
     "execution_count": 9,
     "metadata": {},
     "output_type": "execute_result"
    }
   ],
   "source": [
    "test.shape"
   ]
  },
  {
   "cell_type": "code",
   "execution_count": 10,
   "metadata": {
    "colab": {
     "base_uri": "https://localhost:8080/"
    },
    "executionInfo": {
     "elapsed": 4,
     "status": "ok",
     "timestamp": 1707152591947,
     "user": {
      "displayName": "Waldyr Turquetti",
      "userId": "16979580399715376846"
     },
     "user_tz": 0
    },
    "id": "ibK_L1sRQdMa",
    "outputId": "5616ba01-ca72-4902-e68f-704835220477"
   },
   "outputs": [
    {
     "name": "stdout",
     "output_type": "stream",
     "text": [
      "rural commercial       500\n",
      "low income families    500\n",
      "domestic               500\n",
      "industrial             500\n",
      "rural expansion        500\n",
      "construction           500\n",
      "rural domestic         500\n",
      "Name: Consumer_type, dtype: int64\n"
     ]
    }
   ],
   "source": [
    "counts = test['Consumer_type'].value_counts()\n",
    "print(counts)"
   ]
  },
  {
   "cell_type": "code",
   "execution_count": 11,
   "metadata": {
    "colab": {
     "base_uri": "https://localhost:8080/",
     "height": 1000,
     "referenced_widgets": [
      "433e00797fa34389966a4c491a2420ba",
      "9a780d1f77e7430fbae0833b4dc5270c",
      "e75a81dc1af7483ba2bfe1fd25971840",
      "ce40dee416944b5db04de53d07e75840",
      "cd33ca4fc12a41709727144756265f4d",
      "e1c0e9b83b3a4cd9a75944d25656a4e6",
      "b5827d7fe85443d690c054a75ca2e67d",
      "b21ba8c43ebd48f8b64adc96785a116d",
      "f9128cc0bbee470281e71a2480f109b7",
      "5878e49dbe9f48f096747f4e4569f830",
      "ef911d5800ab4734850a5b34fda74266"
     ]
    },
    "id": "0p_-tn_Ec30Q",
    "outputId": "d4bfe9a0-cf71-40be-a704-760555f42a49",
    "scrolled": true
   },
   "outputs": [
    {
     "data": {
      "text/html": [
       "<style type=\"text/css\">\n",
       "#T_9d227_row10_col1 {\n",
       "  background-color: lightgreen;\n",
       "}\n",
       "</style>\n",
       "<table id=\"T_9d227\">\n",
       "  <thead>\n",
       "    <tr>\n",
       "      <th class=\"blank level0\" >&nbsp;</th>\n",
       "      <th id=\"T_9d227_level0_col0\" class=\"col_heading level0 col0\" >Description</th>\n",
       "      <th id=\"T_9d227_level0_col1\" class=\"col_heading level0 col1\" >Value</th>\n",
       "    </tr>\n",
       "  </thead>\n",
       "  <tbody>\n",
       "    <tr>\n",
       "      <th id=\"T_9d227_level0_row0\" class=\"row_heading level0 row0\" >0</th>\n",
       "      <td id=\"T_9d227_row0_col0\" class=\"data row0 col0\" >Session id</td>\n",
       "      <td id=\"T_9d227_row0_col1\" class=\"data row0 col1\" >4246</td>\n",
       "    </tr>\n",
       "    <tr>\n",
       "      <th id=\"T_9d227_level0_row1\" class=\"row_heading level0 row1\" >1</th>\n",
       "      <td id=\"T_9d227_row1_col0\" class=\"data row1 col0\" >Target</td>\n",
       "      <td id=\"T_9d227_row1_col1\" class=\"data row1 col1\" >Consumer_type</td>\n",
       "    </tr>\n",
       "    <tr>\n",
       "      <th id=\"T_9d227_level0_row2\" class=\"row_heading level0 row2\" >2</th>\n",
       "      <td id=\"T_9d227_row2_col0\" class=\"data row2 col0\" >Target type</td>\n",
       "      <td id=\"T_9d227_row2_col1\" class=\"data row2 col1\" >Multiclass</td>\n",
       "    </tr>\n",
       "    <tr>\n",
       "      <th id=\"T_9d227_level0_row3\" class=\"row_heading level0 row3\" >3</th>\n",
       "      <td id=\"T_9d227_row3_col0\" class=\"data row3 col0\" >Target mapping</td>\n",
       "      <td id=\"T_9d227_row3_col1\" class=\"data row3 col1\" >construction: 0, domestic: 1, industrial: 2, low income families: 3, rural commercial: 4, rural domestic: 5, rural expansion: 6</td>\n",
       "    </tr>\n",
       "    <tr>\n",
       "      <th id=\"T_9d227_level0_row4\" class=\"row_heading level0 row4\" >4</th>\n",
       "      <td id=\"T_9d227_row4_col0\" class=\"data row4 col0\" >Original data shape</td>\n",
       "      <td id=\"T_9d227_row4_col1\" class=\"data row4 col1\" >(1409303, 6)</td>\n",
       "    </tr>\n",
       "    <tr>\n",
       "      <th id=\"T_9d227_level0_row5\" class=\"row_heading level0 row5\" >5</th>\n",
       "      <td id=\"T_9d227_row5_col0\" class=\"data row5 col0\" >Transformed data shape</td>\n",
       "      <td id=\"T_9d227_row5_col1\" class=\"data row5 col1\" >(1409303, 6)</td>\n",
       "    </tr>\n",
       "    <tr>\n",
       "      <th id=\"T_9d227_level0_row6\" class=\"row_heading level0 row6\" >6</th>\n",
       "      <td id=\"T_9d227_row6_col0\" class=\"data row6 col0\" >Transformed train set shape</td>\n",
       "      <td id=\"T_9d227_row6_col1\" class=\"data row6 col1\" >(986512, 6)</td>\n",
       "    </tr>\n",
       "    <tr>\n",
       "      <th id=\"T_9d227_level0_row7\" class=\"row_heading level0 row7\" >7</th>\n",
       "      <td id=\"T_9d227_row7_col0\" class=\"data row7 col0\" >Transformed test set shape</td>\n",
       "      <td id=\"T_9d227_row7_col1\" class=\"data row7 col1\" >(422791, 6)</td>\n",
       "    </tr>\n",
       "    <tr>\n",
       "      <th id=\"T_9d227_level0_row8\" class=\"row_heading level0 row8\" >8</th>\n",
       "      <td id=\"T_9d227_row8_col0\" class=\"data row8 col0\" >Numeric features</td>\n",
       "      <td id=\"T_9d227_row8_col1\" class=\"data row8 col1\" >3</td>\n",
       "    </tr>\n",
       "    <tr>\n",
       "      <th id=\"T_9d227_level0_row9\" class=\"row_heading level0 row9\" >9</th>\n",
       "      <td id=\"T_9d227_row9_col0\" class=\"data row9 col0\" >Categorical features</td>\n",
       "      <td id=\"T_9d227_row9_col1\" class=\"data row9 col1\" >2</td>\n",
       "    </tr>\n",
       "    <tr>\n",
       "      <th id=\"T_9d227_level0_row10\" class=\"row_heading level0 row10\" >10</th>\n",
       "      <td id=\"T_9d227_row10_col0\" class=\"data row10 col0\" >Preprocess</td>\n",
       "      <td id=\"T_9d227_row10_col1\" class=\"data row10 col1\" >True</td>\n",
       "    </tr>\n",
       "    <tr>\n",
       "      <th id=\"T_9d227_level0_row11\" class=\"row_heading level0 row11\" >11</th>\n",
       "      <td id=\"T_9d227_row11_col0\" class=\"data row11 col0\" >Imputation type</td>\n",
       "      <td id=\"T_9d227_row11_col1\" class=\"data row11 col1\" >simple</td>\n",
       "    </tr>\n",
       "    <tr>\n",
       "      <th id=\"T_9d227_level0_row12\" class=\"row_heading level0 row12\" >12</th>\n",
       "      <td id=\"T_9d227_row12_col0\" class=\"data row12 col0\" >Numeric imputation</td>\n",
       "      <td id=\"T_9d227_row12_col1\" class=\"data row12 col1\" >mean</td>\n",
       "    </tr>\n",
       "    <tr>\n",
       "      <th id=\"T_9d227_level0_row13\" class=\"row_heading level0 row13\" >13</th>\n",
       "      <td id=\"T_9d227_row13_col0\" class=\"data row13 col0\" >Categorical imputation</td>\n",
       "      <td id=\"T_9d227_row13_col1\" class=\"data row13 col1\" >mode</td>\n",
       "    </tr>\n",
       "    <tr>\n",
       "      <th id=\"T_9d227_level0_row14\" class=\"row_heading level0 row14\" >14</th>\n",
       "      <td id=\"T_9d227_row14_col0\" class=\"data row14 col0\" >Maximum one-hot encoding</td>\n",
       "      <td id=\"T_9d227_row14_col1\" class=\"data row14 col1\" >25</td>\n",
       "    </tr>\n",
       "    <tr>\n",
       "      <th id=\"T_9d227_level0_row15\" class=\"row_heading level0 row15\" >15</th>\n",
       "      <td id=\"T_9d227_row15_col0\" class=\"data row15 col0\" >Encoding method</td>\n",
       "      <td id=\"T_9d227_row15_col1\" class=\"data row15 col1\" >None</td>\n",
       "    </tr>\n",
       "    <tr>\n",
       "      <th id=\"T_9d227_level0_row16\" class=\"row_heading level0 row16\" >16</th>\n",
       "      <td id=\"T_9d227_row16_col0\" class=\"data row16 col0\" >Fold Generator</td>\n",
       "      <td id=\"T_9d227_row16_col1\" class=\"data row16 col1\" >StratifiedKFold</td>\n",
       "    </tr>\n",
       "    <tr>\n",
       "      <th id=\"T_9d227_level0_row17\" class=\"row_heading level0 row17\" >17</th>\n",
       "      <td id=\"T_9d227_row17_col0\" class=\"data row17 col0\" >Fold Number</td>\n",
       "      <td id=\"T_9d227_row17_col1\" class=\"data row17 col1\" >10</td>\n",
       "    </tr>\n",
       "    <tr>\n",
       "      <th id=\"T_9d227_level0_row18\" class=\"row_heading level0 row18\" >18</th>\n",
       "      <td id=\"T_9d227_row18_col0\" class=\"data row18 col0\" >CPU Jobs</td>\n",
       "      <td id=\"T_9d227_row18_col1\" class=\"data row18 col1\" >-1</td>\n",
       "    </tr>\n",
       "    <tr>\n",
       "      <th id=\"T_9d227_level0_row19\" class=\"row_heading level0 row19\" >19</th>\n",
       "      <td id=\"T_9d227_row19_col0\" class=\"data row19 col0\" >Use GPU</td>\n",
       "      <td id=\"T_9d227_row19_col1\" class=\"data row19 col1\" >False</td>\n",
       "    </tr>\n",
       "    <tr>\n",
       "      <th id=\"T_9d227_level0_row20\" class=\"row_heading level0 row20\" >20</th>\n",
       "      <td id=\"T_9d227_row20_col0\" class=\"data row20 col0\" >Log Experiment</td>\n",
       "      <td id=\"T_9d227_row20_col1\" class=\"data row20 col1\" >False</td>\n",
       "    </tr>\n",
       "    <tr>\n",
       "      <th id=\"T_9d227_level0_row21\" class=\"row_heading level0 row21\" >21</th>\n",
       "      <td id=\"T_9d227_row21_col0\" class=\"data row21 col0\" >Experiment Name</td>\n",
       "      <td id=\"T_9d227_row21_col1\" class=\"data row21 col1\" >clf-default-name</td>\n",
       "    </tr>\n",
       "    <tr>\n",
       "      <th id=\"T_9d227_level0_row22\" class=\"row_heading level0 row22\" >22</th>\n",
       "      <td id=\"T_9d227_row22_col0\" class=\"data row22 col0\" >USI</td>\n",
       "      <td id=\"T_9d227_row22_col1\" class=\"data row22 col1\" >a1fb</td>\n",
       "    </tr>\n",
       "  </tbody>\n",
       "</table>\n"
      ],
      "text/plain": [
       "<pandas.io.formats.style.Styler at 0x25ebbe2f350>"
      ]
     },
     "metadata": {},
     "output_type": "display_data"
    },
    {
     "data": {
      "text/html": [],
      "text/plain": [
       "<IPython.core.display.HTML object>"
      ]
     },
     "metadata": {},
     "output_type": "display_data"
    },
    {
     "data": {
      "text/html": [
       "<style type=\"text/css\">\n",
       "#T_e0db6 th {\n",
       "  text-align: left;\n",
       "}\n",
       "#T_e0db6_row0_col0, #T_e0db6_row1_col0, #T_e0db6_row1_col1, #T_e0db6_row1_col3, #T_e0db6_row1_col4, #T_e0db6_row1_col5, #T_e0db6_row1_col6, #T_e0db6_row1_col7, #T_e0db6_row2_col0, #T_e0db6_row2_col1, #T_e0db6_row2_col2, #T_e0db6_row2_col3, #T_e0db6_row2_col4, #T_e0db6_row2_col5, #T_e0db6_row2_col6, #T_e0db6_row2_col7, #T_e0db6_row3_col0, #T_e0db6_row3_col1, #T_e0db6_row3_col2, #T_e0db6_row3_col3, #T_e0db6_row3_col4, #T_e0db6_row3_col5, #T_e0db6_row3_col6, #T_e0db6_row3_col7, #T_e0db6_row4_col0, #T_e0db6_row4_col1, #T_e0db6_row4_col2, #T_e0db6_row4_col3, #T_e0db6_row4_col4, #T_e0db6_row4_col5, #T_e0db6_row4_col6, #T_e0db6_row4_col7, #T_e0db6_row5_col0, #T_e0db6_row5_col1, #T_e0db6_row5_col2, #T_e0db6_row5_col3, #T_e0db6_row5_col4, #T_e0db6_row5_col5, #T_e0db6_row5_col6, #T_e0db6_row5_col7, #T_e0db6_row6_col0, #T_e0db6_row6_col1, #T_e0db6_row6_col2, #T_e0db6_row6_col3, #T_e0db6_row6_col4, #T_e0db6_row6_col5, #T_e0db6_row6_col6, #T_e0db6_row6_col7, #T_e0db6_row7_col0, #T_e0db6_row7_col1, #T_e0db6_row7_col2, #T_e0db6_row7_col3, #T_e0db6_row7_col4, #T_e0db6_row7_col5, #T_e0db6_row7_col6, #T_e0db6_row7_col7, #T_e0db6_row8_col0, #T_e0db6_row8_col1, #T_e0db6_row8_col2, #T_e0db6_row8_col3, #T_e0db6_row8_col4, #T_e0db6_row8_col5, #T_e0db6_row8_col6, #T_e0db6_row8_col7, #T_e0db6_row9_col0, #T_e0db6_row9_col1, #T_e0db6_row9_col2, #T_e0db6_row9_col3, #T_e0db6_row9_col4, #T_e0db6_row9_col5, #T_e0db6_row9_col6, #T_e0db6_row9_col7, #T_e0db6_row10_col0, #T_e0db6_row10_col1, #T_e0db6_row10_col2, #T_e0db6_row10_col3, #T_e0db6_row10_col4, #T_e0db6_row10_col5, #T_e0db6_row10_col6, #T_e0db6_row10_col7, #T_e0db6_row11_col0, #T_e0db6_row11_col1, #T_e0db6_row11_col2, #T_e0db6_row11_col3, #T_e0db6_row11_col4, #T_e0db6_row11_col5, #T_e0db6_row11_col6, #T_e0db6_row11_col7, #T_e0db6_row12_col0, #T_e0db6_row12_col1, #T_e0db6_row12_col2, #T_e0db6_row12_col3, #T_e0db6_row12_col4, #T_e0db6_row12_col5, #T_e0db6_row12_col6, #T_e0db6_row12_col7, #T_e0db6_row13_col0, #T_e0db6_row13_col1, #T_e0db6_row13_col2, #T_e0db6_row13_col3, #T_e0db6_row13_col4, #T_e0db6_row13_col5, #T_e0db6_row13_col6, #T_e0db6_row13_col7, #T_e0db6_row14_col0, #T_e0db6_row14_col1, #T_e0db6_row14_col2, #T_e0db6_row14_col3, #T_e0db6_row14_col4, #T_e0db6_row14_col5, #T_e0db6_row14_col6, #T_e0db6_row14_col7, #T_e0db6_row15_col0, #T_e0db6_row15_col1, #T_e0db6_row15_col2, #T_e0db6_row15_col3, #T_e0db6_row15_col4, #T_e0db6_row15_col5, #T_e0db6_row15_col6, #T_e0db6_row15_col7 {\n",
       "  text-align: left;\n",
       "}\n",
       "#T_e0db6_row0_col1, #T_e0db6_row0_col2, #T_e0db6_row0_col3, #T_e0db6_row0_col4, #T_e0db6_row0_col5, #T_e0db6_row0_col6, #T_e0db6_row0_col7, #T_e0db6_row1_col2 {\n",
       "  text-align: left;\n",
       "  background-color: yellow;\n",
       "}\n",
       "#T_e0db6_row0_col8, #T_e0db6_row1_col8, #T_e0db6_row2_col8, #T_e0db6_row3_col8, #T_e0db6_row4_col8, #T_e0db6_row5_col8, #T_e0db6_row6_col8, #T_e0db6_row7_col8, #T_e0db6_row9_col8, #T_e0db6_row10_col8, #T_e0db6_row11_col8, #T_e0db6_row12_col8, #T_e0db6_row13_col8, #T_e0db6_row14_col8, #T_e0db6_row15_col8 {\n",
       "  text-align: left;\n",
       "  background-color: lightgrey;\n",
       "}\n",
       "#T_e0db6_row8_col8 {\n",
       "  text-align: left;\n",
       "  background-color: yellow;\n",
       "  background-color: lightgrey;\n",
       "}\n",
       "</style>\n",
       "<table id=\"T_e0db6\">\n",
       "  <thead>\n",
       "    <tr>\n",
       "      <th class=\"blank level0\" >&nbsp;</th>\n",
       "      <th id=\"T_e0db6_level0_col0\" class=\"col_heading level0 col0\" >Model</th>\n",
       "      <th id=\"T_e0db6_level0_col1\" class=\"col_heading level0 col1\" >Accuracy</th>\n",
       "      <th id=\"T_e0db6_level0_col2\" class=\"col_heading level0 col2\" >AUC</th>\n",
       "      <th id=\"T_e0db6_level0_col3\" class=\"col_heading level0 col3\" >Recall</th>\n",
       "      <th id=\"T_e0db6_level0_col4\" class=\"col_heading level0 col4\" >Prec.</th>\n",
       "      <th id=\"T_e0db6_level0_col5\" class=\"col_heading level0 col5\" >F1</th>\n",
       "      <th id=\"T_e0db6_level0_col6\" class=\"col_heading level0 col6\" >Kappa</th>\n",
       "      <th id=\"T_e0db6_level0_col7\" class=\"col_heading level0 col7\" >MCC</th>\n",
       "      <th id=\"T_e0db6_level0_col8\" class=\"col_heading level0 col8\" >TT (Sec)</th>\n",
       "    </tr>\n",
       "  </thead>\n",
       "  <tbody>\n",
       "    <tr>\n",
       "      <th id=\"T_e0db6_level0_row0\" class=\"row_heading level0 row0\" >catboost</th>\n",
       "      <td id=\"T_e0db6_row0_col0\" class=\"data row0 col0\" >CatBoost Classifier</td>\n",
       "      <td id=\"T_e0db6_row0_col1\" class=\"data row0 col1\" >0.9560</td>\n",
       "      <td id=\"T_e0db6_row0_col2\" class=\"data row0 col2\" >0.9975</td>\n",
       "      <td id=\"T_e0db6_row0_col3\" class=\"data row0 col3\" >0.9560</td>\n",
       "      <td id=\"T_e0db6_row0_col4\" class=\"data row0 col4\" >0.9560</td>\n",
       "      <td id=\"T_e0db6_row0_col5\" class=\"data row0 col5\" >0.9560</td>\n",
       "      <td id=\"T_e0db6_row0_col6\" class=\"data row0 col6\" >0.9487</td>\n",
       "      <td id=\"T_e0db6_row0_col7\" class=\"data row0 col7\" >0.9487</td>\n",
       "      <td id=\"T_e0db6_row0_col8\" class=\"data row0 col8\" >168.5650</td>\n",
       "    </tr>\n",
       "    <tr>\n",
       "      <th id=\"T_e0db6_level0_row1\" class=\"row_heading level0 row1\" >xgboost</th>\n",
       "      <td id=\"T_e0db6_row1_col0\" class=\"data row1 col0\" >Extreme Gradient Boosting</td>\n",
       "      <td id=\"T_e0db6_row1_col1\" class=\"data row1 col1\" >0.9559</td>\n",
       "      <td id=\"T_e0db6_row1_col2\" class=\"data row1 col2\" >0.9975</td>\n",
       "      <td id=\"T_e0db6_row1_col3\" class=\"data row1 col3\" >0.9559</td>\n",
       "      <td id=\"T_e0db6_row1_col4\" class=\"data row1 col4\" >0.9558</td>\n",
       "      <td id=\"T_e0db6_row1_col5\" class=\"data row1 col5\" >0.9559</td>\n",
       "      <td id=\"T_e0db6_row1_col6\" class=\"data row1 col6\" >0.9486</td>\n",
       "      <td id=\"T_e0db6_row1_col7\" class=\"data row1 col7\" >0.9486</td>\n",
       "      <td id=\"T_e0db6_row1_col8\" class=\"data row1 col8\" >18.2120</td>\n",
       "    </tr>\n",
       "    <tr>\n",
       "      <th id=\"T_e0db6_level0_row2\" class=\"row_heading level0 row2\" >lightgbm</th>\n",
       "      <td id=\"T_e0db6_row2_col0\" class=\"data row2 col0\" >Light Gradient Boosting Machine</td>\n",
       "      <td id=\"T_e0db6_row2_col1\" class=\"data row2 col1\" >0.9544</td>\n",
       "      <td id=\"T_e0db6_row2_col2\" class=\"data row2 col2\" >0.9972</td>\n",
       "      <td id=\"T_e0db6_row2_col3\" class=\"data row2 col3\" >0.9544</td>\n",
       "      <td id=\"T_e0db6_row2_col4\" class=\"data row2 col4\" >0.9544</td>\n",
       "      <td id=\"T_e0db6_row2_col5\" class=\"data row2 col5\" >0.9544</td>\n",
       "      <td id=\"T_e0db6_row2_col6\" class=\"data row2 col6\" >0.9468</td>\n",
       "      <td id=\"T_e0db6_row2_col7\" class=\"data row2 col7\" >0.9468</td>\n",
       "      <td id=\"T_e0db6_row2_col8\" class=\"data row2 col8\" >12.0890</td>\n",
       "    </tr>\n",
       "    <tr>\n",
       "      <th id=\"T_e0db6_level0_row3\" class=\"row_heading level0 row3\" >rf</th>\n",
       "      <td id=\"T_e0db6_row3_col0\" class=\"data row3 col0\" >Random Forest Classifier</td>\n",
       "      <td id=\"T_e0db6_row3_col1\" class=\"data row3 col1\" >0.9528</td>\n",
       "      <td id=\"T_e0db6_row3_col2\" class=\"data row3 col2\" >0.9958</td>\n",
       "      <td id=\"T_e0db6_row3_col3\" class=\"data row3 col3\" >0.9528</td>\n",
       "      <td id=\"T_e0db6_row3_col4\" class=\"data row3 col4\" >0.9527</td>\n",
       "      <td id=\"T_e0db6_row3_col5\" class=\"data row3 col5\" >0.9527</td>\n",
       "      <td id=\"T_e0db6_row3_col6\" class=\"data row3 col6\" >0.9449</td>\n",
       "      <td id=\"T_e0db6_row3_col7\" class=\"data row3 col7\" >0.9449</td>\n",
       "      <td id=\"T_e0db6_row3_col8\" class=\"data row3 col8\" >31.5430</td>\n",
       "    </tr>\n",
       "    <tr>\n",
       "      <th id=\"T_e0db6_level0_row4\" class=\"row_heading level0 row4\" >et</th>\n",
       "      <td id=\"T_e0db6_row4_col0\" class=\"data row4 col0\" >Extra Trees Classifier</td>\n",
       "      <td id=\"T_e0db6_row4_col1\" class=\"data row4 col1\" >0.9480</td>\n",
       "      <td id=\"T_e0db6_row4_col2\" class=\"data row4 col2\" >0.9941</td>\n",
       "      <td id=\"T_e0db6_row4_col3\" class=\"data row4 col3\" >0.9480</td>\n",
       "      <td id=\"T_e0db6_row4_col4\" class=\"data row4 col4\" >0.9479</td>\n",
       "      <td id=\"T_e0db6_row4_col5\" class=\"data row4 col5\" >0.9479</td>\n",
       "      <td id=\"T_e0db6_row4_col6\" class=\"data row4 col6\" >0.9393</td>\n",
       "      <td id=\"T_e0db6_row4_col7\" class=\"data row4 col7\" >0.9393</td>\n",
       "      <td id=\"T_e0db6_row4_col8\" class=\"data row4 col8\" >39.7250</td>\n",
       "    </tr>\n",
       "    <tr>\n",
       "      <th id=\"T_e0db6_level0_row5\" class=\"row_heading level0 row5\" >gbc</th>\n",
       "      <td id=\"T_e0db6_row5_col0\" class=\"data row5 col0\" >Gradient Boosting Classifier</td>\n",
       "      <td id=\"T_e0db6_row5_col1\" class=\"data row5 col1\" >0.9447</td>\n",
       "      <td id=\"T_e0db6_row5_col2\" class=\"data row5 col2\" >0.9959</td>\n",
       "      <td id=\"T_e0db6_row5_col3\" class=\"data row5 col3\" >0.9447</td>\n",
       "      <td id=\"T_e0db6_row5_col4\" class=\"data row5 col4\" >0.9445</td>\n",
       "      <td id=\"T_e0db6_row5_col5\" class=\"data row5 col5\" >0.9446</td>\n",
       "      <td id=\"T_e0db6_row5_col6\" class=\"data row5 col6\" >0.9355</td>\n",
       "      <td id=\"T_e0db6_row5_col7\" class=\"data row5 col7\" >0.9355</td>\n",
       "      <td id=\"T_e0db6_row5_col8\" class=\"data row5 col8\" >175.3700</td>\n",
       "    </tr>\n",
       "    <tr>\n",
       "      <th id=\"T_e0db6_level0_row6\" class=\"row_heading level0 row6\" >dt</th>\n",
       "      <td id=\"T_e0db6_row6_col0\" class=\"data row6 col0\" >Decision Tree Classifier</td>\n",
       "      <td id=\"T_e0db6_row6_col1\" class=\"data row6 col1\" >0.9402</td>\n",
       "      <td id=\"T_e0db6_row6_col2\" class=\"data row6 col2\" >0.9653</td>\n",
       "      <td id=\"T_e0db6_row6_col3\" class=\"data row6 col3\" >0.9402</td>\n",
       "      <td id=\"T_e0db6_row6_col4\" class=\"data row6 col4\" >0.9402</td>\n",
       "      <td id=\"T_e0db6_row6_col5\" class=\"data row6 col5\" >0.9402</td>\n",
       "      <td id=\"T_e0db6_row6_col6\" class=\"data row6 col6\" >0.9302</td>\n",
       "      <td id=\"T_e0db6_row6_col7\" class=\"data row6 col7\" >0.9302</td>\n",
       "      <td id=\"T_e0db6_row6_col8\" class=\"data row6 col8\" >1.9040</td>\n",
       "    </tr>\n",
       "    <tr>\n",
       "      <th id=\"T_e0db6_level0_row7\" class=\"row_heading level0 row7\" >knn</th>\n",
       "      <td id=\"T_e0db6_row7_col0\" class=\"data row7 col0\" >K Neighbors Classifier</td>\n",
       "      <td id=\"T_e0db6_row7_col1\" class=\"data row7 col1\" >0.9315</td>\n",
       "      <td id=\"T_e0db6_row7_col2\" class=\"data row7 col2\" >0.9834</td>\n",
       "      <td id=\"T_e0db6_row7_col3\" class=\"data row7 col3\" >0.9315</td>\n",
       "      <td id=\"T_e0db6_row7_col4\" class=\"data row7 col4\" >0.9310</td>\n",
       "      <td id=\"T_e0db6_row7_col5\" class=\"data row7 col5\" >0.9311</td>\n",
       "      <td id=\"T_e0db6_row7_col6\" class=\"data row7 col6\" >0.9201</td>\n",
       "      <td id=\"T_e0db6_row7_col7\" class=\"data row7 col7\" >0.9202</td>\n",
       "      <td id=\"T_e0db6_row7_col8\" class=\"data row7 col8\" >4.1190</td>\n",
       "    </tr>\n",
       "    <tr>\n",
       "      <th id=\"T_e0db6_level0_row8\" class=\"row_heading level0 row8\" >qda</th>\n",
       "      <td id=\"T_e0db6_row8_col0\" class=\"data row8 col0\" >Quadratic Discriminant Analysis</td>\n",
       "      <td id=\"T_e0db6_row8_col1\" class=\"data row8 col1\" >0.8754</td>\n",
       "      <td id=\"T_e0db6_row8_col2\" class=\"data row8 col2\" >0.9829</td>\n",
       "      <td id=\"T_e0db6_row8_col3\" class=\"data row8 col3\" >0.8754</td>\n",
       "      <td id=\"T_e0db6_row8_col4\" class=\"data row8 col4\" >0.8733</td>\n",
       "      <td id=\"T_e0db6_row8_col5\" class=\"data row8 col5\" >0.8713</td>\n",
       "      <td id=\"T_e0db6_row8_col6\" class=\"data row8 col6\" >0.8546</td>\n",
       "      <td id=\"T_e0db6_row8_col7\" class=\"data row8 col7\" >0.8558</td>\n",
       "      <td id=\"T_e0db6_row8_col8\" class=\"data row8 col8\" >1.3050</td>\n",
       "    </tr>\n",
       "    <tr>\n",
       "      <th id=\"T_e0db6_level0_row9\" class=\"row_heading level0 row9\" >nb</th>\n",
       "      <td id=\"T_e0db6_row9_col0\" class=\"data row9 col0\" >Naive Bayes</td>\n",
       "      <td id=\"T_e0db6_row9_col1\" class=\"data row9 col1\" >0.8634</td>\n",
       "      <td id=\"T_e0db6_row9_col2\" class=\"data row9 col2\" >0.9766</td>\n",
       "      <td id=\"T_e0db6_row9_col3\" class=\"data row9 col3\" >0.8634</td>\n",
       "      <td id=\"T_e0db6_row9_col4\" class=\"data row9 col4\" >0.8639</td>\n",
       "      <td id=\"T_e0db6_row9_col5\" class=\"data row9 col5\" >0.8623</td>\n",
       "      <td id=\"T_e0db6_row9_col6\" class=\"data row9 col6\" >0.8406</td>\n",
       "      <td id=\"T_e0db6_row9_col7\" class=\"data row9 col7\" >0.8412</td>\n",
       "      <td id=\"T_e0db6_row9_col8\" class=\"data row9 col8\" >1.4590</td>\n",
       "    </tr>\n",
       "    <tr>\n",
       "      <th id=\"T_e0db6_level0_row10\" class=\"row_heading level0 row10\" >lda</th>\n",
       "      <td id=\"T_e0db6_row10_col0\" class=\"data row10 col0\" >Linear Discriminant Analysis</td>\n",
       "      <td id=\"T_e0db6_row10_col1\" class=\"data row10 col1\" >0.8192</td>\n",
       "      <td id=\"T_e0db6_row10_col2\" class=\"data row10 col2\" >0.9600</td>\n",
       "      <td id=\"T_e0db6_row10_col3\" class=\"data row10 col3\" >0.8192</td>\n",
       "      <td id=\"T_e0db6_row10_col4\" class=\"data row10 col4\" >0.8139</td>\n",
       "      <td id=\"T_e0db6_row10_col5\" class=\"data row10 col5\" >0.8138</td>\n",
       "      <td id=\"T_e0db6_row10_col6\" class=\"data row10 col6\" >0.7890</td>\n",
       "      <td id=\"T_e0db6_row10_col7\" class=\"data row10 col7\" >0.7900</td>\n",
       "      <td id=\"T_e0db6_row10_col8\" class=\"data row10 col8\" >1.3600</td>\n",
       "    </tr>\n",
       "    <tr>\n",
       "      <th id=\"T_e0db6_level0_row11\" class=\"row_heading level0 row11\" >lr</th>\n",
       "      <td id=\"T_e0db6_row11_col0\" class=\"data row11 col0\" >Logistic Regression</td>\n",
       "      <td id=\"T_e0db6_row11_col1\" class=\"data row11 col1\" >0.7673</td>\n",
       "      <td id=\"T_e0db6_row11_col2\" class=\"data row11 col2\" >0.9466</td>\n",
       "      <td id=\"T_e0db6_row11_col3\" class=\"data row11 col3\" >0.7673</td>\n",
       "      <td id=\"T_e0db6_row11_col4\" class=\"data row11 col4\" >0.7631</td>\n",
       "      <td id=\"T_e0db6_row11_col5\" class=\"data row11 col5\" >0.7640</td>\n",
       "      <td id=\"T_e0db6_row11_col6\" class=\"data row11 col6\" >0.7285</td>\n",
       "      <td id=\"T_e0db6_row11_col7\" class=\"data row11 col7\" >0.7290</td>\n",
       "      <td id=\"T_e0db6_row11_col8\" class=\"data row11 col8\" >40.4130</td>\n",
       "    </tr>\n",
       "    <tr>\n",
       "      <th id=\"T_e0db6_level0_row12\" class=\"row_heading level0 row12\" >ridge</th>\n",
       "      <td id=\"T_e0db6_row12_col0\" class=\"data row12 col0\" >Ridge Classifier</td>\n",
       "      <td id=\"T_e0db6_row12_col1\" class=\"data row12 col1\" >0.7450</td>\n",
       "      <td id=\"T_e0db6_row12_col2\" class=\"data row12 col2\" >0.0000</td>\n",
       "      <td id=\"T_e0db6_row12_col3\" class=\"data row12 col3\" >0.7450</td>\n",
       "      <td id=\"T_e0db6_row12_col4\" class=\"data row12 col4\" >0.7706</td>\n",
       "      <td id=\"T_e0db6_row12_col5\" class=\"data row12 col5\" >0.7142</td>\n",
       "      <td id=\"T_e0db6_row12_col6\" class=\"data row12 col6\" >0.7022</td>\n",
       "      <td id=\"T_e0db6_row12_col7\" class=\"data row12 col7\" >0.7108</td>\n",
       "      <td id=\"T_e0db6_row12_col8\" class=\"data row12 col8\" >1.4060</td>\n",
       "    </tr>\n",
       "    <tr>\n",
       "      <th id=\"T_e0db6_level0_row13\" class=\"row_heading level0 row13\" >svm</th>\n",
       "      <td id=\"T_e0db6_row13_col0\" class=\"data row13 col0\" >SVM - Linear Kernel</td>\n",
       "      <td id=\"T_e0db6_row13_col1\" class=\"data row13 col1\" >0.6324</td>\n",
       "      <td id=\"T_e0db6_row13_col2\" class=\"data row13 col2\" >0.0000</td>\n",
       "      <td id=\"T_e0db6_row13_col3\" class=\"data row13 col3\" >0.6324</td>\n",
       "      <td id=\"T_e0db6_row13_col4\" class=\"data row13 col4\" >0.6804</td>\n",
       "      <td id=\"T_e0db6_row13_col5\" class=\"data row13 col5\" >0.5890</td>\n",
       "      <td id=\"T_e0db6_row13_col6\" class=\"data row13 col6\" >0.5711</td>\n",
       "      <td id=\"T_e0db6_row13_col7\" class=\"data row13 col7\" >0.5982</td>\n",
       "      <td id=\"T_e0db6_row13_col8\" class=\"data row13 col8\" >123.4130</td>\n",
       "    </tr>\n",
       "    <tr>\n",
       "      <th id=\"T_e0db6_level0_row14\" class=\"row_heading level0 row14\" >ada</th>\n",
       "      <td id=\"T_e0db6_row14_col0\" class=\"data row14 col0\" >Ada Boost Classifier</td>\n",
       "      <td id=\"T_e0db6_row14_col1\" class=\"data row14 col1\" >0.5598</td>\n",
       "      <td id=\"T_e0db6_row14_col2\" class=\"data row14 col2\" >0.7838</td>\n",
       "      <td id=\"T_e0db6_row14_col3\" class=\"data row14 col3\" >0.5598</td>\n",
       "      <td id=\"T_e0db6_row14_col4\" class=\"data row14 col4\" >0.6510</td>\n",
       "      <td id=\"T_e0db6_row14_col5\" class=\"data row14 col5\" >0.5016</td>\n",
       "      <td id=\"T_e0db6_row14_col6\" class=\"data row14 col6\" >0.4859</td>\n",
       "      <td id=\"T_e0db6_row14_col7\" class=\"data row14 col7\" >0.5437</td>\n",
       "      <td id=\"T_e0db6_row14_col8\" class=\"data row14 col8\" >10.6640</td>\n",
       "    </tr>\n",
       "    <tr>\n",
       "      <th id=\"T_e0db6_level0_row15\" class=\"row_heading level0 row15\" >dummy</th>\n",
       "      <td id=\"T_e0db6_row15_col0\" class=\"data row15 col0\" >Dummy Classifier</td>\n",
       "      <td id=\"T_e0db6_row15_col1\" class=\"data row15 col1\" >0.1446</td>\n",
       "      <td id=\"T_e0db6_row15_col2\" class=\"data row15 col2\" >0.5000</td>\n",
       "      <td id=\"T_e0db6_row15_col3\" class=\"data row15 col3\" >0.1446</td>\n",
       "      <td id=\"T_e0db6_row15_col4\" class=\"data row15 col4\" >0.0209</td>\n",
       "      <td id=\"T_e0db6_row15_col5\" class=\"data row15 col5\" >0.0365</td>\n",
       "      <td id=\"T_e0db6_row15_col6\" class=\"data row15 col6\" >0.0000</td>\n",
       "      <td id=\"T_e0db6_row15_col7\" class=\"data row15 col7\" >0.0000</td>\n",
       "      <td id=\"T_e0db6_row15_col8\" class=\"data row15 col8\" >1.4200</td>\n",
       "    </tr>\n",
       "  </tbody>\n",
       "</table>\n"
      ],
      "text/plain": [
       "<pandas.io.formats.style.Styler at 0x25ebb985190>"
      ]
     },
     "metadata": {},
     "output_type": "display_data"
    },
    {
     "data": {
      "text/html": [],
      "text/plain": [
       "<IPython.core.display.HTML object>"
      ]
     },
     "metadata": {},
     "output_type": "display_data"
    }
   ],
   "source": [
    "# clf1 = setup(train, target='Consumer_type', use_gpu=True)\n",
    "clf1 = setup(train, target='Consumer_type')\n",
    "\n",
    "best_model = compare_models()"
   ]
  },
  {
   "cell_type": "code",
   "execution_count": 12,
   "metadata": {
    "id": "Ts5Og3kZ7I_R"
   },
   "outputs": [
    {
     "data": {
      "text/html": [
       "<style type=\"text/css\">\n",
       "</style>\n",
       "<table id=\"T_d2ef1\">\n",
       "  <thead>\n",
       "    <tr>\n",
       "      <th class=\"blank level0\" >&nbsp;</th>\n",
       "      <th id=\"T_d2ef1_level0_col0\" class=\"col_heading level0 col0\" >Model</th>\n",
       "      <th id=\"T_d2ef1_level0_col1\" class=\"col_heading level0 col1\" >Accuracy</th>\n",
       "      <th id=\"T_d2ef1_level0_col2\" class=\"col_heading level0 col2\" >AUC</th>\n",
       "      <th id=\"T_d2ef1_level0_col3\" class=\"col_heading level0 col3\" >Recall</th>\n",
       "      <th id=\"T_d2ef1_level0_col4\" class=\"col_heading level0 col4\" >Prec.</th>\n",
       "      <th id=\"T_d2ef1_level0_col5\" class=\"col_heading level0 col5\" >F1</th>\n",
       "      <th id=\"T_d2ef1_level0_col6\" class=\"col_heading level0 col6\" >Kappa</th>\n",
       "      <th id=\"T_d2ef1_level0_col7\" class=\"col_heading level0 col7\" >MCC</th>\n",
       "    </tr>\n",
       "  </thead>\n",
       "  <tbody>\n",
       "    <tr>\n",
       "      <th id=\"T_d2ef1_level0_row0\" class=\"row_heading level0 row0\" >0</th>\n",
       "      <td id=\"T_d2ef1_row0_col0\" class=\"data row0 col0\" >CatBoost Classifier</td>\n",
       "      <td id=\"T_d2ef1_row0_col1\" class=\"data row0 col1\" >0.4909</td>\n",
       "      <td id=\"T_d2ef1_row0_col2\" class=\"data row0 col2\" >0.8771</td>\n",
       "      <td id=\"T_d2ef1_row0_col3\" class=\"data row0 col3\" >0.4909</td>\n",
       "      <td id=\"T_d2ef1_row0_col4\" class=\"data row0 col4\" >0.6069</td>\n",
       "      <td id=\"T_d2ef1_row0_col5\" class=\"data row0 col5\" >0.4099</td>\n",
       "      <td id=\"T_d2ef1_row0_col6\" class=\"data row0 col6\" >0.4060</td>\n",
       "      <td id=\"T_d2ef1_row0_col7\" class=\"data row0 col7\" >0.4408</td>\n",
       "    </tr>\n",
       "  </tbody>\n",
       "</table>\n"
      ],
      "text/plain": [
       "<pandas.io.formats.style.Styler at 0x25eb9fed090>"
      ]
     },
     "metadata": {},
     "output_type": "display_data"
    }
   ],
   "source": [
    "result_best_model = predict_model(best_model, data=test)"
   ]
  },
  {
   "cell_type": "code",
   "execution_count": 13,
   "metadata": {
    "id": "MN4iMxkyMO_q"
   },
   "outputs": [
    {
     "data": {
      "text/plain": [
       "(3500, 8)"
      ]
     },
     "execution_count": 13,
     "metadata": {},
     "output_type": "execute_result"
    }
   ],
   "source": [
    "result_best_model.shape"
   ]
  },
  {
   "cell_type": "code",
   "execution_count": 14,
   "metadata": {
    "id": "933DvSj7MS-J"
   },
   "outputs": [
    {
     "data": {
      "text/html": [
       "<div>\n",
       "<style scoped>\n",
       "    .dataframe tbody tr th:only-of-type {\n",
       "        vertical-align: middle;\n",
       "    }\n",
       "\n",
       "    .dataframe tbody tr th {\n",
       "        vertical-align: top;\n",
       "    }\n",
       "\n",
       "    .dataframe thead th {\n",
       "        text-align: right;\n",
       "    }\n",
       "</style>\n",
       "<table border=\"1\" class=\"dataframe\">\n",
       "  <thead>\n",
       "    <tr style=\"text-align: right;\">\n",
       "      <th></th>\n",
       "      <th>Year</th>\n",
       "      <th>Month</th>\n",
       "      <th>Consumption</th>\n",
       "      <th>Consumer_number</th>\n",
       "      <th>Installation_zone</th>\n",
       "      <th>Consumer_type</th>\n",
       "      <th>prediction_label</th>\n",
       "      <th>prediction_score</th>\n",
       "    </tr>\n",
       "  </thead>\n",
       "  <tbody>\n",
       "    <tr>\n",
       "      <th>0</th>\n",
       "      <td>2013</td>\n",
       "      <td>2</td>\n",
       "      <td>0</td>\n",
       "      <td>BODF39599682341494</td>\n",
       "      <td>Installation_zone 29</td>\n",
       "      <td>rural commercial</td>\n",
       "      <td>rural domestic</td>\n",
       "      <td>0.5896</td>\n",
       "    </tr>\n",
       "    <tr>\n",
       "      <th>1</th>\n",
       "      <td>2016</td>\n",
       "      <td>12</td>\n",
       "      <td>3</td>\n",
       "      <td>OKVA20603226521970</td>\n",
       "      <td>Installation_zone 1</td>\n",
       "      <td>low income families</td>\n",
       "      <td>low income families</td>\n",
       "      <td>0.5311</td>\n",
       "    </tr>\n",
       "    <tr>\n",
       "      <th>2</th>\n",
       "      <td>2013</td>\n",
       "      <td>1</td>\n",
       "      <td>22</td>\n",
       "      <td>TEYJ45718697509212</td>\n",
       "      <td>Installation_zone 1</td>\n",
       "      <td>domestic</td>\n",
       "      <td>industrial</td>\n",
       "      <td>0.8829</td>\n",
       "    </tr>\n",
       "    <tr>\n",
       "      <th>3</th>\n",
       "      <td>2013</td>\n",
       "      <td>4</td>\n",
       "      <td>10</td>\n",
       "      <td>VVEU13054131438984</td>\n",
       "      <td>Installation_zone 2</td>\n",
       "      <td>rural commercial</td>\n",
       "      <td>industrial</td>\n",
       "      <td>0.9399</td>\n",
       "    </tr>\n",
       "    <tr>\n",
       "      <th>4</th>\n",
       "      <td>2013</td>\n",
       "      <td>2</td>\n",
       "      <td>49</td>\n",
       "      <td>IPGU91995506218227</td>\n",
       "      <td>Installation_zone 4</td>\n",
       "      <td>industrial</td>\n",
       "      <td>industrial</td>\n",
       "      <td>0.9625</td>\n",
       "    </tr>\n",
       "  </tbody>\n",
       "</table>\n",
       "</div>"
      ],
      "text/plain": [
       "   Year  Month  Consumption     Consumer_number     Installation_zone  \\\n",
       "0  2013      2            0  BODF39599682341494  Installation_zone 29   \n",
       "1  2016     12            3  OKVA20603226521970   Installation_zone 1   \n",
       "2  2013      1           22  TEYJ45718697509212   Installation_zone 1   \n",
       "3  2013      4           10  VVEU13054131438984   Installation_zone 2   \n",
       "4  2013      2           49  IPGU91995506218227   Installation_zone 4   \n",
       "\n",
       "         Consumer_type     prediction_label  prediction_score  \n",
       "0     rural commercial       rural domestic            0.5896  \n",
       "1  low income families  low income families            0.5311  \n",
       "2             domestic           industrial            0.8829  \n",
       "3     rural commercial           industrial            0.9399  \n",
       "4           industrial           industrial            0.9625  "
      ]
     },
     "execution_count": 14,
     "metadata": {},
     "output_type": "execute_result"
    }
   ],
   "source": [
    "result_best_model.head()"
   ]
  },
  {
   "cell_type": "code",
   "execution_count": 15,
   "metadata": {
    "id": "Q9rfcTecAa8x"
   },
   "outputs": [
    {
     "data": {
      "text/plain": [
       "<AxesSubplot: >"
      ]
     },
     "execution_count": 15,
     "metadata": {},
     "output_type": "execute_result"
    },
    {
     "data": {
      "image/png": "[encoded data removed]",
      "text/plain": [
       "<Figure size 800x550 with 2 Axes>"
      ]
     },
     "metadata": {},
     "output_type": "display_data"
    }
   ],
   "source": [
    "matrix = confusion_matrix(result_best_model['Consumer_type'], result_best_model['prediction_label'])\n",
    "sns.heatmap(matrix, annot=True)"
   ]
  },
  {
   "cell_type": "code",
   "execution_count": 16,
   "metadata": {
    "id": "iS7GcY7TrQw0"
   },
   "outputs": [
    {
     "data": {
      "text/html": [],
      "text/plain": [
       "<IPython.core.display.HTML object>"
      ]
     },
     "metadata": {},
     "output_type": "display_data"
    },
    {
     "data": {
      "image/png": "[encoded data removed]",
      "text/plain": [
       "<Figure size 800x550 with 1 Axes>"
      ]
     },
     "metadata": {},
     "output_type": "display_data"
    }
   ],
   "source": [
    "plot_model(best_model, plot = 'confusion_matrix', plot_kwargs = {'percent' : True})"
   ]
  },
  {
   "cell_type": "code",
   "execution_count": 17,
   "metadata": {
    "id": "eJMSarSFdprn"
   },
   "outputs": [],
   "source": [
    "# tuned_best_model = tune_model(best_model)"
   ]
  },
  {
   "cell_type": "code",
   "execution_count": 18,
   "metadata": {
    "id": "h1Jp81j9riee"
   },
   "outputs": [],
   "source": [
    "# plot_model(tuned_best_model, plot = 'confusion_matrix', plot_kwargs = {'percent' : True})"
   ]
  },
  {
   "cell_type": "code",
   "execution_count": 19,
   "metadata": {
    "id": "mznEmWG78B5V"
   },
   "outputs": [],
   "source": [
    "# result_tuned_best_model = predict_model(tuned_best_model, data=test)"
   ]
  },
  {
   "cell_type": "code",
   "execution_count": 20,
   "metadata": {
    "id": "H053ZfgMAmCE"
   },
   "outputs": [],
   "source": [
    "# matrix = confusion_matrix(result_tuned_best_model['Consumer_type'], result_tuned_best_model['prediction_label'])\n",
    "# sns.heatmap(matrix, annot=True)"
   ]
  },
  {
   "cell_type": "code",
   "execution_count": 21,
   "metadata": {
    "id": "3FE9IEaU7sYn"
   },
   "outputs": [
    {
     "data": {
      "application/vnd.jupyter.widget-view+json": {
       "model_id": "95cd72fd21ee4befb71dfd1930b7a26f",
       "version_major": 2,
       "version_minor": 0
      },
      "text/plain": [
       "interactive(children=(ToggleButtons(description='Plot Type:', icons=('',), options=(('Pipeline Plot', 'pipelin…"
      ]
     },
     "metadata": {},
     "output_type": "display_data"
    }
   ],
   "source": [
    "evaluate_model(best_model)"
   ]
  },
  {
   "cell_type": "code",
   "execution_count": 22,
   "metadata": {
    "id": "gau5mxNl7j4E"
   },
   "outputs": [],
   "source": [
    "# evaluate_model(tuned_best_model)"
   ]
  },
  {
   "cell_type": "code",
   "execution_count": 35,
   "metadata": {
    "id": "Oe0HMTHndwWJ"
   },
   "outputs": [
    {
     "name": "stdout",
     "output_type": "stream",
     "text": [
      "Transformation Pipeline and Model Successfully Saved\n"
     ]
    },
    {
     "data": {
      "text/plain": [
       "(Pipeline(memory=Memory(location=None),\n",
       "          steps=[('label_encoding',\n",
       "                  TransformerWrapperWithInverse(exclude=None, include=None,\n",
       "                                                transformer=LabelEncoder())),\n",
       "                 ('numerical_imputer',\n",
       "                  TransformerWrapper(exclude=None,\n",
       "                                     include=['Year', 'Month', 'Consumption'],\n",
       "                                     transformer=SimpleImputer(add_indicator=False,\n",
       "                                                               copy=True,\n",
       "                                                               fill_value=None,\n",
       "                                                               keep_empty_features=False,\n",
       "                                                               missing_valu...\n",
       "                                     include=['Consumer_number',\n",
       "                                              'Installation_zone'],\n",
       "                                     transformer=TargetEncoder(cols=['Consumer_number',\n",
       "                                                                     'Installation_zone'],\n",
       "                                                               drop_invariant=False,\n",
       "                                                               handle_missing='return_nan',\n",
       "                                                               handle_unknown='value',\n",
       "                                                               hierarchy=None,\n",
       "                                                               min_samples_leaf=20,\n",
       "                                                               return_df=True,\n",
       "                                                               smoothing=10,\n",
       "                                                               verbose=0))),\n",
       "                 ('trained_model',\n",
       "                  <catboost.core.CatBoostClassifier object at 0x0000025EBC63BA90>)],\n",
       "          verbose=False),\n",
       " 'model_v2.pkl')"
      ]
     },
     "execution_count": 35,
     "metadata": {},
     "output_type": "execute_result"
    }
   ],
   "source": [
    "save_model(best_model, 'model_v2')\n",
    "# save_model(tuned_best_model, 'tuned_best_model')"
   ]
  },
  {
   "cell_type": "code",
   "execution_count": 25,
   "metadata": {
    "id": "bPlhVWfFfbpU"
   },
   "outputs": [],
   "source": [
    "competition = pd.read_csv(\"competition.csv\")"
   ]
  },
  {
   "cell_type": "code",
   "execution_count": 26,
   "metadata": {
    "id": "WGj7a5YzffNg"
   },
   "outputs": [
    {
     "data": {
      "text/html": [
       "<div>\n",
       "<style scoped>\n",
       "    .dataframe tbody tr th:only-of-type {\n",
       "        vertical-align: middle;\n",
       "    }\n",
       "\n",
       "    .dataframe tbody tr th {\n",
       "        vertical-align: top;\n",
       "    }\n",
       "\n",
       "    .dataframe thead th {\n",
       "        text-align: right;\n",
       "    }\n",
       "</style>\n",
       "<table border=\"1\" class=\"dataframe\">\n",
       "  <thead>\n",
       "    <tr style=\"text-align: right;\">\n",
       "      <th></th>\n",
       "      <th>Year</th>\n",
       "      <th>Month</th>\n",
       "      <th>Consumption</th>\n",
       "      <th>Consumer_number</th>\n",
       "      <th>Installation_zone</th>\n",
       "    </tr>\n",
       "  </thead>\n",
       "  <tbody>\n",
       "    <tr>\n",
       "      <th>0</th>\n",
       "      <td>2013</td>\n",
       "      <td>1</td>\n",
       "      <td>1</td>\n",
       "      <td>VENX08444954462680</td>\n",
       "      <td>Installation_zone 1</td>\n",
       "    </tr>\n",
       "    <tr>\n",
       "      <th>1</th>\n",
       "      <td>2013</td>\n",
       "      <td>1</td>\n",
       "      <td>2</td>\n",
       "      <td>GRXC33020746550125</td>\n",
       "      <td>Installation_zone 1</td>\n",
       "    </tr>\n",
       "    <tr>\n",
       "      <th>2</th>\n",
       "      <td>2013</td>\n",
       "      <td>1</td>\n",
       "      <td>1</td>\n",
       "      <td>FCGQ19814303536339</td>\n",
       "      <td>Installation_zone 1</td>\n",
       "    </tr>\n",
       "    <tr>\n",
       "      <th>3</th>\n",
       "      <td>2013</td>\n",
       "      <td>1</td>\n",
       "      <td>5</td>\n",
       "      <td>EQKL85694875580467</td>\n",
       "      <td>Installation_zone 3</td>\n",
       "    </tr>\n",
       "    <tr>\n",
       "      <th>4</th>\n",
       "      <td>2013</td>\n",
       "      <td>1</td>\n",
       "      <td>14</td>\n",
       "      <td>KCXW91343862250032</td>\n",
       "      <td>Installation_zone 3</td>\n",
       "    </tr>\n",
       "  </tbody>\n",
       "</table>\n",
       "</div>"
      ],
      "text/plain": [
       "   Year  Month  Consumption     Consumer_number    Installation_zone\n",
       "0  2013      1            1  VENX08444954462680  Installation_zone 1\n",
       "1  2013      1            2  GRXC33020746550125  Installation_zone 1\n",
       "2  2013      1            1  FCGQ19814303536339  Installation_zone 1\n",
       "3  2013      1            5  EQKL85694875580467  Installation_zone 3\n",
       "4  2013      1           14  KCXW91343862250032  Installation_zone 3"
      ]
     },
     "execution_count": 26,
     "metadata": {},
     "output_type": "execute_result"
    }
   ],
   "source": [
    "competition.head()"
   ]
  },
  {
   "cell_type": "code",
   "execution_count": 27,
   "metadata": {
    "id": "bN2D8U3Ufiqk"
   },
   "outputs": [
    {
     "data": {
      "text/html": [],
      "text/plain": [
       "<IPython.core.display.HTML object>"
      ]
     },
     "metadata": {},
     "output_type": "display_data"
    }
   ],
   "source": [
    "result_competition = predict_model(best_model, data=competition)\n",
    "\n",
    "result_competition = result_competition.rename(columns={'prediction_label': 'Consumer_type'})\n",
    "result_competition = result_competition.drop('prediction_score', axis=1)\n"
   ]
  },
  {
   "cell_type": "code",
   "execution_count": 28,
   "metadata": {
    "id": "8nyg8Lxyfjng"
   },
   "outputs": [
    {
     "data": {
      "text/html": [
       "<div>\n",
       "<style scoped>\n",
       "    .dataframe tbody tr th:only-of-type {\n",
       "        vertical-align: middle;\n",
       "    }\n",
       "\n",
       "    .dataframe tbody tr th {\n",
       "        vertical-align: top;\n",
       "    }\n",
       "\n",
       "    .dataframe thead th {\n",
       "        text-align: right;\n",
       "    }\n",
       "</style>\n",
       "<table border=\"1\" class=\"dataframe\">\n",
       "  <thead>\n",
       "    <tr style=\"text-align: right;\">\n",
       "      <th></th>\n",
       "      <th>Year</th>\n",
       "      <th>Month</th>\n",
       "      <th>Consumption</th>\n",
       "      <th>Consumer_number</th>\n",
       "      <th>Installation_zone</th>\n",
       "      <th>Consumer_type</th>\n",
       "      <th>prediction_score</th>\n",
       "    </tr>\n",
       "  </thead>\n",
       "  <tbody>\n",
       "    <tr>\n",
       "      <th>0</th>\n",
       "      <td>2013</td>\n",
       "      <td>1</td>\n",
       "      <td>1</td>\n",
       "      <td>VENX08444954462680</td>\n",
       "      <td>Installation_zone 1</td>\n",
       "      <td>industrial</td>\n",
       "      <td>0.7371</td>\n",
       "    </tr>\n",
       "    <tr>\n",
       "      <th>1</th>\n",
       "      <td>2013</td>\n",
       "      <td>1</td>\n",
       "      <td>2</td>\n",
       "      <td>GRXC33020746550125</td>\n",
       "      <td>Installation_zone 1</td>\n",
       "      <td>industrial</td>\n",
       "      <td>0.6439</td>\n",
       "    </tr>\n",
       "    <tr>\n",
       "      <th>2</th>\n",
       "      <td>2013</td>\n",
       "      <td>1</td>\n",
       "      <td>1</td>\n",
       "      <td>FCGQ19814303536339</td>\n",
       "      <td>Installation_zone 1</td>\n",
       "      <td>industrial</td>\n",
       "      <td>0.7371</td>\n",
       "    </tr>\n",
       "    <tr>\n",
       "      <th>3</th>\n",
       "      <td>2013</td>\n",
       "      <td>1</td>\n",
       "      <td>5</td>\n",
       "      <td>EQKL85694875580467</td>\n",
       "      <td>Installation_zone 3</td>\n",
       "      <td>industrial</td>\n",
       "      <td>0.4927</td>\n",
       "    </tr>\n",
       "    <tr>\n",
       "      <th>4</th>\n",
       "      <td>2013</td>\n",
       "      <td>1</td>\n",
       "      <td>14</td>\n",
       "      <td>KCXW91343862250032</td>\n",
       "      <td>Installation_zone 3</td>\n",
       "      <td>industrial</td>\n",
       "      <td>0.5253</td>\n",
       "    </tr>\n",
       "  </tbody>\n",
       "</table>\n",
       "</div>"
      ],
      "text/plain": [
       "   Year  Month  Consumption     Consumer_number    Installation_zone  \\\n",
       "0  2013      1            1  VENX08444954462680  Installation_zone 1   \n",
       "1  2013      1            2  GRXC33020746550125  Installation_zone 1   \n",
       "2  2013      1            1  FCGQ19814303536339  Installation_zone 1   \n",
       "3  2013      1            5  EQKL85694875580467  Installation_zone 3   \n",
       "4  2013      1           14  KCXW91343862250032  Installation_zone 3   \n",
       "\n",
       "  Consumer_type  prediction_score  \n",
       "0    industrial            0.7371  \n",
       "1    industrial            0.6439  \n",
       "2    industrial            0.7371  \n",
       "3    industrial            0.4927  \n",
       "4    industrial            0.5253  "
      ]
     },
     "execution_count": 28,
     "metadata": {},
     "output_type": "execute_result"
    }
   ],
   "source": [
    "result_competition.head()"
   ]
  },
  {
   "cell_type": "code",
   "execution_count": 29,
   "metadata": {
    "id": "GDtZkWRifkwg"
   },
   "outputs": [
    {
     "data": {
      "text/plain": [
       "Text(0.5, 1.0, 'Count of Consumer_type')"
      ]
     },
     "execution_count": 29,
     "metadata": {},
     "output_type": "execute_result"
    },
    {
     "data": {
      "image/png": "[encoded data removed]",
      "text/plain": [
       "<Figure size 800x550 with 1 Axes>"
      ]
     },
     "metadata": {},
     "output_type": "display_data"
    }
   ],
   "source": [
    "result_competition['Consumer_type'].value_counts().plot(kind='bar')\n",
    "\n",
    "plt.xlabel('Consumer_type')\n",
    "plt.ylabel('Count')\n",
    "plt.title('Count of Consumer_type')"
   ]
  },
  {
   "cell_type": "code",
   "execution_count": 34,
   "metadata": {
    "id": "A0qKBVSYfrth"
   },
   "outputs": [],
   "source": [
    "result_competition.to_csv('competition_v2.csv', index=False)"
   ]
  },
  {
   "cell_type": "code",
   "execution_count": 31,
   "metadata": {
    "id": "bByROWI_fsxH"
   },
   "outputs": [],
   "source": [
    "# result_competition = predict_model(tuned_best_model, data=competition)\n",
    "\n",
    "# result_competition = result_competition.rename(columns={'prediction_label': 'Consumer_type'})"
   ]
  },
  {
   "cell_type": "code",
   "execution_count": 32,
   "metadata": {
    "id": "v8a9Db3xfuFN"
   },
   "outputs": [],
   "source": [
    "# result_competition.head()"
   ]
  },
  {
   "cell_type": "code",
   "execution_count": 33,
   "metadata": {
    "id": "Y9L6yAlSfv9f"
   },
   "outputs": [],
   "source": [
    "# result_competition['Consumer_type'].value_counts().plot(kind='bar')\n",
    "\n",
    "# plt.xlabel('Consumer_type')\n",
    "# plt.ylabel('Count')\n",
    "# plt.title('Count of Consumer_type')"
   ]
  }
 ],
 "metadata": {
  "accelerator": "GPU",
  "colab": {
   "gpuType": "T4",
   "provenance": []
  },
  "kernelspec": {
   "display_name": "Python 3 (ipykernel)",
   "language": "python",
   "name": "python3"
  },
  "language_info": {
   "codemirror_mode": {
    "name": "ipython",
    "version": 3
   },
   "file_extension": ".py",
   "mimetype": "text/x-python",
   "name": "python",
   "nbconvert_exporter": "python",
   "pygments_lexer": "ipython3",
   "version": "3.11.5"
  },
  "widgets": {
   "application/vnd.jupyter.widget-state+json": {
    "433e00797fa34389966a4c491a2420ba": {
     "model_module": "@jupyter-widgets/controls",
     "model_module_version": "1.5.0",
     "model_name": "HBoxModel",
     "state": {
      "_dom_classes": [],
      "_model_module": "@jupyter-widgets/controls",
      "_model_module_version": "1.5.0",
      "_model_name": "HBoxModel",
      "_view_count": null,
      "_view_module": "@jupyter-widgets/controls",
      "_view_module_version": "1.5.0",
      "_view_name": "HBoxView",
      "box_style": "",
      "children": [
       "IPY_MODEL_9a780d1f77e7430fbae0833b4dc5270c",
       "IPY_MODEL_e75a81dc1af7483ba2bfe1fd25971840",
       "IPY_MODEL_ce40dee416944b5db04de53d07e75840"
      ],
      "layout": "IPY_MODEL_cd33ca4fc12a41709727144756265f4d"
     }
    },
    "5878e49dbe9f48f096747f4e4569f830": {
     "model_module": "@jupyter-widgets/base",
     "model_module_version": "1.2.0",
     "model_name": "LayoutModel",
     "state": {
      "_model_module": "@jupyter-widgets/base",
      "_model_module_version": "1.2.0",
      "_model_name": "LayoutModel",
      "_view_count": null,
      "_view_module": "@jupyter-widgets/base",
      "_view_module_version": "1.2.0",
      "_view_name": "LayoutView",
      "align_content": null,
      "align_items": null,
      "align_self": null,
      "border": null,
      "bottom": null,
      "display": null,
      "flex": null,
      "flex_flow": null,
      "grid_area": null,
      "grid_auto_columns": null,
      "grid_auto_flow": null,
      "grid_auto_rows": null,
      "grid_column": null,
      "grid_gap": null,
      "grid_row": null,
      "grid_template_areas": null,
      "grid_template_columns": null,
      "grid_template_rows": null,
      "height": null,
      "justify_content": null,
      "justify_items": null,
      "left": null,
      "margin": null,
      "max_height": null,
      "max_width": null,
      "min_height": null,
      "min_width": null,
      "object_fit": null,
      "object_position": null,
      "order": null,
      "overflow": null,
      "overflow_x": null,
      "overflow_y": null,
      "padding": null,
      "right": null,
      "top": null,
      "visibility": null,
      "width": null
     }
    },
    "9a780d1f77e7430fbae0833b4dc5270c": {
     "model_module": "@jupyter-widgets/controls",
     "model_module_version": "1.5.0",
     "model_name": "HTMLModel",
     "state": {
      "_dom_classes": [],
      "_model_module": "@jupyter-widgets/controls",
      "_model_module_version": "1.5.0",
      "_model_name": "HTMLModel",
      "_view_count": null,
      "_view_module": "@jupyter-widgets/controls",
      "_view_module_version": "1.5.0",
      "_view_name": "HTMLView",
      "description": "",
      "description_tooltip": null,
      "layout": "IPY_MODEL_e1c0e9b83b3a4cd9a75944d25656a4e6",
      "placeholder": "​",
      "style": "IPY_MODEL_b5827d7fe85443d690c054a75ca2e67d",
      "value": "Processing:   0%"
     }
    },
    "b21ba8c43ebd48f8b64adc96785a116d": {
     "model_module": "@jupyter-widgets/base",
     "model_module_version": "1.2.0",
     "model_name": "LayoutModel",
     "state": {
      "_model_module": "@jupyter-widgets/base",
      "_model_module_version": "1.2.0",
      "_model_name": "LayoutModel",
      "_view_count": null,
      "_view_module": "@jupyter-widgets/base",
      "_view_module_version": "1.2.0",
      "_view_name": "LayoutView",
      "align_content": null,
      "align_items": null,
      "align_self": null,
      "border": null,
      "bottom": null,
      "display": null,
      "flex": null,
      "flex_flow": null,
      "grid_area": null,
      "grid_auto_columns": null,
      "grid_auto_flow": null,
      "grid_auto_rows": null,
      "grid_column": null,
      "grid_gap": null,
      "grid_row": null,
      "grid_template_areas": null,
      "grid_template_columns": null,
      "grid_template_rows": null,
      "height": null,
      "justify_content": null,
      "justify_items": null,
      "left": null,
      "margin": null,
      "max_height": null,
      "max_width": null,
      "min_height": null,
      "min_width": null,
      "object_fit": null,
      "object_position": null,
      "order": null,
      "overflow": null,
      "overflow_x": null,
      "overflow_y": null,
      "padding": null,
      "right": null,
      "top": null,
      "visibility": null,
      "width": null
     }
    },
    "b5827d7fe85443d690c054a75ca2e67d": {
     "model_module": "@jupyter-widgets/controls",
     "model_module_version": "1.5.0",
     "model_name": "DescriptionStyleModel",
     "state": {
      "_model_module": "@jupyter-widgets/controls",
      "_model_module_version": "1.5.0",
      "_model_name": "DescriptionStyleModel",
      "_view_count": null,
      "_view_module": "@jupyter-widgets/base",
      "_view_module_version": "1.2.0",
      "_view_name": "StyleView",
      "description_width": ""
     }
    },
    "cd33ca4fc12a41709727144756265f4d": {
     "model_module": "@jupyter-widgets/base",
     "model_module_version": "1.2.0",
     "model_name": "LayoutModel",
     "state": {
      "_model_module": "@jupyter-widgets/base",
      "_model_module_version": "1.2.0",
      "_model_name": "LayoutModel",
      "_view_count": null,
      "_view_module": "@jupyter-widgets/base",
      "_view_module_version": "1.2.0",
      "_view_name": "LayoutView",
      "align_content": null,
      "align_items": null,
      "align_self": null,
      "border": null,
      "bottom": null,
      "display": null,
      "flex": null,
      "flex_flow": null,
      "grid_area": null,
      "grid_auto_columns": null,
      "grid_auto_flow": null,
      "grid_auto_rows": null,
      "grid_column": null,
      "grid_gap": null,
      "grid_row": null,
      "grid_template_areas": null,
      "grid_template_columns": null,
      "grid_template_rows": null,
      "height": null,
      "justify_content": null,
      "justify_items": null,
      "left": null,
      "margin": null,
      "max_height": null,
      "max_width": null,
      "min_height": null,
      "min_width": null,
      "object_fit": null,
      "object_position": null,
      "order": null,
      "overflow": null,
      "overflow_x": null,
      "overflow_y": null,
      "padding": null,
      "right": null,
      "top": null,
      "visibility": null,
      "width": null
     }
    },
    "ce40dee416944b5db04de53d07e75840": {
     "model_module": "@jupyter-widgets/controls",
     "model_module_version": "1.5.0",
     "model_name": "HTMLModel",
     "state": {
      "_dom_classes": [],
      "_model_module": "@jupyter-widgets/controls",
      "_model_module_version": "1.5.0",
      "_model_name": "HTMLModel",
      "_view_count": null,
      "_view_module": "@jupyter-widgets/controls",
      "_view_module_version": "1.5.0",
      "_view_name": "HTMLView",
      "description": "",
      "description_tooltip": null,
      "layout": "IPY_MODEL_5878e49dbe9f48f096747f4e4569f830",
      "placeholder": "​",
      "style": "IPY_MODEL_ef911d5800ab4734850a5b34fda74266",
      "value": " 0/65 [00:00&lt;?, ?it/s]"
     }
    },
    "e1c0e9b83b3a4cd9a75944d25656a4e6": {
     "model_module": "@jupyter-widgets/base",
     "model_module_version": "1.2.0",
     "model_name": "LayoutModel",
     "state": {
      "_model_module": "@jupyter-widgets/base",
      "_model_module_version": "1.2.0",
      "_model_name": "LayoutModel",
      "_view_count": null,
      "_view_module": "@jupyter-widgets/base",
      "_view_module_version": "1.2.0",
      "_view_name": "LayoutView",
      "align_content": null,
      "align_items": null,
      "align_self": null,
      "border": null,
      "bottom": null,
      "display": null,
      "flex": null,
      "flex_flow": null,
      "grid_area": null,
      "grid_auto_columns": null,
      "grid_auto_flow": null,
      "grid_auto_rows": null,
      "grid_column": null,
      "grid_gap": null,
      "grid_row": null,
      "grid_template_areas": null,
      "grid_template_columns": null,
      "grid_template_rows": null,
      "height": null,
      "justify_content": null,
      "justify_items": null,
      "left": null,
      "margin": null,
      "max_height": null,
      "max_width": null,
      "min_height": null,
      "min_width": null,
      "object_fit": null,
      "object_position": null,
      "order": null,
      "overflow": null,
      "overflow_x": null,
      "overflow_y": null,
      "padding": null,
      "right": null,
      "top": null,
      "visibility": null,
      "width": null
     }
    },
    "e75a81dc1af7483ba2bfe1fd25971840": {
     "model_module": "@jupyter-widgets/controls",
     "model_module_version": "1.5.0",
     "model_name": "FloatProgressModel",
     "state": {
      "_dom_classes": [],
      "_model_module": "@jupyter-widgets/controls",
      "_model_module_version": "1.5.0",
      "_model_name": "FloatProgressModel",
      "_view_count": null,
      "_view_module": "@jupyter-widgets/controls",
      "_view_module_version": "1.5.0",
      "_view_name": "ProgressView",
      "bar_style": "",
      "description": "",
      "description_tooltip": null,
      "layout": "IPY_MODEL_b21ba8c43ebd48f8b64adc96785a116d",
      "max": 65,
      "min": 0,
      "orientation": "horizontal",
      "style": "IPY_MODEL_f9128cc0bbee470281e71a2480f109b7",
      "value": 0
     }
    },
    "ef911d5800ab4734850a5b34fda74266": {
     "model_module": "@jupyter-widgets/controls",
     "model_module_version": "1.5.0",
     "model_name": "DescriptionStyleModel",
     "state": {
      "_model_module": "@jupyter-widgets/controls",
      "_model_module_version": "1.5.0",
      "_model_name": "DescriptionStyleModel",
      "_view_count": null,
      "_view_module": "@jupyter-widgets/base",
      "_view_module_version": "1.2.0",
      "_view_name": "StyleView",
      "description_width": ""
     }
    },
    "f9128cc0bbee470281e71a2480f109b7": {
     "model_module": "@jupyter-widgets/controls",
     "model_module_version": "1.5.0",
     "model_name": "ProgressStyleModel",
     "state": {
      "_model_module": "@jupyter-widgets/controls",
      "_model_module_version": "1.5.0",
      "_model_name": "ProgressStyleModel",
      "_view_count": null,
      "_view_module": "@jupyter-widgets/base",
      "_view_module_version": "1.2.0",
      "_view_name": "StyleView",
      "bar_color": null,
      "description_width": ""
     }
    }
   }
  }
 },
 "nbformat": 4,
 "nbformat_minor": 1
}
