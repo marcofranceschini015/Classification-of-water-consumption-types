{
 "cells": [
  {
   "cell_type": "code",
   "execution_count": 1,
   "metadata": {
    "colab": {
     "base_uri": "https://localhost:8080/",
     "height": 1000
    },
    "executionInfo": {
     "elapsed": 61955,
     "status": "ok",
     "timestamp": 1707152578604,
     "user": {
      "displayName": "Waldyr Turquetti",
      "userId": "16979580399715376846"
     },
     "user_tz": 0
    },
    "id": "Do13G6lHaxve",
    "outputId": "c2cf804e-2c85-4f05-bacb-c5b8477c4622"
   },
   "outputs": [],
   "source": [
    "# !pip install pycaret"
   ]
  },
  {
   "cell_type": "code",
   "execution_count": 2,
   "metadata": {
    "executionInfo": {
     "elapsed": 3945,
     "status": "ok",
     "timestamp": 1707152582543,
     "user": {
      "displayName": "Waldyr Turquetti",
      "userId": "16979580399715376846"
     },
     "user_tz": 0
    },
    "id": "Zxee3LkTcdLx"
   },
   "outputs": [],
   "source": [
    "import pandas as pd\n",
    "import seaborn as sns\n",
    "\n",
    "from pycaret.classification import *\n",
    "\n",
    "from sklearn.model_selection import train_test_split\n",
    "from sklearn.metrics import confusion_matrix\n",
    "\n",
    "import matplotlib.pyplot as plt"
   ]
  },
  {
   "cell_type": "code",
   "execution_count": 3,
   "metadata": {
    "executionInfo": {
     "elapsed": 4753,
     "status": "ok",
     "timestamp": 1707152587292,
     "user": {
      "displayName": "Waldyr Turquetti",
      "userId": "16979580399715376846"
     },
     "user_tz": 0
    },
    "id": "0pijHbJ_cLbN"
   },
   "outputs": [],
   "source": [
    "train = pd.read_csv(\"new_train_v4.csv\")\n",
    "train = train.drop('index', axis=1)"
   ]
  },
  {
   "cell_type": "code",
   "execution_count": 4,
   "metadata": {
    "colab": {
     "base_uri": "https://localhost:8080/"
    },
    "executionInfo": {
     "elapsed": 758,
     "status": "ok",
     "timestamp": 1707152588047,
     "user": {
      "displayName": "Waldyr Turquetti",
      "userId": "16979580399715376846"
     },
     "user_tz": 0
    },
    "id": "wXAQgTIfQsmS",
    "outputId": "3f697cea-a859-415d-99b7-7b107171adab"
   },
   "outputs": [
    {
     "name": "stdout",
     "output_type": "stream",
     "text": [
      "rural domestic         203771\n",
      "rural commercial       203542\n",
      "domestic               203531\n",
      "construction           200993\n",
      "low income families    200485\n",
      "rural expansion        200300\n",
      "industrial             196681\n",
      "Name: Consumer_type, dtype: int64\n"
     ]
    }
   ],
   "source": [
    "counts = train['Consumer_type'].value_counts()\n",
    "print(counts)"
   ]
  },
  {
   "cell_type": "code",
   "execution_count": 5,
   "metadata": {
    "executionInfo": {
     "elapsed": 7,
     "status": "ok",
     "timestamp": 1707152588047,
     "user": {
      "displayName": "Waldyr Turquetti",
      "userId": "16979580399715376846"
     },
     "user_tz": 0
    },
    "id": "yCiHrUbz8RHg"
   },
   "outputs": [],
   "source": [
    "test = pd.read_csv(\"test_v4.csv\")"
   ]
  },
  {
   "cell_type": "code",
   "execution_count": 6,
   "metadata": {
    "colab": {
     "base_uri": "https://localhost:8080/"
    },
    "executionInfo": {
     "elapsed": 5,
     "status": "ok",
     "timestamp": 1707152588047,
     "user": {
      "displayName": "Waldyr Turquetti",
      "userId": "16979580399715376846"
     },
     "user_tz": 0
    },
    "id": "NToU32USfFNY",
    "outputId": "13545541-241a-40d6-e0a5-b97ab34087e5"
   },
   "outputs": [
    {
     "data": {
      "text/plain": [
       "(1409303, 6)"
      ]
     },
     "execution_count": 6,
     "metadata": {},
     "output_type": "execute_result"
    }
   ],
   "source": [
    "train.shape"
   ]
  },
  {
   "cell_type": "code",
   "execution_count": 7,
   "metadata": {
    "colab": {
     "base_uri": "https://localhost:8080/"
    },
    "executionInfo": {
     "elapsed": 720,
     "status": "ok",
     "timestamp": 1707152588764,
     "user": {
      "displayName": "Waldyr Turquetti",
      "userId": "16979580399715376846"
     },
     "user_tz": 0
    },
    "id": "BoOsAdp3QiRp",
    "outputId": "efb9b9f6-71b4-4ac8-b1d8-1cd57de70770"
   },
   "outputs": [
    {
     "name": "stdout",
     "output_type": "stream",
     "text": [
      "rural domestic         203771\n",
      "rural commercial       203542\n",
      "domestic               203531\n",
      "construction           200993\n",
      "low income families    200485\n",
      "rural expansion        200300\n",
      "industrial             196681\n",
      "Name: Consumer_type, dtype: int64\n"
     ]
    }
   ],
   "source": [
    "counts = train['Consumer_type'].value_counts()\n",
    "print(counts)"
   ]
  },
  {
   "cell_type": "code",
   "execution_count": 8,
   "metadata": {
    "executionInfo": {
     "elapsed": 3186,
     "status": "ok",
     "timestamp": 1707152591947,
     "user": {
      "displayName": "Waldyr Turquetti",
      "userId": "16979580399715376846"
     },
     "user_tz": 0
    },
    "id": "s1VMqtwMTVEF"
   },
   "outputs": [],
   "source": [
    "train = train.sample(frac=1, random_state=42).reset_index(drop=True)\n",
    "test = test.sample(frac=1, random_state=42).reset_index(drop=True)"
   ]
  },
  {
   "cell_type": "code",
   "execution_count": 9,
   "metadata": {
    "colab": {
     "base_uri": "https://localhost:8080/"
    },
    "executionInfo": {
     "elapsed": 8,
     "status": "ok",
     "timestamp": 1707152591947,
     "user": {
      "displayName": "Waldyr Turquetti",
      "userId": "16979580399715376846"
     },
     "user_tz": 0
    },
    "id": "pW3psIvERHoj",
    "outputId": "e58d48a8-0a19-4fc3-8b55-5a97ff6722e8"
   },
   "outputs": [
    {
     "data": {
      "text/plain": [
       "(3500, 6)"
      ]
     },
     "execution_count": 9,
     "metadata": {},
     "output_type": "execute_result"
    }
   ],
   "source": [
    "test.shape"
   ]
  },
  {
   "cell_type": "code",
   "execution_count": 10,
   "metadata": {
    "colab": {
     "base_uri": "https://localhost:8080/"
    },
    "executionInfo": {
     "elapsed": 4,
     "status": "ok",
     "timestamp": 1707152591947,
     "user": {
      "displayName": "Waldyr Turquetti",
      "userId": "16979580399715376846"
     },
     "user_tz": 0
    },
    "id": "ibK_L1sRQdMa",
    "outputId": "5616ba01-ca72-4902-e68f-704835220477"
   },
   "outputs": [
    {
     "name": "stdout",
     "output_type": "stream",
     "text": [
      "domestic               500\n",
      "construction           500\n",
      "industrial             500\n",
      "low income families    500\n",
      "rural domestic         500\n",
      "rural expansion        500\n",
      "rural commercial       500\n",
      "Name: Consumer_type, dtype: int64\n"
     ]
    }
   ],
   "source": [
    "counts = test['Consumer_type'].value_counts()\n",
    "print(counts)"
   ]
  },
  {
   "cell_type": "code",
   "execution_count": 11,
   "metadata": {
    "colab": {
     "base_uri": "https://localhost:8080/",
     "height": 1000,
     "referenced_widgets": [
      "433e00797fa34389966a4c491a2420ba",
      "9a780d1f77e7430fbae0833b4dc5270c",
      "e75a81dc1af7483ba2bfe1fd25971840",
      "ce40dee416944b5db04de53d07e75840",
      "cd33ca4fc12a41709727144756265f4d",
      "e1c0e9b83b3a4cd9a75944d25656a4e6",
      "b5827d7fe85443d690c054a75ca2e67d",
      "b21ba8c43ebd48f8b64adc96785a116d",
      "f9128cc0bbee470281e71a2480f109b7",
      "5878e49dbe9f48f096747f4e4569f830",
      "ef911d5800ab4734850a5b34fda74266"
     ]
    },
    "id": "0p_-tn_Ec30Q",
    "outputId": "d4bfe9a0-cf71-40be-a704-760555f42a49"
   },
   "outputs": [
    {
     "data": {
      "text/html": [
       "<style type=\"text/css\">\n",
       "#T_b1c0d_row10_col1 {\n",
       "  background-color: lightgreen;\n",
       "}\n",
       "</style>\n",
       "<table id=\"T_b1c0d\">\n",
       "  <thead>\n",
       "    <tr>\n",
       "      <th class=\"blank level0\" >&nbsp;</th>\n",
       "      <th id=\"T_b1c0d_level0_col0\" class=\"col_heading level0 col0\" >Description</th>\n",
       "      <th id=\"T_b1c0d_level0_col1\" class=\"col_heading level0 col1\" >Value</th>\n",
       "    </tr>\n",
       "  </thead>\n",
       "  <tbody>\n",
       "    <tr>\n",
       "      <th id=\"T_b1c0d_level0_row0\" class=\"row_heading level0 row0\" >0</th>\n",
       "      <td id=\"T_b1c0d_row0_col0\" class=\"data row0 col0\" >Session id</td>\n",
       "      <td id=\"T_b1c0d_row0_col1\" class=\"data row0 col1\" >6556</td>\n",
       "    </tr>\n",
       "    <tr>\n",
       "      <th id=\"T_b1c0d_level0_row1\" class=\"row_heading level0 row1\" >1</th>\n",
       "      <td id=\"T_b1c0d_row1_col0\" class=\"data row1 col0\" >Target</td>\n",
       "      <td id=\"T_b1c0d_row1_col1\" class=\"data row1 col1\" >Consumer_type</td>\n",
       "    </tr>\n",
       "    <tr>\n",
       "      <th id=\"T_b1c0d_level0_row2\" class=\"row_heading level0 row2\" >2</th>\n",
       "      <td id=\"T_b1c0d_row2_col0\" class=\"data row2 col0\" >Target type</td>\n",
       "      <td id=\"T_b1c0d_row2_col1\" class=\"data row2 col1\" >Multiclass</td>\n",
       "    </tr>\n",
       "    <tr>\n",
       "      <th id=\"T_b1c0d_level0_row3\" class=\"row_heading level0 row3\" >3</th>\n",
       "      <td id=\"T_b1c0d_row3_col0\" class=\"data row3 col0\" >Target mapping</td>\n",
       "      <td id=\"T_b1c0d_row3_col1\" class=\"data row3 col1\" >construction: 0, domestic: 1, industrial: 2, low income families: 3, rural commercial: 4, rural domestic: 5, rural expansion: 6</td>\n",
       "    </tr>\n",
       "    <tr>\n",
       "      <th id=\"T_b1c0d_level0_row4\" class=\"row_heading level0 row4\" >4</th>\n",
       "      <td id=\"T_b1c0d_row4_col0\" class=\"data row4 col0\" >Original data shape</td>\n",
       "      <td id=\"T_b1c0d_row4_col1\" class=\"data row4 col1\" >(1409303, 6)</td>\n",
       "    </tr>\n",
       "    <tr>\n",
       "      <th id=\"T_b1c0d_level0_row5\" class=\"row_heading level0 row5\" >5</th>\n",
       "      <td id=\"T_b1c0d_row5_col0\" class=\"data row5 col0\" >Transformed data shape</td>\n",
       "      <td id=\"T_b1c0d_row5_col1\" class=\"data row5 col1\" >(1409303, 6)</td>\n",
       "    </tr>\n",
       "    <tr>\n",
       "      <th id=\"T_b1c0d_level0_row6\" class=\"row_heading level0 row6\" >6</th>\n",
       "      <td id=\"T_b1c0d_row6_col0\" class=\"data row6 col0\" >Transformed train set shape</td>\n",
       "      <td id=\"T_b1c0d_row6_col1\" class=\"data row6 col1\" >(986512, 6)</td>\n",
       "    </tr>\n",
       "    <tr>\n",
       "      <th id=\"T_b1c0d_level0_row7\" class=\"row_heading level0 row7\" >7</th>\n",
       "      <td id=\"T_b1c0d_row7_col0\" class=\"data row7 col0\" >Transformed test set shape</td>\n",
       "      <td id=\"T_b1c0d_row7_col1\" class=\"data row7 col1\" >(422791, 6)</td>\n",
       "    </tr>\n",
       "    <tr>\n",
       "      <th id=\"T_b1c0d_level0_row8\" class=\"row_heading level0 row8\" >8</th>\n",
       "      <td id=\"T_b1c0d_row8_col0\" class=\"data row8 col0\" >Numeric features</td>\n",
       "      <td id=\"T_b1c0d_row8_col1\" class=\"data row8 col1\" >3</td>\n",
       "    </tr>\n",
       "    <tr>\n",
       "      <th id=\"T_b1c0d_level0_row9\" class=\"row_heading level0 row9\" >9</th>\n",
       "      <td id=\"T_b1c0d_row9_col0\" class=\"data row9 col0\" >Categorical features</td>\n",
       "      <td id=\"T_b1c0d_row9_col1\" class=\"data row9 col1\" >2</td>\n",
       "    </tr>\n",
       "    <tr>\n",
       "      <th id=\"T_b1c0d_level0_row10\" class=\"row_heading level0 row10\" >10</th>\n",
       "      <td id=\"T_b1c0d_row10_col0\" class=\"data row10 col0\" >Preprocess</td>\n",
       "      <td id=\"T_b1c0d_row10_col1\" class=\"data row10 col1\" >True</td>\n",
       "    </tr>\n",
       "    <tr>\n",
       "      <th id=\"T_b1c0d_level0_row11\" class=\"row_heading level0 row11\" >11</th>\n",
       "      <td id=\"T_b1c0d_row11_col0\" class=\"data row11 col0\" >Imputation type</td>\n",
       "      <td id=\"T_b1c0d_row11_col1\" class=\"data row11 col1\" >simple</td>\n",
       "    </tr>\n",
       "    <tr>\n",
       "      <th id=\"T_b1c0d_level0_row12\" class=\"row_heading level0 row12\" >12</th>\n",
       "      <td id=\"T_b1c0d_row12_col0\" class=\"data row12 col0\" >Numeric imputation</td>\n",
       "      <td id=\"T_b1c0d_row12_col1\" class=\"data row12 col1\" >mean</td>\n",
       "    </tr>\n",
       "    <tr>\n",
       "      <th id=\"T_b1c0d_level0_row13\" class=\"row_heading level0 row13\" >13</th>\n",
       "      <td id=\"T_b1c0d_row13_col0\" class=\"data row13 col0\" >Categorical imputation</td>\n",
       "      <td id=\"T_b1c0d_row13_col1\" class=\"data row13 col1\" >mode</td>\n",
       "    </tr>\n",
       "    <tr>\n",
       "      <th id=\"T_b1c0d_level0_row14\" class=\"row_heading level0 row14\" >14</th>\n",
       "      <td id=\"T_b1c0d_row14_col0\" class=\"data row14 col0\" >Maximum one-hot encoding</td>\n",
       "      <td id=\"T_b1c0d_row14_col1\" class=\"data row14 col1\" >25</td>\n",
       "    </tr>\n",
       "    <tr>\n",
       "      <th id=\"T_b1c0d_level0_row15\" class=\"row_heading level0 row15\" >15</th>\n",
       "      <td id=\"T_b1c0d_row15_col0\" class=\"data row15 col0\" >Encoding method</td>\n",
       "      <td id=\"T_b1c0d_row15_col1\" class=\"data row15 col1\" >None</td>\n",
       "    </tr>\n",
       "    <tr>\n",
       "      <th id=\"T_b1c0d_level0_row16\" class=\"row_heading level0 row16\" >16</th>\n",
       "      <td id=\"T_b1c0d_row16_col0\" class=\"data row16 col0\" >Fold Generator</td>\n",
       "      <td id=\"T_b1c0d_row16_col1\" class=\"data row16 col1\" >StratifiedKFold</td>\n",
       "    </tr>\n",
       "    <tr>\n",
       "      <th id=\"T_b1c0d_level0_row17\" class=\"row_heading level0 row17\" >17</th>\n",
       "      <td id=\"T_b1c0d_row17_col0\" class=\"data row17 col0\" >Fold Number</td>\n",
       "      <td id=\"T_b1c0d_row17_col1\" class=\"data row17 col1\" >10</td>\n",
       "    </tr>\n",
       "    <tr>\n",
       "      <th id=\"T_b1c0d_level0_row18\" class=\"row_heading level0 row18\" >18</th>\n",
       "      <td id=\"T_b1c0d_row18_col0\" class=\"data row18 col0\" >CPU Jobs</td>\n",
       "      <td id=\"T_b1c0d_row18_col1\" class=\"data row18 col1\" >-1</td>\n",
       "    </tr>\n",
       "    <tr>\n",
       "      <th id=\"T_b1c0d_level0_row19\" class=\"row_heading level0 row19\" >19</th>\n",
       "      <td id=\"T_b1c0d_row19_col0\" class=\"data row19 col0\" >Use GPU</td>\n",
       "      <td id=\"T_b1c0d_row19_col1\" class=\"data row19 col1\" >False</td>\n",
       "    </tr>\n",
       "    <tr>\n",
       "      <th id=\"T_b1c0d_level0_row20\" class=\"row_heading level0 row20\" >20</th>\n",
       "      <td id=\"T_b1c0d_row20_col0\" class=\"data row20 col0\" >Log Experiment</td>\n",
       "      <td id=\"T_b1c0d_row20_col1\" class=\"data row20 col1\" >False</td>\n",
       "    </tr>\n",
       "    <tr>\n",
       "      <th id=\"T_b1c0d_level0_row21\" class=\"row_heading level0 row21\" >21</th>\n",
       "      <td id=\"T_b1c0d_row21_col0\" class=\"data row21 col0\" >Experiment Name</td>\n",
       "      <td id=\"T_b1c0d_row21_col1\" class=\"data row21 col1\" >clf-default-name</td>\n",
       "    </tr>\n",
       "    <tr>\n",
       "      <th id=\"T_b1c0d_level0_row22\" class=\"row_heading level0 row22\" >22</th>\n",
       "      <td id=\"T_b1c0d_row22_col0\" class=\"data row22 col0\" >USI</td>\n",
       "      <td id=\"T_b1c0d_row22_col1\" class=\"data row22 col1\" >769c</td>\n",
       "    </tr>\n",
       "  </tbody>\n",
       "</table>\n"
      ],
      "text/plain": [
       "<pandas.io.formats.style.Styler at 0x2676b225490>"
      ]
     },
     "metadata": {},
     "output_type": "display_data"
    },
    {
     "data": {
      "text/html": [],
      "text/plain": [
       "<IPython.core.display.HTML object>"
      ]
     },
     "metadata": {},
     "output_type": "display_data"
    },
    {
     "data": {
      "text/html": [
       "<style type=\"text/css\">\n",
       "#T_058c1 th {\n",
       "  text-align: left;\n",
       "}\n",
       "#T_058c1_row0_col0, #T_058c1_row1_col0, #T_058c1_row1_col1, #T_058c1_row1_col2, #T_058c1_row1_col3, #T_058c1_row1_col4, #T_058c1_row1_col5, #T_058c1_row1_col6, #T_058c1_row1_col7, #T_058c1_row2_col0, #T_058c1_row2_col1, #T_058c1_row2_col2, #T_058c1_row2_col3, #T_058c1_row2_col4, #T_058c1_row2_col5, #T_058c1_row2_col6, #T_058c1_row2_col7, #T_058c1_row3_col0, #T_058c1_row3_col1, #T_058c1_row3_col2, #T_058c1_row3_col3, #T_058c1_row3_col4, #T_058c1_row3_col5, #T_058c1_row3_col6, #T_058c1_row3_col7, #T_058c1_row4_col0, #T_058c1_row4_col1, #T_058c1_row4_col2, #T_058c1_row4_col3, #T_058c1_row4_col4, #T_058c1_row4_col5, #T_058c1_row4_col6, #T_058c1_row4_col7, #T_058c1_row5_col0, #T_058c1_row5_col1, #T_058c1_row5_col2, #T_058c1_row5_col3, #T_058c1_row5_col4, #T_058c1_row5_col5, #T_058c1_row5_col6, #T_058c1_row5_col7, #T_058c1_row6_col0, #T_058c1_row6_col1, #T_058c1_row6_col2, #T_058c1_row6_col3, #T_058c1_row6_col4, #T_058c1_row6_col5, #T_058c1_row6_col6, #T_058c1_row6_col7, #T_058c1_row7_col0, #T_058c1_row7_col1, #T_058c1_row7_col2, #T_058c1_row7_col3, #T_058c1_row7_col4, #T_058c1_row7_col5, #T_058c1_row7_col6, #T_058c1_row7_col7, #T_058c1_row8_col0, #T_058c1_row8_col1, #T_058c1_row8_col2, #T_058c1_row8_col3, #T_058c1_row8_col4, #T_058c1_row8_col5, #T_058c1_row8_col6, #T_058c1_row8_col7, #T_058c1_row9_col0, #T_058c1_row9_col1, #T_058c1_row9_col2, #T_058c1_row9_col3, #T_058c1_row9_col4, #T_058c1_row9_col5, #T_058c1_row9_col6, #T_058c1_row9_col7, #T_058c1_row10_col0, #T_058c1_row10_col1, #T_058c1_row10_col2, #T_058c1_row10_col3, #T_058c1_row10_col4, #T_058c1_row10_col5, #T_058c1_row10_col6, #T_058c1_row10_col7, #T_058c1_row11_col0, #T_058c1_row11_col1, #T_058c1_row11_col2, #T_058c1_row11_col3, #T_058c1_row11_col4, #T_058c1_row11_col5, #T_058c1_row11_col6, #T_058c1_row11_col7, #T_058c1_row12_col0, #T_058c1_row12_col1, #T_058c1_row12_col2, #T_058c1_row12_col3, #T_058c1_row12_col4, #T_058c1_row12_col5, #T_058c1_row12_col6, #T_058c1_row12_col7, #T_058c1_row13_col0, #T_058c1_row13_col1, #T_058c1_row13_col2, #T_058c1_row13_col3, #T_058c1_row13_col4, #T_058c1_row13_col5, #T_058c1_row13_col6, #T_058c1_row13_col7 {\n",
       "  text-align: left;\n",
       "}\n",
       "#T_058c1_row0_col1, #T_058c1_row0_col2, #T_058c1_row0_col3, #T_058c1_row0_col4, #T_058c1_row0_col5, #T_058c1_row0_col6, #T_058c1_row0_col7 {\n",
       "  text-align: left;\n",
       "  background-color: yellow;\n",
       "}\n",
       "#T_058c1_row0_col8, #T_058c1_row1_col8, #T_058c1_row2_col8, #T_058c1_row3_col8, #T_058c1_row4_col8, #T_058c1_row5_col8, #T_058c1_row6_col8, #T_058c1_row7_col8, #T_058c1_row8_col8, #T_058c1_row9_col8, #T_058c1_row11_col8, #T_058c1_row12_col8, #T_058c1_row13_col8 {\n",
       "  text-align: left;\n",
       "  background-color: lightgrey;\n",
       "}\n",
       "#T_058c1_row10_col8 {\n",
       "  text-align: left;\n",
       "  background-color: yellow;\n",
       "  background-color: lightgrey;\n",
       "}\n",
       "</style>\n",
       "<table id=\"T_058c1\">\n",
       "  <thead>\n",
       "    <tr>\n",
       "      <th class=\"blank level0\" >&nbsp;</th>\n",
       "      <th id=\"T_058c1_level0_col0\" class=\"col_heading level0 col0\" >Model</th>\n",
       "      <th id=\"T_058c1_level0_col1\" class=\"col_heading level0 col1\" >Accuracy</th>\n",
       "      <th id=\"T_058c1_level0_col2\" class=\"col_heading level0 col2\" >AUC</th>\n",
       "      <th id=\"T_058c1_level0_col3\" class=\"col_heading level0 col3\" >Recall</th>\n",
       "      <th id=\"T_058c1_level0_col4\" class=\"col_heading level0 col4\" >Prec.</th>\n",
       "      <th id=\"T_058c1_level0_col5\" class=\"col_heading level0 col5\" >F1</th>\n",
       "      <th id=\"T_058c1_level0_col6\" class=\"col_heading level0 col6\" >Kappa</th>\n",
       "      <th id=\"T_058c1_level0_col7\" class=\"col_heading level0 col7\" >MCC</th>\n",
       "      <th id=\"T_058c1_level0_col8\" class=\"col_heading level0 col8\" >TT (Sec)</th>\n",
       "    </tr>\n",
       "  </thead>\n",
       "  <tbody>\n",
       "    <tr>\n",
       "      <th id=\"T_058c1_level0_row0\" class=\"row_heading level0 row0\" >catboost</th>\n",
       "      <td id=\"T_058c1_row0_col0\" class=\"data row0 col0\" >CatBoost Classifier</td>\n",
       "      <td id=\"T_058c1_row0_col1\" class=\"data row0 col1\" >0.5677</td>\n",
       "      <td id=\"T_058c1_row0_col2\" class=\"data row0 col2\" >0.8712</td>\n",
       "      <td id=\"T_058c1_row0_col3\" class=\"data row0 col3\" >0.5677</td>\n",
       "      <td id=\"T_058c1_row0_col4\" class=\"data row0 col4\" >0.5511</td>\n",
       "      <td id=\"T_058c1_row0_col5\" class=\"data row0 col5\" >0.5569</td>\n",
       "      <td id=\"T_058c1_row0_col6\" class=\"data row0 col6\" >0.4956</td>\n",
       "      <td id=\"T_058c1_row0_col7\" class=\"data row0 col7\" >0.4966</td>\n",
       "      <td id=\"T_058c1_row0_col8\" class=\"data row0 col8\" >312.0960</td>\n",
       "    </tr>\n",
       "    <tr>\n",
       "      <th id=\"T_058c1_level0_row1\" class=\"row_heading level0 row1\" >lightgbm</th>\n",
       "      <td id=\"T_058c1_row1_col0\" class=\"data row1 col0\" >Light Gradient Boosting Machine</td>\n",
       "      <td id=\"T_058c1_row1_col1\" class=\"data row1 col1\" >0.5667</td>\n",
       "      <td id=\"T_058c1_row1_col2\" class=\"data row1 col2\" >0.8704</td>\n",
       "      <td id=\"T_058c1_row1_col3\" class=\"data row1 col3\" >0.5667</td>\n",
       "      <td id=\"T_058c1_row1_col4\" class=\"data row1 col4\" >0.5504</td>\n",
       "      <td id=\"T_058c1_row1_col5\" class=\"data row1 col5\" >0.5564</td>\n",
       "      <td id=\"T_058c1_row1_col6\" class=\"data row1 col6\" >0.4944</td>\n",
       "      <td id=\"T_058c1_row1_col7\" class=\"data row1 col7\" >0.4953</td>\n",
       "      <td id=\"T_058c1_row1_col8\" class=\"data row1 col8\" >388.3870</td>\n",
       "    </tr>\n",
       "    <tr>\n",
       "      <th id=\"T_058c1_level0_row2\" class=\"row_heading level0 row2\" >gbc</th>\n",
       "      <td id=\"T_058c1_row2_col0\" class=\"data row2 col0\" >Gradient Boosting Classifier</td>\n",
       "      <td id=\"T_058c1_row2_col1\" class=\"data row2 col1\" >0.5603</td>\n",
       "      <td id=\"T_058c1_row2_col2\" class=\"data row2 col2\" >0.8651</td>\n",
       "      <td id=\"T_058c1_row2_col3\" class=\"data row2 col3\" >0.5603</td>\n",
       "      <td id=\"T_058c1_row2_col4\" class=\"data row2 col4\" >0.5450</td>\n",
       "      <td id=\"T_058c1_row2_col5\" class=\"data row2 col5\" >0.5502</td>\n",
       "      <td id=\"T_058c1_row2_col6\" class=\"data row2 col6\" >0.4870</td>\n",
       "      <td id=\"T_058c1_row2_col7\" class=\"data row2 col7\" >0.4879</td>\n",
       "      <td id=\"T_058c1_row2_col8\" class=\"data row2 col8\" >648.9530</td>\n",
       "    </tr>\n",
       "    <tr>\n",
       "      <th id=\"T_058c1_level0_row3\" class=\"row_heading level0 row3\" >knn</th>\n",
       "      <td id=\"T_058c1_row3_col0\" class=\"data row3 col0\" >K Neighbors Classifier</td>\n",
       "      <td id=\"T_058c1_row3_col1\" class=\"data row3 col1\" >0.5110</td>\n",
       "      <td id=\"T_058c1_row3_col2\" class=\"data row3 col2\" >0.7935</td>\n",
       "      <td id=\"T_058c1_row3_col3\" class=\"data row3 col3\" >0.5110</td>\n",
       "      <td id=\"T_058c1_row3_col4\" class=\"data row3 col4\" >0.5128</td>\n",
       "      <td id=\"T_058c1_row3_col5\" class=\"data row3 col5\" >0.5102</td>\n",
       "      <td id=\"T_058c1_row3_col6\" class=\"data row3 col6\" >0.4295</td>\n",
       "      <td id=\"T_058c1_row3_col7\" class=\"data row3 col7\" >0.4303</td>\n",
       "      <td id=\"T_058c1_row3_col8\" class=\"data row3 col8\" >12.9040</td>\n",
       "    </tr>\n",
       "    <tr>\n",
       "      <th id=\"T_058c1_level0_row4\" class=\"row_heading level0 row4\" >rf</th>\n",
       "      <td id=\"T_058c1_row4_col0\" class=\"data row4 col0\" >Random Forest Classifier</td>\n",
       "      <td id=\"T_058c1_row4_col1\" class=\"data row4 col1\" >0.4998</td>\n",
       "      <td id=\"T_058c1_row4_col2\" class=\"data row4 col2\" >0.8162</td>\n",
       "      <td id=\"T_058c1_row4_col3\" class=\"data row4 col3\" >0.4998</td>\n",
       "      <td id=\"T_058c1_row4_col4\" class=\"data row4 col4\" >0.4975</td>\n",
       "      <td id=\"T_058c1_row4_col5\" class=\"data row4 col5\" >0.4986</td>\n",
       "      <td id=\"T_058c1_row4_col6\" class=\"data row4 col6\" >0.4164</td>\n",
       "      <td id=\"T_058c1_row4_col7\" class=\"data row4 col7\" >0.4165</td>\n",
       "      <td id=\"T_058c1_row4_col8\" class=\"data row4 col8\" >323.5760</td>\n",
       "    </tr>\n",
       "    <tr>\n",
       "      <th id=\"T_058c1_level0_row5\" class=\"row_heading level0 row5\" >lda</th>\n",
       "      <td id=\"T_058c1_row5_col0\" class=\"data row5 col0\" >Linear Discriminant Analysis</td>\n",
       "      <td id=\"T_058c1_row5_col1\" class=\"data row5 col1\" >0.4918</td>\n",
       "      <td id=\"T_058c1_row5_col2\" class=\"data row5 col2\" >0.8127</td>\n",
       "      <td id=\"T_058c1_row5_col3\" class=\"data row5 col3\" >0.4918</td>\n",
       "      <td id=\"T_058c1_row5_col4\" class=\"data row5 col4\" >0.4689</td>\n",
       "      <td id=\"T_058c1_row5_col5\" class=\"data row5 col5\" >0.4734</td>\n",
       "      <td id=\"T_058c1_row5_col6\" class=\"data row5 col6\" >0.4069</td>\n",
       "      <td id=\"T_058c1_row5_col7\" class=\"data row5 col7\" >0.4093</td>\n",
       "      <td id=\"T_058c1_row5_col8\" class=\"data row5 col8\" >5.5100</td>\n",
       "    </tr>\n",
       "    <tr>\n",
       "      <th id=\"T_058c1_level0_row6\" class=\"row_heading level0 row6\" >dt</th>\n",
       "      <td id=\"T_058c1_row6_col0\" class=\"data row6 col0\" >Decision Tree Classifier</td>\n",
       "      <td id=\"T_058c1_row6_col1\" class=\"data row6 col1\" >0.4883</td>\n",
       "      <td id=\"T_058c1_row6_col2\" class=\"data row6 col2\" >0.7079</td>\n",
       "      <td id=\"T_058c1_row6_col3\" class=\"data row6 col3\" >0.4883</td>\n",
       "      <td id=\"T_058c1_row6_col4\" class=\"data row6 col4\" >0.4923</td>\n",
       "      <td id=\"T_058c1_row6_col5\" class=\"data row6 col5\" >0.4900</td>\n",
       "      <td id=\"T_058c1_row6_col6\" class=\"data row6 col6\" >0.4030</td>\n",
       "      <td id=\"T_058c1_row6_col7\" class=\"data row6 col7\" >0.4031</td>\n",
       "      <td id=\"T_058c1_row6_col8\" class=\"data row6 col8\" >5.9300</td>\n",
       "    </tr>\n",
       "    <tr>\n",
       "      <th id=\"T_058c1_level0_row7\" class=\"row_heading level0 row7\" >qda</th>\n",
       "      <td id=\"T_058c1_row7_col0\" class=\"data row7 col0\" >Quadratic Discriminant Analysis</td>\n",
       "      <td id=\"T_058c1_row7_col1\" class=\"data row7 col1\" >0.4812</td>\n",
       "      <td id=\"T_058c1_row7_col2\" class=\"data row7 col2\" >0.8130</td>\n",
       "      <td id=\"T_058c1_row7_col3\" class=\"data row7 col3\" >0.4812</td>\n",
       "      <td id=\"T_058c1_row7_col4\" class=\"data row7 col4\" >0.5065</td>\n",
       "      <td id=\"T_058c1_row7_col5\" class=\"data row7 col5\" >0.4662</td>\n",
       "      <td id=\"T_058c1_row7_col6\" class=\"data row7 col6\" >0.3946</td>\n",
       "      <td id=\"T_058c1_row7_col7\" class=\"data row7 col7\" >0.4011</td>\n",
       "      <td id=\"T_058c1_row7_col8\" class=\"data row7 col8\" >11.3440</td>\n",
       "    </tr>\n",
       "    <tr>\n",
       "      <th id=\"T_058c1_level0_row8\" class=\"row_heading level0 row8\" >lr</th>\n",
       "      <td id=\"T_058c1_row8_col0\" class=\"data row8 col0\" >Logistic Regression</td>\n",
       "      <td id=\"T_058c1_row8_col1\" class=\"data row8 col1\" >0.4576</td>\n",
       "      <td id=\"T_058c1_row8_col2\" class=\"data row8 col2\" >0.8053</td>\n",
       "      <td id=\"T_058c1_row8_col3\" class=\"data row8 col3\" >0.4576</td>\n",
       "      <td id=\"T_058c1_row8_col4\" class=\"data row8 col4\" >0.4267</td>\n",
       "      <td id=\"T_058c1_row8_col5\" class=\"data row8 col5\" >0.4318</td>\n",
       "      <td id=\"T_058c1_row8_col6\" class=\"data row8 col6\" >0.3671</td>\n",
       "      <td id=\"T_058c1_row8_col7\" class=\"data row8 col7\" >0.3707</td>\n",
       "      <td id=\"T_058c1_row8_col8\" class=\"data row8 col8\" >168.4720</td>\n",
       "    </tr>\n",
       "    <tr>\n",
       "      <th id=\"T_058c1_level0_row9\" class=\"row_heading level0 row9\" >ridge</th>\n",
       "      <td id=\"T_058c1_row9_col0\" class=\"data row9 col0\" >Ridge Classifier</td>\n",
       "      <td id=\"T_058c1_row9_col1\" class=\"data row9 col1\" >0.4539</td>\n",
       "      <td id=\"T_058c1_row9_col2\" class=\"data row9 col2\" >0.0000</td>\n",
       "      <td id=\"T_058c1_row9_col3\" class=\"data row9 col3\" >0.4539</td>\n",
       "      <td id=\"T_058c1_row9_col4\" class=\"data row9 col4\" >0.4170</td>\n",
       "      <td id=\"T_058c1_row9_col5\" class=\"data row9 col5\" >0.3747</td>\n",
       "      <td id=\"T_058c1_row9_col6\" class=\"data row9 col6\" >0.3625</td>\n",
       "      <td id=\"T_058c1_row9_col7\" class=\"data row9 col7\" >0.3817</td>\n",
       "      <td id=\"T_058c1_row9_col8\" class=\"data row9 col8\" >13.9370</td>\n",
       "    </tr>\n",
       "    <tr>\n",
       "      <th id=\"T_058c1_level0_row10\" class=\"row_heading level0 row10\" >nb</th>\n",
       "      <td id=\"T_058c1_row10_col0\" class=\"data row10 col0\" >Naive Bayes</td>\n",
       "      <td id=\"T_058c1_row10_col1\" class=\"data row10 col1\" >0.4300</td>\n",
       "      <td id=\"T_058c1_row10_col2\" class=\"data row10 col2\" >0.7832</td>\n",
       "      <td id=\"T_058c1_row10_col3\" class=\"data row10 col3\" >0.4300</td>\n",
       "      <td id=\"T_058c1_row10_col4\" class=\"data row10 col4\" >0.4535</td>\n",
       "      <td id=\"T_058c1_row10_col5\" class=\"data row10 col5\" >0.4059</td>\n",
       "      <td id=\"T_058c1_row10_col6\" class=\"data row10 col6\" >0.3351</td>\n",
       "      <td id=\"T_058c1_row10_col7\" class=\"data row10 col7\" >0.3448</td>\n",
       "      <td id=\"T_058c1_row10_col8\" class=\"data row10 col8\" >3.3170</td>\n",
       "    </tr>\n",
       "    <tr>\n",
       "      <th id=\"T_058c1_level0_row11\" class=\"row_heading level0 row11\" >svm</th>\n",
       "      <td id=\"T_058c1_row11_col0\" class=\"data row11 col0\" >SVM - Linear Kernel</td>\n",
       "      <td id=\"T_058c1_row11_col1\" class=\"data row11 col1\" >0.3506</td>\n",
       "      <td id=\"T_058c1_row11_col2\" class=\"data row11 col2\" >0.0000</td>\n",
       "      <td id=\"T_058c1_row11_col3\" class=\"data row11 col3\" >0.3506</td>\n",
       "      <td id=\"T_058c1_row11_col4\" class=\"data row11 col4\" >0.4395</td>\n",
       "      <td id=\"T_058c1_row11_col5\" class=\"data row11 col5\" >0.2790</td>\n",
       "      <td id=\"T_058c1_row11_col6\" class=\"data row11 col6\" >0.2421</td>\n",
       "      <td id=\"T_058c1_row11_col7\" class=\"data row11 col7\" >0.3312</td>\n",
       "      <td id=\"T_058c1_row11_col8\" class=\"data row11 col8\" >471.3630</td>\n",
       "    </tr>\n",
       "    <tr>\n",
       "      <th id=\"T_058c1_level0_row12\" class=\"row_heading level0 row12\" >ada</th>\n",
       "      <td id=\"T_058c1_row12_col0\" class=\"data row12 col0\" >Ada Boost Classifier</td>\n",
       "      <td id=\"T_058c1_row12_col1\" class=\"data row12 col1\" >0.3445</td>\n",
       "      <td id=\"T_058c1_row12_col2\" class=\"data row12 col2\" >0.6548</td>\n",
       "      <td id=\"T_058c1_row12_col3\" class=\"data row12 col3\" >0.3445</td>\n",
       "      <td id=\"T_058c1_row12_col4\" class=\"data row12 col4\" >0.4212</td>\n",
       "      <td id=\"T_058c1_row12_col5\" class=\"data row12 col5\" >0.2564</td>\n",
       "      <td id=\"T_058c1_row12_col6\" class=\"data row12 col6\" >0.2349</td>\n",
       "      <td id=\"T_058c1_row12_col7\" class=\"data row12 col7\" >0.3019</td>\n",
       "      <td id=\"T_058c1_row12_col8\" class=\"data row12 col8\" >38.4800</td>\n",
       "    </tr>\n",
       "    <tr>\n",
       "      <th id=\"T_058c1_level0_row13\" class=\"row_heading level0 row13\" >dummy</th>\n",
       "      <td id=\"T_058c1_row13_col0\" class=\"data row13 col0\" >Dummy Classifier</td>\n",
       "      <td id=\"T_058c1_row13_col1\" class=\"data row13 col1\" >0.1446</td>\n",
       "      <td id=\"T_058c1_row13_col2\" class=\"data row13 col2\" >0.5000</td>\n",
       "      <td id=\"T_058c1_row13_col3\" class=\"data row13 col3\" >0.1446</td>\n",
       "      <td id=\"T_058c1_row13_col4\" class=\"data row13 col4\" >0.0209</td>\n",
       "      <td id=\"T_058c1_row13_col5\" class=\"data row13 col5\" >0.0365</td>\n",
       "      <td id=\"T_058c1_row13_col6\" class=\"data row13 col6\" >0.0000</td>\n",
       "      <td id=\"T_058c1_row13_col7\" class=\"data row13 col7\" >0.0000</td>\n",
       "      <td id=\"T_058c1_row13_col8\" class=\"data row13 col8\" >3.3410</td>\n",
       "    </tr>\n",
       "  </tbody>\n",
       "</table>\n"
      ],
      "text/plain": [
       "<pandas.io.formats.style.Styler at 0x26700173fd0>"
      ]
     },
     "metadata": {},
     "output_type": "display_data"
    },
    {
     "data": {
      "text/html": [],
      "text/plain": [
       "<IPython.core.display.HTML object>"
      ]
     },
     "metadata": {},
     "output_type": "display_data"
    }
   ],
   "source": [
    "# clf1 = setup(train, target='Consumer_type', use_gpu=True)\n",
    "clf1 = setup(train, target='Consumer_type')\n",
    "\n",
    "best_model = compare_models()"
   ]
  },
  {
   "cell_type": "code",
   "execution_count": 12,
   "metadata": {
    "id": "Ts5Og3kZ7I_R"
   },
   "outputs": [
    {
     "data": {
      "text/html": [
       "<style type=\"text/css\">\n",
       "</style>\n",
       "<table id=\"T_faea7\">\n",
       "  <thead>\n",
       "    <tr>\n",
       "      <th class=\"blank level0\" >&nbsp;</th>\n",
       "      <th id=\"T_faea7_level0_col0\" class=\"col_heading level0 col0\" >Model</th>\n",
       "      <th id=\"T_faea7_level0_col1\" class=\"col_heading level0 col1\" >Accuracy</th>\n",
       "      <th id=\"T_faea7_level0_col2\" class=\"col_heading level0 col2\" >AUC</th>\n",
       "      <th id=\"T_faea7_level0_col3\" class=\"col_heading level0 col3\" >Recall</th>\n",
       "      <th id=\"T_faea7_level0_col4\" class=\"col_heading level0 col4\" >Prec.</th>\n",
       "      <th id=\"T_faea7_level0_col5\" class=\"col_heading level0 col5\" >F1</th>\n",
       "      <th id=\"T_faea7_level0_col6\" class=\"col_heading level0 col6\" >Kappa</th>\n",
       "      <th id=\"T_faea7_level0_col7\" class=\"col_heading level0 col7\" >MCC</th>\n",
       "    </tr>\n",
       "  </thead>\n",
       "  <tbody>\n",
       "    <tr>\n",
       "      <th id=\"T_faea7_level0_row0\" class=\"row_heading level0 row0\" >0</th>\n",
       "      <td id=\"T_faea7_row0_col0\" class=\"data row0 col0\" >CatBoost Classifier</td>\n",
       "      <td id=\"T_faea7_row0_col1\" class=\"data row0 col1\" >0.4383</td>\n",
       "      <td id=\"T_faea7_row0_col2\" class=\"data row0 col2\" >0.8489</td>\n",
       "      <td id=\"T_faea7_row0_col3\" class=\"data row0 col3\" >0.4383</td>\n",
       "      <td id=\"T_faea7_row0_col4\" class=\"data row0 col4\" >0.5005</td>\n",
       "      <td id=\"T_faea7_row0_col5\" class=\"data row0 col5\" >0.3508</td>\n",
       "      <td id=\"T_faea7_row0_col6\" class=\"data row0 col6\" >0.3447</td>\n",
       "      <td id=\"T_faea7_row0_col7\" class=\"data row0 col7\" >0.3898</td>\n",
       "    </tr>\n",
       "  </tbody>\n",
       "</table>\n"
      ],
      "text/plain": [
       "<pandas.io.formats.style.Styler at 0x267019e6a90>"
      ]
     },
     "metadata": {},
     "output_type": "display_data"
    }
   ],
   "source": [
    "result_best_model = predict_model(best_model, data=test)"
   ]
  },
  {
   "cell_type": "code",
   "execution_count": 13,
   "metadata": {
    "id": "MN4iMxkyMO_q"
   },
   "outputs": [
    {
     "data": {
      "text/plain": [
       "(3500, 8)"
      ]
     },
     "execution_count": 13,
     "metadata": {},
     "output_type": "execute_result"
    }
   ],
   "source": [
    "result_best_model.shape"
   ]
  },
  {
   "cell_type": "code",
   "execution_count": 14,
   "metadata": {
    "id": "933DvSj7MS-J"
   },
   "outputs": [
    {
     "data": {
      "text/html": [
       "<div>\n",
       "<style scoped>\n",
       "    .dataframe tbody tr th:only-of-type {\n",
       "        vertical-align: middle;\n",
       "    }\n",
       "\n",
       "    .dataframe tbody tr th {\n",
       "        vertical-align: top;\n",
       "    }\n",
       "\n",
       "    .dataframe thead th {\n",
       "        text-align: right;\n",
       "    }\n",
       "</style>\n",
       "<table border=\"1\" class=\"dataframe\">\n",
       "  <thead>\n",
       "    <tr style=\"text-align: right;\">\n",
       "      <th></th>\n",
       "      <th>Year</th>\n",
       "      <th>Month</th>\n",
       "      <th>Consumption</th>\n",
       "      <th>Consumer_number</th>\n",
       "      <th>Installation_zone</th>\n",
       "      <th>Consumer_type</th>\n",
       "      <th>prediction_label</th>\n",
       "      <th>prediction_score</th>\n",
       "    </tr>\n",
       "  </thead>\n",
       "  <tbody>\n",
       "    <tr>\n",
       "      <th>0</th>\n",
       "      <td>2013</td>\n",
       "      <td>1</td>\n",
       "      <td>0</td>\n",
       "      <td>IIEX94487336876401</td>\n",
       "      <td>Installation_zone 4</td>\n",
       "      <td>domestic</td>\n",
       "      <td>industrial</td>\n",
       "      <td>0.9708</td>\n",
       "    </tr>\n",
       "    <tr>\n",
       "      <th>1</th>\n",
       "      <td>2013</td>\n",
       "      <td>1</td>\n",
       "      <td>0</td>\n",
       "      <td>DBXG00678033276636</td>\n",
       "      <td>Installation_zone 3</td>\n",
       "      <td>domestic</td>\n",
       "      <td>domestic</td>\n",
       "      <td>0.8251</td>\n",
       "    </tr>\n",
       "    <tr>\n",
       "      <th>2</th>\n",
       "      <td>2014</td>\n",
       "      <td>8</td>\n",
       "      <td>0</td>\n",
       "      <td>TLDE81327744496317</td>\n",
       "      <td>Installation_zone 4</td>\n",
       "      <td>construction</td>\n",
       "      <td>industrial</td>\n",
       "      <td>0.9335</td>\n",
       "    </tr>\n",
       "    <tr>\n",
       "      <th>3</th>\n",
       "      <td>2013</td>\n",
       "      <td>1</td>\n",
       "      <td>8</td>\n",
       "      <td>BBKH63916573189283</td>\n",
       "      <td>Installation_zone 3</td>\n",
       "      <td>domestic</td>\n",
       "      <td>domestic</td>\n",
       "      <td>0.9987</td>\n",
       "    </tr>\n",
       "    <tr>\n",
       "      <th>4</th>\n",
       "      <td>2013</td>\n",
       "      <td>1</td>\n",
       "      <td>5</td>\n",
       "      <td>UTQK00152647289363</td>\n",
       "      <td>Installation_zone 3</td>\n",
       "      <td>industrial</td>\n",
       "      <td>industrial</td>\n",
       "      <td>0.7723</td>\n",
       "    </tr>\n",
       "  </tbody>\n",
       "</table>\n",
       "</div>"
      ],
      "text/plain": [
       "   Year  Month  Consumption     Consumer_number    Installation_zone  \\\n",
       "0  2013      1            0  IIEX94487336876401  Installation_zone 4   \n",
       "1  2013      1            0  DBXG00678033276636  Installation_zone 3   \n",
       "2  2014      8            0  TLDE81327744496317  Installation_zone 4   \n",
       "3  2013      1            8  BBKH63916573189283  Installation_zone 3   \n",
       "4  2013      1            5  UTQK00152647289363  Installation_zone 3   \n",
       "\n",
       "  Consumer_type prediction_label  prediction_score  \n",
       "0      domestic       industrial            0.9708  \n",
       "1      domestic         domestic            0.8251  \n",
       "2  construction       industrial            0.9335  \n",
       "3      domestic         domestic            0.9987  \n",
       "4    industrial       industrial            0.7723  "
      ]
     },
     "execution_count": 14,
     "metadata": {},
     "output_type": "execute_result"
    }
   ],
   "source": [
    "result_best_model.head()"
   ]
  },
  {
   "cell_type": "code",
   "execution_count": 15,
   "metadata": {
    "id": "Q9rfcTecAa8x"
   },
   "outputs": [
    {
     "data": {
      "text/plain": [
       "<AxesSubplot: >"
      ]
     },
     "execution_count": 15,
     "metadata": {},
     "output_type": "execute_result"
    },
    {
     "data": {
      "image/png": "[encoded data removed]",
      "text/plain": [
       "<Figure size 800x550 with 2 Axes>"
      ]
     },
     "metadata": {},
     "output_type": "display_data"
    }
   ],
   "source": [
    "matrix = confusion_matrix(result_best_model['Consumer_type'], result_best_model['prediction_label'])\n",
    "sns.heatmap(matrix, annot=True)"
   ]
  },
  {
   "cell_type": "code",
   "execution_count": 16,
   "metadata": {
    "id": "iS7GcY7TrQw0"
   },
   "outputs": [
    {
     "data": {
      "text/html": [],
      "text/plain": [
       "<IPython.core.display.HTML object>"
      ]
     },
     "metadata": {},
     "output_type": "display_data"
    },
    {
     "data": {
      "image/png": "[encoded data removed]",
      "text/plain": [
       "<Figure size 800x550 with 1 Axes>"
      ]
     },
     "metadata": {},
     "output_type": "display_data"
    }
   ],
   "source": [
    "plot_model(best_model, plot = 'confusion_matrix', plot_kwargs = {'percent' : True})"
   ]
  },
  {
   "cell_type": "code",
   "execution_count": 17,
   "metadata": {
    "id": "eJMSarSFdprn"
   },
   "outputs": [
    {
     "data": {
      "text/html": [],
      "text/plain": [
       "<IPython.core.display.HTML object>"
      ]
     },
     "metadata": {},
     "output_type": "display_data"
    },
    {
     "data": {
      "text/html": [
       "<style type=\"text/css\">\n",
       "#T_c2476_row10_col0, #T_c2476_row10_col1, #T_c2476_row10_col2, #T_c2476_row10_col3, #T_c2476_row10_col4, #T_c2476_row10_col5, #T_c2476_row10_col6 {\n",
       "  background: yellow;\n",
       "}\n",
       "</style>\n",
       "<table id=\"T_c2476\">\n",
       "  <thead>\n",
       "    <tr>\n",
       "      <th class=\"blank level0\" >&nbsp;</th>\n",
       "      <th id=\"T_c2476_level0_col0\" class=\"col_heading level0 col0\" >Accuracy</th>\n",
       "      <th id=\"T_c2476_level0_col1\" class=\"col_heading level0 col1\" >AUC</th>\n",
       "      <th id=\"T_c2476_level0_col2\" class=\"col_heading level0 col2\" >Recall</th>\n",
       "      <th id=\"T_c2476_level0_col3\" class=\"col_heading level0 col3\" >Prec.</th>\n",
       "      <th id=\"T_c2476_level0_col4\" class=\"col_heading level0 col4\" >F1</th>\n",
       "      <th id=\"T_c2476_level0_col5\" class=\"col_heading level0 col5\" >Kappa</th>\n",
       "      <th id=\"T_c2476_level0_col6\" class=\"col_heading level0 col6\" >MCC</th>\n",
       "    </tr>\n",
       "    <tr>\n",
       "      <th class=\"index_name level0\" >Fold</th>\n",
       "      <th class=\"blank col0\" >&nbsp;</th>\n",
       "      <th class=\"blank col1\" >&nbsp;</th>\n",
       "      <th class=\"blank col2\" >&nbsp;</th>\n",
       "      <th class=\"blank col3\" >&nbsp;</th>\n",
       "      <th class=\"blank col4\" >&nbsp;</th>\n",
       "      <th class=\"blank col5\" >&nbsp;</th>\n",
       "      <th class=\"blank col6\" >&nbsp;</th>\n",
       "    </tr>\n",
       "  </thead>\n",
       "  <tbody>\n",
       "    <tr>\n",
       "      <th id=\"T_c2476_level0_row0\" class=\"row_heading level0 row0\" >0</th>\n",
       "      <td id=\"T_c2476_row0_col0\" class=\"data row0 col0\" >0.5682</td>\n",
       "      <td id=\"T_c2476_row0_col1\" class=\"data row0 col1\" >0.8713</td>\n",
       "      <td id=\"T_c2476_row0_col2\" class=\"data row0 col2\" >0.5682</td>\n",
       "      <td id=\"T_c2476_row0_col3\" class=\"data row0 col3\" >0.5528</td>\n",
       "      <td id=\"T_c2476_row0_col4\" class=\"data row0 col4\" >0.5583</td>\n",
       "      <td id=\"T_c2476_row0_col5\" class=\"data row0 col5\" >0.4962</td>\n",
       "      <td id=\"T_c2476_row0_col6\" class=\"data row0 col6\" >0.4970</td>\n",
       "    </tr>\n",
       "    <tr>\n",
       "      <th id=\"T_c2476_level0_row1\" class=\"row_heading level0 row1\" >1</th>\n",
       "      <td id=\"T_c2476_row1_col0\" class=\"data row1 col0\" >0.5675</td>\n",
       "      <td id=\"T_c2476_row1_col1\" class=\"data row1 col1\" >0.8709</td>\n",
       "      <td id=\"T_c2476_row1_col2\" class=\"data row1 col2\" >0.5675</td>\n",
       "      <td id=\"T_c2476_row1_col3\" class=\"data row1 col3\" >0.5510</td>\n",
       "      <td id=\"T_c2476_row1_col4\" class=\"data row1 col4\" >0.5566</td>\n",
       "      <td id=\"T_c2476_row1_col5\" class=\"data row1 col5\" >0.4954</td>\n",
       "      <td id=\"T_c2476_row1_col6\" class=\"data row1 col6\" >0.4965</td>\n",
       "    </tr>\n",
       "    <tr>\n",
       "      <th id=\"T_c2476_level0_row2\" class=\"row_heading level0 row2\" >2</th>\n",
       "      <td id=\"T_c2476_row2_col0\" class=\"data row2 col0\" >0.5671</td>\n",
       "      <td id=\"T_c2476_row2_col1\" class=\"data row2 col1\" >0.8704</td>\n",
       "      <td id=\"T_c2476_row2_col2\" class=\"data row2 col2\" >0.5671</td>\n",
       "      <td id=\"T_c2476_row2_col3\" class=\"data row2 col3\" >0.5507</td>\n",
       "      <td id=\"T_c2476_row2_col4\" class=\"data row2 col4\" >0.5564</td>\n",
       "      <td id=\"T_c2476_row2_col5\" class=\"data row2 col5\" >0.4949</td>\n",
       "      <td id=\"T_c2476_row2_col6\" class=\"data row2 col6\" >0.4959</td>\n",
       "    </tr>\n",
       "    <tr>\n",
       "      <th id=\"T_c2476_level0_row3\" class=\"row_heading level0 row3\" >3</th>\n",
       "      <td id=\"T_c2476_row3_col0\" class=\"data row3 col0\" >0.5665</td>\n",
       "      <td id=\"T_c2476_row3_col1\" class=\"data row3 col1\" >0.8699</td>\n",
       "      <td id=\"T_c2476_row3_col2\" class=\"data row3 col2\" >0.5665</td>\n",
       "      <td id=\"T_c2476_row3_col3\" class=\"data row3 col3\" >0.5497</td>\n",
       "      <td id=\"T_c2476_row3_col4\" class=\"data row3 col4\" >0.5558</td>\n",
       "      <td id=\"T_c2476_row3_col5\" class=\"data row3 col5\" >0.4942</td>\n",
       "      <td id=\"T_c2476_row3_col6\" class=\"data row3 col6\" >0.4951</td>\n",
       "    </tr>\n",
       "    <tr>\n",
       "      <th id=\"T_c2476_level0_row4\" class=\"row_heading level0 row4\" >4</th>\n",
       "      <td id=\"T_c2476_row4_col0\" class=\"data row4 col0\" >0.5650</td>\n",
       "      <td id=\"T_c2476_row4_col1\" class=\"data row4 col1\" >0.8699</td>\n",
       "      <td id=\"T_c2476_row4_col2\" class=\"data row4 col2\" >0.5650</td>\n",
       "      <td id=\"T_c2476_row4_col3\" class=\"data row4 col3\" >0.5481</td>\n",
       "      <td id=\"T_c2476_row4_col4\" class=\"data row4 col4\" >0.5542</td>\n",
       "      <td id=\"T_c2476_row4_col5\" class=\"data row4 col5\" >0.4924</td>\n",
       "      <td id=\"T_c2476_row4_col6\" class=\"data row4 col6\" >0.4934</td>\n",
       "    </tr>\n",
       "    <tr>\n",
       "      <th id=\"T_c2476_level0_row5\" class=\"row_heading level0 row5\" >5</th>\n",
       "      <td id=\"T_c2476_row5_col0\" class=\"data row5 col0\" >0.5679</td>\n",
       "      <td id=\"T_c2476_row5_col1\" class=\"data row5 col1\" >0.8701</td>\n",
       "      <td id=\"T_c2476_row5_col2\" class=\"data row5 col2\" >0.5679</td>\n",
       "      <td id=\"T_c2476_row5_col3\" class=\"data row5 col3\" >0.5520</td>\n",
       "      <td id=\"T_c2476_row5_col4\" class=\"data row5 col4\" >0.5577</td>\n",
       "      <td id=\"T_c2476_row5_col5\" class=\"data row5 col5\" >0.4958</td>\n",
       "      <td id=\"T_c2476_row5_col6\" class=\"data row5 col6\" >0.4967</td>\n",
       "    </tr>\n",
       "    <tr>\n",
       "      <th id=\"T_c2476_level0_row6\" class=\"row_heading level0 row6\" >6</th>\n",
       "      <td id=\"T_c2476_row6_col0\" class=\"data row6 col0\" >0.5663</td>\n",
       "      <td id=\"T_c2476_row6_col1\" class=\"data row6 col1\" >0.8703</td>\n",
       "      <td id=\"T_c2476_row6_col2\" class=\"data row6 col2\" >0.5663</td>\n",
       "      <td id=\"T_c2476_row6_col3\" class=\"data row6 col3\" >0.5497</td>\n",
       "      <td id=\"T_c2476_row6_col4\" class=\"data row6 col4\" >0.5557</td>\n",
       "      <td id=\"T_c2476_row6_col5\" class=\"data row6 col5\" >0.4940</td>\n",
       "      <td id=\"T_c2476_row6_col6\" class=\"data row6 col6\" >0.4949</td>\n",
       "    </tr>\n",
       "    <tr>\n",
       "      <th id=\"T_c2476_level0_row7\" class=\"row_heading level0 row7\" >7</th>\n",
       "      <td id=\"T_c2476_row7_col0\" class=\"data row7 col0\" >0.5682</td>\n",
       "      <td id=\"T_c2476_row7_col1\" class=\"data row7 col1\" >0.8706</td>\n",
       "      <td id=\"T_c2476_row7_col2\" class=\"data row7 col2\" >0.5682</td>\n",
       "      <td id=\"T_c2476_row7_col3\" class=\"data row7 col3\" >0.5517</td>\n",
       "      <td id=\"T_c2476_row7_col4\" class=\"data row7 col4\" >0.5576</td>\n",
       "      <td id=\"T_c2476_row7_col5\" class=\"data row7 col5\" >0.4962</td>\n",
       "      <td id=\"T_c2476_row7_col6\" class=\"data row7 col6\" >0.4971</td>\n",
       "    </tr>\n",
       "    <tr>\n",
       "      <th id=\"T_c2476_level0_row8\" class=\"row_heading level0 row8\" >8</th>\n",
       "      <td id=\"T_c2476_row8_col0\" class=\"data row8 col0\" >0.5655</td>\n",
       "      <td id=\"T_c2476_row8_col1\" class=\"data row8 col1\" >0.8708</td>\n",
       "      <td id=\"T_c2476_row8_col2\" class=\"data row8 col2\" >0.5655</td>\n",
       "      <td id=\"T_c2476_row8_col3\" class=\"data row8 col3\" >0.5502</td>\n",
       "      <td id=\"T_c2476_row8_col4\" class=\"data row8 col4\" >0.5556</td>\n",
       "      <td id=\"T_c2476_row8_col5\" class=\"data row8 col5\" >0.4930</td>\n",
       "      <td id=\"T_c2476_row8_col6\" class=\"data row8 col6\" >0.4939</td>\n",
       "    </tr>\n",
       "    <tr>\n",
       "      <th id=\"T_c2476_level0_row9\" class=\"row_heading level0 row9\" >9</th>\n",
       "      <td id=\"T_c2476_row9_col0\" class=\"data row9 col0\" >0.5662</td>\n",
       "      <td id=\"T_c2476_row9_col1\" class=\"data row9 col1\" >0.8706</td>\n",
       "      <td id=\"T_c2476_row9_col2\" class=\"data row9 col2\" >0.5662</td>\n",
       "      <td id=\"T_c2476_row9_col3\" class=\"data row9 col3\" >0.5501</td>\n",
       "      <td id=\"T_c2476_row9_col4\" class=\"data row9 col4\" >0.5557</td>\n",
       "      <td id=\"T_c2476_row9_col5\" class=\"data row9 col5\" >0.4939</td>\n",
       "      <td id=\"T_c2476_row9_col6\" class=\"data row9 col6\" >0.4948</td>\n",
       "    </tr>\n",
       "    <tr>\n",
       "      <th id=\"T_c2476_level0_row10\" class=\"row_heading level0 row10\" >Mean</th>\n",
       "      <td id=\"T_c2476_row10_col0\" class=\"data row10 col0\" >0.5668</td>\n",
       "      <td id=\"T_c2476_row10_col1\" class=\"data row10 col1\" >0.8705</td>\n",
       "      <td id=\"T_c2476_row10_col2\" class=\"data row10 col2\" >0.5668</td>\n",
       "      <td id=\"T_c2476_row10_col3\" class=\"data row10 col3\" >0.5506</td>\n",
       "      <td id=\"T_c2476_row10_col4\" class=\"data row10 col4\" >0.5564</td>\n",
       "      <td id=\"T_c2476_row10_col5\" class=\"data row10 col5\" >0.4946</td>\n",
       "      <td id=\"T_c2476_row10_col6\" class=\"data row10 col6\" >0.4955</td>\n",
       "    </tr>\n",
       "    <tr>\n",
       "      <th id=\"T_c2476_level0_row11\" class=\"row_heading level0 row11\" >Std</th>\n",
       "      <td id=\"T_c2476_row11_col0\" class=\"data row11 col0\" >0.0011</td>\n",
       "      <td id=\"T_c2476_row11_col1\" class=\"data row11 col1\" >0.0004</td>\n",
       "      <td id=\"T_c2476_row11_col2\" class=\"data row11 col2\" >0.0011</td>\n",
       "      <td id=\"T_c2476_row11_col3\" class=\"data row11 col3\" >0.0013</td>\n",
       "      <td id=\"T_c2476_row11_col4\" class=\"data row11 col4\" >0.0012</td>\n",
       "      <td id=\"T_c2476_row11_col5\" class=\"data row11 col5\" >0.0012</td>\n",
       "      <td id=\"T_c2476_row11_col6\" class=\"data row11 col6\" >0.0012</td>\n",
       "    </tr>\n",
       "  </tbody>\n",
       "</table>\n"
      ],
      "text/plain": [
       "<pandas.io.formats.style.Styler at 0x267007f3e10>"
      ]
     },
     "metadata": {},
     "output_type": "display_data"
    },
    {
     "data": {
      "text/html": [],
      "text/plain": [
       "<IPython.core.display.HTML object>"
      ]
     },
     "metadata": {},
     "output_type": "display_data"
    },
    {
     "name": "stdout",
     "output_type": "stream",
     "text": [
      "Fitting 10 folds for each of 10 candidates, totalling 100 fits\n",
      "Original model was better than the tuned model, hence it will be returned. NOTE: The display metrics are for the tuned model (not the original one).\n"
     ]
    }
   ],
   "source": [
    "tuned_best_model = tune_model(best_model)"
   ]
  },
  {
   "cell_type": "code",
   "execution_count": 18,
   "metadata": {
    "id": "h1Jp81j9riee"
   },
   "outputs": [
    {
     "data": {
      "text/html": [],
      "text/plain": [
       "<IPython.core.display.HTML object>"
      ]
     },
     "metadata": {},
     "output_type": "display_data"
    },
    {
     "data": {
      "image/png": "[encoded data removed]",
      "text/plain": [
       "<Figure size 800x550 with 1 Axes>"
      ]
     },
     "metadata": {},
     "output_type": "display_data"
    }
   ],
   "source": [
    "plot_model(tuned_best_model, plot = 'confusion_matrix', plot_kwargs = {'percent' : True})"
   ]
  },
  {
   "cell_type": "code",
   "execution_count": 19,
   "metadata": {
    "id": "mznEmWG78B5V"
   },
   "outputs": [
    {
     "data": {
      "text/html": [
       "<style type=\"text/css\">\n",
       "</style>\n",
       "<table id=\"T_36ab3\">\n",
       "  <thead>\n",
       "    <tr>\n",
       "      <th class=\"blank level0\" >&nbsp;</th>\n",
       "      <th id=\"T_36ab3_level0_col0\" class=\"col_heading level0 col0\" >Model</th>\n",
       "      <th id=\"T_36ab3_level0_col1\" class=\"col_heading level0 col1\" >Accuracy</th>\n",
       "      <th id=\"T_36ab3_level0_col2\" class=\"col_heading level0 col2\" >AUC</th>\n",
       "      <th id=\"T_36ab3_level0_col3\" class=\"col_heading level0 col3\" >Recall</th>\n",
       "      <th id=\"T_36ab3_level0_col4\" class=\"col_heading level0 col4\" >Prec.</th>\n",
       "      <th id=\"T_36ab3_level0_col5\" class=\"col_heading level0 col5\" >F1</th>\n",
       "      <th id=\"T_36ab3_level0_col6\" class=\"col_heading level0 col6\" >Kappa</th>\n",
       "      <th id=\"T_36ab3_level0_col7\" class=\"col_heading level0 col7\" >MCC</th>\n",
       "    </tr>\n",
       "  </thead>\n",
       "  <tbody>\n",
       "    <tr>\n",
       "      <th id=\"T_36ab3_level0_row0\" class=\"row_heading level0 row0\" >0</th>\n",
       "      <td id=\"T_36ab3_row0_col0\" class=\"data row0 col0\" >CatBoost Classifier</td>\n",
       "      <td id=\"T_36ab3_row0_col1\" class=\"data row0 col1\" >0.4383</td>\n",
       "      <td id=\"T_36ab3_row0_col2\" class=\"data row0 col2\" >0.8489</td>\n",
       "      <td id=\"T_36ab3_row0_col3\" class=\"data row0 col3\" >0.4383</td>\n",
       "      <td id=\"T_36ab3_row0_col4\" class=\"data row0 col4\" >0.5005</td>\n",
       "      <td id=\"T_36ab3_row0_col5\" class=\"data row0 col5\" >0.3508</td>\n",
       "      <td id=\"T_36ab3_row0_col6\" class=\"data row0 col6\" >0.3447</td>\n",
       "      <td id=\"T_36ab3_row0_col7\" class=\"data row0 col7\" >0.3898</td>\n",
       "    </tr>\n",
       "  </tbody>\n",
       "</table>\n"
      ],
      "text/plain": [
       "<pandas.io.formats.style.Styler at 0x26702671390>"
      ]
     },
     "metadata": {},
     "output_type": "display_data"
    }
   ],
   "source": [
    "result_tuned_best_model = predict_model(tuned_best_model, data=test)"
   ]
  },
  {
   "cell_type": "code",
   "execution_count": 20,
   "metadata": {
    "id": "H053ZfgMAmCE"
   },
   "outputs": [
    {
     "data": {
      "text/plain": [
       "<AxesSubplot: >"
      ]
     },
     "execution_count": 20,
     "metadata": {},
     "output_type": "execute_result"
    },
    {
     "data": {
      "image/png": "[encoded data removed]",
      "text/plain": [
       "<Figure size 800x550 with 2 Axes>"
      ]
     },
     "metadata": {},
     "output_type": "display_data"
    }
   ],
   "source": [
    "matrix = confusion_matrix(result_tuned_best_model['Consumer_type'], result_tuned_best_model['prediction_label'])\n",
    "sns.heatmap(matrix, annot=True)"
   ]
  },
  {
   "cell_type": "code",
   "execution_count": 21,
   "metadata": {
    "id": "3FE9IEaU7sYn"
   },
   "outputs": [
    {
     "data": {
      "application/vnd.jupyter.widget-view+json": {
       "model_id": "93676ae39781461db78f4d3e00261cf5",
       "version_major": 2,
       "version_minor": 0
      },
      "text/plain": [
       "interactive(children=(ToggleButtons(description='Plot Type:', icons=('',), options=(('Pipeline Plot', 'pipelin…"
      ]
     },
     "metadata": {},
     "output_type": "display_data"
    }
   ],
   "source": [
    "evaluate_model(best_model)"
   ]
  },
  {
   "cell_type": "code",
   "execution_count": 22,
   "metadata": {
    "id": "gau5mxNl7j4E"
   },
   "outputs": [
    {
     "data": {
      "application/vnd.jupyter.widget-view+json": {
       "model_id": "e8d5b10279bb457ca3abe911d7d9fdbd",
       "version_major": 2,
       "version_minor": 0
      },
      "text/plain": [
       "interactive(children=(ToggleButtons(description='Plot Type:', icons=('',), options=(('Pipeline Plot', 'pipelin…"
      ]
     },
     "metadata": {},
     "output_type": "display_data"
    }
   ],
   "source": [
    "evaluate_model(tuned_best_model)"
   ]
  },
  {
   "cell_type": "code",
   "execution_count": 23,
   "metadata": {
    "id": "Oe0HMTHndwWJ"
   },
   "outputs": [],
   "source": [
    "# save_model(best_model, 'best_model')\n",
    "# save_model(tuned_best_model, 'tuned_best_model')"
   ]
  },
  {
   "cell_type": "code",
   "execution_count": 32,
   "metadata": {
    "id": "bPlhVWfFfbpU"
   },
   "outputs": [],
   "source": [
    "competition = pd.read_csv(\"competition.csv\")"
   ]
  },
  {
   "cell_type": "code",
   "execution_count": 33,
   "metadata": {
    "id": "WGj7a5YzffNg"
   },
   "outputs": [
    {
     "data": {
      "text/html": [
       "<div>\n",
       "<style scoped>\n",
       "    .dataframe tbody tr th:only-of-type {\n",
       "        vertical-align: middle;\n",
       "    }\n",
       "\n",
       "    .dataframe tbody tr th {\n",
       "        vertical-align: top;\n",
       "    }\n",
       "\n",
       "    .dataframe thead th {\n",
       "        text-align: right;\n",
       "    }\n",
       "</style>\n",
       "<table border=\"1\" class=\"dataframe\">\n",
       "  <thead>\n",
       "    <tr style=\"text-align: right;\">\n",
       "      <th></th>\n",
       "      <th>Year</th>\n",
       "      <th>Month</th>\n",
       "      <th>Consumption</th>\n",
       "      <th>Consumer_number</th>\n",
       "      <th>Installation_zone</th>\n",
       "    </tr>\n",
       "  </thead>\n",
       "  <tbody>\n",
       "    <tr>\n",
       "      <th>0</th>\n",
       "      <td>2013</td>\n",
       "      <td>1</td>\n",
       "      <td>1</td>\n",
       "      <td>VENX08444954462680</td>\n",
       "      <td>Installation_zone 1</td>\n",
       "    </tr>\n",
       "    <tr>\n",
       "      <th>1</th>\n",
       "      <td>2013</td>\n",
       "      <td>1</td>\n",
       "      <td>2</td>\n",
       "      <td>GRXC33020746550125</td>\n",
       "      <td>Installation_zone 1</td>\n",
       "    </tr>\n",
       "    <tr>\n",
       "      <th>2</th>\n",
       "      <td>2013</td>\n",
       "      <td>1</td>\n",
       "      <td>1</td>\n",
       "      <td>FCGQ19814303536339</td>\n",
       "      <td>Installation_zone 1</td>\n",
       "    </tr>\n",
       "    <tr>\n",
       "      <th>3</th>\n",
       "      <td>2013</td>\n",
       "      <td>1</td>\n",
       "      <td>5</td>\n",
       "      <td>EQKL85694875580467</td>\n",
       "      <td>Installation_zone 3</td>\n",
       "    </tr>\n",
       "    <tr>\n",
       "      <th>4</th>\n",
       "      <td>2013</td>\n",
       "      <td>1</td>\n",
       "      <td>14</td>\n",
       "      <td>KCXW91343862250032</td>\n",
       "      <td>Installation_zone 3</td>\n",
       "    </tr>\n",
       "  </tbody>\n",
       "</table>\n",
       "</div>"
      ],
      "text/plain": [
       "   Year  Month  Consumption     Consumer_number    Installation_zone\n",
       "0  2013      1            1  VENX08444954462680  Installation_zone 1\n",
       "1  2013      1            2  GRXC33020746550125  Installation_zone 1\n",
       "2  2013      1            1  FCGQ19814303536339  Installation_zone 1\n",
       "3  2013      1            5  EQKL85694875580467  Installation_zone 3\n",
       "4  2013      1           14  KCXW91343862250032  Installation_zone 3"
      ]
     },
     "execution_count": 33,
     "metadata": {},
     "output_type": "execute_result"
    }
   ],
   "source": [
    "competition.head()"
   ]
  },
  {
   "cell_type": "code",
   "execution_count": 35,
   "metadata": {
    "id": "bN2D8U3Ufiqk"
   },
   "outputs": [
    {
     "data": {
      "text/html": [],
      "text/plain": [
       "<IPython.core.display.HTML object>"
      ]
     },
     "metadata": {},
     "output_type": "display_data"
    }
   ],
   "source": [
    "result_competition = predict_model(best_model, data=competition)\n",
    "\n",
    "result_competition = result_competition.rename(columns={'prediction_label': 'Consumer_type'})"
   ]
  },
  {
   "cell_type": "code",
   "execution_count": 36,
   "metadata": {
    "id": "8nyg8Lxyfjng"
   },
   "outputs": [
    {
     "data": {
      "text/html": [
       "<div>\n",
       "<style scoped>\n",
       "    .dataframe tbody tr th:only-of-type {\n",
       "        vertical-align: middle;\n",
       "    }\n",
       "\n",
       "    .dataframe tbody tr th {\n",
       "        vertical-align: top;\n",
       "    }\n",
       "\n",
       "    .dataframe thead th {\n",
       "        text-align: right;\n",
       "    }\n",
       "</style>\n",
       "<table border=\"1\" class=\"dataframe\">\n",
       "  <thead>\n",
       "    <tr style=\"text-align: right;\">\n",
       "      <th></th>\n",
       "      <th>Year</th>\n",
       "      <th>Month</th>\n",
       "      <th>Consumption</th>\n",
       "      <th>Consumer_number</th>\n",
       "      <th>Installation_zone</th>\n",
       "      <th>Consumer_type</th>\n",
       "      <th>prediction_score</th>\n",
       "    </tr>\n",
       "  </thead>\n",
       "  <tbody>\n",
       "    <tr>\n",
       "      <th>0</th>\n",
       "      <td>2013</td>\n",
       "      <td>1</td>\n",
       "      <td>1</td>\n",
       "      <td>VENX08444954462680</td>\n",
       "      <td>Installation_zone 1</td>\n",
       "      <td>industrial</td>\n",
       "      <td>0.9261</td>\n",
       "    </tr>\n",
       "    <tr>\n",
       "      <th>1</th>\n",
       "      <td>2013</td>\n",
       "      <td>1</td>\n",
       "      <td>2</td>\n",
       "      <td>GRXC33020746550125</td>\n",
       "      <td>Installation_zone 1</td>\n",
       "      <td>industrial</td>\n",
       "      <td>0.9166</td>\n",
       "    </tr>\n",
       "    <tr>\n",
       "      <th>2</th>\n",
       "      <td>2013</td>\n",
       "      <td>1</td>\n",
       "      <td>1</td>\n",
       "      <td>FCGQ19814303536339</td>\n",
       "      <td>Installation_zone 1</td>\n",
       "      <td>industrial</td>\n",
       "      <td>0.9261</td>\n",
       "    </tr>\n",
       "    <tr>\n",
       "      <th>3</th>\n",
       "      <td>2013</td>\n",
       "      <td>1</td>\n",
       "      <td>5</td>\n",
       "      <td>EQKL85694875580467</td>\n",
       "      <td>Installation_zone 3</td>\n",
       "      <td>industrial</td>\n",
       "      <td>0.7723</td>\n",
       "    </tr>\n",
       "    <tr>\n",
       "      <th>4</th>\n",
       "      <td>2013</td>\n",
       "      <td>1</td>\n",
       "      <td>14</td>\n",
       "      <td>KCXW91343862250032</td>\n",
       "      <td>Installation_zone 3</td>\n",
       "      <td>industrial</td>\n",
       "      <td>0.5565</td>\n",
       "    </tr>\n",
       "  </tbody>\n",
       "</table>\n",
       "</div>"
      ],
      "text/plain": [
       "   Year  Month  Consumption     Consumer_number    Installation_zone  \\\n",
       "0  2013      1            1  VENX08444954462680  Installation_zone 1   \n",
       "1  2013      1            2  GRXC33020746550125  Installation_zone 1   \n",
       "2  2013      1            1  FCGQ19814303536339  Installation_zone 1   \n",
       "3  2013      1            5  EQKL85694875580467  Installation_zone 3   \n",
       "4  2013      1           14  KCXW91343862250032  Installation_zone 3   \n",
       "\n",
       "  Consumer_type  prediction_score  \n",
       "0    industrial            0.9261  \n",
       "1    industrial            0.9166  \n",
       "2    industrial            0.9261  \n",
       "3    industrial            0.7723  \n",
       "4    industrial            0.5565  "
      ]
     },
     "execution_count": 36,
     "metadata": {},
     "output_type": "execute_result"
    }
   ],
   "source": [
    "result_competition.head()"
   ]
  },
  {
   "cell_type": "code",
   "execution_count": 37,
   "metadata": {
    "id": "GDtZkWRifkwg"
   },
   "outputs": [
    {
     "data": {
      "text/plain": [
       "Text(0.5, 1.0, 'Count of Consumer_type')"
      ]
     },
     "execution_count": 37,
     "metadata": {},
     "output_type": "execute_result"
    },
    {
     "data": {
      "image/png": "[encoded data removed]",
      "text/plain": [
       "<Figure size 800x550 with 1 Axes>"
      ]
     },
     "metadata": {},
     "output_type": "display_data"
    }
   ],
   "source": [
    "result_competition['Consumer_type'].value_counts().plot(kind='bar')\n",
    "\n",
    "plt.xlabel('Consumer_type')\n",
    "plt.ylabel('Count')\n",
    "plt.title('Count of Consumer_type')"
   ]
  },
  {
   "cell_type": "code",
   "execution_count": 38,
   "metadata": {
    "id": "A0qKBVSYfrth"
   },
   "outputs": [],
   "source": [
    "result_competition.to_csv('competition_v2', index=False)"
   ]
  },
  {
   "cell_type": "code",
   "execution_count": 40,
   "metadata": {
    "id": "bByROWI_fsxH"
   },
   "outputs": [
    {
     "data": {
      "text/html": [],
      "text/plain": [
       "<IPython.core.display.HTML object>"
      ]
     },
     "metadata": {},
     "output_type": "display_data"
    }
   ],
   "source": [
    "result_competition = predict_model(tuned_best_model, data=competition)\n",
    "\n",
    "result_competition = result_competition.rename(columns={'prediction_label': 'Consumer_type'})"
   ]
  },
  {
   "cell_type": "code",
   "execution_count": 41,
   "metadata": {
    "id": "v8a9Db3xfuFN"
   },
   "outputs": [
    {
     "data": {
      "text/html": [
       "<div>\n",
       "<style scoped>\n",
       "    .dataframe tbody tr th:only-of-type {\n",
       "        vertical-align: middle;\n",
       "    }\n",
       "\n",
       "    .dataframe tbody tr th {\n",
       "        vertical-align: top;\n",
       "    }\n",
       "\n",
       "    .dataframe thead th {\n",
       "        text-align: right;\n",
       "    }\n",
       "</style>\n",
       "<table border=\"1\" class=\"dataframe\">\n",
       "  <thead>\n",
       "    <tr style=\"text-align: right;\">\n",
       "      <th></th>\n",
       "      <th>Year</th>\n",
       "      <th>Month</th>\n",
       "      <th>Consumption</th>\n",
       "      <th>Consumer_number</th>\n",
       "      <th>Installation_zone</th>\n",
       "      <th>Consumer_type</th>\n",
       "      <th>prediction_score</th>\n",
       "    </tr>\n",
       "  </thead>\n",
       "  <tbody>\n",
       "    <tr>\n",
       "      <th>0</th>\n",
       "      <td>2013</td>\n",
       "      <td>1</td>\n",
       "      <td>1</td>\n",
       "      <td>VENX08444954462680</td>\n",
       "      <td>Installation_zone 1</td>\n",
       "      <td>industrial</td>\n",
       "      <td>0.9261</td>\n",
       "    </tr>\n",
       "    <tr>\n",
       "      <th>1</th>\n",
       "      <td>2013</td>\n",
       "      <td>1</td>\n",
       "      <td>2</td>\n",
       "      <td>GRXC33020746550125</td>\n",
       "      <td>Installation_zone 1</td>\n",
       "      <td>industrial</td>\n",
       "      <td>0.9166</td>\n",
       "    </tr>\n",
       "    <tr>\n",
       "      <th>2</th>\n",
       "      <td>2013</td>\n",
       "      <td>1</td>\n",
       "      <td>1</td>\n",
       "      <td>FCGQ19814303536339</td>\n",
       "      <td>Installation_zone 1</td>\n",
       "      <td>industrial</td>\n",
       "      <td>0.9261</td>\n",
       "    </tr>\n",
       "    <tr>\n",
       "      <th>3</th>\n",
       "      <td>2013</td>\n",
       "      <td>1</td>\n",
       "      <td>5</td>\n",
       "      <td>EQKL85694875580467</td>\n",
       "      <td>Installation_zone 3</td>\n",
       "      <td>industrial</td>\n",
       "      <td>0.7723</td>\n",
       "    </tr>\n",
       "    <tr>\n",
       "      <th>4</th>\n",
       "      <td>2013</td>\n",
       "      <td>1</td>\n",
       "      <td>14</td>\n",
       "      <td>KCXW91343862250032</td>\n",
       "      <td>Installation_zone 3</td>\n",
       "      <td>industrial</td>\n",
       "      <td>0.5565</td>\n",
       "    </tr>\n",
       "  </tbody>\n",
       "</table>\n",
       "</div>"
      ],
      "text/plain": [
       "   Year  Month  Consumption     Consumer_number    Installation_zone  \\\n",
       "0  2013      1            1  VENX08444954462680  Installation_zone 1   \n",
       "1  2013      1            2  GRXC33020746550125  Installation_zone 1   \n",
       "2  2013      1            1  FCGQ19814303536339  Installation_zone 1   \n",
       "3  2013      1            5  EQKL85694875580467  Installation_zone 3   \n",
       "4  2013      1           14  KCXW91343862250032  Installation_zone 3   \n",
       "\n",
       "  Consumer_type  prediction_score  \n",
       "0    industrial            0.9261  \n",
       "1    industrial            0.9166  \n",
       "2    industrial            0.9261  \n",
       "3    industrial            0.7723  \n",
       "4    industrial            0.5565  "
      ]
     },
     "execution_count": 41,
     "metadata": {},
     "output_type": "execute_result"
    }
   ],
   "source": [
    "result_competition.head()"
   ]
  },
  {
   "cell_type": "code",
   "execution_count": 42,
   "metadata": {
    "id": "Y9L6yAlSfv9f"
   },
   "outputs": [
    {
     "data": {
      "text/plain": [
       "Text(0.5, 1.0, 'Count of Consumer_type')"
      ]
     },
     "execution_count": 42,
     "metadata": {},
     "output_type": "execute_result"
    },
    {
     "data": {
      "image/png": "[encoded data removed]",
      "text/plain": [
       "<Figure size 800x550 with 1 Axes>"
      ]
     },
     "metadata": {},
     "output_type": "display_data"
    }
   ],
   "source": [
    "result_competition['Consumer_type'].value_counts().plot(kind='bar')\n",
    "\n",
    "plt.xlabel('Consumer_type')\n",
    "plt.ylabel('Count')\n",
    "plt.title('Count of Consumer_type')"
   ]
  }
 ],
 "metadata": {
  "accelerator": "GPU",
  "colab": {
   "gpuType": "T4",
   "provenance": []
  },
  "kernelspec": {
   "display_name": "Python 3 (ipykernel)",
   "language": "python",
   "name": "python3"
  },
  "language_info": {
   "codemirror_mode": {
    "name": "ipython",
    "version": 3
   },
   "file_extension": ".py",
   "mimetype": "text/x-python",
   "name": "python",
   "nbconvert_exporter": "python",
   "pygments_lexer": "ipython3",
   "version": "3.11.5"
  },
  "widgets": {
   "application/vnd.jupyter.widget-state+json": {
    "433e00797fa34389966a4c491a2420ba": {
     "model_module": "@jupyter-widgets/controls",
     "model_module_version": "1.5.0",
     "model_name": "HBoxModel",
     "state": {
      "_dom_classes": [],
      "_model_module": "@jupyter-widgets/controls",
      "_model_module_version": "1.5.0",
      "_model_name": "HBoxModel",
      "_view_count": null,
      "_view_module": "@jupyter-widgets/controls",
      "_view_module_version": "1.5.0",
      "_view_name": "HBoxView",
      "box_style": "",
      "children": [
       "IPY_MODEL_9a780d1f77e7430fbae0833b4dc5270c",
       "IPY_MODEL_e75a81dc1af7483ba2bfe1fd25971840",
       "IPY_MODEL_ce40dee416944b5db04de53d07e75840"
      ],
      "layout": "IPY_MODEL_cd33ca4fc12a41709727144756265f4d"
     }
    },
    "5878e49dbe9f48f096747f4e4569f830": {
     "model_module": "@jupyter-widgets/base",
     "model_module_version": "1.2.0",
     "model_name": "LayoutModel",
     "state": {
      "_model_module": "@jupyter-widgets/base",
      "_model_module_version": "1.2.0",
      "_model_name": "LayoutModel",
      "_view_count": null,
      "_view_module": "@jupyter-widgets/base",
      "_view_module_version": "1.2.0",
      "_view_name": "LayoutView",
      "align_content": null,
      "align_items": null,
      "align_self": null,
      "border": null,
      "bottom": null,
      "display": null,
      "flex": null,
      "flex_flow": null,
      "grid_area": null,
      "grid_auto_columns": null,
      "grid_auto_flow": null,
      "grid_auto_rows": null,
      "grid_column": null,
      "grid_gap": null,
      "grid_row": null,
      "grid_template_areas": null,
      "grid_template_columns": null,
      "grid_template_rows": null,
      "height": null,
      "justify_content": null,
      "justify_items": null,
      "left": null,
      "margin": null,
      "max_height": null,
      "max_width": null,
      "min_height": null,
      "min_width": null,
      "object_fit": null,
      "object_position": null,
      "order": null,
      "overflow": null,
      "overflow_x": null,
      "overflow_y": null,
      "padding": null,
      "right": null,
      "top": null,
      "visibility": null,
      "width": null
     }
    },
    "9a780d1f77e7430fbae0833b4dc5270c": {
     "model_module": "@jupyter-widgets/controls",
     "model_module_version": "1.5.0",
     "model_name": "HTMLModel",
     "state": {
      "_dom_classes": [],
      "_model_module": "@jupyter-widgets/controls",
      "_model_module_version": "1.5.0",
      "_model_name": "HTMLModel",
      "_view_count": null,
      "_view_module": "@jupyter-widgets/controls",
      "_view_module_version": "1.5.0",
      "_view_name": "HTMLView",
      "description": "",
      "description_tooltip": null,
      "layout": "IPY_MODEL_e1c0e9b83b3a4cd9a75944d25656a4e6",
      "placeholder": "​",
      "style": "IPY_MODEL_b5827d7fe85443d690c054a75ca2e67d",
      "value": "Processing:   0%"
     }
    },
    "b21ba8c43ebd48f8b64adc96785a116d": {
     "model_module": "@jupyter-widgets/base",
     "model_module_version": "1.2.0",
     "model_name": "LayoutModel",
     "state": {
      "_model_module": "@jupyter-widgets/base",
      "_model_module_version": "1.2.0",
      "_model_name": "LayoutModel",
      "_view_count": null,
      "_view_module": "@jupyter-widgets/base",
      "_view_module_version": "1.2.0",
      "_view_name": "LayoutView",
      "align_content": null,
      "align_items": null,
      "align_self": null,
      "border": null,
      "bottom": null,
      "display": null,
      "flex": null,
      "flex_flow": null,
      "grid_area": null,
      "grid_auto_columns": null,
      "grid_auto_flow": null,
      "grid_auto_rows": null,
      "grid_column": null,
      "grid_gap": null,
      "grid_row": null,
      "grid_template_areas": null,
      "grid_template_columns": null,
      "grid_template_rows": null,
      "height": null,
      "justify_content": null,
      "justify_items": null,
      "left": null,
      "margin": null,
      "max_height": null,
      "max_width": null,
      "min_height": null,
      "min_width": null,
      "object_fit": null,
      "object_position": null,
      "order": null,
      "overflow": null,
      "overflow_x": null,
      "overflow_y": null,
      "padding": null,
      "right": null,
      "top": null,
      "visibility": null,
      "width": null
     }
    },
    "b5827d7fe85443d690c054a75ca2e67d": {
     "model_module": "@jupyter-widgets/controls",
     "model_module_version": "1.5.0",
     "model_name": "DescriptionStyleModel",
     "state": {
      "_model_module": "@jupyter-widgets/controls",
      "_model_module_version": "1.5.0",
      "_model_name": "DescriptionStyleModel",
      "_view_count": null,
      "_view_module": "@jupyter-widgets/base",
      "_view_module_version": "1.2.0",
      "_view_name": "StyleView",
      "description_width": ""
     }
    },
    "cd33ca4fc12a41709727144756265f4d": {
     "model_module": "@jupyter-widgets/base",
     "model_module_version": "1.2.0",
     "model_name": "LayoutModel",
     "state": {
      "_model_module": "@jupyter-widgets/base",
      "_model_module_version": "1.2.0",
      "_model_name": "LayoutModel",
      "_view_count": null,
      "_view_module": "@jupyter-widgets/base",
      "_view_module_version": "1.2.0",
      "_view_name": "LayoutView",
      "align_content": null,
      "align_items": null,
      "align_self": null,
      "border": null,
      "bottom": null,
      "display": null,
      "flex": null,
      "flex_flow": null,
      "grid_area": null,
      "grid_auto_columns": null,
      "grid_auto_flow": null,
      "grid_auto_rows": null,
      "grid_column": null,
      "grid_gap": null,
      "grid_row": null,
      "grid_template_areas": null,
      "grid_template_columns": null,
      "grid_template_rows": null,
      "height": null,
      "justify_content": null,
      "justify_items": null,
      "left": null,
      "margin": null,
      "max_height": null,
      "max_width": null,
      "min_height": null,
      "min_width": null,
      "object_fit": null,
      "object_position": null,
      "order": null,
      "overflow": null,
      "overflow_x": null,
      "overflow_y": null,
      "padding": null,
      "right": null,
      "top": null,
      "visibility": null,
      "width": null
     }
    },
    "ce40dee416944b5db04de53d07e75840": {
     "model_module": "@jupyter-widgets/controls",
     "model_module_version": "1.5.0",
     "model_name": "HTMLModel",
     "state": {
      "_dom_classes": [],
      "_model_module": "@jupyter-widgets/controls",
      "_model_module_version": "1.5.0",
      "_model_name": "HTMLModel",
      "_view_count": null,
      "_view_module": "@jupyter-widgets/controls",
      "_view_module_version": "1.5.0",
      "_view_name": "HTMLView",
      "description": "",
      "description_tooltip": null,
      "layout": "IPY_MODEL_5878e49dbe9f48f096747f4e4569f830",
      "placeholder": "​",
      "style": "IPY_MODEL_ef911d5800ab4734850a5b34fda74266",
      "value": " 0/65 [00:00&lt;?, ?it/s]"
     }
    },
    "e1c0e9b83b3a4cd9a75944d25656a4e6": {
     "model_module": "@jupyter-widgets/base",
     "model_module_version": "1.2.0",
     "model_name": "LayoutModel",
     "state": {
      "_model_module": "@jupyter-widgets/base",
      "_model_module_version": "1.2.0",
      "_model_name": "LayoutModel",
      "_view_count": null,
      "_view_module": "@jupyter-widgets/base",
      "_view_module_version": "1.2.0",
      "_view_name": "LayoutView",
      "align_content": null,
      "align_items": null,
      "align_self": null,
      "border": null,
      "bottom": null,
      "display": null,
      "flex": null,
      "flex_flow": null,
      "grid_area": null,
      "grid_auto_columns": null,
      "grid_auto_flow": null,
      "grid_auto_rows": null,
      "grid_column": null,
      "grid_gap": null,
      "grid_row": null,
      "grid_template_areas": null,
      "grid_template_columns": null,
      "grid_template_rows": null,
      "height": null,
      "justify_content": null,
      "justify_items": null,
      "left": null,
      "margin": null,
      "max_height": null,
      "max_width": null,
      "min_height": null,
      "min_width": null,
      "object_fit": null,
      "object_position": null,
      "order": null,
      "overflow": null,
      "overflow_x": null,
      "overflow_y": null,
      "padding": null,
      "right": null,
      "top": null,
      "visibility": null,
      "width": null
     }
    },
    "e75a81dc1af7483ba2bfe1fd25971840": {
     "model_module": "@jupyter-widgets/controls",
     "model_module_version": "1.5.0",
     "model_name": "FloatProgressModel",
     "state": {
      "_dom_classes": [],
      "_model_module": "@jupyter-widgets/controls",
      "_model_module_version": "1.5.0",
      "_model_name": "FloatProgressModel",
      "_view_count": null,
      "_view_module": "@jupyter-widgets/controls",
      "_view_module_version": "1.5.0",
      "_view_name": "ProgressView",
      "bar_style": "",
      "description": "",
      "description_tooltip": null,
      "layout": "IPY_MODEL_b21ba8c43ebd48f8b64adc96785a116d",
      "max": 65,
      "min": 0,
      "orientation": "horizontal",
      "style": "IPY_MODEL_f9128cc0bbee470281e71a2480f109b7",
      "value": 0
     }
    },
    "ef911d5800ab4734850a5b34fda74266": {
     "model_module": "@jupyter-widgets/controls",
     "model_module_version": "1.5.0",
     "model_name": "DescriptionStyleModel",
     "state": {
      "_model_module": "@jupyter-widgets/controls",
      "_model_module_version": "1.5.0",
      "_model_name": "DescriptionStyleModel",
      "_view_count": null,
      "_view_module": "@jupyter-widgets/base",
      "_view_module_version": "1.2.0",
      "_view_name": "StyleView",
      "description_width": ""
     }
    },
    "f9128cc0bbee470281e71a2480f109b7": {
     "model_module": "@jupyter-widgets/controls",
     "model_module_version": "1.5.0",
     "model_name": "ProgressStyleModel",
     "state": {
      "_model_module": "@jupyter-widgets/controls",
      "_model_module_version": "1.5.0",
      "_model_name": "ProgressStyleModel",
      "_view_count": null,
      "_view_module": "@jupyter-widgets/base",
      "_view_module_version": "1.2.0",
      "_view_name": "StyleView",
      "bar_color": null,
      "description_width": ""
     }
    }
   }
  }
 },
 "nbformat": 4,
 "nbformat_minor": 1
}
