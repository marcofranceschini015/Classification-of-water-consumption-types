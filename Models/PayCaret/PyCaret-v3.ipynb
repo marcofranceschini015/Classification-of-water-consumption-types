{
 "cells": [
  {
   "cell_type": "code",
   "execution_count": 1,
   "metadata": {
    "colab": {
     "base_uri": "https://localhost:8080/"
    },
    "executionInfo": {
     "elapsed": 13898,
     "status": "ok",
     "timestamp": 1707145864964,
     "user": {
      "displayName": "Waldyr Turquetti",
      "userId": "16979580399715376846"
     },
     "user_tz": 0
    },
    "id": "Do13G6lHaxve",
    "outputId": "674e06c5-df27-4c80-d5e2-f09d6fa40561"
   },
   "outputs": [],
   "source": [
    "# !pip install pycaret"
   ]
  },
  {
   "cell_type": "code",
   "execution_count": 2,
   "metadata": {
    "executionInfo": {
     "elapsed": 3028,
     "status": "ok",
     "timestamp": 1707145867988,
     "user": {
      "displayName": "Waldyr Turquetti",
      "userId": "16979580399715376846"
     },
     "user_tz": 0
    },
    "id": "Zxee3LkTcdLx"
   },
   "outputs": [],
   "source": [
    "import pandas as pd\n",
    "import seaborn as sns\n",
    "\n",
    "from pycaret.classification import *\n",
    "\n",
    "from sklearn.model_selection import train_test_split\n",
    "from sklearn.metrics import confusion_matrix\n",
    "\n",
    "import matplotlib.pyplot as plt"
   ]
  },
  {
   "cell_type": "code",
   "execution_count": 3,
   "metadata": {
    "executionInfo": {
     "elapsed": 10,
     "status": "ok",
     "timestamp": 1707145867989,
     "user": {
      "displayName": "Waldyr Turquetti",
      "userId": "16979580399715376846"
     },
     "user_tz": 0
    },
    "id": "0pijHbJ_cLbN"
   },
   "outputs": [],
   "source": [
    "train = pd.read_csv(\"train_without_outliers_v2.csv\")"
   ]
  },
  {
   "cell_type": "code",
   "execution_count": 4,
   "metadata": {
    "colab": {
     "base_uri": "https://localhost:8080/",
     "height": 206
    },
    "executionInfo": {
     "elapsed": 9,
     "status": "ok",
     "timestamp": 1707145867989,
     "user": {
      "displayName": "Waldyr Turquetti",
      "userId": "16979580399715376846"
     },
     "user_tz": 0
    },
    "id": "IaVtPTfcUurV",
    "outputId": "09e13db3-6349-48e4-b181-038467bd229d"
   },
   "outputs": [
    {
     "data": {
      "text/html": [
       "<div>\n",
       "<style scoped>\n",
       "    .dataframe tbody tr th:only-of-type {\n",
       "        vertical-align: middle;\n",
       "    }\n",
       "\n",
       "    .dataframe tbody tr th {\n",
       "        vertical-align: top;\n",
       "    }\n",
       "\n",
       "    .dataframe thead th {\n",
       "        text-align: right;\n",
       "    }\n",
       "</style>\n",
       "<table border=\"1\" class=\"dataframe\">\n",
       "  <thead>\n",
       "    <tr style=\"text-align: right;\">\n",
       "      <th></th>\n",
       "      <th>Year</th>\n",
       "      <th>Month</th>\n",
       "      <th>Consumer_type</th>\n",
       "      <th>Consumption</th>\n",
       "      <th>Consumer_number</th>\n",
       "      <th>Installation_zone</th>\n",
       "    </tr>\n",
       "  </thead>\n",
       "  <tbody>\n",
       "    <tr>\n",
       "      <th>0</th>\n",
       "      <td>2013</td>\n",
       "      <td>1</td>\n",
       "      <td>domestic</td>\n",
       "      <td>0</td>\n",
       "      <td>MOGV36480546611521</td>\n",
       "      <td>Installation_zone 1</td>\n",
       "    </tr>\n",
       "    <tr>\n",
       "      <th>1</th>\n",
       "      <td>2013</td>\n",
       "      <td>1</td>\n",
       "      <td>domestic</td>\n",
       "      <td>6</td>\n",
       "      <td>VRFW65577141436242</td>\n",
       "      <td>Installation_zone 2</td>\n",
       "    </tr>\n",
       "    <tr>\n",
       "      <th>2</th>\n",
       "      <td>2013</td>\n",
       "      <td>1</td>\n",
       "      <td>domestic</td>\n",
       "      <td>1</td>\n",
       "      <td>QLLI18662653137621</td>\n",
       "      <td>Installation_zone 2</td>\n",
       "    </tr>\n",
       "    <tr>\n",
       "      <th>3</th>\n",
       "      <td>2013</td>\n",
       "      <td>1</td>\n",
       "      <td>domestic</td>\n",
       "      <td>13</td>\n",
       "      <td>HYUO61823402850645</td>\n",
       "      <td>Installation_zone 2</td>\n",
       "    </tr>\n",
       "    <tr>\n",
       "      <th>4</th>\n",
       "      <td>2013</td>\n",
       "      <td>1</td>\n",
       "      <td>industrial</td>\n",
       "      <td>5</td>\n",
       "      <td>APVF78863215212358</td>\n",
       "      <td>Installation_zone 2</td>\n",
       "    </tr>\n",
       "  </tbody>\n",
       "</table>\n",
       "</div>"
      ],
      "text/plain": [
       "   Year  Month Consumer_type  Consumption     Consumer_number  \\\n",
       "0  2013      1      domestic            0  MOGV36480546611521   \n",
       "1  2013      1      domestic            6  VRFW65577141436242   \n",
       "2  2013      1      domestic            1  QLLI18662653137621   \n",
       "3  2013      1      domestic           13  HYUO61823402850645   \n",
       "4  2013      1    industrial            5  APVF78863215212358   \n",
       "\n",
       "     Installation_zone  \n",
       "0  Installation_zone 1  \n",
       "1  Installation_zone 2  \n",
       "2  Installation_zone 2  \n",
       "3  Installation_zone 2  \n",
       "4  Installation_zone 2  "
      ]
     },
     "execution_count": 4,
     "metadata": {},
     "output_type": "execute_result"
    }
   ],
   "source": [
    "train.head()"
   ]
  },
  {
   "cell_type": "code",
   "execution_count": 5,
   "metadata": {
    "executionInfo": {
     "elapsed": 507,
     "status": "ok",
     "timestamp": 1707145868490,
     "user": {
      "displayName": "Waldyr Turquetti",
      "userId": "16979580399715376846"
     },
     "user_tz": 0
    },
    "id": "zxJE5b-TJgfx"
   },
   "outputs": [],
   "source": [
    "train['mean_consumption'] = train.groupby('Consumer_number')['Consumption'].transform('mean')\n",
    "train['consumption_count'] = train.groupby('Consumer_number')['Consumption'].transform('count')\n",
    "train = train.drop('Consumer_number', axis=1)"
   ]
  },
  {
   "cell_type": "code",
   "execution_count": 6,
   "metadata": {
    "colab": {
     "base_uri": "https://localhost:8080/",
     "height": 206
    },
    "executionInfo": {
     "elapsed": 12,
     "status": "ok",
     "timestamp": 1707145868490,
     "user": {
      "displayName": "Waldyr Turquetti",
      "userId": "16979580399715376846"
     },
     "user_tz": 0
    },
    "id": "rxJm04KqJl_x",
    "outputId": "a3c32912-c879-4aaf-d7b1-9756903f3f63"
   },
   "outputs": [
    {
     "data": {
      "text/html": [
       "<div>\n",
       "<style scoped>\n",
       "    .dataframe tbody tr th:only-of-type {\n",
       "        vertical-align: middle;\n",
       "    }\n",
       "\n",
       "    .dataframe tbody tr th {\n",
       "        vertical-align: top;\n",
       "    }\n",
       "\n",
       "    .dataframe thead th {\n",
       "        text-align: right;\n",
       "    }\n",
       "</style>\n",
       "<table border=\"1\" class=\"dataframe\">\n",
       "  <thead>\n",
       "    <tr style=\"text-align: right;\">\n",
       "      <th></th>\n",
       "      <th>Year</th>\n",
       "      <th>Month</th>\n",
       "      <th>Consumer_type</th>\n",
       "      <th>Consumption</th>\n",
       "      <th>Installation_zone</th>\n",
       "      <th>mean_consumption</th>\n",
       "      <th>consumption_count</th>\n",
       "    </tr>\n",
       "  </thead>\n",
       "  <tbody>\n",
       "    <tr>\n",
       "      <th>0</th>\n",
       "      <td>2013</td>\n",
       "      <td>1</td>\n",
       "      <td>domestic</td>\n",
       "      <td>0</td>\n",
       "      <td>Installation_zone 1</td>\n",
       "      <td>4.227273</td>\n",
       "      <td>22</td>\n",
       "    </tr>\n",
       "    <tr>\n",
       "      <th>1</th>\n",
       "      <td>2013</td>\n",
       "      <td>1</td>\n",
       "      <td>domestic</td>\n",
       "      <td>6</td>\n",
       "      <td>Installation_zone 2</td>\n",
       "      <td>2.724138</td>\n",
       "      <td>29</td>\n",
       "    </tr>\n",
       "    <tr>\n",
       "      <th>2</th>\n",
       "      <td>2013</td>\n",
       "      <td>1</td>\n",
       "      <td>domestic</td>\n",
       "      <td>1</td>\n",
       "      <td>Installation_zone 2</td>\n",
       "      <td>1.500000</td>\n",
       "      <td>26</td>\n",
       "    </tr>\n",
       "    <tr>\n",
       "      <th>3</th>\n",
       "      <td>2013</td>\n",
       "      <td>1</td>\n",
       "      <td>domestic</td>\n",
       "      <td>13</td>\n",
       "      <td>Installation_zone 2</td>\n",
       "      <td>10.000000</td>\n",
       "      <td>28</td>\n",
       "    </tr>\n",
       "    <tr>\n",
       "      <th>4</th>\n",
       "      <td>2013</td>\n",
       "      <td>1</td>\n",
       "      <td>industrial</td>\n",
       "      <td>5</td>\n",
       "      <td>Installation_zone 2</td>\n",
       "      <td>2.000000</td>\n",
       "      <td>22</td>\n",
       "    </tr>\n",
       "  </tbody>\n",
       "</table>\n",
       "</div>"
      ],
      "text/plain": [
       "   Year  Month Consumer_type  Consumption    Installation_zone  \\\n",
       "0  2013      1      domestic            0  Installation_zone 1   \n",
       "1  2013      1      domestic            6  Installation_zone 2   \n",
       "2  2013      1      domestic            1  Installation_zone 2   \n",
       "3  2013      1      domestic           13  Installation_zone 2   \n",
       "4  2013      1    industrial            5  Installation_zone 2   \n",
       "\n",
       "   mean_consumption  consumption_count  \n",
       "0          4.227273                 22  \n",
       "1          2.724138                 29  \n",
       "2          1.500000                 26  \n",
       "3         10.000000                 28  \n",
       "4          2.000000                 22  "
      ]
     },
     "execution_count": 6,
     "metadata": {},
     "output_type": "execute_result"
    }
   ],
   "source": [
    "train.head()"
   ]
  },
  {
   "cell_type": "code",
   "execution_count": 7,
   "metadata": {
    "colab": {
     "base_uri": "https://localhost:8080/"
    },
    "executionInfo": {
     "elapsed": 11,
     "status": "ok",
     "timestamp": 1707145868490,
     "user": {
      "displayName": "Waldyr Turquetti",
      "userId": "16979580399715376846"
     },
     "user_tz": 0
    },
    "id": "wXAQgTIfQsmS",
    "outputId": "eaf9ba90-cd9d-4e02-cfaa-07cd78914de2"
   },
   "outputs": [
    {
     "name": "stdout",
     "output_type": "stream",
     "text": [
      "domestic               203909\n",
      "rural domestic          44079\n",
      "industrial              17012\n",
      "rural commercial         3943\n",
      "construction             1292\n",
      "rural expansion           721\n",
      "low income families       511\n",
      "Name: Consumer_type, dtype: int64\n"
     ]
    }
   ],
   "source": [
    "counts = train['Consumer_type'].value_counts()\n",
    "print(counts)"
   ]
  },
  {
   "cell_type": "code",
   "execution_count": 8,
   "metadata": {
    "executionInfo": {
     "elapsed": 10,
     "status": "ok",
     "timestamp": 1707145868491,
     "user": {
      "displayName": "Waldyr Turquetti",
      "userId": "16979580399715376846"
     },
     "user_tz": 0
    },
    "id": "yCiHrUbz8RHg"
   },
   "outputs": [],
   "source": [
    "# train, test = train_test_split(train, test_size=0.1, stratify=train['Consumer_type'], random_state=42)\n",
    "\n",
    "test2 = pd.read_csv(\"test_v3.csv\")\n",
    "test2['mean_consumption'] = test2.groupby('Consumer_number')['Consumption'].transform('mean')\n",
    "test2['consumption_count'] = test2.groupby('Consumer_number')['Consumption'].transform('count')\n",
    "test2 = test2.drop('Consumer_number', axis=1)"
   ]
  },
  {
   "cell_type": "code",
   "execution_count": 9,
   "metadata": {
    "executionInfo": {
     "elapsed": 9,
     "status": "ok",
     "timestamp": 1707145868491,
     "user": {
      "displayName": "Waldyr Turquetti",
      "userId": "16979580399715376846"
     },
     "user_tz": 0
    },
    "id": "BqRMCjGulAjM"
   },
   "outputs": [],
   "source": [
    "train = train.sample(frac=1, random_state=42).reset_index(drop=True)\n",
    "# test = test.sample(frac=1, random_state=42).reset_index(drop=True)\n",
    "test2 = test2.sample(frac=1, random_state=42).reset_index(drop=True)"
   ]
  },
  {
   "cell_type": "code",
   "execution_count": 10,
   "metadata": {
    "colab": {
     "base_uri": "https://localhost:8080/"
    },
    "executionInfo": {
     "elapsed": 9,
     "status": "ok",
     "timestamp": 1707145868491,
     "user": {
      "displayName": "Waldyr Turquetti",
      "userId": "16979580399715376846"
     },
     "user_tz": 0
    },
    "id": "NToU32USfFNY",
    "outputId": "87119523-571d-474b-83a9-10259522c2e5"
   },
   "outputs": [
    {
     "data": {
      "text/plain": [
       "(271467, 7)"
      ]
     },
     "execution_count": 10,
     "metadata": {},
     "output_type": "execute_result"
    }
   ],
   "source": [
    "train.shape"
   ]
  },
  {
   "cell_type": "code",
   "execution_count": 11,
   "metadata": {
    "colab": {
     "base_uri": "https://localhost:8080/"
    },
    "executionInfo": {
     "elapsed": 507,
     "status": "ok",
     "timestamp": 1707145868991,
     "user": {
      "displayName": "Waldyr Turquetti",
      "userId": "16979580399715376846"
     },
     "user_tz": 0
    },
    "id": "BoOsAdp3QiRp",
    "outputId": "93e352d8-da1b-41a1-8b1d-ffe487abf929"
   },
   "outputs": [
    {
     "name": "stdout",
     "output_type": "stream",
     "text": [
      "domestic               203909\n",
      "rural domestic          44079\n",
      "industrial              17012\n",
      "rural commercial         3943\n",
      "construction             1292\n",
      "rural expansion           721\n",
      "low income families       511\n",
      "Name: Consumer_type, dtype: int64\n"
     ]
    }
   ],
   "source": [
    "counts = train['Consumer_type'].value_counts()\n",
    "print(counts)"
   ]
  },
  {
   "cell_type": "code",
   "execution_count": 12,
   "metadata": {
    "executionInfo": {
     "elapsed": 506,
     "status": "ok",
     "timestamp": 1707145868992,
     "user": {
      "displayName": "Waldyr Turquetti",
      "userId": "16979580399715376846"
     },
     "user_tz": 0
    },
    "id": "pW3psIvERHoj"
   },
   "outputs": [],
   "source": [
    "# test.shape"
   ]
  },
  {
   "cell_type": "code",
   "execution_count": 13,
   "metadata": {
    "executionInfo": {
     "elapsed": 4,
     "status": "ok",
     "timestamp": 1707145868992,
     "user": {
      "displayName": "Waldyr Turquetti",
      "userId": "16979580399715376846"
     },
     "user_tz": 0
    },
    "id": "ibK_L1sRQdMa"
   },
   "outputs": [],
   "source": [
    "# counts = test['Consumer_type'].value_counts()\n",
    "# print(counts)"
   ]
  },
  {
   "cell_type": "code",
   "execution_count": 14,
   "metadata": {
    "colab": {
     "base_uri": "https://localhost:8080/",
     "height": 1000,
     "referenced_widgets": [
      "1d102da918ef49b8ae855bf4bbff7247",
      "9540afc6d18549aa91855e36b95339bd",
      "f8d915e10cd34c89a16f25c0df0475db",
      "10f3c14b57af40a1a321eb0b6d8a4531",
      "585db70b0e4b4309be783f5af6800f79",
      "ffc97fd7235d4a2ab1b374f843783012",
      "8937956a8cca4a24a81bbb0a6c641fb5",
      "ece408c85ccc4f96b6c5cfb4c20da539",
      "0c60193a62a041a9adab87fb26c5070f",
      "07c9d5582f354ba99eb6b89346c66ed4",
      "ec64e908d4614d4daf6079dbbe044328"
     ]
    },
    "executionInfo": {
     "elapsed": 2612225,
     "status": "ok",
     "timestamp": 1707148481213,
     "user": {
      "displayName": "Waldyr Turquetti",
      "userId": "16979580399715376846"
     },
     "user_tz": 0
    },
    "id": "0p_-tn_Ec30Q",
    "outputId": "53a7c4cd-4cb2-464c-9238-0e6a864496bd"
   },
   "outputs": [
    {
     "data": {
      "text/html": [
       "<style type=\"text/css\">\n",
       "#T_694ca_row10_col1 {\n",
       "  background-color: lightgreen;\n",
       "}\n",
       "</style>\n",
       "<table id=\"T_694ca\">\n",
       "  <thead>\n",
       "    <tr>\n",
       "      <th class=\"blank level0\" >&nbsp;</th>\n",
       "      <th id=\"T_694ca_level0_col0\" class=\"col_heading level0 col0\" >Description</th>\n",
       "      <th id=\"T_694ca_level0_col1\" class=\"col_heading level0 col1\" >Value</th>\n",
       "    </tr>\n",
       "  </thead>\n",
       "  <tbody>\n",
       "    <tr>\n",
       "      <th id=\"T_694ca_level0_row0\" class=\"row_heading level0 row0\" >0</th>\n",
       "      <td id=\"T_694ca_row0_col0\" class=\"data row0 col0\" >Session id</td>\n",
       "      <td id=\"T_694ca_row0_col1\" class=\"data row0 col1\" >7077</td>\n",
       "    </tr>\n",
       "    <tr>\n",
       "      <th id=\"T_694ca_level0_row1\" class=\"row_heading level0 row1\" >1</th>\n",
       "      <td id=\"T_694ca_row1_col0\" class=\"data row1 col0\" >Target</td>\n",
       "      <td id=\"T_694ca_row1_col1\" class=\"data row1 col1\" >Consumer_type</td>\n",
       "    </tr>\n",
       "    <tr>\n",
       "      <th id=\"T_694ca_level0_row2\" class=\"row_heading level0 row2\" >2</th>\n",
       "      <td id=\"T_694ca_row2_col0\" class=\"data row2 col0\" >Target type</td>\n",
       "      <td id=\"T_694ca_row2_col1\" class=\"data row2 col1\" >Multiclass</td>\n",
       "    </tr>\n",
       "    <tr>\n",
       "      <th id=\"T_694ca_level0_row3\" class=\"row_heading level0 row3\" >3</th>\n",
       "      <td id=\"T_694ca_row3_col0\" class=\"data row3 col0\" >Target mapping</td>\n",
       "      <td id=\"T_694ca_row3_col1\" class=\"data row3 col1\" >construction: 0, domestic: 1, industrial: 2, low income families: 3, rural commercial: 4, rural domestic: 5, rural expansion: 6</td>\n",
       "    </tr>\n",
       "    <tr>\n",
       "      <th id=\"T_694ca_level0_row4\" class=\"row_heading level0 row4\" >4</th>\n",
       "      <td id=\"T_694ca_row4_col0\" class=\"data row4 col0\" >Original data shape</td>\n",
       "      <td id=\"T_694ca_row4_col1\" class=\"data row4 col1\" >(271467, 7)</td>\n",
       "    </tr>\n",
       "    <tr>\n",
       "      <th id=\"T_694ca_level0_row5\" class=\"row_heading level0 row5\" >5</th>\n",
       "      <td id=\"T_694ca_row5_col0\" class=\"data row5 col0\" >Transformed data shape</td>\n",
       "      <td id=\"T_694ca_row5_col1\" class=\"data row5 col1\" >(271467, 7)</td>\n",
       "    </tr>\n",
       "    <tr>\n",
       "      <th id=\"T_694ca_level0_row6\" class=\"row_heading level0 row6\" >6</th>\n",
       "      <td id=\"T_694ca_row6_col0\" class=\"data row6 col0\" >Transformed train set shape</td>\n",
       "      <td id=\"T_694ca_row6_col1\" class=\"data row6 col1\" >(190026, 7)</td>\n",
       "    </tr>\n",
       "    <tr>\n",
       "      <th id=\"T_694ca_level0_row7\" class=\"row_heading level0 row7\" >7</th>\n",
       "      <td id=\"T_694ca_row7_col0\" class=\"data row7 col0\" >Transformed test set shape</td>\n",
       "      <td id=\"T_694ca_row7_col1\" class=\"data row7 col1\" >(81441, 7)</td>\n",
       "    </tr>\n",
       "    <tr>\n",
       "      <th id=\"T_694ca_level0_row8\" class=\"row_heading level0 row8\" >8</th>\n",
       "      <td id=\"T_694ca_row8_col0\" class=\"data row8 col0\" >Numeric features</td>\n",
       "      <td id=\"T_694ca_row8_col1\" class=\"data row8 col1\" >5</td>\n",
       "    </tr>\n",
       "    <tr>\n",
       "      <th id=\"T_694ca_level0_row9\" class=\"row_heading level0 row9\" >9</th>\n",
       "      <td id=\"T_694ca_row9_col0\" class=\"data row9 col0\" >Categorical features</td>\n",
       "      <td id=\"T_694ca_row9_col1\" class=\"data row9 col1\" >1</td>\n",
       "    </tr>\n",
       "    <tr>\n",
       "      <th id=\"T_694ca_level0_row10\" class=\"row_heading level0 row10\" >10</th>\n",
       "      <td id=\"T_694ca_row10_col0\" class=\"data row10 col0\" >Preprocess</td>\n",
       "      <td id=\"T_694ca_row10_col1\" class=\"data row10 col1\" >True</td>\n",
       "    </tr>\n",
       "    <tr>\n",
       "      <th id=\"T_694ca_level0_row11\" class=\"row_heading level0 row11\" >11</th>\n",
       "      <td id=\"T_694ca_row11_col0\" class=\"data row11 col0\" >Imputation type</td>\n",
       "      <td id=\"T_694ca_row11_col1\" class=\"data row11 col1\" >simple</td>\n",
       "    </tr>\n",
       "    <tr>\n",
       "      <th id=\"T_694ca_level0_row12\" class=\"row_heading level0 row12\" >12</th>\n",
       "      <td id=\"T_694ca_row12_col0\" class=\"data row12 col0\" >Numeric imputation</td>\n",
       "      <td id=\"T_694ca_row12_col1\" class=\"data row12 col1\" >mean</td>\n",
       "    </tr>\n",
       "    <tr>\n",
       "      <th id=\"T_694ca_level0_row13\" class=\"row_heading level0 row13\" >13</th>\n",
       "      <td id=\"T_694ca_row13_col0\" class=\"data row13 col0\" >Categorical imputation</td>\n",
       "      <td id=\"T_694ca_row13_col1\" class=\"data row13 col1\" >mode</td>\n",
       "    </tr>\n",
       "    <tr>\n",
       "      <th id=\"T_694ca_level0_row14\" class=\"row_heading level0 row14\" >14</th>\n",
       "      <td id=\"T_694ca_row14_col0\" class=\"data row14 col0\" >Maximum one-hot encoding</td>\n",
       "      <td id=\"T_694ca_row14_col1\" class=\"data row14 col1\" >25</td>\n",
       "    </tr>\n",
       "    <tr>\n",
       "      <th id=\"T_694ca_level0_row15\" class=\"row_heading level0 row15\" >15</th>\n",
       "      <td id=\"T_694ca_row15_col0\" class=\"data row15 col0\" >Encoding method</td>\n",
       "      <td id=\"T_694ca_row15_col1\" class=\"data row15 col1\" >None</td>\n",
       "    </tr>\n",
       "    <tr>\n",
       "      <th id=\"T_694ca_level0_row16\" class=\"row_heading level0 row16\" >16</th>\n",
       "      <td id=\"T_694ca_row16_col0\" class=\"data row16 col0\" >Fold Generator</td>\n",
       "      <td id=\"T_694ca_row16_col1\" class=\"data row16 col1\" >StratifiedKFold</td>\n",
       "    </tr>\n",
       "    <tr>\n",
       "      <th id=\"T_694ca_level0_row17\" class=\"row_heading level0 row17\" >17</th>\n",
       "      <td id=\"T_694ca_row17_col0\" class=\"data row17 col0\" >Fold Number</td>\n",
       "      <td id=\"T_694ca_row17_col1\" class=\"data row17 col1\" >10</td>\n",
       "    </tr>\n",
       "    <tr>\n",
       "      <th id=\"T_694ca_level0_row18\" class=\"row_heading level0 row18\" >18</th>\n",
       "      <td id=\"T_694ca_row18_col0\" class=\"data row18 col0\" >CPU Jobs</td>\n",
       "      <td id=\"T_694ca_row18_col1\" class=\"data row18 col1\" >-1</td>\n",
       "    </tr>\n",
       "    <tr>\n",
       "      <th id=\"T_694ca_level0_row19\" class=\"row_heading level0 row19\" >19</th>\n",
       "      <td id=\"T_694ca_row19_col0\" class=\"data row19 col0\" >Use GPU</td>\n",
       "      <td id=\"T_694ca_row19_col1\" class=\"data row19 col1\" >False</td>\n",
       "    </tr>\n",
       "    <tr>\n",
       "      <th id=\"T_694ca_level0_row20\" class=\"row_heading level0 row20\" >20</th>\n",
       "      <td id=\"T_694ca_row20_col0\" class=\"data row20 col0\" >Log Experiment</td>\n",
       "      <td id=\"T_694ca_row20_col1\" class=\"data row20 col1\" >False</td>\n",
       "    </tr>\n",
       "    <tr>\n",
       "      <th id=\"T_694ca_level0_row21\" class=\"row_heading level0 row21\" >21</th>\n",
       "      <td id=\"T_694ca_row21_col0\" class=\"data row21 col0\" >Experiment Name</td>\n",
       "      <td id=\"T_694ca_row21_col1\" class=\"data row21 col1\" >clf-default-name</td>\n",
       "    </tr>\n",
       "    <tr>\n",
       "      <th id=\"T_694ca_level0_row22\" class=\"row_heading level0 row22\" >22</th>\n",
       "      <td id=\"T_694ca_row22_col0\" class=\"data row22 col0\" >USI</td>\n",
       "      <td id=\"T_694ca_row22_col1\" class=\"data row22 col1\" >cd5f</td>\n",
       "    </tr>\n",
       "  </tbody>\n",
       "</table>\n"
      ],
      "text/plain": [
       "<pandas.io.formats.style.Styler at 0x16f260eabd0>"
      ]
     },
     "metadata": {},
     "output_type": "display_data"
    },
    {
     "data": {
      "text/html": [],
      "text/plain": [
       "<IPython.core.display.HTML object>"
      ]
     },
     "metadata": {},
     "output_type": "display_data"
    },
    {
     "data": {
      "text/html": [
       "<style type=\"text/css\">\n",
       "#T_15906 th {\n",
       "  text-align: left;\n",
       "}\n",
       "#T_15906_row0_col0, #T_15906_row0_col2, #T_15906_row1_col0, #T_15906_row1_col1, #T_15906_row1_col3, #T_15906_row1_col4, #T_15906_row1_col5, #T_15906_row1_col6, #T_15906_row1_col7, #T_15906_row2_col0, #T_15906_row2_col1, #T_15906_row2_col2, #T_15906_row2_col3, #T_15906_row2_col4, #T_15906_row2_col5, #T_15906_row2_col6, #T_15906_row2_col7, #T_15906_row3_col0, #T_15906_row3_col1, #T_15906_row3_col2, #T_15906_row3_col3, #T_15906_row3_col4, #T_15906_row3_col5, #T_15906_row3_col6, #T_15906_row3_col7, #T_15906_row4_col0, #T_15906_row4_col1, #T_15906_row4_col2, #T_15906_row4_col3, #T_15906_row4_col4, #T_15906_row4_col5, #T_15906_row4_col6, #T_15906_row4_col7, #T_15906_row5_col0, #T_15906_row5_col1, #T_15906_row5_col2, #T_15906_row5_col3, #T_15906_row5_col4, #T_15906_row5_col5, #T_15906_row5_col6, #T_15906_row5_col7, #T_15906_row6_col0, #T_15906_row6_col1, #T_15906_row6_col2, #T_15906_row6_col3, #T_15906_row6_col4, #T_15906_row6_col5, #T_15906_row6_col6, #T_15906_row6_col7, #T_15906_row7_col0, #T_15906_row7_col1, #T_15906_row7_col2, #T_15906_row7_col3, #T_15906_row7_col4, #T_15906_row7_col5, #T_15906_row7_col6, #T_15906_row7_col7, #T_15906_row8_col0, #T_15906_row8_col1, #T_15906_row8_col2, #T_15906_row8_col3, #T_15906_row8_col4, #T_15906_row8_col5, #T_15906_row8_col6, #T_15906_row8_col7, #T_15906_row9_col0, #T_15906_row9_col1, #T_15906_row9_col2, #T_15906_row9_col3, #T_15906_row9_col4, #T_15906_row9_col5, #T_15906_row9_col6, #T_15906_row9_col7, #T_15906_row10_col0, #T_15906_row10_col1, #T_15906_row10_col2, #T_15906_row10_col3, #T_15906_row10_col4, #T_15906_row10_col5, #T_15906_row10_col6, #T_15906_row10_col7, #T_15906_row11_col0, #T_15906_row11_col1, #T_15906_row11_col2, #T_15906_row11_col3, #T_15906_row11_col4, #T_15906_row11_col5, #T_15906_row11_col6, #T_15906_row11_col7, #T_15906_row12_col0, #T_15906_row12_col1, #T_15906_row12_col2, #T_15906_row12_col3, #T_15906_row12_col4, #T_15906_row12_col5, #T_15906_row12_col6, #T_15906_row12_col7, #T_15906_row13_col0, #T_15906_row13_col1, #T_15906_row13_col2, #T_15906_row13_col3, #T_15906_row13_col4, #T_15906_row13_col5, #T_15906_row13_col6, #T_15906_row13_col7, #T_15906_row14_col0, #T_15906_row14_col1, #T_15906_row14_col2, #T_15906_row14_col3, #T_15906_row14_col4, #T_15906_row14_col5, #T_15906_row14_col6, #T_15906_row14_col7 {\n",
       "  text-align: left;\n",
       "}\n",
       "#T_15906_row0_col1, #T_15906_row0_col3, #T_15906_row0_col4, #T_15906_row0_col5, #T_15906_row0_col6, #T_15906_row0_col7, #T_15906_row1_col2 {\n",
       "  text-align: left;\n",
       "  background-color: yellow;\n",
       "}\n",
       "#T_15906_row0_col8, #T_15906_row1_col8, #T_15906_row2_col8, #T_15906_row3_col8, #T_15906_row4_col8, #T_15906_row5_col8, #T_15906_row6_col8, #T_15906_row7_col8, #T_15906_row8_col8, #T_15906_row10_col8, #T_15906_row11_col8, #T_15906_row12_col8, #T_15906_row13_col8, #T_15906_row14_col8 {\n",
       "  text-align: left;\n",
       "  background-color: lightgrey;\n",
       "}\n",
       "#T_15906_row9_col8 {\n",
       "  text-align: left;\n",
       "  background-color: yellow;\n",
       "  background-color: lightgrey;\n",
       "}\n",
       "</style>\n",
       "<table id=\"T_15906\">\n",
       "  <thead>\n",
       "    <tr>\n",
       "      <th class=\"blank level0\" >&nbsp;</th>\n",
       "      <th id=\"T_15906_level0_col0\" class=\"col_heading level0 col0\" >Model</th>\n",
       "      <th id=\"T_15906_level0_col1\" class=\"col_heading level0 col1\" >Accuracy</th>\n",
       "      <th id=\"T_15906_level0_col2\" class=\"col_heading level0 col2\" >AUC</th>\n",
       "      <th id=\"T_15906_level0_col3\" class=\"col_heading level0 col3\" >Recall</th>\n",
       "      <th id=\"T_15906_level0_col4\" class=\"col_heading level0 col4\" >Prec.</th>\n",
       "      <th id=\"T_15906_level0_col5\" class=\"col_heading level0 col5\" >F1</th>\n",
       "      <th id=\"T_15906_level0_col6\" class=\"col_heading level0 col6\" >Kappa</th>\n",
       "      <th id=\"T_15906_level0_col7\" class=\"col_heading level0 col7\" >MCC</th>\n",
       "      <th id=\"T_15906_level0_col8\" class=\"col_heading level0 col8\" >TT (Sec)</th>\n",
       "    </tr>\n",
       "  </thead>\n",
       "  <tbody>\n",
       "    <tr>\n",
       "      <th id=\"T_15906_level0_row0\" class=\"row_heading level0 row0\" >dt</th>\n",
       "      <td id=\"T_15906_row0_col0\" class=\"data row0 col0\" >Decision Tree Classifier</td>\n",
       "      <td id=\"T_15906_row0_col1\" class=\"data row0 col1\" >0.9691</td>\n",
       "      <td id=\"T_15906_row0_col2\" class=\"data row0 col2\" >0.9635</td>\n",
       "      <td id=\"T_15906_row0_col3\" class=\"data row0 col3\" >0.9691</td>\n",
       "      <td id=\"T_15906_row0_col4\" class=\"data row0 col4\" >0.9691</td>\n",
       "      <td id=\"T_15906_row0_col5\" class=\"data row0 col5\" >0.9691</td>\n",
       "      <td id=\"T_15906_row0_col6\" class=\"data row0 col6\" >0.9237</td>\n",
       "      <td id=\"T_15906_row0_col7\" class=\"data row0 col7\" >0.9237</td>\n",
       "      <td id=\"T_15906_row0_col8\" class=\"data row0 col8\" >3.3710</td>\n",
       "    </tr>\n",
       "    <tr>\n",
       "      <th id=\"T_15906_level0_row1\" class=\"row_heading level0 row1\" >rf</th>\n",
       "      <td id=\"T_15906_row1_col0\" class=\"data row1 col0\" >Random Forest Classifier</td>\n",
       "      <td id=\"T_15906_row1_col1\" class=\"data row1 col1\" >0.9429</td>\n",
       "      <td id=\"T_15906_row1_col2\" class=\"data row1 col2\" >0.9871</td>\n",
       "      <td id=\"T_15906_row1_col3\" class=\"data row1 col3\" >0.9429</td>\n",
       "      <td id=\"T_15906_row1_col4\" class=\"data row1 col4\" >0.9389</td>\n",
       "      <td id=\"T_15906_row1_col5\" class=\"data row1 col5\" >0.9328</td>\n",
       "      <td id=\"T_15906_row1_col6\" class=\"data row1 col6\" >0.8472</td>\n",
       "      <td id=\"T_15906_row1_col7\" class=\"data row1 col7\" >0.8540</td>\n",
       "      <td id=\"T_15906_row1_col8\" class=\"data row1 col8\" >11.4750</td>\n",
       "    </tr>\n",
       "    <tr>\n",
       "      <th id=\"T_15906_level0_row2\" class=\"row_heading level0 row2\" >catboost</th>\n",
       "      <td id=\"T_15906_row2_col0\" class=\"data row2 col0\" >CatBoost Classifier</td>\n",
       "      <td id=\"T_15906_row2_col1\" class=\"data row2 col1\" >0.9338</td>\n",
       "      <td id=\"T_15906_row2_col2\" class=\"data row2 col2\" >0.9706</td>\n",
       "      <td id=\"T_15906_row2_col3\" class=\"data row2 col3\" >0.9338</td>\n",
       "      <td id=\"T_15906_row2_col4\" class=\"data row2 col4\" >0.9305</td>\n",
       "      <td id=\"T_15906_row2_col5\" class=\"data row2 col5\" >0.9171</td>\n",
       "      <td id=\"T_15906_row2_col6\" class=\"data row2 col6\" >0.8184</td>\n",
       "      <td id=\"T_15906_row2_col7\" class=\"data row2 col7\" >0.8302</td>\n",
       "      <td id=\"T_15906_row2_col8\" class=\"data row2 col8\" >256.3520</td>\n",
       "    </tr>\n",
       "    <tr>\n",
       "      <th id=\"T_15906_level0_row3\" class=\"row_heading level0 row3\" >gbc</th>\n",
       "      <td id=\"T_15906_row3_col0\" class=\"data row3 col0\" >Gradient Boosting Classifier</td>\n",
       "      <td id=\"T_15906_row3_col1\" class=\"data row3 col1\" >0.9252</td>\n",
       "      <td id=\"T_15906_row3_col2\" class=\"data row3 col2\" >0.9479</td>\n",
       "      <td id=\"T_15906_row3_col3\" class=\"data row3 col3\" >0.9252</td>\n",
       "      <td id=\"T_15906_row3_col4\" class=\"data row3 col4\" >0.9189</td>\n",
       "      <td id=\"T_15906_row3_col5\" class=\"data row3 col5\" >0.9020</td>\n",
       "      <td id=\"T_15906_row3_col6\" class=\"data row3 col6\" >0.7916</td>\n",
       "      <td id=\"T_15906_row3_col7\" class=\"data row3 col7\" >0.8076</td>\n",
       "      <td id=\"T_15906_row3_col8\" class=\"data row3 col8\" >102.9780</td>\n",
       "    </tr>\n",
       "    <tr>\n",
       "      <th id=\"T_15906_level0_row4\" class=\"row_heading level0 row4\" >et</th>\n",
       "      <td id=\"T_15906_row4_col0\" class=\"data row4 col0\" >Extra Trees Classifier</td>\n",
       "      <td id=\"T_15906_row4_col1\" class=\"data row4 col1\" >0.9219</td>\n",
       "      <td id=\"T_15906_row4_col2\" class=\"data row4 col2\" >0.9633</td>\n",
       "      <td id=\"T_15906_row4_col3\" class=\"data row4 col3\" >0.9219</td>\n",
       "      <td id=\"T_15906_row4_col4\" class=\"data row4 col4\" >0.9054</td>\n",
       "      <td id=\"T_15906_row4_col5\" class=\"data row4 col5\" >0.9067</td>\n",
       "      <td id=\"T_15906_row4_col6\" class=\"data row4 col6\" >0.7897</td>\n",
       "      <td id=\"T_15906_row4_col7\" class=\"data row4 col7\" >0.7972</td>\n",
       "      <td id=\"T_15906_row4_col8\" class=\"data row4 col8\" >20.0180</td>\n",
       "    </tr>\n",
       "    <tr>\n",
       "      <th id=\"T_15906_level0_row5\" class=\"row_heading level0 row5\" >lightgbm</th>\n",
       "      <td id=\"T_15906_row5_col0\" class=\"data row5 col0\" >Light Gradient Boosting Machine</td>\n",
       "      <td id=\"T_15906_row5_col1\" class=\"data row5 col1\" >0.9210</td>\n",
       "      <td id=\"T_15906_row5_col2\" class=\"data row5 col2\" >0.9527</td>\n",
       "      <td id=\"T_15906_row5_col3\" class=\"data row5 col3\" >0.9210</td>\n",
       "      <td id=\"T_15906_row5_col4\" class=\"data row5 col4\" >0.9123</td>\n",
       "      <td id=\"T_15906_row5_col5\" class=\"data row5 col5\" >0.9068</td>\n",
       "      <td id=\"T_15906_row5_col6\" class=\"data row5 col6\" >0.7881</td>\n",
       "      <td id=\"T_15906_row5_col7\" class=\"data row5 col7\" >0.7960</td>\n",
       "      <td id=\"T_15906_row5_col8\" class=\"data row5 col8\" >586.1220</td>\n",
       "    </tr>\n",
       "    <tr>\n",
       "      <th id=\"T_15906_level0_row6\" class=\"row_heading level0 row6\" >lr</th>\n",
       "      <td id=\"T_15906_row6_col0\" class=\"data row6 col0\" >Logistic Regression</td>\n",
       "      <td id=\"T_15906_row6_col1\" class=\"data row6 col1\" >0.9148</td>\n",
       "      <td id=\"T_15906_row6_col2\" class=\"data row6 col2\" >0.8828</td>\n",
       "      <td id=\"T_15906_row6_col3\" class=\"data row6 col3\" >0.9148</td>\n",
       "      <td id=\"T_15906_row6_col4\" class=\"data row6 col4\" >0.9042</td>\n",
       "      <td id=\"T_15906_row6_col5\" class=\"data row6 col5\" >0.8758</td>\n",
       "      <td id=\"T_15906_row6_col6\" class=\"data row6 col6\" >0.7558</td>\n",
       "      <td id=\"T_15906_row6_col7\" class=\"data row6 col7\" >0.7798</td>\n",
       "      <td id=\"T_15906_row6_col8\" class=\"data row6 col8\" >62.3390</td>\n",
       "    </tr>\n",
       "    <tr>\n",
       "      <th id=\"T_15906_level0_row7\" class=\"row_heading level0 row7\" >lda</th>\n",
       "      <td id=\"T_15906_row7_col0\" class=\"data row7 col0\" >Linear Discriminant Analysis</td>\n",
       "      <td id=\"T_15906_row7_col1\" class=\"data row7 col1\" >0.9146</td>\n",
       "      <td id=\"T_15906_row7_col2\" class=\"data row7 col2\" >0.8714</td>\n",
       "      <td id=\"T_15906_row7_col3\" class=\"data row7 col3\" >0.9146</td>\n",
       "      <td id=\"T_15906_row7_col4\" class=\"data row7 col4\" >0.8957</td>\n",
       "      <td id=\"T_15906_row7_col5\" class=\"data row7 col5\" >0.8753</td>\n",
       "      <td id=\"T_15906_row7_col6\" class=\"data row7 col6\" >0.7554</td>\n",
       "      <td id=\"T_15906_row7_col7\" class=\"data row7 col7\" >0.7792</td>\n",
       "      <td id=\"T_15906_row7_col8\" class=\"data row7 col8\" >8.9860</td>\n",
       "    </tr>\n",
       "    <tr>\n",
       "      <th id=\"T_15906_level0_row8\" class=\"row_heading level0 row8\" >ridge</th>\n",
       "      <td id=\"T_15906_row8_col0\" class=\"data row8 col0\" >Ridge Classifier</td>\n",
       "      <td id=\"T_15906_row8_col1\" class=\"data row8 col1\" >0.9137</td>\n",
       "      <td id=\"T_15906_row8_col2\" class=\"data row8 col2\" >0.0000</td>\n",
       "      <td id=\"T_15906_row8_col3\" class=\"data row8 col3\" >0.9137</td>\n",
       "      <td id=\"T_15906_row8_col4\" class=\"data row8 col4\" >0.8978</td>\n",
       "      <td id=\"T_15906_row8_col5\" class=\"data row8 col5\" >0.8730</td>\n",
       "      <td id=\"T_15906_row8_col6\" class=\"data row8 col6\" >0.7522</td>\n",
       "      <td id=\"T_15906_row8_col7\" class=\"data row8 col7\" >0.7766</td>\n",
       "      <td id=\"T_15906_row8_col8\" class=\"data row8 col8\" >2.2090</td>\n",
       "    </tr>\n",
       "    <tr>\n",
       "      <th id=\"T_15906_level0_row9\" class=\"row_heading level0 row9\" >qda</th>\n",
       "      <td id=\"T_15906_row9_col0\" class=\"data row9 col0\" >Quadratic Discriminant Analysis</td>\n",
       "      <td id=\"T_15906_row9_col1\" class=\"data row9 col1\" >0.9122</td>\n",
       "      <td id=\"T_15906_row9_col2\" class=\"data row9 col2\" >0.8820</td>\n",
       "      <td id=\"T_15906_row9_col3\" class=\"data row9 col3\" >0.9122</td>\n",
       "      <td id=\"T_15906_row9_col4\" class=\"data row9 col4\" >0.8805</td>\n",
       "      <td id=\"T_15906_row9_col5\" class=\"data row9 col5\" >0.8835</td>\n",
       "      <td id=\"T_15906_row9_col6\" class=\"data row9 col6\" >0.7548</td>\n",
       "      <td id=\"T_15906_row9_col7\" class=\"data row9 col7\" >0.7703</td>\n",
       "      <td id=\"T_15906_row9_col8\" class=\"data row9 col8\" >1.8200</td>\n",
       "    </tr>\n",
       "    <tr>\n",
       "      <th id=\"T_15906_level0_row10\" class=\"row_heading level0 row10\" >knn</th>\n",
       "      <td id=\"T_15906_row10_col0\" class=\"data row10 col0\" >K Neighbors Classifier</td>\n",
       "      <td id=\"T_15906_row10_col1\" class=\"data row10 col1\" >0.9121</td>\n",
       "      <td id=\"T_15906_row10_col2\" class=\"data row10 col2\" >0.8968</td>\n",
       "      <td id=\"T_15906_row10_col3\" class=\"data row10 col3\" >0.9121</td>\n",
       "      <td id=\"T_15906_row10_col4\" class=\"data row10 col4\" >0.8785</td>\n",
       "      <td id=\"T_15906_row10_col5\" class=\"data row10 col5\" >0.8863</td>\n",
       "      <td id=\"T_15906_row10_col6\" class=\"data row10 col6\" >0.7574</td>\n",
       "      <td id=\"T_15906_row10_col7\" class=\"data row10 col7\" >0.7696</td>\n",
       "      <td id=\"T_15906_row10_col8\" class=\"data row10 col8\" >5.2960</td>\n",
       "    </tr>\n",
       "    <tr>\n",
       "      <th id=\"T_15906_level0_row11\" class=\"row_heading level0 row11\" >nb</th>\n",
       "      <td id=\"T_15906_row11_col0\" class=\"data row11 col0\" >Naive Bayes</td>\n",
       "      <td id=\"T_15906_row11_col1\" class=\"data row11 col1\" >0.9120</td>\n",
       "      <td id=\"T_15906_row11_col2\" class=\"data row11 col2\" >0.8853</td>\n",
       "      <td id=\"T_15906_row11_col3\" class=\"data row11 col3\" >0.9120</td>\n",
       "      <td id=\"T_15906_row11_col4\" class=\"data row11 col4\" >0.8784</td>\n",
       "      <td id=\"T_15906_row11_col5\" class=\"data row11 col5\" >0.8834</td>\n",
       "      <td id=\"T_15906_row11_col6\" class=\"data row11 col6\" >0.7544</td>\n",
       "      <td id=\"T_15906_row11_col7\" class=\"data row11 col7\" >0.7697</td>\n",
       "      <td id=\"T_15906_row11_col8\" class=\"data row11 col8\" >2.2280</td>\n",
       "    </tr>\n",
       "    <tr>\n",
       "      <th id=\"T_15906_level0_row12\" class=\"row_heading level0 row12\" >svm</th>\n",
       "      <td id=\"T_15906_row12_col0\" class=\"data row12 col0\" >SVM - Linear Kernel</td>\n",
       "      <td id=\"T_15906_row12_col1\" class=\"data row12 col1\" >0.9005</td>\n",
       "      <td id=\"T_15906_row12_col2\" class=\"data row12 col2\" >0.0000</td>\n",
       "      <td id=\"T_15906_row12_col3\" class=\"data row12 col3\" >0.9005</td>\n",
       "      <td id=\"T_15906_row12_col4\" class=\"data row12 col4\" >0.8952</td>\n",
       "      <td id=\"T_15906_row12_col5\" class=\"data row12 col5\" >0.8693</td>\n",
       "      <td id=\"T_15906_row12_col6\" class=\"data row12 col6\" >0.7282</td>\n",
       "      <td id=\"T_15906_row12_col7\" class=\"data row12 col7\" >0.7502</td>\n",
       "      <td id=\"T_15906_row12_col8\" class=\"data row12 col8\" >20.2200</td>\n",
       "    </tr>\n",
       "    <tr>\n",
       "      <th id=\"T_15906_level0_row13\" class=\"row_heading level0 row13\" >ada</th>\n",
       "      <td id=\"T_15906_row13_col0\" class=\"data row13 col0\" >Ada Boost Classifier</td>\n",
       "      <td id=\"T_15906_row13_col1\" class=\"data row13 col1\" >0.8602</td>\n",
       "      <td id=\"T_15906_row13_col2\" class=\"data row13 col2\" >0.7807</td>\n",
       "      <td id=\"T_15906_row13_col3\" class=\"data row13 col3\" >0.8602</td>\n",
       "      <td id=\"T_15906_row13_col4\" class=\"data row13 col4\" >0.8362</td>\n",
       "      <td id=\"T_15906_row13_col5\" class=\"data row13 col5\" >0.8413</td>\n",
       "      <td id=\"T_15906_row13_col6\" class=\"data row13 col6\" >0.6083</td>\n",
       "      <td id=\"T_15906_row13_col7\" class=\"data row13 col7\" >0.6308</td>\n",
       "      <td id=\"T_15906_row13_col8\" class=\"data row13 col8\" >11.4900</td>\n",
       "    </tr>\n",
       "    <tr>\n",
       "      <th id=\"T_15906_level0_row14\" class=\"row_heading level0 row14\" >dummy</th>\n",
       "      <td id=\"T_15906_row14_col0\" class=\"data row14 col0\" >Dummy Classifier</td>\n",
       "      <td id=\"T_15906_row14_col1\" class=\"data row14 col1\" >0.7511</td>\n",
       "      <td id=\"T_15906_row14_col2\" class=\"data row14 col2\" >0.5000</td>\n",
       "      <td id=\"T_15906_row14_col3\" class=\"data row14 col3\" >0.7511</td>\n",
       "      <td id=\"T_15906_row14_col4\" class=\"data row14 col4\" >0.5642</td>\n",
       "      <td id=\"T_15906_row14_col5\" class=\"data row14 col5\" >0.6444</td>\n",
       "      <td id=\"T_15906_row14_col6\" class=\"data row14 col6\" >0.0000</td>\n",
       "      <td id=\"T_15906_row14_col7\" class=\"data row14 col7\" >0.0000</td>\n",
       "      <td id=\"T_15906_row14_col8\" class=\"data row14 col8\" >7.2100</td>\n",
       "    </tr>\n",
       "  </tbody>\n",
       "</table>\n"
      ],
      "text/plain": [
       "<pandas.io.formats.style.Styler at 0x16f24cf69d0>"
      ]
     },
     "metadata": {},
     "output_type": "display_data"
    },
    {
     "data": {
      "text/html": [],
      "text/plain": [
       "<IPython.core.display.HTML object>"
      ]
     },
     "metadata": {},
     "output_type": "display_data"
    }
   ],
   "source": [
    "# clf1 = setup(train, target='Consumer_type', use_gpu=True)\n",
    "clf1 = setup(train, target='Consumer_type')\n",
    "\n",
    "best_model = compare_models()"
   ]
  },
  {
   "cell_type": "code",
   "execution_count": 15,
   "metadata": {
    "executionInfo": {
     "elapsed": 329,
     "status": "ok",
     "timestamp": 1707149163781,
     "user": {
      "displayName": "Waldyr Turquetti",
      "userId": "16979580399715376846"
     },
     "user_tz": 0
    },
    "id": "Ts5Og3kZ7I_R"
   },
   "outputs": [],
   "source": [
    "# result_best_model = predict_model(best_model, data=test)"
   ]
  },
  {
   "cell_type": "code",
   "execution_count": 16,
   "metadata": {
    "executionInfo": {
     "elapsed": 4,
     "status": "ok",
     "timestamp": 1707149164393,
     "user": {
      "displayName": "Waldyr Turquetti",
      "userId": "16979580399715376846"
     },
     "user_tz": 0
    },
    "id": "MN4iMxkyMO_q"
   },
   "outputs": [],
   "source": [
    "# result_best_model.shape"
   ]
  },
  {
   "cell_type": "code",
   "execution_count": 17,
   "metadata": {
    "executionInfo": {
     "elapsed": 3,
     "status": "ok",
     "timestamp": 1707149164393,
     "user": {
      "displayName": "Waldyr Turquetti",
      "userId": "16979580399715376846"
     },
     "user_tz": 0
    },
    "id": "933DvSj7MS-J"
   },
   "outputs": [],
   "source": [
    "# result_best_model.head()"
   ]
  },
  {
   "cell_type": "code",
   "execution_count": 18,
   "metadata": {
    "executionInfo": {
     "elapsed": 3,
     "status": "ok",
     "timestamp": 1707149164393,
     "user": {
      "displayName": "Waldyr Turquetti",
      "userId": "16979580399715376846"
     },
     "user_tz": 0
    },
    "id": "Q9rfcTecAa8x"
   },
   "outputs": [],
   "source": [
    "# matrix = confusion_matrix(result_best_model['Consumer_type'], result_best_model['prediction_label'])\n",
    "# sns.heatmap(matrix, annot=True)"
   ]
  },
  {
   "cell_type": "code",
   "execution_count": 19,
   "metadata": {
    "colab": {
     "base_uri": "https://localhost:8080/",
     "height": 80
    },
    "executionInfo": {
     "elapsed": 618,
     "status": "ok",
     "timestamp": 1707149165008,
     "user": {
      "displayName": "Waldyr Turquetti",
      "userId": "16979580399715376846"
     },
     "user_tz": 0
    },
    "id": "kB6Ls_qeFpHR",
    "outputId": "5c72c381-c045-4be3-8f8b-1d513fedc8db"
   },
   "outputs": [
    {
     "data": {
      "text/html": [
       "<style type=\"text/css\">\n",
       "</style>\n",
       "<table id=\"T_297ab\">\n",
       "  <thead>\n",
       "    <tr>\n",
       "      <th class=\"blank level0\" >&nbsp;</th>\n",
       "      <th id=\"T_297ab_level0_col0\" class=\"col_heading level0 col0\" >Model</th>\n",
       "      <th id=\"T_297ab_level0_col1\" class=\"col_heading level0 col1\" >Accuracy</th>\n",
       "      <th id=\"T_297ab_level0_col2\" class=\"col_heading level0 col2\" >AUC</th>\n",
       "      <th id=\"T_297ab_level0_col3\" class=\"col_heading level0 col3\" >Recall</th>\n",
       "      <th id=\"T_297ab_level0_col4\" class=\"col_heading level0 col4\" >Prec.</th>\n",
       "      <th id=\"T_297ab_level0_col5\" class=\"col_heading level0 col5\" >F1</th>\n",
       "      <th id=\"T_297ab_level0_col6\" class=\"col_heading level0 col6\" >Kappa</th>\n",
       "      <th id=\"T_297ab_level0_col7\" class=\"col_heading level0 col7\" >MCC</th>\n",
       "    </tr>\n",
       "  </thead>\n",
       "  <tbody>\n",
       "    <tr>\n",
       "      <th id=\"T_297ab_level0_row0\" class=\"row_heading level0 row0\" >0</th>\n",
       "      <td id=\"T_297ab_row0_col0\" class=\"data row0 col0\" >Decision Tree Classifier</td>\n",
       "      <td id=\"T_297ab_row0_col1\" class=\"data row0 col1\" >0.4191</td>\n",
       "      <td id=\"T_297ab_row0_col2\" class=\"data row0 col2\" >0.6616</td>\n",
       "      <td id=\"T_297ab_row0_col3\" class=\"data row0 col3\" >0.4191</td>\n",
       "      <td id=\"T_297ab_row0_col4\" class=\"data row0 col4\" >0.5604</td>\n",
       "      <td id=\"T_297ab_row0_col5\" class=\"data row0 col5\" >0.3544</td>\n",
       "      <td id=\"T_297ab_row0_col6\" class=\"data row0 col6\" >0.3223</td>\n",
       "      <td id=\"T_297ab_row0_col7\" class=\"data row0 col7\" >0.3675</td>\n",
       "    </tr>\n",
       "  </tbody>\n",
       "</table>\n"
      ],
      "text/plain": [
       "<pandas.io.formats.style.Styler at 0x16f278b2d50>"
      ]
     },
     "metadata": {},
     "output_type": "display_data"
    }
   ],
   "source": [
    "result_best_model = predict_model(best_model, data=test2)"
   ]
  },
  {
   "cell_type": "code",
   "execution_count": 20,
   "metadata": {
    "colab": {
     "base_uri": "https://localhost:8080/"
    },
    "executionInfo": {
     "elapsed": 5,
     "status": "ok",
     "timestamp": 1707149165008,
     "user": {
      "displayName": "Waldyr Turquetti",
      "userId": "16979580399715376846"
     },
     "user_tz": 0
    },
    "id": "LmtIaSDyFsZL",
    "outputId": "e463d189-0df2-4a46-c9bd-07fc3b865bc0"
   },
   "outputs": [
    {
     "data": {
      "text/plain": [
       "(3500, 9)"
      ]
     },
     "execution_count": 20,
     "metadata": {},
     "output_type": "execute_result"
    }
   ],
   "source": [
    "result_best_model.shape"
   ]
  },
  {
   "cell_type": "code",
   "execution_count": 21,
   "metadata": {
    "colab": {
     "base_uri": "https://localhost:8080/",
     "height": 243
    },
    "executionInfo": {
     "elapsed": 4,
     "status": "ok",
     "timestamp": 1707149165008,
     "user": {
      "displayName": "Waldyr Turquetti",
      "userId": "16979580399715376846"
     },
     "user_tz": 0
    },
    "id": "gviL-cT2FuDI",
    "outputId": "ac6a7b3c-0111-41a7-808e-b7b5b644321a"
   },
   "outputs": [
    {
     "data": {
      "text/html": [
       "<div>\n",
       "<style scoped>\n",
       "    .dataframe tbody tr th:only-of-type {\n",
       "        vertical-align: middle;\n",
       "    }\n",
       "\n",
       "    .dataframe tbody tr th {\n",
       "        vertical-align: top;\n",
       "    }\n",
       "\n",
       "    .dataframe thead th {\n",
       "        text-align: right;\n",
       "    }\n",
       "</style>\n",
       "<table border=\"1\" class=\"dataframe\">\n",
       "  <thead>\n",
       "    <tr style=\"text-align: right;\">\n",
       "      <th></th>\n",
       "      <th>Year</th>\n",
       "      <th>Month</th>\n",
       "      <th>Consumption</th>\n",
       "      <th>Installation_zone</th>\n",
       "      <th>mean_consumption</th>\n",
       "      <th>consumption_count</th>\n",
       "      <th>Consumer_type</th>\n",
       "      <th>prediction_label</th>\n",
       "      <th>prediction_score</th>\n",
       "    </tr>\n",
       "  </thead>\n",
       "  <tbody>\n",
       "    <tr>\n",
       "      <th>0</th>\n",
       "      <td>2013</td>\n",
       "      <td>3</td>\n",
       "      <td>1</td>\n",
       "      <td>Installation_zone 2</td>\n",
       "      <td>0.500000</td>\n",
       "      <td>2</td>\n",
       "      <td>industrial</td>\n",
       "      <td>domestic</td>\n",
       "      <td>1.0</td>\n",
       "    </tr>\n",
       "    <tr>\n",
       "      <th>1</th>\n",
       "      <td>2017</td>\n",
       "      <td>7</td>\n",
       "      <td>10</td>\n",
       "      <td>Installation_zone 4</td>\n",
       "      <td>25.818182</td>\n",
       "      <td>11</td>\n",
       "      <td>construction</td>\n",
       "      <td>domestic</td>\n",
       "      <td>1.0</td>\n",
       "    </tr>\n",
       "    <tr>\n",
       "      <th>2</th>\n",
       "      <td>2018</td>\n",
       "      <td>8</td>\n",
       "      <td>4</td>\n",
       "      <td>Installation_zone 3</td>\n",
       "      <td>4.363636</td>\n",
       "      <td>11</td>\n",
       "      <td>low income families</td>\n",
       "      <td>low income families</td>\n",
       "      <td>1.0</td>\n",
       "    </tr>\n",
       "    <tr>\n",
       "      <th>3</th>\n",
       "      <td>2013</td>\n",
       "      <td>1</td>\n",
       "      <td>15</td>\n",
       "      <td>Installation_zone 1</td>\n",
       "      <td>15.000000</td>\n",
       "      <td>1</td>\n",
       "      <td>domestic</td>\n",
       "      <td>domestic</td>\n",
       "      <td>1.0</td>\n",
       "    </tr>\n",
       "    <tr>\n",
       "      <th>4</th>\n",
       "      <td>2013</td>\n",
       "      <td>1</td>\n",
       "      <td>4</td>\n",
       "      <td>Installation_zone 2</td>\n",
       "      <td>4.000000</td>\n",
       "      <td>1</td>\n",
       "      <td>domestic</td>\n",
       "      <td>domestic</td>\n",
       "      <td>1.0</td>\n",
       "    </tr>\n",
       "  </tbody>\n",
       "</table>\n",
       "</div>"
      ],
      "text/plain": [
       "   Year  Month  Consumption    Installation_zone  mean_consumption  \\\n",
       "0  2013      3            1  Installation_zone 2          0.500000   \n",
       "1  2017      7           10  Installation_zone 4         25.818182   \n",
       "2  2018      8            4  Installation_zone 3          4.363636   \n",
       "3  2013      1           15  Installation_zone 1         15.000000   \n",
       "4  2013      1            4  Installation_zone 2          4.000000   \n",
       "\n",
       "   consumption_count        Consumer_type     prediction_label  \\\n",
       "0                  2           industrial             domestic   \n",
       "1                 11         construction             domestic   \n",
       "2                 11  low income families  low income families   \n",
       "3                  1             domestic             domestic   \n",
       "4                  1             domestic             domestic   \n",
       "\n",
       "   prediction_score  \n",
       "0               1.0  \n",
       "1               1.0  \n",
       "2               1.0  \n",
       "3               1.0  \n",
       "4               1.0  "
      ]
     },
     "execution_count": 21,
     "metadata": {},
     "output_type": "execute_result"
    }
   ],
   "source": [
    "result_best_model.head()"
   ]
  },
  {
   "cell_type": "code",
   "execution_count": 22,
   "metadata": {
    "colab": {
     "base_uri": "https://localhost:8080/",
     "height": 501
    },
    "executionInfo": {
     "elapsed": 566,
     "status": "ok",
     "timestamp": 1707149165570,
     "user": {
      "displayName": "Waldyr Turquetti",
      "userId": "16979580399715376846"
     },
     "user_tz": 0
    },
    "id": "Z6daI9YOFvcH",
    "outputId": "ce568054-f8c7-4cb0-afaf-1754fb55b907"
   },
   "outputs": [
    {
     "data": {
      "text/plain": [
       "<AxesSubplot: >"
      ]
     },
     "execution_count": 22,
     "metadata": {},
     "output_type": "execute_result"
    },
    {
     "data": {
      "image/png": "[encoded data removed]",
      "text/plain": [
       "<Figure size 800x550 with 2 Axes>"
      ]
     },
     "metadata": {},
     "output_type": "display_data"
    }
   ],
   "source": [
    "matrix = confusion_matrix(result_best_model['Consumer_type'], result_best_model['prediction_label'])\n",
    "sns.heatmap(matrix, annot=True)"
   ]
  },
  {
   "cell_type": "code",
   "execution_count": 23,
   "metadata": {
    "colab": {
     "base_uri": "https://localhost:8080/",
     "height": 551
    },
    "executionInfo": {
     "elapsed": 792,
     "status": "ok",
     "timestamp": 1707149166357,
     "user": {
      "displayName": "Waldyr Turquetti",
      "userId": "16979580399715376846"
     },
     "user_tz": 0
    },
    "id": "iS7GcY7TrQw0",
    "outputId": "767b60dd-7564-4b06-caab-5393ee0fe8df"
   },
   "outputs": [
    {
     "data": {
      "text/html": [],
      "text/plain": [
       "<IPython.core.display.HTML object>"
      ]
     },
     "metadata": {},
     "output_type": "display_data"
    },
    {
     "data": {
      "image/png": "[encoded data removed]",
      "text/plain": [
       "<Figure size 800x550 with 1 Axes>"
      ]
     },
     "metadata": {},
     "output_type": "display_data"
    }
   ],
   "source": [
    "plot_model(best_model, plot = 'confusion_matrix', plot_kwargs = {'percent' : True})"
   ]
  },
  {
   "cell_type": "code",
   "execution_count": 24,
   "metadata": {
    "colab": {
     "base_uri": "https://localhost:8080/",
     "height": 511,
     "referenced_widgets": [
      "32e65de3785a4903b25901d6bb269364",
      "17dbc69b5cac4f09ac86cf57701508f6",
      "f637dffd961346f69960f4f1383da5a0",
      "ed690c304a8a4099881a6852e32990c6",
      "bf337bd494ba4c96b296fd592b3d7803",
      "c7cc0a785f0f48a4912a3dc8710df0b9",
      "f02197c0c7a04fdbb69d564016a64a74",
      "f89625edede74050ab8b39c68d480bc0",
      "90918d5a0fc14dc8b36e48bbb6cdc8b6",
      "2405ce45d828492f95710027ad394b57",
      "edd8df11ffe64c9fbf3e4d291e444843"
     ]
    },
    "executionInfo": {
     "elapsed": 93188,
     "status": "ok",
     "timestamp": 1707149259541,
     "user": {
      "displayName": "Waldyr Turquetti",
      "userId": "16979580399715376846"
     },
     "user_tz": 0
    },
    "id": "eJMSarSFdprn",
    "outputId": "74812edc-9d94-4019-b8fc-6bcc9cb9bbf4"
   },
   "outputs": [
    {
     "data": {
      "text/html": [],
      "text/plain": [
       "<IPython.core.display.HTML object>"
      ]
     },
     "metadata": {},
     "output_type": "display_data"
    },
    {
     "data": {
      "text/html": [
       "<style type=\"text/css\">\n",
       "#T_cf723_row10_col0, #T_cf723_row10_col1, #T_cf723_row10_col2, #T_cf723_row10_col3, #T_cf723_row10_col4, #T_cf723_row10_col5, #T_cf723_row10_col6 {\n",
       "  background: yellow;\n",
       "}\n",
       "</style>\n",
       "<table id=\"T_cf723\">\n",
       "  <thead>\n",
       "    <tr>\n",
       "      <th class=\"blank level0\" >&nbsp;</th>\n",
       "      <th id=\"T_cf723_level0_col0\" class=\"col_heading level0 col0\" >Accuracy</th>\n",
       "      <th id=\"T_cf723_level0_col1\" class=\"col_heading level0 col1\" >AUC</th>\n",
       "      <th id=\"T_cf723_level0_col2\" class=\"col_heading level0 col2\" >Recall</th>\n",
       "      <th id=\"T_cf723_level0_col3\" class=\"col_heading level0 col3\" >Prec.</th>\n",
       "      <th id=\"T_cf723_level0_col4\" class=\"col_heading level0 col4\" >F1</th>\n",
       "      <th id=\"T_cf723_level0_col5\" class=\"col_heading level0 col5\" >Kappa</th>\n",
       "      <th id=\"T_cf723_level0_col6\" class=\"col_heading level0 col6\" >MCC</th>\n",
       "    </tr>\n",
       "    <tr>\n",
       "      <th class=\"index_name level0\" >Fold</th>\n",
       "      <th class=\"blank col0\" >&nbsp;</th>\n",
       "      <th class=\"blank col1\" >&nbsp;</th>\n",
       "      <th class=\"blank col2\" >&nbsp;</th>\n",
       "      <th class=\"blank col3\" >&nbsp;</th>\n",
       "      <th class=\"blank col4\" >&nbsp;</th>\n",
       "      <th class=\"blank col5\" >&nbsp;</th>\n",
       "      <th class=\"blank col6\" >&nbsp;</th>\n",
       "    </tr>\n",
       "  </thead>\n",
       "  <tbody>\n",
       "    <tr>\n",
       "      <th id=\"T_cf723_level0_row0\" class=\"row_heading level0 row0\" >0</th>\n",
       "      <td id=\"T_cf723_row0_col0\" class=\"data row0 col0\" >0.9216</td>\n",
       "      <td id=\"T_cf723_row0_col1\" class=\"data row0 col1\" >0.9386</td>\n",
       "      <td id=\"T_cf723_row0_col2\" class=\"data row0 col2\" >0.9216</td>\n",
       "      <td id=\"T_cf723_row0_col3\" class=\"data row0 col3\" >0.9131</td>\n",
       "      <td id=\"T_cf723_row0_col4\" class=\"data row0 col4\" >0.8934</td>\n",
       "      <td id=\"T_cf723_row0_col5\" class=\"data row0 col5\" >0.7790</td>\n",
       "      <td id=\"T_cf723_row0_col6\" class=\"data row0 col6\" >0.7982</td>\n",
       "    </tr>\n",
       "    <tr>\n",
       "      <th id=\"T_cf723_level0_row1\" class=\"row_heading level0 row1\" >1</th>\n",
       "      <td id=\"T_cf723_row1_col0\" class=\"data row1 col0\" >0.9209</td>\n",
       "      <td id=\"T_cf723_row1_col1\" class=\"data row1 col1\" >0.9357</td>\n",
       "      <td id=\"T_cf723_row1_col2\" class=\"data row1 col2\" >0.9209</td>\n",
       "      <td id=\"T_cf723_row1_col3\" class=\"data row1 col3\" >0.9174</td>\n",
       "      <td id=\"T_cf723_row1_col4\" class=\"data row1 col4\" >0.8904</td>\n",
       "      <td id=\"T_cf723_row1_col5\" class=\"data row1 col5\" >0.7754</td>\n",
       "      <td id=\"T_cf723_row1_col6\" class=\"data row1 col6\" >0.7967</td>\n",
       "    </tr>\n",
       "    <tr>\n",
       "      <th id=\"T_cf723_level0_row2\" class=\"row_heading level0 row2\" >2</th>\n",
       "      <td id=\"T_cf723_row2_col0\" class=\"data row2 col0\" >0.9217</td>\n",
       "      <td id=\"T_cf723_row2_col1\" class=\"data row2 col1\" >0.9367</td>\n",
       "      <td id=\"T_cf723_row2_col2\" class=\"data row2 col2\" >0.9217</td>\n",
       "      <td id=\"T_cf723_row2_col3\" class=\"data row2 col3\" >0.9153</td>\n",
       "      <td id=\"T_cf723_row2_col4\" class=\"data row2 col4\" >0.8932</td>\n",
       "      <td id=\"T_cf723_row2_col5\" class=\"data row2 col5\" >0.7788</td>\n",
       "      <td id=\"T_cf723_row2_col6\" class=\"data row2 col6\" >0.7984</td>\n",
       "    </tr>\n",
       "    <tr>\n",
       "      <th id=\"T_cf723_level0_row3\" class=\"row_heading level0 row3\" >3</th>\n",
       "      <td id=\"T_cf723_row3_col0\" class=\"data row3 col0\" >0.9215</td>\n",
       "      <td id=\"T_cf723_row3_col1\" class=\"data row3 col1\" >0.9391</td>\n",
       "      <td id=\"T_cf723_row3_col2\" class=\"data row3 col2\" >0.9215</td>\n",
       "      <td id=\"T_cf723_row3_col3\" class=\"data row3 col3\" >0.9182</td>\n",
       "      <td id=\"T_cf723_row3_col4\" class=\"data row3 col4\" >0.8915</td>\n",
       "      <td id=\"T_cf723_row3_col5\" class=\"data row3 col5\" >0.7774</td>\n",
       "      <td id=\"T_cf723_row3_col6\" class=\"data row3 col6\" >0.7981</td>\n",
       "    </tr>\n",
       "    <tr>\n",
       "      <th id=\"T_cf723_level0_row4\" class=\"row_heading level0 row4\" >4</th>\n",
       "      <td id=\"T_cf723_row4_col0\" class=\"data row4 col0\" >0.9219</td>\n",
       "      <td id=\"T_cf723_row4_col1\" class=\"data row4 col1\" >0.9388</td>\n",
       "      <td id=\"T_cf723_row4_col2\" class=\"data row4 col2\" >0.9219</td>\n",
       "      <td id=\"T_cf723_row4_col3\" class=\"data row4 col3\" >0.9138</td>\n",
       "      <td id=\"T_cf723_row4_col4\" class=\"data row4 col4\" >0.8940</td>\n",
       "      <td id=\"T_cf723_row4_col5\" class=\"data row4 col5\" >0.7795</td>\n",
       "      <td id=\"T_cf723_row4_col6\" class=\"data row4 col6\" >0.7986</td>\n",
       "    </tr>\n",
       "    <tr>\n",
       "      <th id=\"T_cf723_level0_row5\" class=\"row_heading level0 row5\" >5</th>\n",
       "      <td id=\"T_cf723_row5_col0\" class=\"data row5 col0\" >0.9230</td>\n",
       "      <td id=\"T_cf723_row5_col1\" class=\"data row5 col1\" >0.9399</td>\n",
       "      <td id=\"T_cf723_row5_col2\" class=\"data row5 col2\" >0.9230</td>\n",
       "      <td id=\"T_cf723_row5_col3\" class=\"data row5 col3\" >0.9135</td>\n",
       "      <td id=\"T_cf723_row5_col4\" class=\"data row5 col4\" >0.8972</td>\n",
       "      <td id=\"T_cf723_row5_col5\" class=\"data row5 col5\" >0.7840</td>\n",
       "      <td id=\"T_cf723_row5_col6\" class=\"data row5 col6\" >0.8014</td>\n",
       "    </tr>\n",
       "    <tr>\n",
       "      <th id=\"T_cf723_level0_row6\" class=\"row_heading level0 row6\" >6</th>\n",
       "      <td id=\"T_cf723_row6_col0\" class=\"data row6 col0\" >0.9217</td>\n",
       "      <td id=\"T_cf723_row6_col1\" class=\"data row6 col1\" >0.9366</td>\n",
       "      <td id=\"T_cf723_row6_col2\" class=\"data row6 col2\" >0.9217</td>\n",
       "      <td id=\"T_cf723_row6_col3\" class=\"data row6 col3\" >0.9144</td>\n",
       "      <td id=\"T_cf723_row6_col4\" class=\"data row6 col4\" >0.8937</td>\n",
       "      <td id=\"T_cf723_row6_col5\" class=\"data row6 col5\" >0.7789</td>\n",
       "      <td id=\"T_cf723_row6_col6\" class=\"data row6 col6\" >0.7985</td>\n",
       "    </tr>\n",
       "    <tr>\n",
       "      <th id=\"T_cf723_level0_row7\" class=\"row_heading level0 row7\" >7</th>\n",
       "      <td id=\"T_cf723_row7_col0\" class=\"data row7 col0\" >0.9221</td>\n",
       "      <td id=\"T_cf723_row7_col1\" class=\"data row7 col1\" >0.9379</td>\n",
       "      <td id=\"T_cf723_row7_col2\" class=\"data row7 col2\" >0.9221</td>\n",
       "      <td id=\"T_cf723_row7_col3\" class=\"data row7 col3\" >0.9151</td>\n",
       "      <td id=\"T_cf723_row7_col4\" class=\"data row7 col4\" >0.8940</td>\n",
       "      <td id=\"T_cf723_row7_col5\" class=\"data row7 col5\" >0.7799</td>\n",
       "      <td id=\"T_cf723_row7_col6\" class=\"data row7 col6\" >0.7993</td>\n",
       "    </tr>\n",
       "    <tr>\n",
       "      <th id=\"T_cf723_level0_row8\" class=\"row_heading level0 row8\" >8</th>\n",
       "      <td id=\"T_cf723_row8_col0\" class=\"data row8 col0\" >0.9216</td>\n",
       "      <td id=\"T_cf723_row8_col1\" class=\"data row8 col1\" >0.9366</td>\n",
       "      <td id=\"T_cf723_row8_col2\" class=\"data row8 col2\" >0.9216</td>\n",
       "      <td id=\"T_cf723_row8_col3\" class=\"data row8 col3\" >0.9133</td>\n",
       "      <td id=\"T_cf723_row8_col4\" class=\"data row8 col4\" >0.8935</td>\n",
       "      <td id=\"T_cf723_row8_col5\" class=\"data row8 col5\" >0.7788</td>\n",
       "      <td id=\"T_cf723_row8_col6\" class=\"data row8 col6\" >0.7980</td>\n",
       "    </tr>\n",
       "    <tr>\n",
       "      <th id=\"T_cf723_level0_row9\" class=\"row_heading level0 row9\" >9</th>\n",
       "      <td id=\"T_cf723_row9_col0\" class=\"data row9 col0\" >0.9215</td>\n",
       "      <td id=\"T_cf723_row9_col1\" class=\"data row9 col1\" >0.9388</td>\n",
       "      <td id=\"T_cf723_row9_col2\" class=\"data row9 col2\" >0.9215</td>\n",
       "      <td id=\"T_cf723_row9_col3\" class=\"data row9 col3\" >0.9132</td>\n",
       "      <td id=\"T_cf723_row9_col4\" class=\"data row9 col4\" >0.8934</td>\n",
       "      <td id=\"T_cf723_row9_col5\" class=\"data row9 col5\" >0.7784</td>\n",
       "      <td id=\"T_cf723_row9_col6\" class=\"data row9 col6\" >0.7976</td>\n",
       "    </tr>\n",
       "    <tr>\n",
       "      <th id=\"T_cf723_level0_row10\" class=\"row_heading level0 row10\" >Mean</th>\n",
       "      <td id=\"T_cf723_row10_col0\" class=\"data row10 col0\" >0.9218</td>\n",
       "      <td id=\"T_cf723_row10_col1\" class=\"data row10 col1\" >0.9379</td>\n",
       "      <td id=\"T_cf723_row10_col2\" class=\"data row10 col2\" >0.9218</td>\n",
       "      <td id=\"T_cf723_row10_col3\" class=\"data row10 col3\" >0.9147</td>\n",
       "      <td id=\"T_cf723_row10_col4\" class=\"data row10 col4\" >0.8934</td>\n",
       "      <td id=\"T_cf723_row10_col5\" class=\"data row10 col5\" >0.7790</td>\n",
       "      <td id=\"T_cf723_row10_col6\" class=\"data row10 col6\" >0.7985</td>\n",
       "    </tr>\n",
       "    <tr>\n",
       "      <th id=\"T_cf723_level0_row11\" class=\"row_heading level0 row11\" >Std</th>\n",
       "      <td id=\"T_cf723_row11_col0\" class=\"data row11 col0\" >0.0005</td>\n",
       "      <td id=\"T_cf723_row11_col1\" class=\"data row11 col1\" >0.0013</td>\n",
       "      <td id=\"T_cf723_row11_col2\" class=\"data row11 col2\" >0.0005</td>\n",
       "      <td id=\"T_cf723_row11_col3\" class=\"data row11 col3\" >0.0017</td>\n",
       "      <td id=\"T_cf723_row11_col4\" class=\"data row11 col4\" >0.0017</td>\n",
       "      <td id=\"T_cf723_row11_col5\" class=\"data row11 col5\" >0.0020</td>\n",
       "      <td id=\"T_cf723_row11_col6\" class=\"data row11 col6\" >0.0012</td>\n",
       "    </tr>\n",
       "  </tbody>\n",
       "</table>\n"
      ],
      "text/plain": [
       "<pandas.io.formats.style.Styler at 0x16f24c11550>"
      ]
     },
     "metadata": {},
     "output_type": "display_data"
    },
    {
     "data": {
      "text/html": [],
      "text/plain": [
       "<IPython.core.display.HTML object>"
      ]
     },
     "metadata": {},
     "output_type": "display_data"
    },
    {
     "name": "stdout",
     "output_type": "stream",
     "text": [
      "Fitting 10 folds for each of 10 candidates, totalling 100 fits\n",
      "Original model was better than the tuned model, hence it will be returned. NOTE: The display metrics are for the tuned model (not the original one).\n"
     ]
    }
   ],
   "source": [
    "tuned_best_model = tune_model(best_model)"
   ]
  },
  {
   "cell_type": "code",
   "execution_count": 25,
   "metadata": {
    "colab": {
     "base_uri": "https://localhost:8080/",
     "height": 551
    },
    "executionInfo": {
     "elapsed": 1086,
     "status": "ok",
     "timestamp": 1707149260609,
     "user": {
      "displayName": "Waldyr Turquetti",
      "userId": "16979580399715376846"
     },
     "user_tz": 0
    },
    "id": "h1Jp81j9riee",
    "outputId": "141ea7bd-fffc-4d97-eb4d-0a24839fb0f9"
   },
   "outputs": [
    {
     "data": {
      "text/html": [],
      "text/plain": [
       "<IPython.core.display.HTML object>"
      ]
     },
     "metadata": {},
     "output_type": "display_data"
    },
    {
     "data": {
      "image/png": "[encoded data removed]",
      "text/plain": [
       "<Figure size 800x550 with 1 Axes>"
      ]
     },
     "metadata": {},
     "output_type": "display_data"
    }
   ],
   "source": [
    "plot_model(tuned_best_model, plot = 'confusion_matrix', plot_kwargs = {'percent' : True})"
   ]
  },
  {
   "cell_type": "code",
   "execution_count": 26,
   "metadata": {
    "executionInfo": {
     "elapsed": 8,
     "status": "ok",
     "timestamp": 1707149260609,
     "user": {
      "displayName": "Waldyr Turquetti",
      "userId": "16979580399715376846"
     },
     "user_tz": 0
    },
    "id": "mznEmWG78B5V"
   },
   "outputs": [],
   "source": [
    "# result_tuned_best_model = predict_model(tuned_best_model, data=test)"
   ]
  },
  {
   "cell_type": "code",
   "execution_count": 27,
   "metadata": {
    "executionInfo": {
     "elapsed": 9,
     "status": "ok",
     "timestamp": 1707149260611,
     "user": {
      "displayName": "Waldyr Turquetti",
      "userId": "16979580399715376846"
     },
     "user_tz": 0
    },
    "id": "H053ZfgMAmCE"
   },
   "outputs": [],
   "source": [
    "# matrix = confusion_matrix(result_tuned_best_model['Consumer_type'], result_tuned_best_model['prediction_label'])\n",
    "# sns.heatmap(matrix, annot=True)"
   ]
  },
  {
   "cell_type": "code",
   "execution_count": 28,
   "metadata": {
    "colab": {
     "base_uri": "https://localhost:8080/",
     "height": 80
    },
    "executionInfo": {
     "elapsed": 8,
     "status": "ok",
     "timestamp": 1707149260611,
     "user": {
      "displayName": "Waldyr Turquetti",
      "userId": "16979580399715376846"
     },
     "user_tz": 0
    },
    "id": "hPnABvILF3aL",
    "outputId": "5e2f74ad-b275-432c-e135-c4735cc69d59"
   },
   "outputs": [
    {
     "data": {
      "text/html": [
       "<style type=\"text/css\">\n",
       "</style>\n",
       "<table id=\"T_cf783\">\n",
       "  <thead>\n",
       "    <tr>\n",
       "      <th class=\"blank level0\" >&nbsp;</th>\n",
       "      <th id=\"T_cf783_level0_col0\" class=\"col_heading level0 col0\" >Model</th>\n",
       "      <th id=\"T_cf783_level0_col1\" class=\"col_heading level0 col1\" >Accuracy</th>\n",
       "      <th id=\"T_cf783_level0_col2\" class=\"col_heading level0 col2\" >AUC</th>\n",
       "      <th id=\"T_cf783_level0_col3\" class=\"col_heading level0 col3\" >Recall</th>\n",
       "      <th id=\"T_cf783_level0_col4\" class=\"col_heading level0 col4\" >Prec.</th>\n",
       "      <th id=\"T_cf783_level0_col5\" class=\"col_heading level0 col5\" >F1</th>\n",
       "      <th id=\"T_cf783_level0_col6\" class=\"col_heading level0 col6\" >Kappa</th>\n",
       "      <th id=\"T_cf783_level0_col7\" class=\"col_heading level0 col7\" >MCC</th>\n",
       "    </tr>\n",
       "  </thead>\n",
       "  <tbody>\n",
       "    <tr>\n",
       "      <th id=\"T_cf783_level0_row0\" class=\"row_heading level0 row0\" >0</th>\n",
       "      <td id=\"T_cf783_row0_col0\" class=\"data row0 col0\" >Decision Tree Classifier</td>\n",
       "      <td id=\"T_cf783_row0_col1\" class=\"data row0 col1\" >0.4191</td>\n",
       "      <td id=\"T_cf783_row0_col2\" class=\"data row0 col2\" >0.6616</td>\n",
       "      <td id=\"T_cf783_row0_col3\" class=\"data row0 col3\" >0.4191</td>\n",
       "      <td id=\"T_cf783_row0_col4\" class=\"data row0 col4\" >0.5604</td>\n",
       "      <td id=\"T_cf783_row0_col5\" class=\"data row0 col5\" >0.3544</td>\n",
       "      <td id=\"T_cf783_row0_col6\" class=\"data row0 col6\" >0.3223</td>\n",
       "      <td id=\"T_cf783_row0_col7\" class=\"data row0 col7\" >0.3675</td>\n",
       "    </tr>\n",
       "  </tbody>\n",
       "</table>\n"
      ],
      "text/plain": [
       "<pandas.io.formats.style.Styler at 0x16f27527090>"
      ]
     },
     "metadata": {},
     "output_type": "display_data"
    }
   ],
   "source": [
    "result_tuned_best_model = predict_model(tuned_best_model, data=test2)"
   ]
  },
  {
   "cell_type": "code",
   "execution_count": 29,
   "metadata": {
    "colab": {
     "base_uri": "https://localhost:8080/",
     "height": 0
    },
    "executionInfo": {
     "elapsed": 788,
     "status": "ok",
     "timestamp": 1707149261393,
     "user": {
      "displayName": "Waldyr Turquetti",
      "userId": "16979580399715376846"
     },
     "user_tz": 0
    },
    "id": "rRsjXrn_F4uf",
    "outputId": "529ba9b3-cc69-4f4a-808a-14f3cc57d2c4"
   },
   "outputs": [
    {
     "data": {
      "text/plain": [
       "<AxesSubplot: >"
      ]
     },
     "execution_count": 29,
     "metadata": {},
     "output_type": "execute_result"
    },
    {
     "data": {
      "image/png": "[encoded data removed]",
      "text/plain": [
       "<Figure size 800x550 with 2 Axes>"
      ]
     },
     "metadata": {},
     "output_type": "display_data"
    }
   ],
   "source": [
    "matrix = confusion_matrix(result_tuned_best_model['Consumer_type'], result_tuned_best_model['prediction_label'])\n",
    "sns.heatmap(matrix, annot=True)"
   ]
  },
  {
   "cell_type": "code",
   "execution_count": 30,
   "metadata": {
    "colab": {
     "base_uri": "https://localhost:8080/",
     "height": 215,
     "referenced_widgets": [
      "e379df46ce084229a436f477ef3585d5",
      "d8a9eaaa1c924e80ad06093481d02d0f",
      "546e94721fa946ae97640f0f1dd69a5f",
      "2bb808948f1d4479bbcee3fd272a4de4",
      "2c36698956244562840f3df60285248d",
      "9f80d08e2f284da196589a168b8b3eed",
      "cb5c6128fa724973b67853180cc30102"
     ]
    },
    "executionInfo": {
     "elapsed": 742,
     "status": "ok",
     "timestamp": 1707149262127,
     "user": {
      "displayName": "Waldyr Turquetti",
      "userId": "16979580399715376846"
     },
     "user_tz": 0
    },
    "id": "3FE9IEaU7sYn",
    "outputId": "5f73e8d4-6362-457b-b29c-0e879ddf10b0"
   },
   "outputs": [
    {
     "data": {
      "application/vnd.jupyter.widget-view+json": {
       "model_id": "615cf4e2e94c4580a9860d8f262add08",
       "version_major": 2,
       "version_minor": 0
      },
      "text/plain": [
       "interactive(children=(ToggleButtons(description='Plot Type:', icons=('',), options=(('Pipeline Plot', 'pipelin…"
      ]
     },
     "metadata": {},
     "output_type": "display_data"
    }
   ],
   "source": [
    "evaluate_model(best_model)"
   ]
  },
  {
   "cell_type": "code",
   "execution_count": 31,
   "metadata": {
    "colab": {
     "base_uri": "https://localhost:8080/",
     "height": 215,
     "referenced_widgets": [
      "2ffac9f3e9d7417cbe43186991572b2f",
      "9394cbbe225640f9956fe289257b93f8",
      "aef62bdaef0249518edaa4450f5ff8a1",
      "da4644b6e60c4bf78f69115f3753913b",
      "da1e038c3eb94dc2b372e2d242b2d993",
      "efedfce820ab44749d6bd4db45a15ebe",
      "b9183ffde1f442f69902c39f533073dc"
     ]
    },
    "executionInfo": {
     "elapsed": 14,
     "status": "ok",
     "timestamp": 1707149262127,
     "user": {
      "displayName": "Waldyr Turquetti",
      "userId": "16979580399715376846"
     },
     "user_tz": 0
    },
    "id": "gau5mxNl7j4E",
    "outputId": "df388d57-c2a5-471c-98ad-ca429ce9180c"
   },
   "outputs": [
    {
     "data": {
      "application/vnd.jupyter.widget-view+json": {
       "model_id": "62590f1e3c054e33b54f5b82d9ed809c",
       "version_major": 2,
       "version_minor": 0
      },
      "text/plain": [
       "interactive(children=(ToggleButtons(description='Plot Type:', icons=('',), options=(('Pipeline Plot', 'pipelin…"
      ]
     },
     "metadata": {},
     "output_type": "display_data"
    }
   ],
   "source": [
    "evaluate_model(tuned_best_model)"
   ]
  },
  {
   "cell_type": "code",
   "execution_count": 32,
   "metadata": {
    "executionInfo": {
     "elapsed": 12,
     "status": "ok",
     "timestamp": 1707149262127,
     "user": {
      "displayName": "Waldyr Turquetti",
      "userId": "16979580399715376846"
     },
     "user_tz": 0
    },
    "id": "Oe0HMTHndwWJ"
   },
   "outputs": [],
   "source": [
    "# save_model(best_model, 'best_model')\n",
    "# save_model(tuned_best_model, 'tuned_best_model')"
   ]
  },
  {
   "cell_type": "code",
   "execution_count": 33,
   "metadata": {
    "executionInfo": {
     "elapsed": 11,
     "status": "ok",
     "timestamp": 1707149262127,
     "user": {
      "displayName": "Waldyr Turquetti",
      "userId": "16979580399715376846"
     },
     "user_tz": 0
    },
    "id": "_39pndgsuzHE"
   },
   "outputs": [],
   "source": [
    "competition = pd.read_csv(\"competition.csv\")"
   ]
  },
  {
   "cell_type": "code",
   "execution_count": 34,
   "metadata": {
    "colab": {
     "base_uri": "https://localhost:8080/",
     "height": 206
    },
    "executionInfo": {
     "elapsed": 11,
     "status": "ok",
     "timestamp": 1707149262127,
     "user": {
      "displayName": "Waldyr Turquetti",
      "userId": "16979580399715376846"
     },
     "user_tz": 0
    },
    "id": "Wm2igEACpIpa",
    "outputId": "f670ce5b-a2ab-40c4-edc1-719b73a52a49"
   },
   "outputs": [
    {
     "data": {
      "text/html": [
       "<div>\n",
       "<style scoped>\n",
       "    .dataframe tbody tr th:only-of-type {\n",
       "        vertical-align: middle;\n",
       "    }\n",
       "\n",
       "    .dataframe tbody tr th {\n",
       "        vertical-align: top;\n",
       "    }\n",
       "\n",
       "    .dataframe thead th {\n",
       "        text-align: right;\n",
       "    }\n",
       "</style>\n",
       "<table border=\"1\" class=\"dataframe\">\n",
       "  <thead>\n",
       "    <tr style=\"text-align: right;\">\n",
       "      <th></th>\n",
       "      <th>Year</th>\n",
       "      <th>Month</th>\n",
       "      <th>Consumption</th>\n",
       "      <th>Consumer_number</th>\n",
       "      <th>Installation_zone</th>\n",
       "    </tr>\n",
       "  </thead>\n",
       "  <tbody>\n",
       "    <tr>\n",
       "      <th>0</th>\n",
       "      <td>2013</td>\n",
       "      <td>1</td>\n",
       "      <td>1</td>\n",
       "      <td>VENX08444954462680</td>\n",
       "      <td>Installation_zone 1</td>\n",
       "    </tr>\n",
       "    <tr>\n",
       "      <th>1</th>\n",
       "      <td>2013</td>\n",
       "      <td>1</td>\n",
       "      <td>2</td>\n",
       "      <td>GRXC33020746550125</td>\n",
       "      <td>Installation_zone 1</td>\n",
       "    </tr>\n",
       "    <tr>\n",
       "      <th>2</th>\n",
       "      <td>2013</td>\n",
       "      <td>1</td>\n",
       "      <td>1</td>\n",
       "      <td>FCGQ19814303536339</td>\n",
       "      <td>Installation_zone 1</td>\n",
       "    </tr>\n",
       "    <tr>\n",
       "      <th>3</th>\n",
       "      <td>2013</td>\n",
       "      <td>1</td>\n",
       "      <td>5</td>\n",
       "      <td>EQKL85694875580467</td>\n",
       "      <td>Installation_zone 3</td>\n",
       "    </tr>\n",
       "    <tr>\n",
       "      <th>4</th>\n",
       "      <td>2013</td>\n",
       "      <td>1</td>\n",
       "      <td>14</td>\n",
       "      <td>KCXW91343862250032</td>\n",
       "      <td>Installation_zone 3</td>\n",
       "    </tr>\n",
       "  </tbody>\n",
       "</table>\n",
       "</div>"
      ],
      "text/plain": [
       "   Year  Month  Consumption     Consumer_number    Installation_zone\n",
       "0  2013      1            1  VENX08444954462680  Installation_zone 1\n",
       "1  2013      1            2  GRXC33020746550125  Installation_zone 1\n",
       "2  2013      1            1  FCGQ19814303536339  Installation_zone 1\n",
       "3  2013      1            5  EQKL85694875580467  Installation_zone 3\n",
       "4  2013      1           14  KCXW91343862250032  Installation_zone 3"
      ]
     },
     "execution_count": 34,
     "metadata": {},
     "output_type": "execute_result"
    }
   ],
   "source": [
    "competition.head()"
   ]
  },
  {
   "cell_type": "code",
   "execution_count": 35,
   "metadata": {
    "executionInfo": {
     "elapsed": 8,
     "status": "ok",
     "timestamp": 1707149262127,
     "user": {
      "displayName": "Waldyr Turquetti",
      "userId": "16979580399715376846"
     },
     "user_tz": 0
    },
    "id": "Rb3a1Fe1vIr7"
   },
   "outputs": [],
   "source": [
    "competition['mean_consumption'] = competition.groupby('Consumer_number')['Consumption'].transform('mean')\n",
    "competition['consumption_count'] = competition.groupby('Consumer_number')['Consumption'].transform('count')\n",
    "\n",
    "consumer_number = competition['Consumer_number']\n",
    "competition = competition.drop('Consumer_number', axis=1)"
   ]
  },
  {
   "cell_type": "code",
   "execution_count": 36,
   "metadata": {
    "colab": {
     "base_uri": "https://localhost:8080/",
     "height": 0
    },
    "executionInfo": {
     "elapsed": 18,
     "status": "ok",
     "timestamp": 1707149262590,
     "user": {
      "displayName": "Waldyr Turquetti",
      "userId": "16979580399715376846"
     },
     "user_tz": 0
    },
    "id": "85IYWYiJvPdz",
    "outputId": "4ff35fbe-77e9-4d4d-80b2-b7795011f52b"
   },
   "outputs": [
    {
     "data": {
      "text/html": [
       "<div>\n",
       "<style scoped>\n",
       "    .dataframe tbody tr th:only-of-type {\n",
       "        vertical-align: middle;\n",
       "    }\n",
       "\n",
       "    .dataframe tbody tr th {\n",
       "        vertical-align: top;\n",
       "    }\n",
       "\n",
       "    .dataframe thead th {\n",
       "        text-align: right;\n",
       "    }\n",
       "</style>\n",
       "<table border=\"1\" class=\"dataframe\">\n",
       "  <thead>\n",
       "    <tr style=\"text-align: right;\">\n",
       "      <th></th>\n",
       "      <th>Year</th>\n",
       "      <th>Month</th>\n",
       "      <th>Consumption</th>\n",
       "      <th>Installation_zone</th>\n",
       "      <th>mean_consumption</th>\n",
       "      <th>consumption_count</th>\n",
       "    </tr>\n",
       "  </thead>\n",
       "  <tbody>\n",
       "    <tr>\n",
       "      <th>0</th>\n",
       "      <td>2013</td>\n",
       "      <td>1</td>\n",
       "      <td>1</td>\n",
       "      <td>Installation_zone 1</td>\n",
       "      <td>1.250000</td>\n",
       "      <td>4</td>\n",
       "    </tr>\n",
       "    <tr>\n",
       "      <th>1</th>\n",
       "      <td>2013</td>\n",
       "      <td>1</td>\n",
       "      <td>2</td>\n",
       "      <td>Installation_zone 1</td>\n",
       "      <td>1.695652</td>\n",
       "      <td>23</td>\n",
       "    </tr>\n",
       "    <tr>\n",
       "      <th>2</th>\n",
       "      <td>2013</td>\n",
       "      <td>1</td>\n",
       "      <td>1</td>\n",
       "      <td>Installation_zone 1</td>\n",
       "      <td>3.000000</td>\n",
       "      <td>8</td>\n",
       "    </tr>\n",
       "    <tr>\n",
       "      <th>3</th>\n",
       "      <td>2013</td>\n",
       "      <td>1</td>\n",
       "      <td>5</td>\n",
       "      <td>Installation_zone 3</td>\n",
       "      <td>2.750000</td>\n",
       "      <td>8</td>\n",
       "    </tr>\n",
       "    <tr>\n",
       "      <th>4</th>\n",
       "      <td>2013</td>\n",
       "      <td>1</td>\n",
       "      <td>14</td>\n",
       "      <td>Installation_zone 3</td>\n",
       "      <td>11.761905</td>\n",
       "      <td>21</td>\n",
       "    </tr>\n",
       "  </tbody>\n",
       "</table>\n",
       "</div>"
      ],
      "text/plain": [
       "   Year  Month  Consumption    Installation_zone  mean_consumption  \\\n",
       "0  2013      1            1  Installation_zone 1          1.250000   \n",
       "1  2013      1            2  Installation_zone 1          1.695652   \n",
       "2  2013      1            1  Installation_zone 1          3.000000   \n",
       "3  2013      1            5  Installation_zone 3          2.750000   \n",
       "4  2013      1           14  Installation_zone 3         11.761905   \n",
       "\n",
       "   consumption_count  \n",
       "0                  4  \n",
       "1                 23  \n",
       "2                  8  \n",
       "3                  8  \n",
       "4                 21  "
      ]
     },
     "execution_count": 36,
     "metadata": {},
     "output_type": "execute_result"
    }
   ],
   "source": [
    "competition.head()"
   ]
  },
  {
   "cell_type": "code",
   "execution_count": 37,
   "metadata": {
    "colab": {
     "base_uri": "https://localhost:8080/",
     "height": 0
    },
    "executionInfo": {
     "elapsed": 16,
     "status": "ok",
     "timestamp": 1707149262590,
     "user": {
      "displayName": "Waldyr Turquetti",
      "userId": "16979580399715376846"
     },
     "user_tz": 0
    },
    "id": "isJG1JFLvF9X",
    "outputId": "85495c27-46e4-48d4-e816-264db80b0b15"
   },
   "outputs": [
    {
     "data": {
      "text/html": [],
      "text/plain": [
       "<IPython.core.display.HTML object>"
      ]
     },
     "metadata": {},
     "output_type": "display_data"
    }
   ],
   "source": [
    "result_competition = predict_model(tuned_best_model, data=competition)\n",
    "\n",
    "result_competition = result_competition.rename(columns={'prediction_label': 'Consumer_type'})\n",
    "\n",
    "result_competition = result_competition.drop('consumption_count', axis=1)\n",
    "result_competition = result_competition.drop('mean_consumption', axis=1)\n",
    "result_competition = result_competition.drop('prediction_score', axis=1)\n",
    "\n",
    "result_competition['Consumer_number'] = consumer_number"
   ]
  },
  {
   "cell_type": "code",
   "execution_count": 38,
   "metadata": {
    "colab": {
     "base_uri": "https://localhost:8080/",
     "height": 0
    },
    "executionInfo": {
     "elapsed": 15,
     "status": "ok",
     "timestamp": 1707149262591,
     "user": {
      "displayName": "Waldyr Turquetti",
      "userId": "16979580399715376846"
     },
     "user_tz": 0
    },
    "id": "nuQZGrMwvX1S",
    "outputId": "3458db78-e28b-43bb-a3a8-bc4c9b1bb941"
   },
   "outputs": [
    {
     "data": {
      "text/html": [
       "<div>\n",
       "<style scoped>\n",
       "    .dataframe tbody tr th:only-of-type {\n",
       "        vertical-align: middle;\n",
       "    }\n",
       "\n",
       "    .dataframe tbody tr th {\n",
       "        vertical-align: top;\n",
       "    }\n",
       "\n",
       "    .dataframe thead th {\n",
       "        text-align: right;\n",
       "    }\n",
       "</style>\n",
       "<table border=\"1\" class=\"dataframe\">\n",
       "  <thead>\n",
       "    <tr style=\"text-align: right;\">\n",
       "      <th></th>\n",
       "      <th>Year</th>\n",
       "      <th>Month</th>\n",
       "      <th>Consumption</th>\n",
       "      <th>Installation_zone</th>\n",
       "      <th>Consumer_type</th>\n",
       "      <th>Consumer_number</th>\n",
       "    </tr>\n",
       "  </thead>\n",
       "  <tbody>\n",
       "    <tr>\n",
       "      <th>0</th>\n",
       "      <td>2013</td>\n",
       "      <td>1</td>\n",
       "      <td>1</td>\n",
       "      <td>Installation_zone 1</td>\n",
       "      <td>industrial</td>\n",
       "      <td>VENX08444954462680</td>\n",
       "    </tr>\n",
       "    <tr>\n",
       "      <th>1</th>\n",
       "      <td>2013</td>\n",
       "      <td>1</td>\n",
       "      <td>2</td>\n",
       "      <td>Installation_zone 1</td>\n",
       "      <td>domestic</td>\n",
       "      <td>GRXC33020746550125</td>\n",
       "    </tr>\n",
       "    <tr>\n",
       "      <th>2</th>\n",
       "      <td>2013</td>\n",
       "      <td>1</td>\n",
       "      <td>1</td>\n",
       "      <td>Installation_zone 1</td>\n",
       "      <td>domestic</td>\n",
       "      <td>FCGQ19814303536339</td>\n",
       "    </tr>\n",
       "    <tr>\n",
       "      <th>3</th>\n",
       "      <td>2013</td>\n",
       "      <td>1</td>\n",
       "      <td>5</td>\n",
       "      <td>Installation_zone 3</td>\n",
       "      <td>domestic</td>\n",
       "      <td>EQKL85694875580467</td>\n",
       "    </tr>\n",
       "    <tr>\n",
       "      <th>4</th>\n",
       "      <td>2013</td>\n",
       "      <td>1</td>\n",
       "      <td>14</td>\n",
       "      <td>Installation_zone 3</td>\n",
       "      <td>domestic</td>\n",
       "      <td>KCXW91343862250032</td>\n",
       "    </tr>\n",
       "  </tbody>\n",
       "</table>\n",
       "</div>"
      ],
      "text/plain": [
       "   Year  Month  Consumption    Installation_zone Consumer_type  \\\n",
       "0  2013      1            1  Installation_zone 1    industrial   \n",
       "1  2013      1            2  Installation_zone 1      domestic   \n",
       "2  2013      1            1  Installation_zone 1      domestic   \n",
       "3  2013      1            5  Installation_zone 3      domestic   \n",
       "4  2013      1           14  Installation_zone 3      domestic   \n",
       "\n",
       "      Consumer_number  \n",
       "0  VENX08444954462680  \n",
       "1  GRXC33020746550125  \n",
       "2  FCGQ19814303536339  \n",
       "3  EQKL85694875580467  \n",
       "4  KCXW91343862250032  "
      ]
     },
     "execution_count": 38,
     "metadata": {},
     "output_type": "execute_result"
    }
   ],
   "source": [
    "result_competition.head()"
   ]
  },
  {
   "cell_type": "code",
   "execution_count": 39,
   "metadata": {
    "colab": {
     "base_uri": "https://localhost:8080/",
     "height": 0
    },
    "executionInfo": {
     "elapsed": 575,
     "status": "ok",
     "timestamp": 1707149263153,
     "user": {
      "displayName": "Waldyr Turquetti",
      "userId": "16979580399715376846"
     },
     "user_tz": 0
    },
    "id": "5KWa4HTlpain",
    "outputId": "193c29e8-79b9-4b03-d505-27721fcd40f9"
   },
   "outputs": [
    {
     "data": {
      "text/plain": [
       "Text(0.5, 1.0, 'Count of Consumer_type')"
      ]
     },
     "execution_count": 39,
     "metadata": {},
     "output_type": "execute_result"
    },
    {
     "data": {
      "image/png": "[encoded data removed]",
      "text/plain": [
       "<Figure size 800x550 with 1 Axes>"
      ]
     },
     "metadata": {},
     "output_type": "display_data"
    }
   ],
   "source": [
    "result_competition['Consumer_type'].value_counts().plot(kind='bar')\n",
    "\n",
    "plt.xlabel('Consumer_type')\n",
    "plt.ylabel('Count')\n",
    "plt.title('Count of Consumer_type')"
   ]
  },
  {
   "cell_type": "code",
   "execution_count": 40,
   "metadata": {
    "executionInfo": {
     "elapsed": 13,
     "status": "ok",
     "timestamp": 1707149263153,
     "user": {
      "displayName": "Waldyr Turquetti",
      "userId": "16979580399715376846"
     },
     "user_tz": 0
    },
    "id": "OVjJOjdirq0l"
   },
   "outputs": [],
   "source": [
    "result_competition.to_csv('competition_v3', index=False)"
   ]
  },
  {
   "cell_type": "code",
   "execution_count": 41,
   "metadata": {
    "colab": {
     "base_uri": "https://localhost:8080/",
     "height": 0
    },
    "executionInfo": {
     "elapsed": 12,
     "status": "ok",
     "timestamp": 1707149263153,
     "user": {
      "displayName": "Waldyr Turquetti",
      "userId": "16979580399715376846"
     },
     "user_tz": 0
    },
    "id": "H9S73tlQdHr_",
    "outputId": "0a58aadb-e861-492c-e324-d959d49eaf66"
   },
   "outputs": [
    {
     "data": {
      "text/html": [],
      "text/plain": [
       "<IPython.core.display.HTML object>"
      ]
     },
     "metadata": {},
     "output_type": "display_data"
    }
   ],
   "source": [
    "result_competition = predict_model(tuned_best_model, data=competition)\n",
    "\n",
    "result_competition = result_competition.rename(columns={'prediction_label': 'Consumer_type'})\n",
    "\n",
    "result_competition = result_competition.drop('consumption_count', axis=1)\n",
    "result_competition = result_competition.drop('mean_consumption', axis=1)\n",
    "result_competition = result_competition.drop('prediction_score', axis=1)"
   ]
  },
  {
   "cell_type": "code",
   "execution_count": 42,
   "metadata": {
    "colab": {
     "base_uri": "https://localhost:8080/",
     "height": 0
    },
    "executionInfo": {
     "elapsed": 10,
     "status": "ok",
     "timestamp": 1707149263153,
     "user": {
      "displayName": "Waldyr Turquetti",
      "userId": "16979580399715376846"
     },
     "user_tz": 0
    },
    "id": "9UwtNH95dRDx",
    "outputId": "cde77be7-022c-4bce-d520-7350229bb94c"
   },
   "outputs": [
    {
     "data": {
      "text/html": [
       "<div>\n",
       "<style scoped>\n",
       "    .dataframe tbody tr th:only-of-type {\n",
       "        vertical-align: middle;\n",
       "    }\n",
       "\n",
       "    .dataframe tbody tr th {\n",
       "        vertical-align: top;\n",
       "    }\n",
       "\n",
       "    .dataframe thead th {\n",
       "        text-align: right;\n",
       "    }\n",
       "</style>\n",
       "<table border=\"1\" class=\"dataframe\">\n",
       "  <thead>\n",
       "    <tr style=\"text-align: right;\">\n",
       "      <th></th>\n",
       "      <th>Year</th>\n",
       "      <th>Month</th>\n",
       "      <th>Consumption</th>\n",
       "      <th>Installation_zone</th>\n",
       "      <th>Consumer_type</th>\n",
       "    </tr>\n",
       "  </thead>\n",
       "  <tbody>\n",
       "    <tr>\n",
       "      <th>0</th>\n",
       "      <td>2013</td>\n",
       "      <td>1</td>\n",
       "      <td>1</td>\n",
       "      <td>Installation_zone 1</td>\n",
       "      <td>industrial</td>\n",
       "    </tr>\n",
       "    <tr>\n",
       "      <th>1</th>\n",
       "      <td>2013</td>\n",
       "      <td>1</td>\n",
       "      <td>2</td>\n",
       "      <td>Installation_zone 1</td>\n",
       "      <td>domestic</td>\n",
       "    </tr>\n",
       "    <tr>\n",
       "      <th>2</th>\n",
       "      <td>2013</td>\n",
       "      <td>1</td>\n",
       "      <td>1</td>\n",
       "      <td>Installation_zone 1</td>\n",
       "      <td>domestic</td>\n",
       "    </tr>\n",
       "    <tr>\n",
       "      <th>3</th>\n",
       "      <td>2013</td>\n",
       "      <td>1</td>\n",
       "      <td>5</td>\n",
       "      <td>Installation_zone 3</td>\n",
       "      <td>domestic</td>\n",
       "    </tr>\n",
       "    <tr>\n",
       "      <th>4</th>\n",
       "      <td>2013</td>\n",
       "      <td>1</td>\n",
       "      <td>14</td>\n",
       "      <td>Installation_zone 3</td>\n",
       "      <td>domestic</td>\n",
       "    </tr>\n",
       "  </tbody>\n",
       "</table>\n",
       "</div>"
      ],
      "text/plain": [
       "   Year  Month  Consumption    Installation_zone Consumer_type\n",
       "0  2013      1            1  Installation_zone 1    industrial\n",
       "1  2013      1            2  Installation_zone 1      domestic\n",
       "2  2013      1            1  Installation_zone 1      domestic\n",
       "3  2013      1            5  Installation_zone 3      domestic\n",
       "4  2013      1           14  Installation_zone 3      domestic"
      ]
     },
     "execution_count": 42,
     "metadata": {},
     "output_type": "execute_result"
    }
   ],
   "source": [
    "result_competition.head()"
   ]
  },
  {
   "cell_type": "code",
   "execution_count": 43,
   "metadata": {
    "colab": {
     "base_uri": "https://localhost:8080/",
     "height": 0
    },
    "executionInfo": {
     "elapsed": 524,
     "status": "ok",
     "timestamp": 1707149263669,
     "user": {
      "displayName": "Waldyr Turquetti",
      "userId": "16979580399715376846"
     },
     "user_tz": 0
    },
    "id": "n3m2U7QodQlj",
    "outputId": "9928c667-3d47-4e00-d4c7-f4ede9190686"
   },
   "outputs": [
    {
     "data": {
      "text/plain": [
       "Text(0.5, 1.0, 'Count of Consumer_type')"
      ]
     },
     "execution_count": 43,
     "metadata": {},
     "output_type": "execute_result"
    },
    {
     "data": {
      "image/png": "[encoded data removed]",
      "text/plain": [
       "<Figure size 800x550 with 1 Axes>"
      ]
     },
     "metadata": {},
     "output_type": "display_data"
    }
   ],
   "source": [
    "result_competition['Consumer_type'].value_counts().plot(kind='bar')\n",
    "\n",
    "plt.xlabel('Consumer_type')\n",
    "plt.ylabel('Count')\n",
    "plt.title('Count of Consumer_type')"
   ]
  }
 ],
 "metadata": {
  "colab": {
   "authorship_tag": "ABX9TyPmCYCzyBJt2XOKgJmC6Cw+",
   "provenance": []
  },
  "kernelspec": {
   "display_name": "Python 3 (ipykernel)",
   "language": "python",
   "name": "python3"
  },
  "language_info": {
   "codemirror_mode": {
    "name": "ipython",
    "version": 3
   },
   "file_extension": ".py",
   "mimetype": "text/x-python",
   "name": "python",
   "nbconvert_exporter": "python",
   "pygments_lexer": "ipython3",
   "version": "3.11.5"
  },
  "widgets": {
   "application/vnd.jupyter.widget-state+json": {
    "07c9d5582f354ba99eb6b89346c66ed4": {
     "model_module": "@jupyter-widgets/base",
     "model_module_version": "1.2.0",
     "model_name": "LayoutModel",
     "state": {
      "_model_module": "@jupyter-widgets/base",
      "_model_module_version": "1.2.0",
      "_model_name": "LayoutModel",
      "_view_count": null,
      "_view_module": "@jupyter-widgets/base",
      "_view_module_version": "1.2.0",
      "_view_name": "LayoutView",
      "align_content": null,
      "align_items": null,
      "align_self": null,
      "border": null,
      "bottom": null,
      "display": null,
      "flex": null,
      "flex_flow": null,
      "grid_area": null,
      "grid_auto_columns": null,
      "grid_auto_flow": null,
      "grid_auto_rows": null,
      "grid_column": null,
      "grid_gap": null,
      "grid_row": null,
      "grid_template_areas": null,
      "grid_template_columns": null,
      "grid_template_rows": null,
      "height": null,
      "justify_content": null,
      "justify_items": null,
      "left": null,
      "margin": null,
      "max_height": null,
      "max_width": null,
      "min_height": null,
      "min_width": null,
      "object_fit": null,
      "object_position": null,
      "order": null,
      "overflow": null,
      "overflow_x": null,
      "overflow_y": null,
      "padding": null,
      "right": null,
      "top": null,
      "visibility": null,
      "width": null
     }
    },
    "0c60193a62a041a9adab87fb26c5070f": {
     "model_module": "@jupyter-widgets/controls",
     "model_module_version": "1.5.0",
     "model_name": "ProgressStyleModel",
     "state": {
      "_model_module": "@jupyter-widgets/controls",
      "_model_module_version": "1.5.0",
      "_model_name": "ProgressStyleModel",
      "_view_count": null,
      "_view_module": "@jupyter-widgets/base",
      "_view_module_version": "1.2.0",
      "_view_name": "StyleView",
      "bar_color": null,
      "description_width": ""
     }
    },
    "10f3c14b57af40a1a321eb0b6d8a4531": {
     "model_module": "@jupyter-widgets/controls",
     "model_module_version": "1.5.0",
     "model_name": "HTMLModel",
     "state": {
      "_dom_classes": [],
      "_model_module": "@jupyter-widgets/controls",
      "_model_module_version": "1.5.0",
      "_model_name": "HTMLModel",
      "_view_count": null,
      "_view_module": "@jupyter-widgets/controls",
      "_view_module_version": "1.5.0",
      "_view_name": "HTMLView",
      "description": "",
      "description_tooltip": null,
      "layout": "IPY_MODEL_07c9d5582f354ba99eb6b89346c66ed4",
      "placeholder": "​",
      "style": "IPY_MODEL_ec64e908d4614d4daf6079dbbe044328",
      "value": " 65/65 [43:27&lt;00:00, 13.83s/it]"
     }
    },
    "17dbc69b5cac4f09ac86cf57701508f6": {
     "model_module": "@jupyter-widgets/controls",
     "model_module_version": "1.5.0",
     "model_name": "HTMLModel",
     "state": {
      "_dom_classes": [],
      "_model_module": "@jupyter-widgets/controls",
      "_model_module_version": "1.5.0",
      "_model_name": "HTMLModel",
      "_view_count": null,
      "_view_module": "@jupyter-widgets/controls",
      "_view_module_version": "1.5.0",
      "_view_name": "HTMLView",
      "description": "",
      "description_tooltip": null,
      "layout": "IPY_MODEL_c7cc0a785f0f48a4912a3dc8710df0b9",
      "placeholder": "​",
      "style": "IPY_MODEL_f02197c0c7a04fdbb69d564016a64a74",
      "value": "Processing: 100%"
     }
    },
    "1d102da918ef49b8ae855bf4bbff7247": {
     "model_module": "@jupyter-widgets/controls",
     "model_module_version": "1.5.0",
     "model_name": "HBoxModel",
     "state": {
      "_dom_classes": [],
      "_model_module": "@jupyter-widgets/controls",
      "_model_module_version": "1.5.0",
      "_model_name": "HBoxModel",
      "_view_count": null,
      "_view_module": "@jupyter-widgets/controls",
      "_view_module_version": "1.5.0",
      "_view_name": "HBoxView",
      "box_style": "",
      "children": [
       "IPY_MODEL_9540afc6d18549aa91855e36b95339bd",
       "IPY_MODEL_f8d915e10cd34c89a16f25c0df0475db",
       "IPY_MODEL_10f3c14b57af40a1a321eb0b6d8a4531"
      ],
      "layout": "IPY_MODEL_585db70b0e4b4309be783f5af6800f79"
     }
    },
    "2405ce45d828492f95710027ad394b57": {
     "model_module": "@jupyter-widgets/base",
     "model_module_version": "1.2.0",
     "model_name": "LayoutModel",
     "state": {
      "_model_module": "@jupyter-widgets/base",
      "_model_module_version": "1.2.0",
      "_model_name": "LayoutModel",
      "_view_count": null,
      "_view_module": "@jupyter-widgets/base",
      "_view_module_version": "1.2.0",
      "_view_name": "LayoutView",
      "align_content": null,
      "align_items": null,
      "align_self": null,
      "border": null,
      "bottom": null,
      "display": null,
      "flex": null,
      "flex_flow": null,
      "grid_area": null,
      "grid_auto_columns": null,
      "grid_auto_flow": null,
      "grid_auto_rows": null,
      "grid_column": null,
      "grid_gap": null,
      "grid_row": null,
      "grid_template_areas": null,
      "grid_template_columns": null,
      "grid_template_rows": null,
      "height": null,
      "justify_content": null,
      "justify_items": null,
      "left": null,
      "margin": null,
      "max_height": null,
      "max_width": null,
      "min_height": null,
      "min_width": null,
      "object_fit": null,
      "object_position": null,
      "order": null,
      "overflow": null,
      "overflow_x": null,
      "overflow_y": null,
      "padding": null,
      "right": null,
      "top": null,
      "visibility": null,
      "width": null
     }
    },
    "2bb808948f1d4479bbcee3fd272a4de4": {
     "model_module": "@jupyter-widgets/base",
     "model_module_version": "1.2.0",
     "model_name": "LayoutModel",
     "state": {
      "_model_module": "@jupyter-widgets/base",
      "_model_module_version": "1.2.0",
      "_model_name": "LayoutModel",
      "_view_count": null,
      "_view_module": "@jupyter-widgets/base",
      "_view_module_version": "1.2.0",
      "_view_name": "LayoutView",
      "align_content": null,
      "align_items": null,
      "align_self": null,
      "border": null,
      "bottom": null,
      "display": null,
      "flex": null,
      "flex_flow": null,
      "grid_area": null,
      "grid_auto_columns": null,
      "grid_auto_flow": null,
      "grid_auto_rows": null,
      "grid_column": null,
      "grid_gap": null,
      "grid_row": null,
      "grid_template_areas": null,
      "grid_template_columns": null,
      "grid_template_rows": null,
      "height": null,
      "justify_content": null,
      "justify_items": null,
      "left": null,
      "margin": null,
      "max_height": null,
      "max_width": null,
      "min_height": null,
      "min_width": null,
      "object_fit": null,
      "object_position": null,
      "order": null,
      "overflow": null,
      "overflow_x": null,
      "overflow_y": null,
      "padding": null,
      "right": null,
      "top": null,
      "visibility": null,
      "width": null
     }
    },
    "2c36698956244562840f3df60285248d": {
     "model_module": "@jupyter-widgets/base",
     "model_module_version": "1.2.0",
     "model_name": "LayoutModel",
     "state": {
      "_model_module": "@jupyter-widgets/base",
      "_model_module_version": "1.2.0",
      "_model_name": "LayoutModel",
      "_view_count": null,
      "_view_module": "@jupyter-widgets/base",
      "_view_module_version": "1.2.0",
      "_view_name": "LayoutView",
      "align_content": null,
      "align_items": null,
      "align_self": null,
      "border": null,
      "bottom": null,
      "display": null,
      "flex": null,
      "flex_flow": null,
      "grid_area": null,
      "grid_auto_columns": null,
      "grid_auto_flow": null,
      "grid_auto_rows": null,
      "grid_column": null,
      "grid_gap": null,
      "grid_row": null,
      "grid_template_areas": null,
      "grid_template_columns": null,
      "grid_template_rows": null,
      "height": null,
      "justify_content": null,
      "justify_items": null,
      "left": null,
      "margin": null,
      "max_height": null,
      "max_width": null,
      "min_height": null,
      "min_width": null,
      "object_fit": null,
      "object_position": null,
      "order": null,
      "overflow": null,
      "overflow_x": null,
      "overflow_y": null,
      "padding": null,
      "right": null,
      "top": null,
      "visibility": null,
      "width": null
     }
    },
    "2ffac9f3e9d7417cbe43186991572b2f": {
     "model_module": "@jupyter-widgets/controls",
     "model_module_version": "1.5.0",
     "model_name": "VBoxModel",
     "state": {
      "_dom_classes": [
       "widget-interact"
      ],
      "_model_module": "@jupyter-widgets/controls",
      "_model_module_version": "1.5.0",
      "_model_name": "VBoxModel",
      "_view_count": null,
      "_view_module": "@jupyter-widgets/controls",
      "_view_module_version": "1.5.0",
      "_view_name": "VBoxView",
      "box_style": "",
      "children": [
       "IPY_MODEL_9394cbbe225640f9956fe289257b93f8",
       "IPY_MODEL_aef62bdaef0249518edaa4450f5ff8a1"
      ],
      "layout": "IPY_MODEL_da4644b6e60c4bf78f69115f3753913b"
     }
    },
    "32e65de3785a4903b25901d6bb269364": {
     "model_module": "@jupyter-widgets/controls",
     "model_module_version": "1.5.0",
     "model_name": "HBoxModel",
     "state": {
      "_dom_classes": [],
      "_model_module": "@jupyter-widgets/controls",
      "_model_module_version": "1.5.0",
      "_model_name": "HBoxModel",
      "_view_count": null,
      "_view_module": "@jupyter-widgets/controls",
      "_view_module_version": "1.5.0",
      "_view_name": "HBoxView",
      "box_style": "",
      "children": [
       "IPY_MODEL_17dbc69b5cac4f09ac86cf57701508f6",
       "IPY_MODEL_f637dffd961346f69960f4f1383da5a0",
       "IPY_MODEL_ed690c304a8a4099881a6852e32990c6"
      ],
      "layout": "IPY_MODEL_bf337bd494ba4c96b296fd592b3d7803"
     }
    },
    "546e94721fa946ae97640f0f1dd69a5f": {
     "model_module": "@jupyter-widgets/output",
     "model_module_version": "1.0.0",
     "model_name": "OutputModel",
     "state": {
      "_dom_classes": [],
      "_model_module": "@jupyter-widgets/output",
      "_model_module_version": "1.0.0",
      "_model_name": "OutputModel",
      "_view_count": null,
      "_view_module": "@jupyter-widgets/output",
      "_view_module_version": "1.0.0",
      "_view_name": "OutputView",
      "layout": "IPY_MODEL_cb5c6128fa724973b67853180cc30102",
      "msg_id": "",
      "outputs": [
       {
        "data": {
         "image/png": "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\n",
         "text/plain": "<Figure size 2200x600 with 1 Axes>"
        },
        "metadata": {},
        "output_type": "display_data"
       }
      ]
     }
    },
    "585db70b0e4b4309be783f5af6800f79": {
     "model_module": "@jupyter-widgets/base",
     "model_module_version": "1.2.0",
     "model_name": "LayoutModel",
     "state": {
      "_model_module": "@jupyter-widgets/base",
      "_model_module_version": "1.2.0",
      "_model_name": "LayoutModel",
      "_view_count": null,
      "_view_module": "@jupyter-widgets/base",
      "_view_module_version": "1.2.0",
      "_view_name": "LayoutView",
      "align_content": null,
      "align_items": null,
      "align_self": null,
      "border": null,
      "bottom": null,
      "display": null,
      "flex": null,
      "flex_flow": null,
      "grid_area": null,
      "grid_auto_columns": null,
      "grid_auto_flow": null,
      "grid_auto_rows": null,
      "grid_column": null,
      "grid_gap": null,
      "grid_row": null,
      "grid_template_areas": null,
      "grid_template_columns": null,
      "grid_template_rows": null,
      "height": null,
      "justify_content": null,
      "justify_items": null,
      "left": null,
      "margin": null,
      "max_height": null,
      "max_width": null,
      "min_height": null,
      "min_width": null,
      "object_fit": null,
      "object_position": null,
      "order": null,
      "overflow": null,
      "overflow_x": null,
      "overflow_y": null,
      "padding": null,
      "right": null,
      "top": null,
      "visibility": "hidden",
      "width": null
     }
    },
    "8937956a8cca4a24a81bbb0a6c641fb5": {
     "model_module": "@jupyter-widgets/controls",
     "model_module_version": "1.5.0",
     "model_name": "DescriptionStyleModel",
     "state": {
      "_model_module": "@jupyter-widgets/controls",
      "_model_module_version": "1.5.0",
      "_model_name": "DescriptionStyleModel",
      "_view_count": null,
      "_view_module": "@jupyter-widgets/base",
      "_view_module_version": "1.2.0",
      "_view_name": "StyleView",
      "description_width": ""
     }
    },
    "90918d5a0fc14dc8b36e48bbb6cdc8b6": {
     "model_module": "@jupyter-widgets/controls",
     "model_module_version": "1.5.0",
     "model_name": "ProgressStyleModel",
     "state": {
      "_model_module": "@jupyter-widgets/controls",
      "_model_module_version": "1.5.0",
      "_model_name": "ProgressStyleModel",
      "_view_count": null,
      "_view_module": "@jupyter-widgets/base",
      "_view_module_version": "1.2.0",
      "_view_name": "StyleView",
      "bar_color": null,
      "description_width": ""
     }
    },
    "9394cbbe225640f9956fe289257b93f8": {
     "model_module": "@jupyter-widgets/controls",
     "model_module_version": "1.5.0",
     "model_name": "ToggleButtonsModel",
     "state": {
      "_dom_classes": [],
      "_model_module": "@jupyter-widgets/controls",
      "_model_module_version": "1.5.0",
      "_model_name": "ToggleButtonsModel",
      "_options_labels": [
       "Pipeline Plot",
       "Hyperparameters",
       "AUC",
       "Confusion Matrix",
       "Threshold",
       "Precision Recall",
       "Prediction Error",
       "Class Report",
       "Feature Selection",
       "Learning Curve",
       "Manifold Learning",
       "Calibration Curve",
       "Validation Curve",
       "Dimensions",
       "Feature Importance",
       "Feature Importance (All)",
       "Decision Boundary",
       "Lift Chart",
       "Gain Chart",
       "Decision Tree",
       "KS Statistic Plot"
      ],
      "_view_count": null,
      "_view_module": "@jupyter-widgets/controls",
      "_view_module_version": "1.5.0",
      "_view_name": "ToggleButtonsView",
      "button_style": "",
      "description": "Plot Type:",
      "description_tooltip": null,
      "disabled": false,
      "icons": [
       ""
      ],
      "index": 0,
      "layout": "IPY_MODEL_da1e038c3eb94dc2b372e2d242b2d993",
      "style": "IPY_MODEL_efedfce820ab44749d6bd4db45a15ebe",
      "tooltips": []
     }
    },
    "9540afc6d18549aa91855e36b95339bd": {
     "model_module": "@jupyter-widgets/controls",
     "model_module_version": "1.5.0",
     "model_name": "HTMLModel",
     "state": {
      "_dom_classes": [],
      "_model_module": "@jupyter-widgets/controls",
      "_model_module_version": "1.5.0",
      "_model_name": "HTMLModel",
      "_view_count": null,
      "_view_module": "@jupyter-widgets/controls",
      "_view_module_version": "1.5.0",
      "_view_name": "HTMLView",
      "description": "",
      "description_tooltip": null,
      "layout": "IPY_MODEL_ffc97fd7235d4a2ab1b374f843783012",
      "placeholder": "​",
      "style": "IPY_MODEL_8937956a8cca4a24a81bbb0a6c641fb5",
      "value": "Processing: 100%"
     }
    },
    "9f80d08e2f284da196589a168b8b3eed": {
     "model_module": "@jupyter-widgets/controls",
     "model_module_version": "1.5.0",
     "model_name": "ToggleButtonsStyleModel",
     "state": {
      "_model_module": "@jupyter-widgets/controls",
      "_model_module_version": "1.5.0",
      "_model_name": "ToggleButtonsStyleModel",
      "_view_count": null,
      "_view_module": "@jupyter-widgets/base",
      "_view_module_version": "1.2.0",
      "_view_name": "StyleView",
      "button_width": "",
      "description_width": "",
      "font_weight": ""
     }
    },
    "aef62bdaef0249518edaa4450f5ff8a1": {
     "model_module": "@jupyter-widgets/output",
     "model_module_version": "1.0.0",
     "model_name": "OutputModel",
     "state": {
      "_dom_classes": [],
      "_model_module": "@jupyter-widgets/output",
      "_model_module_version": "1.0.0",
      "_model_name": "OutputModel",
      "_view_count": null,
      "_view_module": "@jupyter-widgets/output",
      "_view_module_version": "1.0.0",
      "_view_name": "OutputView",
      "layout": "IPY_MODEL_b9183ffde1f442f69902c39f533073dc",
      "msg_id": "",
      "outputs": [
       {
        "data": {
         "image/png": "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\n",
         "text/plain": "<Figure size 2200x600 with 1 Axes>"
        },
        "metadata": {},
        "output_type": "display_data"
       }
      ]
     }
    },
    "b9183ffde1f442f69902c39f533073dc": {
     "model_module": "@jupyter-widgets/base",
     "model_module_version": "1.2.0",
     "model_name": "LayoutModel",
     "state": {
      "_model_module": "@jupyter-widgets/base",
      "_model_module_version": "1.2.0",
      "_model_name": "LayoutModel",
      "_view_count": null,
      "_view_module": "@jupyter-widgets/base",
      "_view_module_version": "1.2.0",
      "_view_name": "LayoutView",
      "align_content": null,
      "align_items": null,
      "align_self": null,
      "border": null,
      "bottom": null,
      "display": null,
      "flex": null,
      "flex_flow": null,
      "grid_area": null,
      "grid_auto_columns": null,
      "grid_auto_flow": null,
      "grid_auto_rows": null,
      "grid_column": null,
      "grid_gap": null,
      "grid_row": null,
      "grid_template_areas": null,
      "grid_template_columns": null,
      "grid_template_rows": null,
      "height": null,
      "justify_content": null,
      "justify_items": null,
      "left": null,
      "margin": null,
      "max_height": null,
      "max_width": null,
      "min_height": null,
      "min_width": null,
      "object_fit": null,
      "object_position": null,
      "order": null,
      "overflow": null,
      "overflow_x": null,
      "overflow_y": null,
      "padding": null,
      "right": null,
      "top": null,
      "visibility": null,
      "width": null
     }
    },
    "bf337bd494ba4c96b296fd592b3d7803": {
     "model_module": "@jupyter-widgets/base",
     "model_module_version": "1.2.0",
     "model_name": "LayoutModel",
     "state": {
      "_model_module": "@jupyter-widgets/base",
      "_model_module_version": "1.2.0",
      "_model_name": "LayoutModel",
      "_view_count": null,
      "_view_module": "@jupyter-widgets/base",
      "_view_module_version": "1.2.0",
      "_view_name": "LayoutView",
      "align_content": null,
      "align_items": null,
      "align_self": null,
      "border": null,
      "bottom": null,
      "display": null,
      "flex": null,
      "flex_flow": null,
      "grid_area": null,
      "grid_auto_columns": null,
      "grid_auto_flow": null,
      "grid_auto_rows": null,
      "grid_column": null,
      "grid_gap": null,
      "grid_row": null,
      "grid_template_areas": null,
      "grid_template_columns": null,
      "grid_template_rows": null,
      "height": null,
      "justify_content": null,
      "justify_items": null,
      "left": null,
      "margin": null,
      "max_height": null,
      "max_width": null,
      "min_height": null,
      "min_width": null,
      "object_fit": null,
      "object_position": null,
      "order": null,
      "overflow": null,
      "overflow_x": null,
      "overflow_y": null,
      "padding": null,
      "right": null,
      "top": null,
      "visibility": "hidden",
      "width": null
     }
    },
    "c7cc0a785f0f48a4912a3dc8710df0b9": {
     "model_module": "@jupyter-widgets/base",
     "model_module_version": "1.2.0",
     "model_name": "LayoutModel",
     "state": {
      "_model_module": "@jupyter-widgets/base",
      "_model_module_version": "1.2.0",
      "_model_name": "LayoutModel",
      "_view_count": null,
      "_view_module": "@jupyter-widgets/base",
      "_view_module_version": "1.2.0",
      "_view_name": "LayoutView",
      "align_content": null,
      "align_items": null,
      "align_self": null,
      "border": null,
      "bottom": null,
      "display": null,
      "flex": null,
      "flex_flow": null,
      "grid_area": null,
      "grid_auto_columns": null,
      "grid_auto_flow": null,
      "grid_auto_rows": null,
      "grid_column": null,
      "grid_gap": null,
      "grid_row": null,
      "grid_template_areas": null,
      "grid_template_columns": null,
      "grid_template_rows": null,
      "height": null,
      "justify_content": null,
      "justify_items": null,
      "left": null,
      "margin": null,
      "max_height": null,
      "max_width": null,
      "min_height": null,
      "min_width": null,
      "object_fit": null,
      "object_position": null,
      "order": null,
      "overflow": null,
      "overflow_x": null,
      "overflow_y": null,
      "padding": null,
      "right": null,
      "top": null,
      "visibility": null,
      "width": null
     }
    },
    "cb5c6128fa724973b67853180cc30102": {
     "model_module": "@jupyter-widgets/base",
     "model_module_version": "1.2.0",
     "model_name": "LayoutModel",
     "state": {
      "_model_module": "@jupyter-widgets/base",
      "_model_module_version": "1.2.0",
      "_model_name": "LayoutModel",
      "_view_count": null,
      "_view_module": "@jupyter-widgets/base",
      "_view_module_version": "1.2.0",
      "_view_name": "LayoutView",
      "align_content": null,
      "align_items": null,
      "align_self": null,
      "border": null,
      "bottom": null,
      "display": null,
      "flex": null,
      "flex_flow": null,
      "grid_area": null,
      "grid_auto_columns": null,
      "grid_auto_flow": null,
      "grid_auto_rows": null,
      "grid_column": null,
      "grid_gap": null,
      "grid_row": null,
      "grid_template_areas": null,
      "grid_template_columns": null,
      "grid_template_rows": null,
      "height": null,
      "justify_content": null,
      "justify_items": null,
      "left": null,
      "margin": null,
      "max_height": null,
      "max_width": null,
      "min_height": null,
      "min_width": null,
      "object_fit": null,
      "object_position": null,
      "order": null,
      "overflow": null,
      "overflow_x": null,
      "overflow_y": null,
      "padding": null,
      "right": null,
      "top": null,
      "visibility": null,
      "width": null
     }
    },
    "d8a9eaaa1c924e80ad06093481d02d0f": {
     "model_module": "@jupyter-widgets/controls",
     "model_module_version": "1.5.0",
     "model_name": "ToggleButtonsModel",
     "state": {
      "_dom_classes": [],
      "_model_module": "@jupyter-widgets/controls",
      "_model_module_version": "1.5.0",
      "_model_name": "ToggleButtonsModel",
      "_options_labels": [
       "Pipeline Plot",
       "Hyperparameters",
       "AUC",
       "Confusion Matrix",
       "Threshold",
       "Precision Recall",
       "Prediction Error",
       "Class Report",
       "Feature Selection",
       "Learning Curve",
       "Manifold Learning",
       "Calibration Curve",
       "Validation Curve",
       "Dimensions",
       "Feature Importance",
       "Feature Importance (All)",
       "Decision Boundary",
       "Lift Chart",
       "Gain Chart",
       "Decision Tree",
       "KS Statistic Plot"
      ],
      "_view_count": null,
      "_view_module": "@jupyter-widgets/controls",
      "_view_module_version": "1.5.0",
      "_view_name": "ToggleButtonsView",
      "button_style": "",
      "description": "Plot Type:",
      "description_tooltip": null,
      "disabled": false,
      "icons": [
       ""
      ],
      "index": 0,
      "layout": "IPY_MODEL_2c36698956244562840f3df60285248d",
      "style": "IPY_MODEL_9f80d08e2f284da196589a168b8b3eed",
      "tooltips": []
     }
    },
    "da1e038c3eb94dc2b372e2d242b2d993": {
     "model_module": "@jupyter-widgets/base",
     "model_module_version": "1.2.0",
     "model_name": "LayoutModel",
     "state": {
      "_model_module": "@jupyter-widgets/base",
      "_model_module_version": "1.2.0",
      "_model_name": "LayoutModel",
      "_view_count": null,
      "_view_module": "@jupyter-widgets/base",
      "_view_module_version": "1.2.0",
      "_view_name": "LayoutView",
      "align_content": null,
      "align_items": null,
      "align_self": null,
      "border": null,
      "bottom": null,
      "display": null,
      "flex": null,
      "flex_flow": null,
      "grid_area": null,
      "grid_auto_columns": null,
      "grid_auto_flow": null,
      "grid_auto_rows": null,
      "grid_column": null,
      "grid_gap": null,
      "grid_row": null,
      "grid_template_areas": null,
      "grid_template_columns": null,
      "grid_template_rows": null,
      "height": null,
      "justify_content": null,
      "justify_items": null,
      "left": null,
      "margin": null,
      "max_height": null,
      "max_width": null,
      "min_height": null,
      "min_width": null,
      "object_fit": null,
      "object_position": null,
      "order": null,
      "overflow": null,
      "overflow_x": null,
      "overflow_y": null,
      "padding": null,
      "right": null,
      "top": null,
      "visibility": null,
      "width": null
     }
    },
    "da4644b6e60c4bf78f69115f3753913b": {
     "model_module": "@jupyter-widgets/base",
     "model_module_version": "1.2.0",
     "model_name": "LayoutModel",
     "state": {
      "_model_module": "@jupyter-widgets/base",
      "_model_module_version": "1.2.0",
      "_model_name": "LayoutModel",
      "_view_count": null,
      "_view_module": "@jupyter-widgets/base",
      "_view_module_version": "1.2.0",
      "_view_name": "LayoutView",
      "align_content": null,
      "align_items": null,
      "align_self": null,
      "border": null,
      "bottom": null,
      "display": null,
      "flex": null,
      "flex_flow": null,
      "grid_area": null,
      "grid_auto_columns": null,
      "grid_auto_flow": null,
      "grid_auto_rows": null,
      "grid_column": null,
      "grid_gap": null,
      "grid_row": null,
      "grid_template_areas": null,
      "grid_template_columns": null,
      "grid_template_rows": null,
      "height": null,
      "justify_content": null,
      "justify_items": null,
      "left": null,
      "margin": null,
      "max_height": null,
      "max_width": null,
      "min_height": null,
      "min_width": null,
      "object_fit": null,
      "object_position": null,
      "order": null,
      "overflow": null,
      "overflow_x": null,
      "overflow_y": null,
      "padding": null,
      "right": null,
      "top": null,
      "visibility": null,
      "width": null
     }
    },
    "e379df46ce084229a436f477ef3585d5": {
     "model_module": "@jupyter-widgets/controls",
     "model_module_version": "1.5.0",
     "model_name": "VBoxModel",
     "state": {
      "_dom_classes": [
       "widget-interact"
      ],
      "_model_module": "@jupyter-widgets/controls",
      "_model_module_version": "1.5.0",
      "_model_name": "VBoxModel",
      "_view_count": null,
      "_view_module": "@jupyter-widgets/controls",
      "_view_module_version": "1.5.0",
      "_view_name": "VBoxView",
      "box_style": "",
      "children": [
       "IPY_MODEL_d8a9eaaa1c924e80ad06093481d02d0f",
       "IPY_MODEL_546e94721fa946ae97640f0f1dd69a5f"
      ],
      "layout": "IPY_MODEL_2bb808948f1d4479bbcee3fd272a4de4"
     }
    },
    "ec64e908d4614d4daf6079dbbe044328": {
     "model_module": "@jupyter-widgets/controls",
     "model_module_version": "1.5.0",
     "model_name": "DescriptionStyleModel",
     "state": {
      "_model_module": "@jupyter-widgets/controls",
      "_model_module_version": "1.5.0",
      "_model_name": "DescriptionStyleModel",
      "_view_count": null,
      "_view_module": "@jupyter-widgets/base",
      "_view_module_version": "1.2.0",
      "_view_name": "StyleView",
      "description_width": ""
     }
    },
    "ece408c85ccc4f96b6c5cfb4c20da539": {
     "model_module": "@jupyter-widgets/base",
     "model_module_version": "1.2.0",
     "model_name": "LayoutModel",
     "state": {
      "_model_module": "@jupyter-widgets/base",
      "_model_module_version": "1.2.0",
      "_model_name": "LayoutModel",
      "_view_count": null,
      "_view_module": "@jupyter-widgets/base",
      "_view_module_version": "1.2.0",
      "_view_name": "LayoutView",
      "align_content": null,
      "align_items": null,
      "align_self": null,
      "border": null,
      "bottom": null,
      "display": null,
      "flex": null,
      "flex_flow": null,
      "grid_area": null,
      "grid_auto_columns": null,
      "grid_auto_flow": null,
      "grid_auto_rows": null,
      "grid_column": null,
      "grid_gap": null,
      "grid_row": null,
      "grid_template_areas": null,
      "grid_template_columns": null,
      "grid_template_rows": null,
      "height": null,
      "justify_content": null,
      "justify_items": null,
      "left": null,
      "margin": null,
      "max_height": null,
      "max_width": null,
      "min_height": null,
      "min_width": null,
      "object_fit": null,
      "object_position": null,
      "order": null,
      "overflow": null,
      "overflow_x": null,
      "overflow_y": null,
      "padding": null,
      "right": null,
      "top": null,
      "visibility": null,
      "width": null
     }
    },
    "ed690c304a8a4099881a6852e32990c6": {
     "model_module": "@jupyter-widgets/controls",
     "model_module_version": "1.5.0",
     "model_name": "HTMLModel",
     "state": {
      "_dom_classes": [],
      "_model_module": "@jupyter-widgets/controls",
      "_model_module_version": "1.5.0",
      "_model_name": "HTMLModel",
      "_view_count": null,
      "_view_module": "@jupyter-widgets/controls",
      "_view_module_version": "1.5.0",
      "_view_name": "HTMLView",
      "description": "",
      "description_tooltip": null,
      "layout": "IPY_MODEL_2405ce45d828492f95710027ad394b57",
      "placeholder": "​",
      "style": "IPY_MODEL_edd8df11ffe64c9fbf3e4d291e444843",
      "value": " 7/7 [01:16&lt;00:00,  9.04s/it]"
     }
    },
    "edd8df11ffe64c9fbf3e4d291e444843": {
     "model_module": "@jupyter-widgets/controls",
     "model_module_version": "1.5.0",
     "model_name": "DescriptionStyleModel",
     "state": {
      "_model_module": "@jupyter-widgets/controls",
      "_model_module_version": "1.5.0",
      "_model_name": "DescriptionStyleModel",
      "_view_count": null,
      "_view_module": "@jupyter-widgets/base",
      "_view_module_version": "1.2.0",
      "_view_name": "StyleView",
      "description_width": ""
     }
    },
    "efedfce820ab44749d6bd4db45a15ebe": {
     "model_module": "@jupyter-widgets/controls",
     "model_module_version": "1.5.0",
     "model_name": "ToggleButtonsStyleModel",
     "state": {
      "_model_module": "@jupyter-widgets/controls",
      "_model_module_version": "1.5.0",
      "_model_name": "ToggleButtonsStyleModel",
      "_view_count": null,
      "_view_module": "@jupyter-widgets/base",
      "_view_module_version": "1.2.0",
      "_view_name": "StyleView",
      "button_width": "",
      "description_width": "",
      "font_weight": ""
     }
    },
    "f02197c0c7a04fdbb69d564016a64a74": {
     "model_module": "@jupyter-widgets/controls",
     "model_module_version": "1.5.0",
     "model_name": "DescriptionStyleModel",
     "state": {
      "_model_module": "@jupyter-widgets/controls",
      "_model_module_version": "1.5.0",
      "_model_name": "DescriptionStyleModel",
      "_view_count": null,
      "_view_module": "@jupyter-widgets/base",
      "_view_module_version": "1.2.0",
      "_view_name": "StyleView",
      "description_width": ""
     }
    },
    "f637dffd961346f69960f4f1383da5a0": {
     "model_module": "@jupyter-widgets/controls",
     "model_module_version": "1.5.0",
     "model_name": "FloatProgressModel",
     "state": {
      "_dom_classes": [],
      "_model_module": "@jupyter-widgets/controls",
      "_model_module_version": "1.5.0",
      "_model_name": "FloatProgressModel",
      "_view_count": null,
      "_view_module": "@jupyter-widgets/controls",
      "_view_module_version": "1.5.0",
      "_view_name": "ProgressView",
      "bar_style": "",
      "description": "",
      "description_tooltip": null,
      "layout": "IPY_MODEL_f89625edede74050ab8b39c68d480bc0",
      "max": 7,
      "min": 0,
      "orientation": "horizontal",
      "style": "IPY_MODEL_90918d5a0fc14dc8b36e48bbb6cdc8b6",
      "value": 7
     }
    },
    "f89625edede74050ab8b39c68d480bc0": {
     "model_module": "@jupyter-widgets/base",
     "model_module_version": "1.2.0",
     "model_name": "LayoutModel",
     "state": {
      "_model_module": "@jupyter-widgets/base",
      "_model_module_version": "1.2.0",
      "_model_name": "LayoutModel",
      "_view_count": null,
      "_view_module": "@jupyter-widgets/base",
      "_view_module_version": "1.2.0",
      "_view_name": "LayoutView",
      "align_content": null,
      "align_items": null,
      "align_self": null,
      "border": null,
      "bottom": null,
      "display": null,
      "flex": null,
      "flex_flow": null,
      "grid_area": null,
      "grid_auto_columns": null,
      "grid_auto_flow": null,
      "grid_auto_rows": null,
      "grid_column": null,
      "grid_gap": null,
      "grid_row": null,
      "grid_template_areas": null,
      "grid_template_columns": null,
      "grid_template_rows": null,
      "height": null,
      "justify_content": null,
      "justify_items": null,
      "left": null,
      "margin": null,
      "max_height": null,
      "max_width": null,
      "min_height": null,
      "min_width": null,
      "object_fit": null,
      "object_position": null,
      "order": null,
      "overflow": null,
      "overflow_x": null,
      "overflow_y": null,
      "padding": null,
      "right": null,
      "top": null,
      "visibility": null,
      "width": null
     }
    },
    "f8d915e10cd34c89a16f25c0df0475db": {
     "model_module": "@jupyter-widgets/controls",
     "model_module_version": "1.5.0",
     "model_name": "FloatProgressModel",
     "state": {
      "_dom_classes": [],
      "_model_module": "@jupyter-widgets/controls",
      "_model_module_version": "1.5.0",
      "_model_name": "FloatProgressModel",
      "_view_count": null,
      "_view_module": "@jupyter-widgets/controls",
      "_view_module_version": "1.5.0",
      "_view_name": "ProgressView",
      "bar_style": "",
      "description": "",
      "description_tooltip": null,
      "layout": "IPY_MODEL_ece408c85ccc4f96b6c5cfb4c20da539",
      "max": 65,
      "min": 0,
      "orientation": "horizontal",
      "style": "IPY_MODEL_0c60193a62a041a9adab87fb26c5070f",
      "value": 65
     }
    },
    "ffc97fd7235d4a2ab1b374f843783012": {
     "model_module": "@jupyter-widgets/base",
     "model_module_version": "1.2.0",
     "model_name": "LayoutModel",
     "state": {
      "_model_module": "@jupyter-widgets/base",
      "_model_module_version": "1.2.0",
      "_model_name": "LayoutModel",
      "_view_count": null,
      "_view_module": "@jupyter-widgets/base",
      "_view_module_version": "1.2.0",
      "_view_name": "LayoutView",
      "align_content": null,
      "align_items": null,
      "align_self": null,
      "border": null,
      "bottom": null,
      "display": null,
      "flex": null,
      "flex_flow": null,
      "grid_area": null,
      "grid_auto_columns": null,
      "grid_auto_flow": null,
      "grid_auto_rows": null,
      "grid_column": null,
      "grid_gap": null,
      "grid_row": null,
      "grid_template_areas": null,
      "grid_template_columns": null,
      "grid_template_rows": null,
      "height": null,
      "justify_content": null,
      "justify_items": null,
      "left": null,
      "margin": null,
      "max_height": null,
      "max_width": null,
      "min_height": null,
      "min_width": null,
      "object_fit": null,
      "object_position": null,
      "order": null,
      "overflow": null,
      "overflow_x": null,
      "overflow_y": null,
      "padding": null,
      "right": null,
      "top": null,
      "visibility": null,
      "width": null
     }
    }
   }
  }
 },
 "nbformat": 4,
 "nbformat_minor": 1
}
