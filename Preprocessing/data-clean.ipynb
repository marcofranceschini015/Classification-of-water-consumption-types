{
  "cells": [
    {
      "cell_type": "markdown",
      "metadata": {
        "id": "fgiMbotYf1Ra"
      },
      "source": [
        "#Classification of Water Consumption Types\n",
        "\n",
        "[Assignment SI - Infos](https://drive.google.com/file/d/1lh5a0YxVsC-NXtsIpucTVCrfJR_8KZB4/view?usp=sharing)\n",
        "\n",
        "[Dataset Train](https://virtual.ipb.pt/access/content/group/5b961040-5442-11ee-bfc7-421e367e2b5a/Assignment/train.csv)\n",
        "\n",
        "[Dataset Competition](https://virtual.ipb.pt/access/content/group/5b961040-5442-11ee-bfc7-421e367e2b5a/Assignment/competition.csv)"
      ]
    },
    {
      "cell_type": "markdown",
      "metadata": {
        "id": "Z4j14j-phgLW"
      },
      "source": [
        "### 1) **IMPORT** and **UTILITY**"
      ]
    },
    {
      "cell_type": "markdown",
      "metadata": {
        "id": "840jQlZTDSzi"
      },
      "source": [
        "Import all usefull libraries and define some usefull functions"
      ]
    },
    {
      "cell_type": "code",
      "execution_count": 1,
      "metadata": {
        "id": "PnqhbbkVhj4d"
      },
      "outputs": [],
      "source": [
        "###########################\n",
        "# data libraries\n",
        "###########################\n",
        "import pandas as pd\n",
        "import numpy as np\n",
        "\n",
        "###########################\n",
        "# plot libraries\n",
        "###########################\n",
        "import seaborn as sns\n",
        "import matplotlib.pyplot as plt\n",
        "import matplotlib as mpl\n"
      ]
    },
    {
      "cell_type": "markdown",
      "metadata": {
        "id": "ZfttoFFgBbCJ"
      },
      "source": [
        "### 2) **READ DATA FILES**"
      ]
    },
    {
      "cell_type": "markdown",
      "metadata": {
        "id": "fKi5uHMZDOJb"
      },
      "source": [
        "Read data file uploaded to this google colab"
      ]
    },
    {
      "cell_type": "code",
      "execution_count": 2,
      "metadata": {
        "id": "vI0jCkZs_ejm"
      },
      "outputs": [],
      "source": [
        "###########################\n",
        "# import csv in dataframe\n",
        "###########################\n",
        "\n",
        "train = pd.read_csv(\"train.csv\")\n",
        "# test = pd.read_csv(\"competition.csv\")"
      ]
    },
    {
      "cell_type": "markdown",
      "metadata": {
        "id": "xaLmD3qlafXP"
      },
      "source": [
        "### 3) **Preprocessing**"
      ]
    },
    {
      "cell_type": "markdown",
      "source": [
        "Change the Consumer Numbers that are more one Consumer type"
      ],
      "metadata": {
        "id": "boQDJ1KgeC0d"
      }
    },
    {
      "cell_type": "code",
      "source": [
        "consumer_list = []\n",
        "consumer_number_list = train['Consumer_number'].unique()\n",
        "\n",
        "for consumer in consumer_number_list:\n",
        "  consumer_examples = train.loc[train['Consumer_number'] == consumer]\n",
        "  type_list = consumer_examples['Consumer_type'].unique()\n",
        "  consumer_list.append( { consumer : type_list } )"
      ],
      "metadata": {
        "id": "6aH0mRXgl346"
      },
      "execution_count": null,
      "outputs": []
    },
    {
      "cell_type": "code",
      "source": [
        "consumer_list_that_have_more_one_type = []\n",
        "\n",
        "for consumer in consumer_list:\n",
        "  key = list(consumer.keys())[0]\n",
        "  type_list = consumer.get(key)\n",
        "  if len(type_list) > 1:\n",
        "    consumer_list_that_have_more_one_type.append(key)\n",
        "\n",
        "print(consumer_list_that_have_more_one_type)"
      ],
      "metadata": {
        "id": "IUOIwE8pl5Po"
      },
      "execution_count": null,
      "outputs": []
    },
    {
      "cell_type": "code",
      "source": [
        "import random\n",
        "import string\n",
        "\n",
        "def generate_consumer_number(consumer_number):\n",
        "    random_part_1 = ''.join(random.choices(string.ascii_uppercase, k=4))\n",
        "    random_part_2 = ''.join(random.choices(string.digits, k=16))\n",
        "    consumer_number = random_part_1 + random_part_2\n",
        "    return consumer_number"
      ],
      "metadata": {
        "id": "LgxTcxIY2YTp"
      },
      "execution_count": null,
      "outputs": []
    },
    {
      "cell_type": "code",
      "source": [
        "for consumer_number in consumer_list_that_have_more_one_type:\n",
        "\n",
        "  consumer_examples = train.loc[train['Consumer_number'] == consumer_number]\n",
        "  type_list = consumer_examples['Consumer_type'].unique()\n",
        "\n",
        "  for one_type in type_list:\n",
        "    consumer_and_one_type = train.loc[(train['Consumer_number'] == consumer_number) & (train['Consumer_type'] == one_type)]\n",
        "    consumer_and_one_type['Consumer_number'] = generate_consumer_number()\n",
        "    train.loc[(train['Consumer_number'] == consumer_number) & (train['Consumer_type'] == one_type)] = consumer_and_one_type"
      ],
      "metadata": {
        "id": "xPHJGWMGuLBJ"
      },
      "execution_count": null,
      "outputs": []
    },
    {
      "cell_type": "code",
      "source": [
        "consumer_list = []\n",
        "consumer_number_list = train['Consumer_number'].unique()\n",
        "\n",
        "for consumer in consumer_number_list:\n",
        "  consumer_examples = train.loc[train['Consumer_number'] == consumer]\n",
        "  type_list = consumer_examples['Consumer_type'].unique()\n",
        "  consumer_list.append( { consumer : type_list } )"
      ],
      "metadata": {
        "id": "kyKlCyABpQMR"
      },
      "execution_count": null,
      "outputs": []
    },
    {
      "cell_type": "code",
      "source": [
        "for consumer in consumer_list:\n",
        "  key = list(consumer.keys())[0]\n",
        "  type_list = consumer.get(key)\n",
        "  if len(type_list) > 1:\n",
        "    print(consumer)"
      ],
      "metadata": {
        "id": "f-hExxsZpUiS"
      },
      "execution_count": null,
      "outputs": []
    },
    {
      "cell_type": "markdown",
      "metadata": {
        "id": "7zO7FjXXIGKO"
      },
      "source": [
        "#### Remove Outliers\n",
        "\n",
        "Remove the single value with water consumption of 5000 because it could create some problem during the training of the model"
      ]
    },
    {
      "cell_type": "code",
      "execution_count": null,
      "metadata": {
        "id": "Phgg7IXEIJ9C"
      },
      "outputs": [],
      "source": [
        "train_outliers = train['Consumption'] > 3000\n",
        "\n",
        "# remove outliers\n",
        "train.drop(train[train_outliers].index,inplace=True)\n",
        "train.head()\n",
        "\n",
        "# plot new\n",
        "plt.figure(figsize=(10, 20))\n",
        "fig = sns.scatterplot(data=train, x='Consumption',y='Installation_zone')"
      ]
    },
    {
      "cell_type": "markdown",
      "source": [
        "Remove the consumers that have less 10 measure of water consumption"
      ],
      "metadata": {
        "id": "m452FmcyGuRW"
      }
    },
    {
      "cell_type": "code",
      "source": [
        "consumer_counts = train['Consumer_number'].value_counts()\n",
        "consumer_that_will_preserve = consumer_counts[consumer_counts >= 10].index\n",
        "train_without_outliers = train[train['Consumer_number'].isin(consumer_that_will_preserve)]\n",
        "\n",
        "plt.figure(figsize=(20, 20))\n",
        "sns.histplot(data=train_without_outliers, x='Consumer_type',hue='Installation_zone',multiple=\"stack\")"
      ],
      "metadata": {
        "id": "QdFEYa0qGt2d"
      },
      "execution_count": null,
      "outputs": []
    },
    {
      "cell_type": "code",
      "source": [
        "pd.set_option(\"display.max_rows\", None)\n",
        "train_without_outliers['Consumer_number'].value_counts()"
      ],
      "metadata": {
        "id": "DpH-12aK7Tqp"
      },
      "execution_count": null,
      "outputs": []
    },
    {
      "cell_type": "markdown",
      "source": [
        "### 4) **Export to CSV**"
      ],
      "metadata": {
        "id": "PDQcDwPwdJlc"
      }
    },
    {
      "cell_type": "code",
      "source": [
        "train_without_outliers.to_csv('train_without_outliers.csv', sep=',', index=False)"
      ],
      "metadata": {
        "id": "RZQLfvvCdIxt"
      },
      "execution_count": null,
      "outputs": []
    }
  ],
  "metadata": {
    "colab": {
      "provenance": []
    },
    "kernelspec": {
      "display_name": "Python 3",
      "name": "python3"
    },
    "language_info": {
      "name": "python"
    }
  },
  "nbformat": 4,
  "nbformat_minor": 0
}