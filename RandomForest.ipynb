{
 "cells": [
  {
   "cell_type": "code",
   "execution_count": 1,
   "metadata": {},
   "outputs": [
    {
     "name": "stdout",
     "output_type": "stream",
     "text": [
      "WARNING:tensorflow:From c:\\Users\\marco\\AppData\\Local\\Programs\\Python\\Python310\\lib\\site-packages\\keras\\src\\losses.py:2976: The name tf.losses.sparse_softmax_cross_entropy is deprecated. Please use tf.compat.v1.losses.sparse_softmax_cross_entropy instead.\n",
      "\n"
     ]
    }
   ],
   "source": [
    "###########################\n",
    "# data libraries\n",
    "###########################\n",
    "import pandas as pd\n",
    "import numpy as np\n",
    "\n",
    "###########################\n",
    "# plot libraries\n",
    "###########################\n",
    "import seaborn as sns\n",
    "import matplotlib.pyplot as plt\n",
    "import matplotlib as mpl\n",
    "from matplotlib import rcParams\n",
    "\n",
    "\n",
    "###########################\n",
    "# data generation\n",
    "###########################\n",
    "from sklearn.preprocessing import OrdinalEncoder, OneHotEncoder, MinMaxScaler\n",
    "from tensorflow.keras.layers import Input, Dense, Concatenate\n",
    "from tensorflow.keras.models import Model\n",
    "from tensorflow.keras.optimizers import Adam\n",
    "\n",
    "### Import and Function\n",
    "from sklearn.ensemble import RandomForestClassifier\n",
    "from sklearn.metrics import accuracy_score\n",
    "import time\n",
    "from sklearn.model_selection import (\n",
    "    GridSearchCV,\n",
    "    StratifiedKFold,\n",
    "    cross_val_score,\n",
    "    train_test_split,\n",
    ")\n",
    "\n",
    "###########################\n",
    "# transform classes into numbers\n",
    "###########################\n",
    "def categoricalToNumerical(df, cols):\n",
    "  enc = OrdinalEncoder(dtype=np.int16)\n",
    "  df[cols]= enc.fit_transform(df[cols])\n"
   ]
  },
  {
   "cell_type": "code",
   "execution_count": 3,
   "metadata": {},
   "outputs": [
    {
     "name": "stdout",
     "output_type": "stream",
     "text": [
      "Fitting 10 folds for each of 1 candidates, totalling 10 fits\n"
     ]
    },
    {
     "name": "stderr",
     "output_type": "stream",
     "text": [
      "c:\\Users\\marco\\AppData\\Local\\Programs\\Python\\Python310\\lib\\site-packages\\sklearn\\ensemble\\_forest.py:578: UserWarning: Some inputs do not have OOB scores. This probably means too few trees were used to compute any reliable OOB estimates.\n",
      "  warn(\n"
     ]
    },
    {
     "name": "stdout",
     "output_type": "stream",
     "text": [
      "[CV 1/10] END  accuracy: (train=0.944, test=0.704) balanced_accuracy: (train=0.944, test=0.703) f1: (train=0.944, test=0.686) total time=  21.3s\n"
     ]
    },
    {
     "name": "stderr",
     "output_type": "stream",
     "text": [
      "c:\\Users\\marco\\AppData\\Local\\Programs\\Python\\Python310\\lib\\site-packages\\sklearn\\ensemble\\_forest.py:578: UserWarning: Some inputs do not have OOB scores. This probably means too few trees were used to compute any reliable OOB estimates.\n",
      "  warn(\n"
     ]
    },
    {
     "name": "stdout",
     "output_type": "stream",
     "text": [
      "[CV 2/10] END  accuracy: (train=0.931, test=0.808) balanced_accuracy: (train=0.930, test=0.809) f1: (train=0.930, test=0.796) total time=  20.0s\n"
     ]
    },
    {
     "name": "stderr",
     "output_type": "stream",
     "text": [
      "c:\\Users\\marco\\AppData\\Local\\Programs\\Python\\Python310\\lib\\site-packages\\sklearn\\ensemble\\_forest.py:578: UserWarning: Some inputs do not have OOB scores. This probably means too few trees were used to compute any reliable OOB estimates.\n",
      "  warn(\n"
     ]
    },
    {
     "name": "stdout",
     "output_type": "stream",
     "text": [
      "[CV 3/10] END  accuracy: (train=0.930, test=0.849) balanced_accuracy: (train=0.929, test=0.850) f1: (train=0.929, test=0.834) total time=  23.4s\n"
     ]
    },
    {
     "name": "stderr",
     "output_type": "stream",
     "text": [
      "c:\\Users\\marco\\AppData\\Local\\Programs\\Python\\Python310\\lib\\site-packages\\sklearn\\ensemble\\_forest.py:578: UserWarning: Some inputs do not have OOB scores. This probably means too few trees were used to compute any reliable OOB estimates.\n",
      "  warn(\n"
     ]
    },
    {
     "name": "stdout",
     "output_type": "stream",
     "text": [
      "[CV 4/10] END  accuracy: (train=0.930, test=0.836) balanced_accuracy: (train=0.929, test=0.837) f1: (train=0.929, test=0.806) total time=  20.5s\n"
     ]
    },
    {
     "name": "stderr",
     "output_type": "stream",
     "text": [
      "c:\\Users\\marco\\AppData\\Local\\Programs\\Python\\Python310\\lib\\site-packages\\sklearn\\ensemble\\_forest.py:578: UserWarning: Some inputs do not have OOB scores. This probably means too few trees were used to compute any reliable OOB estimates.\n",
      "  warn(\n"
     ]
    },
    {
     "name": "stdout",
     "output_type": "stream",
     "text": [
      "[CV 5/10] END  accuracy: (train=0.927, test=0.926) balanced_accuracy: (train=0.927, test=0.926) f1: (train=0.927, test=0.926) total time=  22.3s\n"
     ]
    },
    {
     "name": "stderr",
     "output_type": "stream",
     "text": [
      "c:\\Users\\marco\\AppData\\Local\\Programs\\Python\\Python310\\lib\\site-packages\\sklearn\\ensemble\\_forest.py:578: UserWarning: Some inputs do not have OOB scores. This probably means too few trees were used to compute any reliable OOB estimates.\n",
      "  warn(\n"
     ]
    },
    {
     "name": "stdout",
     "output_type": "stream",
     "text": [
      "[CV 6/10] END  accuracy: (train=0.926, test=0.928) balanced_accuracy: (train=0.926, test=0.927) f1: (train=0.925, test=0.927) total time=  20.9s\n"
     ]
    },
    {
     "name": "stderr",
     "output_type": "stream",
     "text": [
      "c:\\Users\\marco\\AppData\\Local\\Programs\\Python\\Python310\\lib\\site-packages\\sklearn\\ensemble\\_forest.py:578: UserWarning: Some inputs do not have OOB scores. This probably means too few trees were used to compute any reliable OOB estimates.\n",
      "  warn(\n"
     ]
    },
    {
     "name": "stdout",
     "output_type": "stream",
     "text": [
      "[CV 7/10] END  accuracy: (train=0.923, test=0.942) balanced_accuracy: (train=0.923, test=0.941) f1: (train=0.923, test=0.942) total time=  23.5s\n"
     ]
    },
    {
     "name": "stderr",
     "output_type": "stream",
     "text": [
      "c:\\Users\\marco\\AppData\\Local\\Programs\\Python\\Python310\\lib\\site-packages\\sklearn\\ensemble\\_forest.py:578: UserWarning: Some inputs do not have OOB scores. This probably means too few trees were used to compute any reliable OOB estimates.\n",
      "  warn(\n"
     ]
    },
    {
     "name": "stdout",
     "output_type": "stream",
     "text": [
      "[CV 8/10] END  accuracy: (train=0.923, test=0.950) balanced_accuracy: (train=0.923, test=0.949) f1: (train=0.922, test=0.949) total time=  19.9s\n"
     ]
    },
    {
     "name": "stderr",
     "output_type": "stream",
     "text": [
      "c:\\Users\\marco\\AppData\\Local\\Programs\\Python\\Python310\\lib\\site-packages\\sklearn\\ensemble\\_forest.py:578: UserWarning: Some inputs do not have OOB scores. This probably means too few trees were used to compute any reliable OOB estimates.\n",
      "  warn(\n"
     ]
    },
    {
     "name": "stdout",
     "output_type": "stream",
     "text": [
      "[CV 9/10] END  accuracy: (train=0.923, test=0.948) balanced_accuracy: (train=0.923, test=0.948) f1: (train=0.922, test=0.948) total time=  19.0s\n"
     ]
    },
    {
     "name": "stderr",
     "output_type": "stream",
     "text": [
      "c:\\Users\\marco\\AppData\\Local\\Programs\\Python\\Python310\\lib\\site-packages\\sklearn\\ensemble\\_forest.py:578: UserWarning: Some inputs do not have OOB scores. This probably means too few trees were used to compute any reliable OOB estimates.\n",
      "  warn(\n"
     ]
    },
    {
     "name": "stdout",
     "output_type": "stream",
     "text": [
      "[CV 10/10] END  accuracy: (train=0.924, test=0.904) balanced_accuracy: (train=0.923, test=0.904) f1: (train=0.923, test=0.904) total time=  21.0s\n"
     ]
    },
    {
     "name": "stderr",
     "output_type": "stream",
     "text": [
      "c:\\Users\\marco\\AppData\\Local\\Programs\\Python\\Python310\\lib\\site-packages\\sklearn\\ensemble\\_forest.py:578: UserWarning: Some inputs do not have OOB scores. This probably means too few trees were used to compute any reliable OOB estimates.\n",
      "  warn(\n"
     ]
    },
    {
     "name": "stdout",
     "output_type": "stream",
     "text": [
      "Best score: 0.8794795418047121\n",
      "Best parameters: {}\n"
     ]
    },
    {
     "name": "stderr",
     "output_type": "stream",
     "text": [
      "c:\\Users\\marco\\AppData\\Local\\Programs\\Python\\Python310\\lib\\site-packages\\sklearn\\ensemble\\_forest.py:578: UserWarning: Some inputs do not have OOB scores. This probably means too few trees were used to compute any reliable OOB estimates.\n",
      "  warn(\n"
     ]
    },
    {
     "data": {
      "text/plain": [
       "0.9255597190724261"
      ]
     },
     "execution_count": 3,
     "metadata": {},
     "output_type": "execute_result"
    }
   ],
   "source": [
    "## MAIN\n",
    "train = pd.read_csv(\"train_with_synthetic_data.csv\")\n",
    "test = pd.read_csv(\"test_v4.csv\")\n",
    "\n",
    "\n",
    "###########################\n",
    "# preparing dataset, transform classes into numbers\n",
    "# and separate test and its target\n",
    "###########################\n",
    "#categoricalToNumerical(train, ['Consumer_type', 'Year', 'Month','Consumption' ,'Consumer_number', 'Installation_zone'])\n",
    "\n",
    "enc = OrdinalEncoder(dtype=np.int16)\n",
    "train[['Year', 'Month','Consumption' ,'Consumer_number', 'Installation_zone']]= enc.fit_transform(train[['Year', 'Month','Consumption' ,'Consumer_number', 'Installation_zone']])\n",
    "\n",
    "enc_target = OrdinalEncoder(dtype=np.int16)\n",
    "train[['Consumer_type']] = enc_target.fit_transform(train[['Consumer_type']])\n",
    "\n",
    "train_target = train['Consumer_type']\n",
    "train.drop(columns=['Consumer_type'],inplace=True)\n",
    "train.drop(columns=['index'],inplace=True)\n",
    "\n",
    "rfc = RandomForestClassifier(\n",
    "    ccp_alpha=0,\n",
    "    n_jobs=-1,\n",
    "    n_estimators=10,\n",
    "    max_depth=10,\n",
    "    random_state=42,\n",
    "    oob_score=True,\n",
    "    max_features=None,\n",
    "    bootstrap=True,\n",
    ")\n",
    "\n",
    "# Create the parameter grids\n",
    "parameter_grid = {\n",
    "    #\"n_estimators\": [10, 25, 50],\n",
    "    #\"max_depth\": [10, 30, None],\n",
    "    # \"max_features\": [\"sqrt\", \"log2\", None],\n",
    "    #\"criterion\": [\"gini\", \"entropy\", \"log_loss\"]\n",
    "    # \"oob_score\": [True, False]\n",
    "    #'random_state': [0, 10],\n",
    "    #'min_samples_leaf':[1, 4, 8],\n",
    "    #'min_samples_split': [2, 6, 10],\n",
    "}\n",
    "\n",
    "# Create Stratified folds\n",
    "cross_validation = StratifiedKFold(n_splits=10)\n",
    "cross_validation.get_n_splits(train, train_target)\n",
    "\n",
    "# Create the scoring dictionary\n",
    "SCORING = {\n",
    "    \"accuracy\": \"accuracy\",\n",
    "    \"balanced_accuracy\": \"balanced_accuracy\",\n",
    "    \"f1\": \"f1_macro\",\n",
    "}\n",
    "\n",
    "# Create and fit the GridSearchCV\n",
    "grid_search = GridSearchCV(\n",
    "    estimator=rfc,\n",
    "    param_grid=parameter_grid,\n",
    "    cv=cross_validation,\n",
    "    verbose=3,\n",
    "    scoring=SCORING,\n",
    "    return_train_score=True,\n",
    "    refit=\"balanced_accuracy\",\n",
    ")\n",
    "\n",
    "grid_search.fit(train, train_target)\n",
    "\n",
    "print(\"Best score: {}\".format(grid_search.best_score_))\n",
    "print(\"Best parameters: {}\".format(grid_search.best_params_))\n",
    "\n",
    "best_dtc = grid_search.best_estimator_\n",
    "best_dtc\n",
    "\n",
    "my_model = best_dtc\n",
    "my_model.fit(train, train_target)\n",
    "my_model.score(train, train_target)"
   ]
  },
  {
   "cell_type": "code",
   "execution_count": 4,
   "metadata": {},
   "outputs": [
    {
     "name": "stderr",
     "output_type": "stream",
     "text": [
      "c:\\Users\\marco\\AppData\\Local\\Programs\\Python\\Python310\\lib\\site-packages\\sklearn\\ensemble\\_forest.py:578: UserWarning: Some inputs do not have OOB scores. This probably means too few trees were used to compute any reliable OOB estimates.\n",
      "  warn(\n"
     ]
    },
    {
     "data": {
      "text/plain": [
       "0.8725714285714286"
      ]
     },
     "execution_count": 4,
     "metadata": {},
     "output_type": "execute_result"
    }
   ],
   "source": [
    "categoricalToNumerical(test, ['Consumer_type', 'Year', 'Month','Consumption' ,'Consumer_number', 'Installation_zone'])\n",
    "\n",
    "test_target = test['Consumer_type']\n",
    "test.drop(columns=['Consumer_type'],inplace=True)\n",
    "\n",
    "my_model.fit(test, test_target)\n",
    "my_model.score(test, test_target)"
   ]
  },
  {
   "cell_type": "code",
   "execution_count": 5,
   "metadata": {},
   "outputs": [],
   "source": [
    "competition = pd.read_csv(\"datasets/competition.csv\")\n",
    "categoricalToNumerical(competition, ['Year', 'Month','Consumption' ,'Consumer_number', 'Installation_zone'])\n",
    "\n",
    "prediction = my_model.predict(competition)\n",
    "prediction = pd.DataFrame(prediction, columns=['Consumer_type'])\n",
    "prediction = enc_target.inverse_transform(prediction)"
   ]
  },
  {
   "cell_type": "code",
   "execution_count": 6,
   "metadata": {},
   "outputs": [
    {
     "data": {
      "text/plain": [
       "Text(0.5, 1.0, 'Value Counts in the Array')"
      ]
     },
     "execution_count": 6,
     "metadata": {},
     "output_type": "execute_result"
    },
    {
     "data": {
      "image/png": "[encoded data removed]",
      "text/plain": [
       "<Figure size 1500x600 with 1 Axes>"
      ]
     },
     "metadata": {},
     "output_type": "display_data"
    }
   ],
   "source": [
    "unique_values, counts = np.unique(prediction, return_counts=True)\n",
    "figure_width = 15  # Adjust this value as needed\n",
    "figure_height = 6  # Adjust this value as needed\n",
    "\n",
    "# Create a figure with custom width and height\n",
    "plt.figure(figsize=(figure_width, figure_height))\n",
    "plt.bar(unique_values, counts)\n",
    "\n",
    "# Add labels and title\n",
    "plt.xlabel('Unique Values')\n",
    "plt.ylabel('Counts')\n",
    "plt.title('Value Counts in the Array')"
   ]
  }
 ],
 "metadata": {
  "kernelspec": {
   "display_name": "Python 3",
   "language": "python",
   "name": "python3"
  },
  "language_info": {
   "codemirror_mode": {
    "name": "ipython",
    "version": 3
   },
   "file_extension": ".py",
   "mimetype": "text/x-python",
   "name": "python",
   "nbconvert_exporter": "python",
   "pygments_lexer": "ipython3",
   "version": "3.10.0"
  }
 },
 "nbformat": 4,
 "nbformat_minor": 2
}
