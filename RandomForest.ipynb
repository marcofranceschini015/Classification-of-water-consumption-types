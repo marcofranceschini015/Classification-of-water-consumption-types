{
 "cells": [
  {
   "cell_type": "code",
   "execution_count": null,
   "metadata": {},
   "outputs": [],
   "source": [
    "###########################\n",
    "# data libraries\n",
    "###########################\n",
    "import pandas as pd\n",
    "import numpy as np\n",
    "\n",
    "###########################\n",
    "# plot libraries\n",
    "###########################\n",
    "import seaborn as sns\n",
    "import matplotlib.pyplot as plt\n",
    "import matplotlib as mpl\n",
    "from matplotlib import rcParams\n",
    "\n",
    "\n",
    "###########################\n",
    "# data generation\n",
    "###########################\n",
    "from sklearn.preprocessing import OrdinalEncoder, OneHotEncoder, MinMaxScaler\n",
    "from tensorflow.keras.layers import Input, Dense, Concatenate\n",
    "from tensorflow.keras.models import Model\n",
    "from tensorflow.keras.optimizers import Adam\n",
    "\n",
    "### Import and Function\n",
    "from sklearn.ensemble import RandomForestClassifier\n",
    "from sklearn.metrics import accuracy_score\n",
    "import time\n",
    "from sklearn.model_selection import (\n",
    "    GridSearchCV,\n",
    "    StratifiedKFold,\n",
    "    cross_val_score,\n",
    "    train_test_split,\n",
    ")\n",
    "\n",
    "###########################\n",
    "# transform classes into numbers\n",
    "###########################\n",
    "def categoricalToNumerical(df, cols):\n",
    "  enc = OrdinalEncoder(dtype=np.int16)\n",
    "  df[cols]= enc.fit_transform(df[cols])\n"
   ]
  },
  {
   "cell_type": "code",
   "execution_count": 10,
   "metadata": {},
   "outputs": [
    {
     "name": "stderr",
     "output_type": "stream",
     "text": [
      "c:\\Users\\marco\\AppData\\Local\\Programs\\Python\\Python310\\lib\\site-packages\\sklearn\\ensemble\\_forest.py:578: UserWarning: Some inputs do not have OOB scores. This probably means too few trees were used to compute any reliable OOB estimates.\n",
      "  warn(\n"
     ]
    },
    {
     "data": {
      "text/plain": [
       "0.9255597190724261"
      ]
     },
     "execution_count": 10,
     "metadata": {},
     "output_type": "execute_result"
    }
   ],
   "source": [
    "train = pd.read_csv(\"new_train_v5.csv\")\n",
    "test = pd.read_csv(\"test_v4.csv\")\n",
    "\n",
    "enc = OrdinalEncoder(dtype=np.int16)\n",
    "train[['Year', 'Month','Consumption' ,'Consumer_number', 'Installation_zone']]= enc.fit_transform(train[['Year', 'Month','Consumption' ,'Consumer_number', 'Installation_zone']])\n",
    "\n",
    "enc_target = OrdinalEncoder(dtype=np.int16)\n",
    "train[['Consumer_type']] = enc_target.fit_transform(train[['Consumer_type']])\n",
    "\n",
    "train_target = train['Consumer_type']\n",
    "train.drop(columns=['Consumer_type'],inplace=True)\n",
    "train.drop(columns=['index'],inplace=True)\n",
    "\n",
    "rfc = RandomForestClassifier(\n",
    "    ccp_alpha=0,\n",
    "    n_jobs=-1,\n",
    "    n_estimators=10,\n",
    "    max_depth=10,\n",
    "    random_state=42,\n",
    "    oob_score=True,\n",
    "    max_features=None,\n",
    "    bootstrap=True,\n",
    ")\n",
    "\n",
    "rfc.fit(train, train_target)\n",
    "rfc.score(train, train_target)"
   ]
  },
  {
   "cell_type": "code",
   "execution_count": 39,
   "metadata": {},
   "outputs": [],
   "source": [
    "competition = pd.read_csv(\"datasets/competition.csv\")\n",
    "categoricalToNumerical(competition, ['Year', 'Month','Consumption' ,'Consumer_number', 'Installation_zone'])\n",
    "\n",
    "prediction = rfc.predict(competition)\n",
    "prediction = pd.DataFrame(prediction, columns=['Consumer_type'])\n",
    "competition = enc.inverse_transform(competition)\n",
    "prediction = enc_target.inverse_transform(prediction)\n",
    "competition = pd.DataFrame(competition, columns=['Year', 'Month','Consumption' ,'Consumer_number', 'Installation_zone'])"
   ]
  },
  {
   "cell_type": "code",
   "execution_count": 45,
   "metadata": {},
   "outputs": [],
   "source": [
    "prediction_df = pd.DataFrame(prediction, columns=['Consumer_type'])\n",
    "competition['Consumer_type'] = prediction_df['Consumer_type']\n",
    "competition = competition[['Consumer_number', 'Consumer_type']]\n",
    "competition.to_csv('competition_v1.csv', index=False)"
   ]
  }
 ],
 "metadata": {
  "kernelspec": {
   "display_name": "Python 3",
   "language": "python",
   "name": "python3"
  },
  "language_info": {
   "codemirror_mode": {
    "name": "ipython",
    "version": 3
   },
   "file_extension": ".py",
   "mimetype": "text/x-python",
   "name": "python",
   "nbconvert_exporter": "python",
   "pygments_lexer": "ipython3",
   "version": "3.10.0"
  }
 },
 "nbformat": 4,
 "nbformat_minor": 2
}
