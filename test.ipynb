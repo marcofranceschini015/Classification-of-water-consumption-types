{
 "cells": [
  {
   "cell_type": "code",
   "execution_count": 367,
   "metadata": {},
   "outputs": [],
   "source": [
    "###########################\n",
    "# data libraries\n",
    "###########################\n",
    "import pandas as pd\n",
    "import numpy as np\n",
    "\n",
    "###########################\n",
    "# plot libraries\n",
    "###########################\n",
    "import seaborn as sns\n",
    "import matplotlib.pyplot as plt\n",
    "import matplotlib as mpl\n",
    "\n",
    "###########################\n",
    "# Learn Libraries\n",
    "###########################\n",
    "from sklearn.model_selection import train_test_split\n",
    "from sklearn.metrics import accuracy_score\n",
    "from sklearn.metrics import confusion_matrix\n",
    "from sklearn.preprocessing import LabelEncoder\n",
    "\n",
    "###########################\n",
    "# Neural Networks Libraries\n",
    "###########################\n",
    "import torch\n",
    "import torch.nn as nn\n",
    "import torch.nn.functional as F\n",
    "\n",
    "###########################\n",
    "# Another Libraries\n",
    "###########################\n",
    "import string\n",
    "import random"
   ]
  },
  {
   "cell_type": "code",
   "execution_count": 368,
   "metadata": {},
   "outputs": [],
   "source": [
    "from mpl_toolkits.mplot3d import Axes3D\n",
    "from sklearn.preprocessing import StandardScaler\n",
    "from sklearn.preprocessing import LabelEncoder\n",
    "import seaborn as sns\n",
    "import matplotlib.pyplot as plt # plotting\n",
    "import numpy as np # linear algebra\n",
    "import os # accessing directory structure\n",
    "import pandas as pd # data processing, CSV file I/O (e.g. \n",
    "from scipy import optimize as opt\n",
    "import matplotlib.pyplot as plt"
   ]
  },
  {
   "cell_type": "code",
   "execution_count": 369,
   "metadata": {},
   "outputs": [
    {
     "data": {
      "text/html": [
       "<div>\n",
       "<style scoped>\n",
       "    .dataframe tbody tr th:only-of-type {\n",
       "        vertical-align: middle;\n",
       "    }\n",
       "\n",
       "    .dataframe tbody tr th {\n",
       "        vertical-align: top;\n",
       "    }\n",
       "\n",
       "    .dataframe thead th {\n",
       "        text-align: right;\n",
       "    }\n",
       "</style>\n",
       "<table border=\"1\" class=\"dataframe\">\n",
       "  <thead>\n",
       "    <tr style=\"text-align: right;\">\n",
       "      <th></th>\n",
       "      <th>Year</th>\n",
       "      <th>Month</th>\n",
       "      <th>Consumer_type</th>\n",
       "      <th>Consumption</th>\n",
       "      <th>Consumer_number</th>\n",
       "      <th>Installation_zone</th>\n",
       "    </tr>\n",
       "  </thead>\n",
       "  <tbody>\n",
       "    <tr>\n",
       "      <th>0</th>\n",
       "      <td>2013</td>\n",
       "      <td>1</td>\n",
       "      <td>domestic</td>\n",
       "      <td>0</td>\n",
       "      <td>MOGV36480546611521</td>\n",
       "      <td>Installation_zone 1</td>\n",
       "    </tr>\n",
       "    <tr>\n",
       "      <th>1</th>\n",
       "      <td>2013</td>\n",
       "      <td>1</td>\n",
       "      <td>industrial</td>\n",
       "      <td>5</td>\n",
       "      <td>BECS02817768252637</td>\n",
       "      <td>Installation_zone 2</td>\n",
       "    </tr>\n",
       "    <tr>\n",
       "      <th>2</th>\n",
       "      <td>2013</td>\n",
       "      <td>1</td>\n",
       "      <td>domestic</td>\n",
       "      <td>6</td>\n",
       "      <td>VRFW65577141436242</td>\n",
       "      <td>Installation_zone 2</td>\n",
       "    </tr>\n",
       "    <tr>\n",
       "      <th>3</th>\n",
       "      <td>2013</td>\n",
       "      <td>1</td>\n",
       "      <td>domestic</td>\n",
       "      <td>1</td>\n",
       "      <td>QLLI18662653137621</td>\n",
       "      <td>Installation_zone 2</td>\n",
       "    </tr>\n",
       "    <tr>\n",
       "      <th>4</th>\n",
       "      <td>2013</td>\n",
       "      <td>1</td>\n",
       "      <td>domestic</td>\n",
       "      <td>13</td>\n",
       "      <td>HYUO61823402850645</td>\n",
       "      <td>Installation_zone 2</td>\n",
       "    </tr>\n",
       "  </tbody>\n",
       "</table>\n",
       "</div>"
      ],
      "text/plain": [
       "   Year  Month Consumer_type  Consumption     Consumer_number  \\\n",
       "0  2013      1      domestic            0  MOGV36480546611521   \n",
       "1  2013      1    industrial            5  BECS02817768252637   \n",
       "2  2013      1      domestic            6  VRFW65577141436242   \n",
       "3  2013      1      domestic            1  QLLI18662653137621   \n",
       "4  2013      1      domestic           13  HYUO61823402850645   \n",
       "\n",
       "     Installation_zone  \n",
       "0  Installation_zone 1  \n",
       "1  Installation_zone 2  \n",
       "2  Installation_zone 2  \n",
       "3  Installation_zone 2  \n",
       "4  Installation_zone 2  "
      ]
     },
     "execution_count": 369,
     "metadata": {},
     "output_type": "execute_result"
    }
   ],
   "source": [
    "df = pd.read_csv(\"train.csv\")\n",
    "df.head()"
   ]
  },
  {
   "cell_type": "code",
   "execution_count": 370,
   "metadata": {},
   "outputs": [
    {
     "name": "stdout",
     "output_type": "stream",
     "text": [
      "<class 'pandas.core.frame.DataFrame'>\n",
      "RangeIndex: 329975 entries, 0 to 329974\n",
      "Data columns (total 6 columns):\n",
      " #   Column             Non-Null Count   Dtype \n",
      "---  ------             --------------   ----- \n",
      " 0   Year               329975 non-null  int64 \n",
      " 1   Month              329975 non-null  int64 \n",
      " 2   Consumer_type      329975 non-null  object\n",
      " 3   Consumption        329975 non-null  int64 \n",
      " 4   Consumer_number    329975 non-null  object\n",
      " 5   Installation_zone  329975 non-null  object\n",
      "dtypes: int64(3), object(3)\n",
      "memory usage: 15.1+ MB\n"
     ]
    }
   ],
   "source": [
    "df.info()"
   ]
  },
  {
   "cell_type": "code",
   "execution_count": 387,
   "metadata": {},
   "outputs": [
    {
     "name": "stdout",
     "output_type": "stream",
     "text": [
      "<class 'pandas.core.series.Series'>\n",
      "Index: 141042 entries, 1 to 329974\n",
      "Series name: Consumer_type\n",
      "Non-Null Count   Dtype\n",
      "--------------   -----\n",
      "141042 non-null  int32\n",
      "dtypes: int32(1)\n",
      "memory usage: 1.6 MB\n"
     ]
    }
   ],
   "source": [
    "df[\"Consumer_type\"].info()"
   ]
  },
  {
   "cell_type": "code",
   "execution_count": 371,
   "metadata": {},
   "outputs": [
    {
     "data": {
      "text/html": [
       "<div>\n",
       "<style scoped>\n",
       "    .dataframe tbody tr th:only-of-type {\n",
       "        vertical-align: middle;\n",
       "    }\n",
       "\n",
       "    .dataframe tbody tr th {\n",
       "        vertical-align: top;\n",
       "    }\n",
       "\n",
       "    .dataframe thead th {\n",
       "        text-align: right;\n",
       "    }\n",
       "</style>\n",
       "<table border=\"1\" class=\"dataframe\">\n",
       "  <thead>\n",
       "    <tr style=\"text-align: right;\">\n",
       "      <th></th>\n",
       "      <th>Year</th>\n",
       "      <th>Month</th>\n",
       "      <th>Consumer_type</th>\n",
       "      <th>Consumption</th>\n",
       "      <th>Consumer_number</th>\n",
       "      <th>Installation_zone</th>\n",
       "    </tr>\n",
       "  </thead>\n",
       "  <tbody>\n",
       "    <tr>\n",
       "      <th>0</th>\n",
       "      <td>2013</td>\n",
       "      <td>1</td>\n",
       "      <td>1</td>\n",
       "      <td>0</td>\n",
       "      <td>13456</td>\n",
       "      <td>0</td>\n",
       "    </tr>\n",
       "    <tr>\n",
       "      <th>1</th>\n",
       "      <td>2013</td>\n",
       "      <td>1</td>\n",
       "      <td>2</td>\n",
       "      <td>5</td>\n",
       "      <td>1273</td>\n",
       "      <td>11</td>\n",
       "    </tr>\n",
       "    <tr>\n",
       "      <th>2</th>\n",
       "      <td>2013</td>\n",
       "      <td>1</td>\n",
       "      <td>1</td>\n",
       "      <td>6</td>\n",
       "      <td>23079</td>\n",
       "      <td>11</td>\n",
       "    </tr>\n",
       "    <tr>\n",
       "      <th>3</th>\n",
       "      <td>2013</td>\n",
       "      <td>1</td>\n",
       "      <td>1</td>\n",
       "      <td>1</td>\n",
       "      <td>17600</td>\n",
       "      <td>11</td>\n",
       "    </tr>\n",
       "    <tr>\n",
       "      <th>4</th>\n",
       "      <td>2013</td>\n",
       "      <td>1</td>\n",
       "      <td>1</td>\n",
       "      <td>13</td>\n",
       "      <td>8598</td>\n",
       "      <td>11</td>\n",
       "    </tr>\n",
       "  </tbody>\n",
       "</table>\n",
       "</div>"
      ],
      "text/plain": [
       "   Year  Month  Consumer_type  Consumption  Consumer_number  Installation_zone\n",
       "0  2013      1              1            0            13456                  0\n",
       "1  2013      1              2            5             1273                 11\n",
       "2  2013      1              1            6            23079                 11\n",
       "3  2013      1              1            1            17600                 11\n",
       "4  2013      1              1           13             8598                 11"
      ]
     },
     "execution_count": 371,
     "metadata": {},
     "output_type": "execute_result"
    }
   ],
   "source": [
    "columns = [\"Consumer_type\",\"Consumer_number\",\"Installation_zone\"]\n",
    "for feature in columns:\n",
    "  le = LabelEncoder()\n",
    "  df[feature] = le.fit_transform(df[feature])\n",
    "\n",
    "df.head()"
   ]
  },
  {
   "cell_type": "code",
   "execution_count": 372,
   "metadata": {},
   "outputs": [
    {
     "name": "stdout",
     "output_type": "stream",
     "text": [
      "<class 'pandas.core.frame.DataFrame'>\n",
      "RangeIndex: 329975 entries, 0 to 329974\n",
      "Data columns (total 6 columns):\n",
      " #   Column             Non-Null Count   Dtype\n",
      "---  ------             --------------   -----\n",
      " 0   Year               329975 non-null  int64\n",
      " 1   Month              329975 non-null  int64\n",
      " 2   Consumer_type      329975 non-null  int32\n",
      " 3   Consumption        329975 non-null  int64\n",
      " 4   Consumer_number    329975 non-null  int32\n",
      " 5   Installation_zone  329975 non-null  int32\n",
      "dtypes: int32(3), int64(3)\n",
      "memory usage: 11.3 MB\n"
     ]
    }
   ],
   "source": [
    "df.info()"
   ]
  },
  {
   "cell_type": "code",
   "execution_count": 373,
   "metadata": {},
   "outputs": [
    {
     "name": "stdout",
     "output_type": "stream",
     "text": [
      "<class 'pandas.core.frame.DataFrame'>\n",
      "Index: 141042 entries, 1 to 329974\n",
      "Data columns (total 6 columns):\n",
      " #   Column             Non-Null Count   Dtype\n",
      "---  ------             --------------   -----\n",
      " 0   Year               141042 non-null  int64\n",
      " 1   Month              141042 non-null  int64\n",
      " 2   Consumer_type      141042 non-null  int32\n",
      " 3   Consumption        141042 non-null  int64\n",
      " 4   Consumer_number    141042 non-null  int32\n",
      " 5   Installation_zone  141042 non-null  int32\n",
      "dtypes: int32(3), int64(3)\n",
      "memory usage: 5.9 MB\n"
     ]
    }
   ],
   "source": [
    "indices_tipo_1 = df[df['Consumer_type'] == 1].index\n",
    "\n",
    "# Reduzir em 80% os dados do tipo 1\n",
    "quantidade_reduzida = int(len(indices_tipo_1) * 0.9)\n",
    "indices_reduzidos = indices_tipo_1[:quantidade_reduzida]\n",
    "\n",
    "# Remover os índices reduzidos do DataFrame\n",
    "df.drop(indices_reduzidos, inplace=True)\n",
    "df.info()\n"
   ]
  },
  {
   "cell_type": "code",
   "execution_count": 374,
   "metadata": {},
   "outputs": [
    {
     "data": {
      "text/plain": [
       "<Axes: xlabel='Installation_zone', ylabel='Count'>"
      ]
     },
     "execution_count": 374,
     "metadata": {},
     "output_type": "execute_result"
    },
    {
     "data": {
      "image/png": "[encoded data removed]",
      "text/plain": [
       "<Figure size 1500x600 with 1 Axes>"
      ]
     },
     "metadata": {},
     "output_type": "display_data"
    }
   ],
   "source": [
    "plt.figure(figsize=(15, 6))\n",
    "sns.histplot(data=df, x='Installation_zone',hue='Consumer_type',multiple=\"stack\",)"
   ]
  },
  {
   "cell_type": "code",
   "execution_count": 375,
   "metadata": {},
   "outputs": [
    {
     "data": {
      "text/plain": [
       "1         2\n",
       "5         2\n",
       "6         2\n",
       "8         2\n",
       "9         2\n",
       "         ..\n",
       "329970    1\n",
       "329971    5\n",
       "329972    5\n",
       "329973    5\n",
       "329974    1\n",
       "Name: Consumer_type, Length: 141042, dtype: int32"
      ]
     },
     "execution_count": 375,
     "metadata": {},
     "output_type": "execute_result"
    }
   ],
   "source": [
    "y = df[\"Consumer_type\"]\n",
    "x = df[[\"Year\", \"Month\", \"Consumption\", \"Consumer_number\", \"Installation_zone\"]]"
   ]
  },
  {
   "cell_type": "code",
   "execution_count": 376,
   "metadata": {},
   "outputs": [],
   "source": [
    "X = torch.tensor(x.values, dtype = torch.float)\n",
    "Y = torch.LongTensor(y.values)"
   ]
  },
  {
   "cell_type": "code",
   "execution_count": 377,
   "metadata": {},
   "outputs": [],
   "source": [
    "x_train, x_test, y_train, y_test = train_test_split(X, Y, train_size=0.7, shuffle=True)\n"
   ]
  },
  {
   "cell_type": "code",
   "execution_count": 378,
   "metadata": {},
   "outputs": [],
   "source": [
    "class NN_model(nn.Module):\n",
    "    def __init__(self):\n",
    "        super(NN_model, self).__init__()\n",
    "        self.linear_nn_stack = nn.Sequential(\n",
    "            nn.Linear(5, 10),\n",
    "            nn.Sigmoid(),\n",
    "            nn.Linear(10, 15),\n",
    "            nn.ReLU(),\n",
    "            nn.Linear(15, 7),\n",
    "            nn.Softmax(),\n",
    "        )\n",
    "\n",
    "    def forward(self, x):\n",
    "        logits = self.linear_nn_stack(x)\n",
    "        return logits"
   ]
  },
  {
   "cell_type": "code",
   "execution_count": 379,
   "metadata": {},
   "outputs": [],
   "source": [
    "model = NN_model()\n",
    "\n",
    "learning_rate = 1e-3\n",
    "criterion = nn.CrossEntropyLoss()\n",
    "optimizer = torch.optim.Adam(model.parameters(), learning_rate)\n"
   ]
  },
  {
   "cell_type": "code",
   "execution_count": 380,
   "metadata": {},
   "outputs": [
    {
     "name": "stderr",
     "output_type": "stream",
     "text": [
      "c:\\Users\\Emers\\AppData\\Local\\Programs\\Python\\Python311\\Lib\\site-packages\\torch\\nn\\modules\\module.py:1518: UserWarning: Implicit dimension choice for softmax has been deprecated. Change the call to include dim=X as an argument.\n",
      "  return self._call_impl(*args, **kwargs)\n"
     ]
    },
    {
     "name": "stdout",
     "output_type": "stream",
     "text": [
      "Epoch number: 10 and the loss : 1.9325937032699585\n",
      "Epoch number: 20 and the loss : 1.9237403869628906\n",
      "Epoch number: 30 and the loss : 1.9130405187606812\n",
      "Epoch number: 40 and the loss : 1.900284767150879\n",
      "Epoch number: 50 and the loss : 1.8852442502975464\n",
      "Epoch number: 60 and the loss : 1.867107629776001\n",
      "Epoch number: 70 and the loss : 1.8462446928024292\n",
      "Epoch number: 80 and the loss : 1.8231115341186523\n",
      "Epoch number: 90 and the loss : 1.7988169193267822\n",
      "Epoch number: 100 and the loss : 1.7714202404022217\n",
      "Epoch number: 110 and the loss : 1.7463245391845703\n",
      "Epoch number: 120 and the loss : 1.7349108457565308\n",
      "Epoch number: 130 and the loss : 1.7271077632904053\n",
      "Epoch number: 140 and the loss : 1.7220838069915771\n",
      "Epoch number: 150 and the loss : 1.7188221216201782\n",
      "Epoch number: 160 and the loss : 1.716260552406311\n",
      "Epoch number: 170 and the loss : 1.7136337757110596\n",
      "Epoch number: 180 and the loss : 1.7129212617874146\n",
      "Epoch number: 190 and the loss : 1.7123864889144897\n",
      "Epoch number: 200 and the loss : 1.7119543552398682\n",
      "Epoch number: 210 and the loss : 1.7116060256958008\n",
      "Epoch number: 220 and the loss : 1.7113200426101685\n",
      "Epoch number: 230 and the loss : 1.711082100868225\n",
      "Epoch number: 240 and the loss : 1.710881233215332\n",
      "Epoch number: 250 and the loss : 1.7107093334197998\n",
      "Epoch number: 260 and the loss : 1.7105599641799927\n",
      "Epoch number: 270 and the loss : 1.7104300260543823\n",
      "Epoch number: 280 and the loss : 1.7103153467178345\n",
      "Epoch number: 290 and the loss : 1.7102140188217163\n",
      "Epoch number: 300 and the loss : 1.7101233005523682\n",
      "Epoch number: 310 and the loss : 1.7100424766540527\n",
      "Epoch number: 320 and the loss : 1.7099696397781372\n",
      "Epoch number: 330 and the loss : 1.7099039554595947\n",
      "Epoch number: 340 and the loss : 1.7098439931869507\n",
      "Epoch number: 350 and the loss : 1.7097892761230469\n",
      "Epoch number: 360 and the loss : 1.7097392082214355\n",
      "Epoch number: 370 and the loss : 1.7096933126449585\n",
      "Epoch number: 380 and the loss : 1.7096511125564575\n",
      "Epoch number: 390 and the loss : 1.7096120119094849\n",
      "Epoch number: 400 and the loss : 1.7095762491226196\n",
      "Epoch number: 410 and the loss : 1.7095423936843872\n",
      "Epoch number: 420 and the loss : 1.7095112800598145\n",
      "Epoch number: 430 and the loss : 1.7094820737838745\n",
      "Epoch number: 440 and the loss : 1.7094547748565674\n",
      "Epoch number: 450 and the loss : 1.7094296216964722\n",
      "Epoch number: 460 and the loss : 1.7094056606292725\n",
      "Epoch number: 470 and the loss : 1.709383487701416\n",
      "Epoch number: 480 and the loss : 1.7093619108200073\n",
      "Epoch number: 490 and the loss : 1.7093420028686523\n",
      "Epoch number: 500 and the loss : 1.7093232870101929\n"
     ]
    }
   ],
   "source": [
    "epochs = 500\n",
    "train_losses=[]\n",
    "\n",
    "for i in range(epochs):\n",
    "    i= i+1\n",
    "    y_pred=model.forward(x_train)\n",
    "    loss=criterion(y_pred,y_train)\n",
    "    train_losses.append(loss)\n",
    "    if i % 10 == 0:\n",
    "        print(\"Epoch number: {} and the loss : {}\".format(i,loss.item()))\n",
    "    optimizer.zero_grad()\n",
    "    loss.backward()\n",
    "    optimizer.step()"
   ]
  },
  {
   "cell_type": "code",
   "execution_count": 381,
   "metadata": {},
   "outputs": [
    {
     "data": {
      "image/png": "[encoded data removed]",
      "text/plain": [
       "<Figure size 640x480 with 1 Axes>"
      ]
     },
     "metadata": {},
     "output_type": "display_data"
    }
   ],
   "source": [
    "losses = torch.tensor(train_losses,requires_grad=True)\n",
    "\n",
    "plt.plot(losses.detach().numpy(), label='Training Loss')\n",
    "plt.title('Gráfico de Loss ao Longo das Épocas')\n",
    "plt.xlabel('Épocas')\n",
    "plt.ylabel('Loss')\n",
    "plt.legend()\n",
    "plt.grid(True)\n",
    "plt.show()"
   ]
  },
  {
   "cell_type": "code",
   "execution_count": 382,
   "metadata": {},
   "outputs": [
    {
     "data": {
      "text/plain": [
       "tensor(0.4470)"
      ]
     },
     "execution_count": 382,
     "metadata": {},
     "output_type": "execute_result"
    }
   ],
   "source": [
    "indices_maior_valor = torch.argmax(y_pred, dim=1)\n",
    "maiores_valores = y_pred[torch.arange(len(y_pred)), indices_maior_valor]\n",
    "acc = (torch.argmax(y_pred, 1) == y_train).float().mean()\n",
    "acc"
   ]
  },
  {
   "cell_type": "code",
   "execution_count": 383,
   "metadata": {},
   "outputs": [
    {
     "data": {
      "image/png": "[encoded data removed]",
      "text/plain": [
       "<Figure size 800x600 with 2 Axes>"
      ]
     },
     "metadata": {},
     "output_type": "display_data"
    }
   ],
   "source": [
    "y_test_pred = model(x_test)\n",
    "y_test_pred = torch.argmax(y_test_pred, dim=1)\n",
    "\n",
    "predicted = y_test_pred.numpy()\n",
    "targets = y_test.numpy()\n",
    "\n",
    "conf_matrix = confusion_matrix(targets, predicted)\n",
    "\n",
    "plt.figure(figsize=(8, 6))\n",
    "sns.heatmap(conf_matrix, annot=True, fmt='d', cmap='Blues')\n",
    "plt.title('Matriz de Confusão')\n",
    "plt.xlabel('Rótulos Previstos')\n",
    "plt.ylabel('Rótulos Verdadeiros')\n",
    "plt.show()"
   ]
  }
 ],
 "metadata": {
  "kernelspec": {
   "display_name": "Python 3",
   "language": "python",
   "name": "python3"
  },
  "language_info": {
   "codemirror_mode": {
    "name": "ipython",
    "version": 3
   },
   "file_extension": ".py",
   "mimetype": "text/x-python",
   "name": "python",
   "nbconvert_exporter": "python",
   "pygments_lexer": "ipython3",
   "version": "3.11.4"
  }
 },
 "nbformat": 4,
 "nbformat_minor": 2
}
